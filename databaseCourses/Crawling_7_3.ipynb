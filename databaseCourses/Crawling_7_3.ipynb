{
 "cells": [
  {
   "attachments": {},
   "cell_type": "markdown",
   "metadata": {},
   "source": [
    "Python\n",
    "=======                     최소한 robots.txt는 확인하자. \n",
    "                            (수집) 1. 트래픽, 2. 이용약, 3. 개인정보 X, 4. DB(저작물) \n",
    "                            => 개인, 연구용, 나혼자, 배포, 폐기, OpenAPI(data.go.kr), 기관 요청 (정보공개청구)\n",
    "urllib \n",
    "=======  => Req / Resp \n",
    "            urlopen (url : str => request obj)\n",
    "            header => code, reason, headers ...\n",
    "            200, 400 (내 잘못), 500(걔 잘못)\n",
    "            Google,   Naver,  Daum        => robots.txt * 거부\n",
    "            정책,서비스  정책,    정책, 서비스\n",
    " HTTP\n",
    "TCP/IP => 쌍"
   ]
  },
  {
   "cell_type": "code",
   "execution_count": 1,
   "metadata": {},
   "outputs": [
    {
     "name": "stdout",
     "output_type": "stream",
     "text": [
      "HTTP Error 403: Forbidden\n"
     ]
    }
   ],
   "source": [
    "# 키워드 : 뉴진스\n",
    "from urllib import request\n",
    "from urllib.error import HTTPError\n",
    "\n",
    "url = 'https://www.google.com/search?q=%EB%89%B4%EC%A7%84%EC%8A%A4&oq=&aqs=chrome.0.69i59j46i131i433i512j46i199i433i465i512j0i433i512j46i131i433i512j0i131i433i512j69i60l2.2045j1j7&sourceid=chrome&ie=UTF-8'\n",
    "\n",
    "try:\n",
    "    resp = request.urlopen(url)\n",
    "except HTTPError as e:\n",
    "    print(e)\n"
   ]
  },
  {
   "cell_type": "code",
   "execution_count": null,
   "metadata": {},
   "outputs": [],
   "source": [
    "# 개발자 도구\n",
    "# element : dome\n",
    "# Console : JS CLI -> 해당 변수를 가지고 작업한 내용을 확인할 수 있음.\n",
    "# Network : 중요. 실제로 주고받은 로그 탭.\n",
    "# Fetch / XHR : 백그라운드 단 동작 확인.\n",
    "# Request header : 요청 보낼 때 이렇게 했어야 한다.\n",
    "# X-Client-data : 주로 필요한 값\n",
    "# User agent : 브라우저에서 내가 사용하는 에이전트값.\n"
   ]
  }
 ],
 "metadata": {
  "kernelspec": {
   "display_name": "base",
   "language": "python",
   "name": "python3"
  },
  "language_info": {
   "codemirror_mode": {
    "name": "ipython",
    "version": 3
   },
   "file_extension": ".py",
   "mimetype": "text/x-python",
   "name": "python",
   "nbconvert_exporter": "python",
   "pygments_lexer": "ipython3",
   "version": "3.8.16"
  },
  "orig_nbformat": 4
 },
 "nbformat": 4,
 "nbformat_minor": 2
}
