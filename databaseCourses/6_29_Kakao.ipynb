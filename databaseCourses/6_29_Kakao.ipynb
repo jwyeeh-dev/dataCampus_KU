{
 "cells": [
  {
   "cell_type": "code",
   "execution_count": 1,
   "metadata": {},
   "outputs": [],
   "source": [
    "import re"
   ]
  },
  {
   "cell_type": "code",
   "execution_count": null,
   "metadata": {},
   "outputs": [],
   "source": [
    "# S,D,T -> 1,2,3 제곱들 : 반드시 하나씩 존재\n",
    "# * 2배, # 마이너스 점수\n",
    "# * 중복 가능\n",
    "# # 중복 불가능\n",
    "# *# 중복 가능\n",
    "# *,# 존재할 수도, 안할수도 있음."
   ]
  },
  {
   "cell_type": "code",
   "execution_count": null,
   "metadata": {},
   "outputs": [],
   "source": [
    "# input 받는 것 하나 두고.\n",
    "data = str(input())"
   ]
  },
  {
   "cell_type": "code",
   "execution_count": 27,
   "metadata": {},
   "outputs": [],
   "source": [
    "data = '''\n",
    "1S2D*3T\n",
    "1D2S#10S\n",
    "1D2S0T\n",
    "1S*2T*3S\n",
    "1D2S*3S\n",
    "1T2D3D#\n",
    "1D2S3T\n",
    "'''"
   ]
  },
  {
   "cell_type": "code",
   "execution_count": 42,
   "metadata": {},
   "outputs": [],
   "source": [
    "up = {'S':1, 'D':2, 'T':3}\n",
    "bonus = {'#': -1, '*' : 2}\n",
    "\n",
    "afterData = re.findall(r'(([0-9]{1,2})([SDT#*]{1,2})?)', data)"
   ]
  },
  {
   "cell_type": "code",
   "execution_count": 43,
   "metadata": {},
   "outputs": [
    {
     "data": {
      "text/plain": [
       "[('1S', '1', 'S'),\n",
       " ('2D*', '2', 'D*'),\n",
       " ('3T', '3', 'T'),\n",
       " ('1D', '1', 'D'),\n",
       " ('2S#', '2', 'S#'),\n",
       " ('10S', '10', 'S'),\n",
       " ('1D', '1', 'D'),\n",
       " ('2S', '2', 'S'),\n",
       " ('0T', '0', 'T'),\n",
       " ('1S*', '1', 'S*'),\n",
       " ('2T*', '2', 'T*'),\n",
       " ('3S', '3', 'S'),\n",
       " ('1D', '1', 'D'),\n",
       " ('2S*', '2', 'S*'),\n",
       " ('3S', '3', 'S'),\n",
       " ('1T', '1', 'T'),\n",
       " ('2D', '2', 'D'),\n",
       " ('3D#', '3', 'D#'),\n",
       " ('1D', '1', 'D'),\n",
       " ('2S', '2', 'S'),\n",
       " ('3T', '3', 'T')]"
      ]
     },
     "execution_count": 43,
     "metadata": {},
     "output_type": "execute_result"
    }
   ],
   "source": [
    "afterData"
   ]
  },
  {
   "attachments": {},
   "cell_type": "markdown",
   "metadata": {},
   "source": [
    "# 두번째 문제"
   ]
  },
  {
   "cell_type": "code",
   "execution_count": 44,
   "metadata": {},
   "outputs": [],
   "source": [
    "re.match(r'([a-z0-9\\-_][a-z0-9\\-_.]{1,13}[a-z0-9\\-_])', '>>>@BaT#* y.abcdefghijklm')"
   ]
  },
  {
   "cell_type": "code",
   "execution_count": 45,
   "metadata": {},
   "outputs": [
    {
     "data": {
      "text/plain": [
       "<re.Match object; span=(0, 2), match='..'>"
      ]
     },
     "execution_count": 45,
     "metadata": {},
     "output_type": "execute_result"
    }
   ],
   "source": [
    "re.search('\\B[.]{2}\\B', '...@BaT#* y.abcdefghlm\"->\"..!@bat#*')"
   ]
  },
  {
   "cell_type": "code",
   "execution_count": null,
   "metadata": {},
   "outputs": [],
   "source": []
  }
 ],
 "metadata": {
  "kernelspec": {
   "display_name": "pytorch",
   "language": "python",
   "name": "python3"
  },
  "language_info": {
   "codemirror_mode": {
    "name": "ipython",
    "version": 3
   },
   "file_extension": ".py",
   "mimetype": "text/x-python",
   "name": "python",
   "nbconvert_exporter": "python",
   "pygments_lexer": "ipython3",
   "version": "3.8.16"
  },
  "orig_nbformat": 4
 },
 "nbformat": 4,
 "nbformat_minor": 2
}
