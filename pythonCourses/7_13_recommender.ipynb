{
 "cells": [
  {
   "attachments": {},
   "cell_type": "markdown",
   "metadata": {},
   "source": [
    "## 추천시스템\n",
    "- 후보군이 많아야 한다.\n",
    "- 과거의 상태 또는 현재의 상태를 기반으로 미래를 예측하는 기법 : 머신러닝 \n",
    "\n",
    "\n",
    "### 1. 협업 필터링\n",
    "- 나하고 유사한 사용자가 한 것을 추천 (내가 안한 것 중.) \n",
    "- Serendipity Recommendation -> 아주 효과적이다. \n",
    "- 기존 자료를 활용하여 진행하기 때문에 만들기 쉽다. 어디에서나 적용시킨다. Population이 커야 한다. \n",
    "    a. user based\n",
    "    b. item based\n",
    "\n",
    "- 콜드 스타트(Cold-Start) 문제\n",
    "    - 기존에 많이 축적된 이용자의 행동 정보에만 의존하여 새로운 콘텐츠보다는 종래의 콘텐츠를 주로 추천하며, 데이터가 부족한 상황에서 추천 품질이 저하되는 ‘콜드 스타트’ 문제를 내재\n",
    "    - 예를 들어 음악 서비스의 경우, 신곡이 발표되면 이를 추천할 수 있는 정보가 쌓일 때까지 추천이 어려워지는 것.\n",
    "- 롱테일(Long tail) 문제\n",
    "    - 시스템 항목이 많다 하더라도 사용자들은 소수의 인기 있는 항목에만 관심을 보이기 마련. 따라서 사용자들의 관심이 적은 다수의 항목은 추천을 위한 충분한 정보를 제공하지 못하는 경우가 많음. 이러한 비대칭적 쏠림 현상이 일반적이 라는 사실은 크리스 앤더슨(Chris Anderson)이나 클레이 셔키(Clay Shirky) 등이 일찍이 밝힌 바 있음.\n",
    "- 계산량이 비교적 많은 알고리즘이므로 사용자 수가 많은 경우 효율적으로 추천할 수 없음. 추천 시스템이 관리하는 항목이 많은 경우, 협업 필터링은 한계가 있을 수 있음\n",
    "- 독특한 취향의 고객(gray sheep / black sheep) 문제\n",
    "\n",
    "### 2. 콘텐츠 기반 필터링\n",
    "- 콘텐츠 기반 필터링은 새로운 콘텐츠를 추천할 때, 특히 유용.\n",
    "\n",
    "\n",
    "### 3. 인구 통계학적 \n",
    "\n"
   ]
  },
  {
   "attachments": {},
   "cell_type": "markdown",
   "metadata": {},
   "source": []
  },
  {
   "attachments": {},
   "cell_type": "markdown",
   "metadata": {},
   "source": [
    "## 전통적인 알고리즘\n",
    "### User-item Metrix\n",
    "\n",
    "### 유사도\n",
    "-> 나와 비슷한 사람을 어떻게 찾는지.\n",
    "-> \n"
   ]
  },
  {
   "cell_type": "code",
   "execution_count": 1,
   "metadata": {},
   "outputs": [],
   "source": []
  },
  {
   "cell_type": "code",
   "execution_count": null,
   "metadata": {},
   "outputs": [],
   "source": []
  }
 ],
 "metadata": {
  "kernelspec": {
   "display_name": "pytorch",
   "language": "python",
   "name": "python3"
  },
  "language_info": {
   "codemirror_mode": {
    "name": "ipython",
    "version": 3
   },
   "file_extension": ".py",
   "mimetype": "text/x-python",
   "name": "python",
   "nbconvert_exporter": "python",
   "pygments_lexer": "ipython3",
   "version": "3.8.16"
  },
  "orig_nbformat": 4
 },
 "nbformat": 4,
 "nbformat_minor": 2
}
