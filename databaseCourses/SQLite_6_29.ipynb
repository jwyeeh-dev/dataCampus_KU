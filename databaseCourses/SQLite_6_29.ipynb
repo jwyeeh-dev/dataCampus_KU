{
 "cells": [
  {
   "attachments": {},
   "cell_type": "markdown",
   "metadata": {},
   "source": [
    "for 분석, 모델링\n",
    "데이터 필요함.\n",
    "데이터 축적/관리/가져오기 => DB, [files, XML, JSON, ...]\n",
    "-> DB에 넣어놓으면 관리하기 용이.\n",
    "\n",
    "DB -> Data - Relationship => RDB - RDBMS(SQLite)\n",
    "\n",
    "SQL(*) =>\n",
    "Business Logic (service) => 사용자들이 실제로 하게 되는 행동\n",
    "---> 함수를 통해 행동단위로 정의해보았다. (하지만 굉장히 번거로움.)\n",
    "-> Table(Entity)-Attribute = Object로 릴레이션을 표현해보자. -> ORM technique =>\n",
    "    Object-Property-Method\n"
   ]
  },
  {
   "cell_type": "code",
   "execution_count": 8,
   "metadata": {},
   "outputs": [],
   "source": [
    "# 정규식 \n",
    "# 최대한 간격하고 쉬운 표현으로 알려주신다고 함.\n",
    "# 특별한 문자 형태 -> 패턴 -> 이 패턴이 어디에 있었는지 찾기, 대치, 파싱\n",
    "\n",
    "# 속도가 매우 빠르다.\n",
    "# 매우 큰 데이터 처리에 용이함.\n",
    "\n",
    "# -> learning curve가 있음.\n",
    "\n",
    "\n",
    "# (x)(?:y) : 그룹핑을 하되 x만 보여줌.\n",
    "# ₩^ :\n",
    "# 대문자는 반대의 의미.\n",
    "\n",
    "\n"
   ]
  },
  {
   "cell_type": "code",
   "execution_count": 9,
   "metadata": {},
   "outputs": [],
   "source": [
    "import re"
   ]
  },
  {
   "cell_type": "code",
   "execution_count": 10,
   "metadata": {},
   "outputs": [
    {
     "data": {
      "text/plain": [
       "(<function re.compile(pattern, flags=0)>,\n",
       " <function re.match(pattern, string, flags=0)>,\n",
       " <function re.search(pattern, string, flags=0)>,\n",
       " <function re.findall(pattern, string, flags=0)>)"
      ]
     },
     "execution_count": 10,
     "metadata": {},
     "output_type": "execute_result"
    }
   ],
   "source": [
    "re.compile, re.match, re.search, re.findall\n",
    "\n",
    "# pattern용 ,  ^한 개  ,  한 개    , 전체/여러개"
   ]
  },
  {
   "cell_type": "code",
   "execution_count": 14,
   "metadata": {},
   "outputs": [
    {
     "data": {
      "text/plain": [
       "NoneType"
      ]
     },
     "execution_count": 14,
     "metadata": {},
     "output_type": "execute_result"
    }
   ],
   "source": [
    "# flag -> IGNORELINE, MULTI~\n",
    "type(re.match('Hello|Servo', 'CrowHello'))"
   ]
  },
  {
   "cell_type": "code",
   "execution_count": 15,
   "metadata": {},
   "outputs": [
    {
     "data": {
      "text/plain": [
       "<re.Match object; span=(4, 9), match='Hello'>"
      ]
     },
     "execution_count": 15,
     "metadata": {},
     "output_type": "execute_result"
    }
   ],
   "source": [
    "re.search('Hello|Servo', 'CrowHello')"
   ]
  },
  {
   "cell_type": "code",
   "execution_count": 21,
   "metadata": {},
   "outputs": [],
   "source": [
    "# 메타 캐릭터가 어떻게 배치되느냐에 따라 역할이 달라진다.\n",
    "rst = re.search('^Life', 'Life skadnjndasdandj')"
   ]
  },
  {
   "cell_type": "code",
   "execution_count": 19,
   "metadata": {},
   "outputs": [],
   "source": [
    "re.search('^Life', 'vsljdkjfksj Life')"
   ]
  },
  {
   "cell_type": "code",
   "execution_count": 18,
   "metadata": {},
   "outputs": [
    {
     "data": {
      "text/plain": [
       "<re.Match object; span=(12, 16), match='Life'>"
      ]
     },
     "execution_count": 18,
     "metadata": {},
     "output_type": "execute_result"
    }
   ],
   "source": [
    "re.search('Life$', 'vsljdkjfksj Life')"
   ]
  },
  {
   "cell_type": "code",
   "execution_count": 23,
   "metadata": {},
   "outputs": [
    {
     "data": {
      "text/plain": [
       "(0, 4, (0, 4), 'Life')"
      ]
     },
     "execution_count": 23,
     "metadata": {},
     "output_type": "execute_result"
    }
   ],
   "source": [
    "rst.start(), rst.end(), rst.span(), rst.group() # 찾고자 하는 문자열의 위치에 관한 함수"
   ]
  },
  {
   "cell_type": "code",
   "execution_count": 25,
   "metadata": {},
   "outputs": [
    {
     "data": {
      "text/plain": [
       "False"
      ]
     },
     "execution_count": 25,
     "metadata": {},
     "output_type": "execute_result"
    }
   ],
   "source": [
    "#찾았는지 안 찾았는지를 확인하는 반복구문으로 활용가능하다.\n",
    "True if re.search('^Life', 'vsljdkjfksj Life') else False"
   ]
  },
  {
   "cell_type": "code",
   "execution_count": 26,
   "metadata": {},
   "outputs": [
    {
     "data": {
      "text/plain": [
       "<re.Match object; span=(0, 9), match='ABCABCABC'>"
      ]
     },
     "execution_count": 26,
     "metadata": {},
     "output_type": "execute_result"
    }
   ],
   "source": [
    "re.search('(ABC)+', 'ABCABCABC OK') #반복된 길이만큼 찾아낸다."
   ]
  },
  {
   "cell_type": "code",
   "execution_count": 28,
   "metadata": {},
   "outputs": [
    {
     "data": {
      "text/plain": [
       "('ABC',)"
      ]
     },
     "execution_count": 28,
     "metadata": {},
     "output_type": "execute_result"
    }
   ],
   "source": [
    "re.search('(ABC)+', 'ABCABCABC OK').groups() #실제 패턴의 반복 단위를 확인할 수 있다."
   ]
  },
  {
   "cell_type": "code",
   "execution_count": 34,
   "metadata": {},
   "outputs": [
    {
     "data": {
      "text/plain": [
       "'ABCABCABC'"
      ]
     },
     "execution_count": 34,
     "metadata": {},
     "output_type": "execute_result"
    }
   ],
   "source": [
    "re.search('(ABC)+', 'ABCABCABC OK').group(0) #그룹의 개수에 따른 인덱스의 그룹 전체를 확인할 수 있다."
   ]
  },
  {
   "cell_type": "code",
   "execution_count": null,
   "metadata": {},
   "outputs": [],
   "source": [
    "# 문제상황\n",
    "re.match('\\')\n",
    "# 이런 문제가 발생하는 것을 방지하기 위해 escape 처리를 진행.\n",
    "# 특히, 브라켓에서는 이 중 하나라는 형태를 가지고 있으므로 \\\\여도 상관없고, 문자로만 인식될 필요가 있다."
   ]
  },
  {
   "cell_type": "code",
   "execution_count": 35,
   "metadata": {},
   "outputs": [
    {
     "data": {
      "text/plain": [
       "('\\n', '\\\\n', '\\\\\\n', '\\\\\\\\n')"
      ]
     },
     "execution_count": 35,
     "metadata": {},
     "output_type": "execute_result"
    }
   ],
   "source": [
    "'\\n', r'\\n', re.escape('\\n'), re.escape(r'\\n')\n",
    "# 개행이 아닌 문자로 읽게하는 방식 -> rawtext (원래 기능을 잃고 문자로 인식될 수 있도록.)\n",
    "# 정규식에 있는 escape 처리를 하면 역슬래시가 들어갔을 때 원활하게 작업 가능."
   ]
  },
  {
   "cell_type": "code",
   "execution_count": 37,
   "metadata": {},
   "outputs": [
    {
     "data": {
      "text/plain": [
       "(<re.Match object; span=(20, 25), match='class'>,\n",
       " <re.Match object; span=(11, 16), match='class'>,\n",
       " <re.Match object; span=(11, 16), match='class'>)"
      ]
     },
     "execution_count": 37,
     "metadata": {},
     "output_type": "execute_result"
    }
   ],
   "source": [
    "re.search(r'\\bclass\\b', 'djdhkjflkslkfjdlkjs class dkfjsk'), \\\n",
    "re.search(r'\\Bclass\\b', 'djdhkjs subclass dkfjsk'), \\\n",
    "re.search(r'\\Bclass\\B', 'djdhkjs subclasss dkfjsk')\n",
    "\n",
    "# 꼭 None-boundary 처리를 해주어야 찾을 수 있을 것이다. 아니면 못 찾음."
   ]
  },
  {
   "cell_type": "code",
   "execution_count": 38,
   "metadata": {},
   "outputs": [
    {
     "data": {
      "text/plain": [
       "<re.Match object; span=(0, 12), match='stackoverflo'>"
      ]
     },
     "execution_count": 38,
     "metadata": {},
     "output_type": "execute_result"
    }
   ],
   "source": [
    "# greedy reg : 끝까지 찾은 위치에서 끝냄.\n",
    "re.search('s.*o', 'stackoverflow')\n"
   ]
  },
  {
   "cell_type": "code",
   "execution_count": 39,
   "metadata": {},
   "outputs": [
    {
     "data": {
      "text/plain": [
       "<re.Match object; span=(0, 6), match='stacko'>"
      ]
     },
     "execution_count": 39,
     "metadata": {},
     "output_type": "execute_result"
    }
   ],
   "source": [
    "# lazy reg : 첫번째 나오면 거기까지 끝냄.\n",
    "re.search('s.*?o', 'stackoverflow')"
   ]
  },
  {
   "cell_type": "code",
   "execution_count": 50,
   "metadata": {},
   "outputs": [
    {
     "name": "stdout",
     "output_type": "stream",
     "text": [
      "아무개 980320-*******\n",
      "개똥이 010101-*******\n",
      "무개김 010101-5010101 [x]\n"
     ]
    }
   ],
   "source": [
    "# [예제] - 일반적으로 사용할 때.\n",
    "data = '''아무개 980320-1231231\n",
    "개똥이 010101-4010101\n",
    "무개김 010101-5010101'''\n",
    "\n",
    "for line in data.splitlines():\n",
    "    n = line.split('-')[1]\n",
    "    if len(n) == 7 and n.isdigit() and n[0] in ['1', '2', '3', '4']:\n",
    "        print(line.split('-')[0]+'-'+'*'* 7)\n",
    "    else:\n",
    "        print(line, '[x]')"
   ]
  },
  {
   "cell_type": "code",
   "execution_count": 51,
   "metadata": {},
   "outputs": [
    {
     "name": "stdout",
     "output_type": "stream",
     "text": [
      "아무개 980320-*******\n",
      "개똥이 010101-*******\n",
      "무개김 010101-5010101 [X]\n"
     ]
    }
   ],
   "source": [
    "# 정규식을 사용할 때, 훨씬 간단하게 표현할 수 있음을 알 수 있다..\n",
    "for line in data.splitlines():\n",
    "    if re.search(r'[1-4]\\d{6}', line):\n",
    "        print(re.sub(r'[1-4]\\d{6}', '*'*7, line))\n",
    "    else:\n",
    "        print(line, '[X]')"
   ]
  },
  {
   "cell_type": "code",
   "execution_count": 76,
   "metadata": {},
   "outputs": [],
   "source": [
    "# 전화번호, 이메일 => 수집\n",
    "# -> 숫자로 구성된 패턴, -> 숫자 + 문자 패턴\n",
    "# ->               , \n",
    "# 1. 전화번호\n",
    "data = '''\n",
    "어쩌고 저쩌고 구매문의 010-1234-1234 주세요\n",
    "080-1234-1234\n",
    "02-1234-1234\n",
    "02-123-1234\n",
    "02 123 1234\n",
    "010.1234.1234\n",
    "010        1231\\t1231\n",
    "82 010 1234 1234\n",
    "+82 010 1234 1234\n",
    "+82 10 1234 1234\n",
    "8201012341234\n",
    "공1공 삼4오6 1234\n",
    "'''\n"
   ]
  },
  {
   "cell_type": "code",
   "execution_count": null,
   "metadata": {},
   "outputs": [],
   "source": [
    "\n",
    "re.findall(r'[0-1]{3}[\\-][0-9]{4}[\\-][0-9]{4}', data)"
   ]
  },
  {
   "cell_type": "code",
   "execution_count": 58,
   "metadata": {},
   "outputs": [
    {
     "data": {
      "text/plain": [
       "['010-1234-1234', '080-1234-1234', '02-1234-1234']"
      ]
     },
     "execution_count": 58,
     "metadata": {},
     "output_type": "execute_result"
    }
   ],
   "source": [
    "re.findall(r'\\d{2,3}[\\-]\\d{3,4}[\\-]\\d{4}', data)"
   ]
  },
  {
   "cell_type": "code",
   "execution_count": 61,
   "metadata": {},
   "outputs": [
    {
     "data": {
      "text/plain": [
       "[('010', '1234', '1234'),\n",
       " ('080', '1234', '1234'),\n",
       " ('02', '1234', '1234'),\n",
       " ('02', '123', '1234'),\n",
       " ('02', '123', '1234'),\n",
       " ('010', '1234', '1234'),\n",
       " ('010', '1231', '1231')]"
      ]
     },
     "execution_count": 61,
     "metadata": {},
     "output_type": "execute_result"
    }
   ],
   "source": [
    "re.findall(r'(\\d{2,3})[\\- . \\t]+(\\d{3,4})[\\- . \\t]+(\\d{4})', data)"
   ]
  },
  {
   "cell_type": "code",
   "execution_count": 85,
   "metadata": {},
   "outputs": [
    {
     "data": {
      "text/plain": [
       "[('', '010', '1234', '1234'),\n",
       " ('', '080', '1234', '1234'),\n",
       " ('', '02', '1234', '1234'),\n",
       " ('', '02', '123', '1234'),\n",
       " ('', '02', '123', '1234'),\n",
       " ('', '010', '1234', '1234'),\n",
       " ('', '010', '1231', '1231'),\n",
       " ('82', '010', '1234', '1234'),\n",
       " ('82', '010', '1234', '1234'),\n",
       " ('82', '10', '1234', '1234')]"
      ]
     },
     "execution_count": 85,
     "metadata": {},
     "output_type": "execute_result"
    }
   ],
   "source": [
    "re.findall(r'(?:[+]?(\\d{2})[\\- . \\t]+)?(\\d{2,3})[\\- . \\t]+(\\d{3,4})[\\- . \\t]+(\\d{4})', data)"
   ]
  },
  {
   "cell_type": "code",
   "execution_count": 83,
   "metadata": {},
   "outputs": [
    {
     "data": {
      "text/plain": [
       "[('', '010', '1234', '1234'),\n",
       " ('', '080', '1234', '1234'),\n",
       " ('', '02', '1234', '1234'),\n",
       " ('', '02', '123', '1234'),\n",
       " ('', '02', '123', '1234'),\n",
       " ('', '010', '1234', '1234'),\n",
       " ('', '010', '1231', '1231'),\n",
       " ('82', '010', '1234', '1234'),\n",
       " ('82', '010', '1234', '1234'),\n",
       " ('82', '10', '1234', '1234'),\n",
       " ('82', '010', '1234', '1234')]"
      ]
     },
     "execution_count": 83,
     "metadata": {},
     "output_type": "execute_result"
    }
   ],
   "source": [
    "re.findall(r'(?:[+]?(\\d{2})[\\- . \\t]*)?(\\d{2,3})[\\- . \\t]*(\\d{3,4})[\\- . \\t]*(\\d{4})', data)\n",
    "# ? : 그룹이긴 하나 캡쳐하지 않음."
   ]
  },
  {
   "cell_type": "code",
   "execution_count": 86,
   "metadata": {},
   "outputs": [
    {
     "data": {
      "text/plain": [
       "[('', '010', '1234', '1234'),\n",
       " ('', '080', '1234', '1234'),\n",
       " ('', '02', '1234', '1234'),\n",
       " ('', '02', '123', '1234'),\n",
       " ('', '02', '123', '1234'),\n",
       " ('', '010', '1234', '1234'),\n",
       " ('', '010', '1231', '1231'),\n",
       " ('82', '010', '1234', '1234'),\n",
       " ('82', '010', '1234', '1234'),\n",
       " ('82', '10', '1234', '1234'),\n",
       " ('82', '010', '1234', '1234'),\n",
       " ('', '공1공', '삼4오6', '1234')]"
      ]
     },
     "execution_count": 86,
     "metadata": {},
     "output_type": "execute_result"
    }
   ],
   "source": [
    "re.findall(r'(?:[+]?(\\d{2})[\\- . \\t]*)?([0-9공일이삼사오육칠팔구]{2,3})[\\- . \\t]*([0-9공일이삼사오육칠팔구]{3,4})[\\- . \\t]*([0-9공일이삼사오육칠팔구]{4})', data)"
   ]
  },
  {
   "cell_type": "code",
   "execution_count": 93,
   "metadata": {},
   "outputs": [],
   "source": [
    "# 2. 이메일 => Javascript Validation\n",
    "# 도메인을 찾아내는 것이 문제다.\n",
    "data_m = '''\n",
    "test@test.com\n",
    "test@test.co.kr\n",
    "test@email.test.co.kr\n",
    "test@m.email.test.co.kr\n",
    "\n",
    "'''\n",
    "# (.)m.email.test.co.kr"
   ]
  },
  {
   "cell_type": "code",
   "execution_count": 90,
   "metadata": {},
   "outputs": [
    {
     "data": {
      "text/plain": [
       "[('test', 'test.com')]"
      ]
     },
     "execution_count": 90,
     "metadata": {},
     "output_type": "execute_result"
    }
   ],
   "source": [
    "re.findall(r'([a-z]+)[@]([a-z]+[.][a-z]{3})', data_m)\n",
    "#            영문자 1번 이상 @ 영문자 1번 문자(.) 영문자 3번"
   ]
  },
  {
   "cell_type": "code",
   "execution_count": 91,
   "metadata": {},
   "outputs": [
    {
     "data": {
      "text/plain": [
       "[('test', '.com')]"
      ]
     },
     "execution_count": 91,
     "metadata": {},
     "output_type": "execute_result"
    }
   ],
   "source": [
    "re.findall(r'([a-z]+)[@]([.]?[a-z]+)+', data_m)"
   ]
  },
  {
   "cell_type": "code",
   "execution_count": 94,
   "metadata": {},
   "outputs": [
    {
     "data": {
      "text/plain": [
       "[('test', 'test.com'),\n",
       " ('test', 'test.co.kr'),\n",
       " ('test', 'email.test.co.kr'),\n",
       " ('test', 'm.email.test.co.kr')]"
      ]
     },
     "execution_count": 94,
     "metadata": {},
     "output_type": "execute_result"
    }
   ],
   "source": [
    "re.findall(r'([a-z]+)[@]((?:[.]?[a-z]+)+)', data_m)\n",
    "# group 했던 결과를 보여주는 capturing을 진행할지 안할지. "
   ]
  },
  {
   "cell_type": "code",
   "execution_count": 103,
   "metadata": {},
   "outputs": [],
   "source": [
    "# 3. 웹페이지(URL)\n",
    "data_u = '''\n",
    "http://www.naver.com\n",
    "http://www.naver.com/\n",
    "https://naver.com\n",
    "naver.com/index.nhn\n",
    "m.naver.com\n",
    "mail.naver.com\n",
    "www.naver.com/search/sdkjd.index?key=value\n",
    "'''"
   ]
  },
  {
   "cell_type": "code",
   "execution_count": 97,
   "metadata": {},
   "outputs": [
    {
     "data": {
      "text/plain": [
       "['http',\n",
       " 'www',\n",
       " 'naver',\n",
       " 'com',\n",
       " 'http',\n",
       " 'www',\n",
       " 'naver',\n",
       " 'com',\n",
       " 'https',\n",
       " 'naver',\n",
       " 'com',\n",
       " 'naver',\n",
       " 'com',\n",
       " 'index',\n",
       " 'nhn',\n",
       " 'm',\n",
       " 'naver',\n",
       " 'com',\n",
       " 'mail',\n",
       " 'naver',\n",
       " 'com']"
      ]
     },
     "execution_count": 97,
     "metadata": {},
     "output_type": "execute_result"
    }
   ],
   "source": [
    "re.findall(r'[a-z]+', data_u)"
   ]
  },
  {
   "cell_type": "code",
   "execution_count": 101,
   "metadata": {},
   "outputs": [
    {
     "data": {
      "text/plain": [
       "['www.naver.com',\n",
       " 'www.naver.com',\n",
       " 'naver.com',\n",
       " 'naver.com',\n",
       " 'index.nhn',\n",
       " 'm.naver.com',\n",
       " 'mail.naver.com']"
      ]
     },
     "execution_count": 101,
     "metadata": {},
     "output_type": "execute_result"
    }
   ],
   "source": [
    "re.findall(r'[a-z]+(?:[.][a-z]+)+', data_u)"
   ]
  },
  {
   "cell_type": "code",
   "execution_count": 98,
   "metadata": {},
   "outputs": [
    {
     "data": {
      "text/plain": [
       "['www.naver.com',\n",
       " 'www.naver.com',\n",
       " 'naver.com',\n",
       " 'naver.com',\n",
       " 'index.nhn',\n",
       " 'm.naver.com',\n",
       " 'mail.naver.com']"
      ]
     },
     "execution_count": 98,
     "metadata": {},
     "output_type": "execute_result"
    }
   ],
   "source": [
    "re.findall(r'([a-z]+(?:[.][a-z]+)+)', data_u)"
   ]
  },
  {
   "cell_type": "code",
   "execution_count": 141,
   "metadata": {},
   "outputs": [
    {
     "data": {
      "text/plain": [
       "[('http', 'www.naver.com'),\n",
       " ('http', 'www.naver.com'),\n",
       " ('https', 'naver.com'),\n",
       " ('', 'naver.com'),\n",
       " ('', 'index.nhn'),\n",
       " ('', 'm.naver.com'),\n",
       " ('', 'mail.naver.com'),\n",
       " ('', 'www.naver.com'),\n",
       " ('', 'sdkjd.index')]"
      ]
     },
     "execution_count": 141,
     "metadata": {},
     "output_type": "execute_result"
    }
   ],
   "source": [
    "re.findall(r'(?:(https?)://)?([a-z]+(?:[.][a-z]+)+)', data_u)"
   ]
  },
  {
   "cell_type": "code",
   "execution_count": 104,
   "metadata": {},
   "outputs": [
    {
     "data": {
      "text/plain": [
       "[('http', 'www.naver.com', ''),\n",
       " ('http', 'www.naver.com', ''),\n",
       " ('https', 'naver.com', ''),\n",
       " ('', 'naver.com', '/index.nhn'),\n",
       " ('', 'm.naver.com', ''),\n",
       " ('', 'mail.naver.com', ''),\n",
       " ('', 'www.naver.com', '/sdkjd.index?key=value')]"
      ]
     },
     "execution_count": 104,
     "metadata": {},
     "output_type": "execute_result"
    }
   ],
   "source": [
    "re.findall(r'(?:(https?)://)?([a-z]+(?:[.][a-z]+)+)(?:(/[a-z.?=]+)*)', data_u)"
   ]
  },
  {
   "cell_type": "code",
   "execution_count": 108,
   "metadata": {},
   "outputs": [
    {
     "data": {
      "text/plain": [
       "[('http', 'www.naver.com', ''),\n",
       " ('http', 'www.naver.com', '/'),\n",
       " ('https', 'naver.com', ''),\n",
       " ('', 'naver.com', '/index.nhn'),\n",
       " ('', 'm.naver.com', ''),\n",
       " ('', 'mail.naver.com', ''),\n",
       " ('', 'www.naver.com', '/sdkjd.index?key=value')]"
      ]
     },
     "execution_count": 108,
     "metadata": {},
     "output_type": "execute_result"
    }
   ],
   "source": [
    "re.findall(r'(?:(https?)://)?([a-z]+(?:[.][a-z]+)+)(?:(/[a-z.?=]*)*)', data_u)"
   ]
  },
  {
   "cell_type": "code",
   "execution_count": 122,
   "metadata": {},
   "outputs": [],
   "source": [
    "# 4. html\n",
    "dataH = '''\n",
    "<div>\n",
    "    <table>\n",
    "        <tr>\n",
    "            <td>매출</td>\n",
    "            <td>증감율</td>\n",
    "        </tr>\n",
    "        <tr>\n",
    "            <td>10원</td>\n",
    "            <td>+1.4%</td>\n",
    "        </tr>\n",
    "        <tr>\n",
    "            <td>20원</td>\n",
    "            <td>-1.4%</td>\n",
    "        </tr>\n",
    "        <tr><td>45원</td><td>-1.5%</td></tr>\n",
    "    </table>\n",
    "</div>\n",
    "'''"
   ]
  },
  {
   "cell_type": "code",
   "execution_count": 123,
   "metadata": {},
   "outputs": [
    {
     "data": {
      "text/plain": [
       "[]"
      ]
     },
     "execution_count": 123,
     "metadata": {},
     "output_type": "execute_result"
    }
   ],
   "source": [
    "re.findall(r'<tr><td>(\\d+)</td><td>([+-][0-9.]+)</td></tr>', dataH)"
   ]
  },
  {
   "cell_type": "code",
   "execution_count": 134,
   "metadata": {},
   "outputs": [
    {
     "data": {
      "text/plain": [
       "[('10', '+1.4'), ('20', '-1.4'), ('45', '-1.5')]"
      ]
     },
     "execution_count": 134,
     "metadata": {},
     "output_type": "execute_result"
    }
   ],
   "source": [
    "re.findall(r'<tr>\\s*<td>(\\d+)[^<]+?</td>\\s*<td>([+-][0-9.]+)[^<]+?</td>\\s*</tr>', dataH)\n",
    "# lazy한 방식으로 <가 아닌 전 문자에 대해\n",
    "# 앞 "
   ]
  }
 ],
 "metadata": {
  "kernelspec": {
   "display_name": "pytorch",
   "language": "python",
   "name": "python3"
  },
  "language_info": {
   "codemirror_mode": {
    "name": "ipython",
    "version": 3
   },
   "file_extension": ".py",
   "mimetype": "text/x-python",
   "name": "python",
   "nbconvert_exporter": "python",
   "pygments_lexer": "ipython3",
   "version": "3.8.16"
  },
  "orig_nbformat": 4
 },
 "nbformat": 4,
 "nbformat_minor": 2
}
