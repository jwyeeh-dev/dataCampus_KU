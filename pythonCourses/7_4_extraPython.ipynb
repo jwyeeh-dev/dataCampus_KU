{
 "cells": [
  {
   "cell_type": "code",
   "execution_count": 1,
   "metadata": {},
   "outputs": [],
   "source": [
    "# 이터레이터는 duck-typing "
   ]
  },
  {
   "cell_type": "code",
   "execution_count": 2,
   "metadata": {},
   "outputs": [],
   "source": [
    "# Chaining Iterable \n",
    "\n",
    "# Higher-order Functions -> 분석과 딥러닝에 많이 쓰임. 분석에 가장 핵심되는 기법이라고 할 수 있다.\n",
    "\n",
    "from sklearn.preprocessing import FunctionTransformer"
   ]
  },
  {
   "cell_type": "code",
   "execution_count": 3,
   "metadata": {},
   "outputs": [
    {
     "data": {
      "text/html": [
       "<style>#sk-container-id-1 {color: black;background-color: white;}#sk-container-id-1 pre{padding: 0;}#sk-container-id-1 div.sk-toggleable {background-color: white;}#sk-container-id-1 label.sk-toggleable__label {cursor: pointer;display: block;width: 100%;margin-bottom: 0;padding: 0.3em;box-sizing: border-box;text-align: center;}#sk-container-id-1 label.sk-toggleable__label-arrow:before {content: \"▸\";float: left;margin-right: 0.25em;color: #696969;}#sk-container-id-1 label.sk-toggleable__label-arrow:hover:before {color: black;}#sk-container-id-1 div.sk-estimator:hover label.sk-toggleable__label-arrow:before {color: black;}#sk-container-id-1 div.sk-toggleable__content {max-height: 0;max-width: 0;overflow: hidden;text-align: left;background-color: #f0f8ff;}#sk-container-id-1 div.sk-toggleable__content pre {margin: 0.2em;color: black;border-radius: 0.25em;background-color: #f0f8ff;}#sk-container-id-1 input.sk-toggleable__control:checked~div.sk-toggleable__content {max-height: 200px;max-width: 100%;overflow: auto;}#sk-container-id-1 input.sk-toggleable__control:checked~label.sk-toggleable__label-arrow:before {content: \"▾\";}#sk-container-id-1 div.sk-estimator input.sk-toggleable__control:checked~label.sk-toggleable__label {background-color: #d4ebff;}#sk-container-id-1 div.sk-label input.sk-toggleable__control:checked~label.sk-toggleable__label {background-color: #d4ebff;}#sk-container-id-1 input.sk-hidden--visually {border: 0;clip: rect(1px 1px 1px 1px);clip: rect(1px, 1px, 1px, 1px);height: 1px;margin: -1px;overflow: hidden;padding: 0;position: absolute;width: 1px;}#sk-container-id-1 div.sk-estimator {font-family: monospace;background-color: #f0f8ff;border: 1px dotted black;border-radius: 0.25em;box-sizing: border-box;margin-bottom: 0.5em;}#sk-container-id-1 div.sk-estimator:hover {background-color: #d4ebff;}#sk-container-id-1 div.sk-parallel-item::after {content: \"\";width: 100%;border-bottom: 1px solid gray;flex-grow: 1;}#sk-container-id-1 div.sk-label:hover label.sk-toggleable__label {background-color: #d4ebff;}#sk-container-id-1 div.sk-serial::before {content: \"\";position: absolute;border-left: 1px solid gray;box-sizing: border-box;top: 0;bottom: 0;left: 50%;z-index: 0;}#sk-container-id-1 div.sk-serial {display: flex;flex-direction: column;align-items: center;background-color: white;padding-right: 0.2em;padding-left: 0.2em;position: relative;}#sk-container-id-1 div.sk-item {position: relative;z-index: 1;}#sk-container-id-1 div.sk-parallel {display: flex;align-items: stretch;justify-content: center;background-color: white;position: relative;}#sk-container-id-1 div.sk-item::before, #sk-container-id-1 div.sk-parallel-item::before {content: \"\";position: absolute;border-left: 1px solid gray;box-sizing: border-box;top: 0;bottom: 0;left: 50%;z-index: -1;}#sk-container-id-1 div.sk-parallel-item {display: flex;flex-direction: column;z-index: 1;position: relative;background-color: white;}#sk-container-id-1 div.sk-parallel-item:first-child::after {align-self: flex-end;width: 50%;}#sk-container-id-1 div.sk-parallel-item:last-child::after {align-self: flex-start;width: 50%;}#sk-container-id-1 div.sk-parallel-item:only-child::after {width: 0;}#sk-container-id-1 div.sk-dashed-wrapped {border: 1px dashed gray;margin: 0 0.4em 0.5em 0.4em;box-sizing: border-box;padding-bottom: 0.4em;background-color: white;}#sk-container-id-1 div.sk-label label {font-family: monospace;font-weight: bold;display: inline-block;line-height: 1.2em;}#sk-container-id-1 div.sk-label-container {text-align: center;}#sk-container-id-1 div.sk-container {/* jupyter's `normalize.less` sets `[hidden] { display: none; }` but bootstrap.min.css set `[hidden] { display: none !important; }` so we also need the `!important` here to be able to override the default hidden behavior on the sphinx rendered scikit-learn.org. See: https://github.com/scikit-learn/scikit-learn/issues/21755 */display: inline-block !important;position: relative;}#sk-container-id-1 div.sk-text-repr-fallback {display: none;}</style><div id=\"sk-container-id-1\" class=\"sk-top-container\"><div class=\"sk-text-repr-fallback\"><pre>FunctionTransformer()</pre><b>In a Jupyter environment, please rerun this cell to show the HTML representation or trust the notebook. <br />On GitHub, the HTML representation is unable to render, please try loading this page with nbviewer.org.</b></div><div class=\"sk-container\" hidden><div class=\"sk-item\"><div class=\"sk-estimator sk-toggleable\"><input class=\"sk-toggleable__control sk-hidden--visually\" id=\"sk-estimator-id-1\" type=\"checkbox\" checked><label for=\"sk-estimator-id-1\" class=\"sk-toggleable__label sk-toggleable__label-arrow\">FunctionTransformer</label><div class=\"sk-toggleable__content\"><pre>FunctionTransformer()</pre></div></div></div></div></div>"
      ],
      "text/plain": [
       "FunctionTransformer()"
      ]
     },
     "execution_count": 3,
     "metadata": {},
     "output_type": "execute_result"
    }
   ],
   "source": [
    "FunctionTransformer() # Higher order function -> map과 같은 형식으로 구성되어 있음을 확인할 수 있다.\n",
    "# 함수를 잘 만들어놓으면 파이프라인 구축 시에도 유용하다. \n",
    "# sklearn에서 map 과 같은 역할을 하게 된다. "
   ]
  },
  {
   "cell_type": "code",
   "execution_count": 4,
   "metadata": {},
   "outputs": [],
   "source": [
    "# R에서는 map 대신 apply라는 function이 존재한다.\n",
    "# Classic FP-style = map style\n",
    "# Comprehension = iterable style"
   ]
  },
  {
   "cell_type": "code",
   "execution_count": 5,
   "metadata": {},
   "outputs": [],
   "source": [
    "a = [1,2,3,4,5,6]"
   ]
  },
  {
   "cell_type": "code",
   "execution_count": 6,
   "metadata": {},
   "outputs": [],
   "source": [
    "temp = []\n",
    "for i in a:\n",
    "    temp.append(i+1) # ~~~ 방식"
   ]
  },
  {
   "cell_type": "code",
   "execution_count": 7,
   "metadata": {},
   "outputs": [
    {
     "data": {
      "text/plain": [
       "[2, 3, 4, 5, 6, 7]"
      ]
     },
     "execution_count": 7,
     "metadata": {},
     "output_type": "execute_result"
    }
   ],
   "source": [
    "temp"
   ]
  },
  {
   "cell_type": "code",
   "execution_count": null,
   "metadata": {},
   "outputs": [],
   "source": []
  },
  {
   "cell_type": "code",
   "execution_count": 12,
   "metadata": {},
   "outputs": [
    {
     "data": {
      "text/plain": [
       "[2, 3, 4, 5, 6, 7]"
      ]
     },
     "execution_count": 12,
     "metadata": {},
     "output_type": "execute_result"
    }
   ],
   "source": [
    "[i+1 for i in a] \n",
    "# comprehension 방식 -> 해당 [] 내부에 있는 identifier는 global 영역에 위치함.\n",
    "# 내 영역에 대해 스택 한번에. -> 메모리 많이.ㄴ\n",
    "# 메모리가 클 때는 lazy가 더 빠를수도 있다. \n",
    "# 속도 빠름. 간결."
   ]
  },
  {
   "cell_type": "code",
   "execution_count": 21,
   "metadata": {},
   "outputs": [],
   "source": [
    "b = map(lambda x : x + 1, a)"
   ]
  },
  {
   "cell_type": "code",
   "execution_count": 22,
   "metadata": {},
   "outputs": [
    {
     "data": {
      "text/plain": [
       "[2, 3, 4, 5, 6, 7]"
      ]
     },
     "execution_count": 22,
     "metadata": {},
     "output_type": "execute_result"
    }
   ],
   "source": [
    "list(b)"
   ]
  },
  {
   "cell_type": "code",
   "execution_count": 19,
   "metadata": {},
   "outputs": [
    {
     "data": {
      "text/plain": [
       "4"
      ]
     },
     "execution_count": 19,
     "metadata": {},
     "output_type": "execute_result"
    }
   ],
   "source": [
    "next(b)"
   ]
  },
  {
   "cell_type": "code",
   "execution_count": 24,
   "metadata": {},
   "outputs": [],
   "source": [
    "# composition\n",
    "# 파이썬에서는 합성함수.\n",
    "# 다른 클래스의 인스턴스를 나의 클래스 안에 집어넣어 활용할 수 있도록 하는 것이 composition.\n",
    "# higher order funtion = decorator\n",
    "# aggregation -> OOP 관점 / 함수형 프로그래밍 compositions 이름은 동일하지만 내용은 달랐다."
   ]
  },
  {
   "cell_type": "code",
   "execution_count": 26,
   "metadata": {},
   "outputs": [],
   "source": [
    "class A:\n",
    "    x = 1\n",
    "    def __init__(self, a):\n",
    "        self.a = a\n",
    "\n",
    "class AA():\n",
    "    def __init__(self, a):\n",
    "        self.a = a"
   ]
  },
  {
   "cell_type": "code",
   "execution_count": 37,
   "metadata": {},
   "outputs": [],
   "source": [
    "class B:\n",
    "    def __init__(self):\n",
    "        self.b = A(3)\n",
    "        self.bb = AA(4)\n",
    "\n",
    "    def cool(self):\n",
    "        return self.b + self.bb"
   ]
  },
  {
   "cell_type": "code",
   "execution_count": 38,
   "metadata": {},
   "outputs": [],
   "source": [
    "# 상속의 개념을 차용하지만 다름.\n",
    "# composition 테크닉을 이용해 상속과 유사항 기능을 구현..\n",
    "\n",
    "class C(A):\n",
    "    def __init__(self, a, b):\n",
    "        super().__init__(a)\n",
    "        self.b = b"
   ]
  },
  {
   "cell_type": "code",
   "execution_count": 108,
   "metadata": {},
   "outputs": [],
   "source": [
    "class D:\n",
    "    def __init__(self) :\n",
    "        self.a - A(a)\n",
    "        self.b = B(b)\n",
    "    \n",
    "    @property\n",
    "    def a(self):\n",
    "        return self.a"
   ]
  },
  {
   "cell_type": "code",
   "execution_count": 52,
   "metadata": {},
   "outputs": [],
   "source": [
    "a = A"
   ]
  },
  {
   "cell_type": "code",
   "execution_count": 53,
   "metadata": {},
   "outputs": [
    {
     "ename": "AttributeError",
     "evalue": "type object 'A' has no attribute '__abs__'",
     "output_type": "error",
     "traceback": [
      "\u001b[0;31m---------------------------------------------------------------------------\u001b[0m",
      "\u001b[0;31mAttributeError\u001b[0m                            Traceback (most recent call last)",
      "Cell \u001b[0;32mIn[53], line 1\u001b[0m\n\u001b[0;32m----> 1\u001b[0m \u001b[39mgetattr\u001b[39;49m(a, \u001b[39m'\u001b[39;49m\u001b[39m__abs__\u001b[39;49m\u001b[39m'\u001b[39;49m)()\n",
      "\u001b[0;31mAttributeError\u001b[0m: type object 'A' has no attribute '__abs__'"
     ]
    }
   ],
   "source": [
    "getattr(a, '__abs__')()"
   ]
  },
  {
   "cell_type": "code",
   "execution_count": 50,
   "metadata": {},
   "outputs": [],
   "source": [
    "x = input()"
   ]
  },
  {
   "cell_type": "code",
   "execution_count": 42,
   "metadata": {},
   "outputs": [
    {
     "ename": "AttributeError",
     "evalue": "'list' object has no attribute '__abs__'",
     "output_type": "error",
     "traceback": [
      "\u001b[0;31m---------------------------------------------------------------------------\u001b[0m",
      "\u001b[0;31mAttributeError\u001b[0m                            Traceback (most recent call last)",
      "Cell \u001b[0;32mIn[42], line 1\u001b[0m\n\u001b[0;32m----> 1\u001b[0m \u001b[39mgetattr\u001b[39;49m(a,x)()\n",
      "\u001b[0;31mAttributeError\u001b[0m: 'list' object has no attribute '__abs__'"
     ]
    }
   ],
   "source": [
    "getattr(a,x)()"
   ]
  },
  {
   "cell_type": "code",
   "execution_count": 54,
   "metadata": {},
   "outputs": [],
   "source": [
    "class C:\n",
    "    x = 1\n",
    "    def __getattr__(self, a):\n",
    "        print(a) # 없으면 attribute error"
   ]
  },
  {
   "cell_type": "code",
   "execution_count": 55,
   "metadata": {},
   "outputs": [
    {
     "data": {
      "text/plain": [
       "1"
      ]
     },
     "execution_count": 55,
     "metadata": {},
     "output_type": "execute_result"
    }
   ],
   "source": [
    "C.x"
   ]
  },
  {
   "cell_type": "code",
   "execution_count": 56,
   "metadata": {},
   "outputs": [
    {
     "ename": "AttributeError",
     "evalue": "type object 'C' has no attribute 'y'",
     "output_type": "error",
     "traceback": [
      "\u001b[0;31m---------------------------------------------------------------------------\u001b[0m",
      "\u001b[0;31mAttributeError\u001b[0m                            Traceback (most recent call last)",
      "Cell \u001b[0;32mIn[56], line 1\u001b[0m\n\u001b[0;32m----> 1\u001b[0m C\u001b[39m.\u001b[39;49my\n",
      "\u001b[0;31mAttributeError\u001b[0m: type object 'C' has no attribute 'y'"
     ]
    }
   ],
   "source": [
    "C.y"
   ]
  },
  {
   "cell_type": "code",
   "execution_count": 57,
   "metadata": {},
   "outputs": [],
   "source": [
    "c = C()"
   ]
  },
  {
   "cell_type": "code",
   "execution_count": 58,
   "metadata": {},
   "outputs": [
    {
     "data": {
      "text/plain": [
       "1"
      ]
     },
     "execution_count": 58,
     "metadata": {},
     "output_type": "execute_result"
    }
   ],
   "source": [
    "c.x"
   ]
  },
  {
   "cell_type": "code",
   "execution_count": 61,
   "metadata": {},
   "outputs": [
    {
     "name": "stdout",
     "output_type": "stream",
     "text": [
      "y\n"
     ]
    }
   ],
   "source": [
    "c.y # getattr이 실행되었다. 오류가 안나고. \n",
    "# __getattr__은 attribute error가 날 때, getattr에 작성된 내용이 실행된다."
   ]
  },
  {
   "cell_type": "code",
   "execution_count": 102,
   "metadata": {},
   "outputs": [],
   "source": [
    "class CC():\n",
    "    def __init__(self,a,b):\n",
    "        self.x = A(a) #__ 이름앞에 해당 내용을 붙이면, 이름이 구분됨.\n",
    "        self.b = b\n",
    "    \n",
    "    def __getattr__(self, t):\n",
    "        return getattr(self.x,t)"
   ]
  },
  {
   "cell_type": "code",
   "execution_count": 103,
   "metadata": {},
   "outputs": [],
   "source": [
    "cc = CC(3,4)"
   ]
  },
  {
   "cell_type": "code",
   "execution_count": 107,
   "metadata": {},
   "outputs": [
    {
     "data": {
      "text/plain": [
       "3"
      ]
     },
     "execution_count": 107,
     "metadata": {},
     "output_type": "execute_result"
    }
   ],
   "source": [
    "cc.a"
   ]
  },
  {
   "cell_type": "code",
   "execution_count": 105,
   "metadata": {},
   "outputs": [
    {
     "ename": "AttributeError",
     "evalue": "type object 'CC' has no attribute 'a'",
     "output_type": "error",
     "traceback": [
      "\u001b[0;31m---------------------------------------------------------------------------\u001b[0m",
      "\u001b[0;31mAttributeError\u001b[0m                            Traceback (most recent call last)",
      "Cell \u001b[0;32mIn[105], line 1\u001b[0m\n\u001b[0;32m----> 1\u001b[0m CC\u001b[39m.\u001b[39;49ma\n",
      "\u001b[0;31mAttributeError\u001b[0m: type object 'CC' has no attribute 'a'"
     ]
    }
   ],
   "source": [
    "CC.a"
   ]
  },
  {
   "cell_type": "code",
   "execution_count": 81,
   "metadata": {},
   "outputs": [
    {
     "data": {
      "text/plain": [
       "<__main__.A at 0x13a911160>"
      ]
     },
     "execution_count": 81,
     "metadata": {},
     "output_type": "execute_result"
    }
   ],
   "source": [
    "cc.x"
   ]
  },
  {
   "cell_type": "code",
   "execution_count": 74,
   "metadata": {},
   "outputs": [],
   "source": [
    "class D:\n",
    "    __a = 1 # 상속하지 않았지만 상속과 동일한 효과를 만들 수 있다. \n"
   ]
  },
  {
   "cell_type": "code",
   "execution_count": 76,
   "metadata": {},
   "outputs": [
    {
     "data": {
      "text/plain": [
       "['_D__a',\n",
       " '__class__',\n",
       " '__delattr__',\n",
       " '__dict__',\n",
       " '__dir__',\n",
       " '__doc__',\n",
       " '__eq__',\n",
       " '__format__',\n",
       " '__ge__',\n",
       " '__getattribute__',\n",
       " '__gt__',\n",
       " '__hash__',\n",
       " '__init__',\n",
       " '__init_subclass__',\n",
       " '__le__',\n",
       " '__lt__',\n",
       " '__module__',\n",
       " '__ne__',\n",
       " '__new__',\n",
       " '__reduce__',\n",
       " '__reduce_ex__',\n",
       " '__repr__',\n",
       " '__setattr__',\n",
       " '__sizeof__',\n",
       " '__str__',\n",
       " '__subclasshook__',\n",
       " '__weakref__']"
      ]
     },
     "execution_count": 76,
     "metadata": {},
     "output_type": "execute_result"
    }
   ],
   "source": [
    "dir(D)"
   ]
  },
  {
   "attachments": {},
   "cell_type": "markdown",
   "metadata": {},
   "source": [
    "1. 메타클래스\n",
    "2. 디자인 패턴"
   ]
  },
  {
   "cell_type": "code",
   "execution_count": 77,
   "metadata": {},
   "outputs": [],
   "source": [
    "# 상속을 Composition으로 활용할 수 있다. -> python design pattern -> composite pattern"
   ]
  },
  {
   "cell_type": "code",
   "execution_count": 110,
   "metadata": {},
   "outputs": [],
   "source": [
    "t = reversed([1,2,3]) # 정책을 뒤에서부터 뽑도록 한다면 reverse를 활용해볼 수 있다."
   ]
  },
  {
   "cell_type": "code",
   "execution_count": 111,
   "metadata": {},
   "outputs": [
    {
     "data": {
      "text/plain": [
       "3"
      ]
     },
     "execution_count": 111,
     "metadata": {},
     "output_type": "execute_result"
    }
   ],
   "source": [
    "next(t)"
   ]
  },
  {
   "cell_type": "code",
   "execution_count": null,
   "metadata": {},
   "outputs": [],
   "source": [
    "# 안에 있는 함수를 리턴하는 것이기 때문에 \n",
    "\n",
    "def compose(*funcs):\n",
    "    def inner(data, funcs=funcs):\n",
    "        result = data\n",
    "        for f in reversed() ..."
   ]
  },
  {
   "cell_type": "code",
   "execution_count": 112,
   "metadata": {},
   "outputs": [],
   "source": [
    "from functools import partial"
   ]
  },
  {
   "cell_type": "code",
   "execution_count": 113,
   "metadata": {},
   "outputs": [],
   "source": [
    "from operator import add"
   ]
  },
  {
   "cell_type": "code",
   "execution_count": 114,
   "metadata": {},
   "outputs": [
    {
     "data": {
      "text/plain": [
       "7"
      ]
     },
     "execution_count": 114,
     "metadata": {},
     "output_type": "execute_result"
    }
   ],
   "source": [
    "add(3,4)"
   ]
  },
  {
   "cell_type": "code",
   "execution_count": 115,
   "metadata": {},
   "outputs": [],
   "source": [
    "add_3 = partial(add, 3) # a가 3으로 교체됨."
   ]
  },
  {
   "cell_type": "code",
   "execution_count": 116,
   "metadata": {},
   "outputs": [
    {
     "data": {
      "text/plain": [
       "7"
      ]
     },
     "execution_count": 116,
     "metadata": {},
     "output_type": "execute_result"
    }
   ],
   "source": [
    "add_3(4) # 상속처럼 생각할 수 있다. "
   ]
  },
  {
   "cell_type": "code",
   "execution_count": 117,
   "metadata": {},
   "outputs": [],
   "source": [
    "from sklearn.naive_bayes import ClassifierMixin"
   ]
  },
  {
   "cell_type": "code",
   "execution_count": 118,
   "metadata": {},
   "outputs": [],
   "source": [
    "# AOP\n",
    "# 다중상속을 통해서 기능에 대한 구현을 진행한다.\n",
    "# Mix-In : 공통된 기능을 다 뽑아놓은 뒤에 -> 내가 집중해야 하는 코드만 작성하면 된다."
   ]
  },
  {
   "cell_type": "code",
   "execution_count": 119,
   "metadata": {},
   "outputs": [],
   "source": [
    "# @tf.function : 그래프 형식으로 바꾸어주는 것은 가져다 쓴다는 의미.\n",
    "# A 기능을 지원해주는 친구가 있으면 굳이 A를 만들지 않고, 추가해주는 형식.\n",
    "# Multiple Inheritance + Functional Paradigm : 내 논리에 집중하면 된다. \n",
    "\n",
    "\n",
    "# 알고리즘을 만들고 싶을 때, 활용 가능하다.\n"
   ]
  },
  {
   "cell_type": "code",
   "execution_count": 123,
   "metadata": {},
   "outputs": [],
   "source": [
    "from sklearn.base import ClassifierMixin, BaseEstimator"
   ]
  },
  {
   "cell_type": "code",
   "execution_count": 121,
   "metadata": {},
   "outputs": [],
   "source": [
    "import inspect"
   ]
  },
  {
   "cell_type": "code",
   "execution_count": 125,
   "metadata": {},
   "outputs": [
    {
     "name": "stdout",
     "output_type": "stream",
     "text": [
      "class BaseEstimator:\n",
      "    \"\"\"Base class for all estimators in scikit-learn.\n",
      "\n",
      "    Notes\n",
      "    -----\n",
      "    All estimators should specify all the parameters that can be set\n",
      "    at the class level in their ``__init__`` as explicit keyword\n",
      "    arguments (no ``*args`` or ``**kwargs``).\n",
      "    \"\"\"\n",
      "\n",
      "    @classmethod\n",
      "    def _get_param_names(cls):\n",
      "        \"\"\"Get parameter names for the estimator\"\"\"\n",
      "        # fetch the constructor or the original constructor before\n",
      "        # deprecation wrapping if any\n",
      "        init = getattr(cls.__init__, \"deprecated_original\", cls.__init__)\n",
      "        if init is object.__init__:\n",
      "            # No explicit constructor to introspect\n",
      "            return []\n",
      "\n",
      "        # introspect the constructor arguments to find the model parameters\n",
      "        # to represent\n",
      "        init_signature = inspect.signature(init)\n",
      "        # Consider the constructor parameters excluding 'self'\n",
      "        parameters = [\n",
      "            p\n",
      "            for p in init_signature.parameters.values()\n",
      "            if p.name != \"self\" and p.kind != p.VAR_KEYWORD\n",
      "        ]\n",
      "        for p in parameters:\n",
      "            if p.kind == p.VAR_POSITIONAL:\n",
      "                raise RuntimeError(\n",
      "                    \"scikit-learn estimators should always \"\n",
      "                    \"specify their parameters in the signature\"\n",
      "                    \" of their __init__ (no varargs).\"\n",
      "                    \" %s with constructor %s doesn't \"\n",
      "                    \" follow this convention.\" % (cls, init_signature)\n",
      "                )\n",
      "        # Extract and sort argument names excluding 'self'\n",
      "        return sorted([p.name for p in parameters])\n",
      "\n",
      "    def get_params(self, deep=True):\n",
      "        \"\"\"\n",
      "        Get parameters for this estimator.\n",
      "\n",
      "        Parameters\n",
      "        ----------\n",
      "        deep : bool, default=True\n",
      "            If True, will return the parameters for this estimator and\n",
      "            contained subobjects that are estimators.\n",
      "\n",
      "        Returns\n",
      "        -------\n",
      "        params : dict\n",
      "            Parameter names mapped to their values.\n",
      "        \"\"\"\n",
      "        out = dict()\n",
      "        for key in self._get_param_names():\n",
      "            value = getattr(self, key)\n",
      "            if deep and hasattr(value, \"get_params\") and not isinstance(value, type):\n",
      "                deep_items = value.get_params().items()\n",
      "                out.update((key + \"__\" + k, val) for k, val in deep_items)\n",
      "            out[key] = value\n",
      "        return out\n",
      "\n",
      "    def set_params(self, **params):\n",
      "        \"\"\"Set the parameters of this estimator.\n",
      "\n",
      "        The method works on simple estimators as well as on nested objects\n",
      "        (such as :class:`~sklearn.pipeline.Pipeline`). The latter have\n",
      "        parameters of the form ``<component>__<parameter>`` so that it's\n",
      "        possible to update each component of a nested object.\n",
      "\n",
      "        Parameters\n",
      "        ----------\n",
      "        **params : dict\n",
      "            Estimator parameters.\n",
      "\n",
      "        Returns\n",
      "        -------\n",
      "        self : estimator instance\n",
      "            Estimator instance.\n",
      "        \"\"\"\n",
      "        if not params:\n",
      "            # Simple optimization to gain speed (inspect is slow)\n",
      "            return self\n",
      "        valid_params = self.get_params(deep=True)\n",
      "\n",
      "        nested_params = defaultdict(dict)  # grouped by prefix\n",
      "        for key, value in params.items():\n",
      "            key, delim, sub_key = key.partition(\"__\")\n",
      "            if key not in valid_params:\n",
      "                local_valid_params = self._get_param_names()\n",
      "                raise ValueError(\n",
      "                    f\"Invalid parameter {key!r} for estimator {self}. \"\n",
      "                    f\"Valid parameters are: {local_valid_params!r}.\"\n",
      "                )\n",
      "\n",
      "            if delim:\n",
      "                nested_params[key][sub_key] = value\n",
      "            else:\n",
      "                setattr(self, key, value)\n",
      "                valid_params[key] = value\n",
      "\n",
      "        for key, sub_params in nested_params.items():\n",
      "            # TODO(1.4): remove specific handling of \"base_estimator\".\n",
      "            # The \"base_estimator\" key is special. It was deprecated and\n",
      "            # renamed to \"estimator\" for several estimators. This means we\n",
      "            # need to translate it here and set sub-parameters on \"estimator\",\n",
      "            # but only if the user did not explicitly set a value for\n",
      "            # \"base_estimator\".\n",
      "            if (\n",
      "                key == \"base_estimator\"\n",
      "                and valid_params[key] == \"deprecated\"\n",
      "                and self.__module__.startswith(\"sklearn.\")\n",
      "            ):\n",
      "                warnings.warn(\n",
      "                    f\"Parameter 'base_estimator' of {self.__class__.__name__} is\"\n",
      "                    \" deprecated in favor of 'estimator'. See\"\n",
      "                    f\" {self.__class__.__name__}'s docstring for more details.\",\n",
      "                    FutureWarning,\n",
      "                    stacklevel=2,\n",
      "                )\n",
      "                key = \"estimator\"\n",
      "            valid_params[key].set_params(**sub_params)\n",
      "\n",
      "        return self\n",
      "\n",
      "    def __repr__(self, N_CHAR_MAX=700):\n",
      "        # N_CHAR_MAX is the (approximate) maximum number of non-blank\n",
      "        # characters to render. We pass it as an optional parameter to ease\n",
      "        # the tests.\n",
      "\n",
      "        from .utils._pprint import _EstimatorPrettyPrinter\n",
      "\n",
      "        N_MAX_ELEMENTS_TO_SHOW = 30  # number of elements to show in sequences\n",
      "\n",
      "        # use ellipsis for sequences with a lot of elements\n",
      "        pp = _EstimatorPrettyPrinter(\n",
      "            compact=True,\n",
      "            indent=1,\n",
      "            indent_at_name=True,\n",
      "            n_max_elements_to_show=N_MAX_ELEMENTS_TO_SHOW,\n",
      "        )\n",
      "\n",
      "        repr_ = pp.pformat(self)\n",
      "\n",
      "        # Use bruteforce ellipsis when there are a lot of non-blank characters\n",
      "        n_nonblank = len(\"\".join(repr_.split()))\n",
      "        if n_nonblank > N_CHAR_MAX:\n",
      "            lim = N_CHAR_MAX // 2  # apprx number of chars to keep on both ends\n",
      "            regex = r\"^(\\s*\\S){%d}\" % lim\n",
      "            # The regex '^(\\s*\\S){%d}' % n\n",
      "            # matches from the start of the string until the nth non-blank\n",
      "            # character:\n",
      "            # - ^ matches the start of string\n",
      "            # - (pattern){n} matches n repetitions of pattern\n",
      "            # - \\s*\\S matches a non-blank char following zero or more blanks\n",
      "            left_lim = re.match(regex, repr_).end()\n",
      "            right_lim = re.match(regex, repr_[::-1]).end()\n",
      "\n",
      "            if \"\\n\" in repr_[left_lim:-right_lim]:\n",
      "                # The left side and right side aren't on the same line.\n",
      "                # To avoid weird cuts, e.g.:\n",
      "                # categoric...ore',\n",
      "                # we need to start the right side with an appropriate newline\n",
      "                # character so that it renders properly as:\n",
      "                # categoric...\n",
      "                # handle_unknown='ignore',\n",
      "                # so we add [^\\n]*\\n which matches until the next \\n\n",
      "                regex += r\"[^\\n]*\\n\"\n",
      "                right_lim = re.match(regex, repr_[::-1]).end()\n",
      "\n",
      "            ellipsis = \"...\"\n",
      "            if left_lim + len(ellipsis) < len(repr_) - right_lim:\n",
      "                # Only add ellipsis if it results in a shorter repr\n",
      "                repr_ = repr_[:left_lim] + \"...\" + repr_[-right_lim:]\n",
      "\n",
      "        return repr_\n",
      "\n",
      "    def __getstate__(self):\n",
      "        if getattr(self, \"__slots__\", None):\n",
      "            raise TypeError(\n",
      "                \"You cannot use `__slots__` in objects inheriting from \"\n",
      "                \"`sklearn.base.BaseEstimator`.\"\n",
      "            )\n",
      "\n",
      "        try:\n",
      "            state = super().__getstate__()\n",
      "            if state is None:\n",
      "                # For Python 3.11+, empty instance (no `__slots__`,\n",
      "                # and `__dict__`) will return a state equal to `None`.\n",
      "                state = self.__dict__.copy()\n",
      "        except AttributeError:\n",
      "            # Python < 3.11\n",
      "            state = self.__dict__.copy()\n",
      "\n",
      "        if type(self).__module__.startswith(\"sklearn.\"):\n",
      "            return dict(state.items(), _sklearn_version=__version__)\n",
      "        else:\n",
      "            return state\n",
      "\n",
      "    def __setstate__(self, state):\n",
      "        if type(self).__module__.startswith(\"sklearn.\"):\n",
      "            pickle_version = state.pop(\"_sklearn_version\", \"pre-0.18\")\n",
      "            if pickle_version != __version__:\n",
      "                warnings.warn(\n",
      "                    \"Trying to unpickle estimator {0} from version {1} when \"\n",
      "                    \"using version {2}. This might lead to breaking code or \"\n",
      "                    \"invalid results. Use at your own risk. \"\n",
      "                    \"For more info please refer to:\\n\"\n",
      "                    \"https://scikit-learn.org/stable/model_persistence.html\"\n",
      "                    \"#security-maintainability-limitations\".format(\n",
      "                        self.__class__.__name__, pickle_version, __version__\n",
      "                    ),\n",
      "                    UserWarning,\n",
      "                )\n",
      "        try:\n",
      "            super().__setstate__(state)\n",
      "        except AttributeError:\n",
      "            self.__dict__.update(state)\n",
      "\n",
      "    def _more_tags(self):\n",
      "        return _DEFAULT_TAGS\n",
      "\n",
      "    def _get_tags(self):\n",
      "        collected_tags = {}\n",
      "        for base_class in reversed(inspect.getmro(self.__class__)):\n",
      "            if hasattr(base_class, \"_more_tags\"):\n",
      "                # need the if because mixins might not have _more_tags\n",
      "                # but might do redundant work in estimators\n",
      "                # (i.e. calling more tags on BaseEstimator multiple times)\n",
      "                more_tags = base_class._more_tags(self)\n",
      "                collected_tags.update(more_tags)\n",
      "        return collected_tags\n",
      "\n",
      "    def _check_n_features(self, X, reset):\n",
      "        \"\"\"Set the `n_features_in_` attribute, or check against it.\n",
      "\n",
      "        Parameters\n",
      "        ----------\n",
      "        X : {ndarray, sparse matrix} of shape (n_samples, n_features)\n",
      "            The input samples.\n",
      "        reset : bool\n",
      "            If True, the `n_features_in_` attribute is set to `X.shape[1]`.\n",
      "            If False and the attribute exists, then check that it is equal to\n",
      "            `X.shape[1]`. If False and the attribute does *not* exist, then\n",
      "            the check is skipped.\n",
      "            .. note::\n",
      "               It is recommended to call reset=True in `fit` and in the first\n",
      "               call to `partial_fit`. All other methods that validate `X`\n",
      "               should set `reset=False`.\n",
      "        \"\"\"\n",
      "        try:\n",
      "            n_features = _num_features(X)\n",
      "        except TypeError as e:\n",
      "            if not reset and hasattr(self, \"n_features_in_\"):\n",
      "                raise ValueError(\n",
      "                    \"X does not contain any features, but \"\n",
      "                    f\"{self.__class__.__name__} is expecting \"\n",
      "                    f\"{self.n_features_in_} features\"\n",
      "                ) from e\n",
      "            # If the number of features is not defined and reset=True,\n",
      "            # then we skip this check\n",
      "            return\n",
      "\n",
      "        if reset:\n",
      "            self.n_features_in_ = n_features\n",
      "            return\n",
      "\n",
      "        if not hasattr(self, \"n_features_in_\"):\n",
      "            # Skip this check if the expected number of expected input features\n",
      "            # was not recorded by calling fit first. This is typically the case\n",
      "            # for stateless transformers.\n",
      "            return\n",
      "\n",
      "        if n_features != self.n_features_in_:\n",
      "            raise ValueError(\n",
      "                f\"X has {n_features} features, but {self.__class__.__name__} \"\n",
      "                f\"is expecting {self.n_features_in_} features as input.\"\n",
      "            )\n",
      "\n",
      "    def _check_feature_names(self, X, *, reset):\n",
      "        \"\"\"Set or check the `feature_names_in_` attribute.\n",
      "\n",
      "        .. versionadded:: 1.0\n",
      "\n",
      "        Parameters\n",
      "        ----------\n",
      "        X : {ndarray, dataframe} of shape (n_samples, n_features)\n",
      "            The input samples.\n",
      "\n",
      "        reset : bool\n",
      "            Whether to reset the `feature_names_in_` attribute.\n",
      "            If False, the input will be checked for consistency with\n",
      "            feature names of data provided when reset was last True.\n",
      "            .. note::\n",
      "               It is recommended to call `reset=True` in `fit` and in the first\n",
      "               call to `partial_fit`. All other methods that validate `X`\n",
      "               should set `reset=False`.\n",
      "        \"\"\"\n",
      "\n",
      "        if reset:\n",
      "            feature_names_in = _get_feature_names(X)\n",
      "            if feature_names_in is not None:\n",
      "                self.feature_names_in_ = feature_names_in\n",
      "            elif hasattr(self, \"feature_names_in_\"):\n",
      "                # Delete the attribute when the estimator is fitted on a new dataset\n",
      "                # that has no feature names.\n",
      "                delattr(self, \"feature_names_in_\")\n",
      "            return\n",
      "\n",
      "        fitted_feature_names = getattr(self, \"feature_names_in_\", None)\n",
      "        X_feature_names = _get_feature_names(X)\n",
      "\n",
      "        if fitted_feature_names is None and X_feature_names is None:\n",
      "            # no feature names seen in fit and in X\n",
      "            return\n",
      "\n",
      "        if X_feature_names is not None and fitted_feature_names is None:\n",
      "            warnings.warn(\n",
      "                f\"X has feature names, but {self.__class__.__name__} was fitted without\"\n",
      "                \" feature names\"\n",
      "            )\n",
      "            return\n",
      "\n",
      "        if X_feature_names is None and fitted_feature_names is not None:\n",
      "            warnings.warn(\n",
      "                \"X does not have valid feature names, but\"\n",
      "                f\" {self.__class__.__name__} was fitted with feature names\"\n",
      "            )\n",
      "            return\n",
      "\n",
      "        # validate the feature names against the `feature_names_in_` attribute\n",
      "        if len(fitted_feature_names) != len(X_feature_names) or np.any(\n",
      "            fitted_feature_names != X_feature_names\n",
      "        ):\n",
      "            message = (\n",
      "                \"The feature names should match those that were passed during fit.\\n\"\n",
      "            )\n",
      "            fitted_feature_names_set = set(fitted_feature_names)\n",
      "            X_feature_names_set = set(X_feature_names)\n",
      "\n",
      "            unexpected_names = sorted(X_feature_names_set - fitted_feature_names_set)\n",
      "            missing_names = sorted(fitted_feature_names_set - X_feature_names_set)\n",
      "\n",
      "            def add_names(names):\n",
      "                output = \"\"\n",
      "                max_n_names = 5\n",
      "                for i, name in enumerate(names):\n",
      "                    if i >= max_n_names:\n",
      "                        output += \"- ...\\n\"\n",
      "                        break\n",
      "                    output += f\"- {name}\\n\"\n",
      "                return output\n",
      "\n",
      "            if unexpected_names:\n",
      "                message += \"Feature names unseen at fit time:\\n\"\n",
      "                message += add_names(unexpected_names)\n",
      "\n",
      "            if missing_names:\n",
      "                message += \"Feature names seen at fit time, yet now missing:\\n\"\n",
      "                message += add_names(missing_names)\n",
      "\n",
      "            if not missing_names and not unexpected_names:\n",
      "                message += (\n",
      "                    \"Feature names must be in the same order as they were in fit.\\n\"\n",
      "                )\n",
      "\n",
      "            raise ValueError(message)\n",
      "\n",
      "    def _validate_data(\n",
      "        self,\n",
      "        X=\"no_validation\",\n",
      "        y=\"no_validation\",\n",
      "        reset=True,\n",
      "        validate_separately=False,\n",
      "        **check_params,\n",
      "    ):\n",
      "        \"\"\"Validate input data and set or check the `n_features_in_` attribute.\n",
      "\n",
      "        Parameters\n",
      "        ----------\n",
      "        X : {array-like, sparse matrix, dataframe} of shape \\\n",
      "                (n_samples, n_features), default='no validation'\n",
      "            The input samples.\n",
      "            If `'no_validation'`, no validation is performed on `X`. This is\n",
      "            useful for meta-estimator which can delegate input validation to\n",
      "            their underlying estimator(s). In that case `y` must be passed and\n",
      "            the only accepted `check_params` are `multi_output` and\n",
      "            `y_numeric`.\n",
      "\n",
      "        y : array-like of shape (n_samples,), default='no_validation'\n",
      "            The targets.\n",
      "\n",
      "            - If `None`, `check_array` is called on `X`. If the estimator's\n",
      "              requires_y tag is True, then an error will be raised.\n",
      "            - If `'no_validation'`, `check_array` is called on `X` and the\n",
      "              estimator's requires_y tag is ignored. This is a default\n",
      "              placeholder and is never meant to be explicitly set. In that case\n",
      "              `X` must be passed.\n",
      "            - Otherwise, only `y` with `_check_y` or both `X` and `y` are\n",
      "              checked with either `check_array` or `check_X_y` depending on\n",
      "              `validate_separately`.\n",
      "\n",
      "        reset : bool, default=True\n",
      "            Whether to reset the `n_features_in_` attribute.\n",
      "            If False, the input will be checked for consistency with data\n",
      "            provided when reset was last True.\n",
      "            .. note::\n",
      "               It is recommended to call reset=True in `fit` and in the first\n",
      "               call to `partial_fit`. All other methods that validate `X`\n",
      "               should set `reset=False`.\n",
      "\n",
      "        validate_separately : False or tuple of dicts, default=False\n",
      "            Only used if y is not None.\n",
      "            If False, call validate_X_y(). Else, it must be a tuple of kwargs\n",
      "            to be used for calling check_array() on X and y respectively.\n",
      "\n",
      "            `estimator=self` is automatically added to these dicts to generate\n",
      "            more informative error message in case of invalid input data.\n",
      "\n",
      "        **check_params : kwargs\n",
      "            Parameters passed to :func:`sklearn.utils.check_array` or\n",
      "            :func:`sklearn.utils.check_X_y`. Ignored if validate_separately\n",
      "            is not False.\n",
      "\n",
      "            `estimator=self` is automatically added to these params to generate\n",
      "            more informative error message in case of invalid input data.\n",
      "\n",
      "        Returns\n",
      "        -------\n",
      "        out : {ndarray, sparse matrix} or tuple of these\n",
      "            The validated input. A tuple is returned if both `X` and `y` are\n",
      "            validated.\n",
      "        \"\"\"\n",
      "        self._check_feature_names(X, reset=reset)\n",
      "\n",
      "        if y is None and self._get_tags()[\"requires_y\"]:\n",
      "            raise ValueError(\n",
      "                f\"This {self.__class__.__name__} estimator \"\n",
      "                \"requires y to be passed, but the target y is None.\"\n",
      "            )\n",
      "\n",
      "        no_val_X = isinstance(X, str) and X == \"no_validation\"\n",
      "        no_val_y = y is None or isinstance(y, str) and y == \"no_validation\"\n",
      "\n",
      "        default_check_params = {\"estimator\": self}\n",
      "        check_params = {**default_check_params, **check_params}\n",
      "\n",
      "        if no_val_X and no_val_y:\n",
      "            raise ValueError(\"Validation should be done on X, y or both.\")\n",
      "        elif not no_val_X and no_val_y:\n",
      "            X = check_array(X, input_name=\"X\", **check_params)\n",
      "            out = X\n",
      "        elif no_val_X and not no_val_y:\n",
      "            y = _check_y(y, **check_params)\n",
      "            out = y\n",
      "        else:\n",
      "            if validate_separately:\n",
      "                # We need this because some estimators validate X and y\n",
      "                # separately, and in general, separately calling check_array()\n",
      "                # on X and y isn't equivalent to just calling check_X_y()\n",
      "                # :(\n",
      "                check_X_params, check_y_params = validate_separately\n",
      "                if \"estimator\" not in check_X_params:\n",
      "                    check_X_params = {**default_check_params, **check_X_params}\n",
      "                X = check_array(X, input_name=\"X\", **check_X_params)\n",
      "                if \"estimator\" not in check_y_params:\n",
      "                    check_y_params = {**default_check_params, **check_y_params}\n",
      "                y = check_array(y, input_name=\"y\", **check_y_params)\n",
      "            else:\n",
      "                X, y = check_X_y(X, y, **check_params)\n",
      "            out = X, y\n",
      "\n",
      "        if not no_val_X and check_params.get(\"ensure_2d\", True):\n",
      "            self._check_n_features(X, reset=reset)\n",
      "\n",
      "        return out\n",
      "\n",
      "    def _validate_params(self):\n",
      "        \"\"\"Validate types and values of constructor parameters\n",
      "\n",
      "        The expected type and values must be defined in the `_parameter_constraints`\n",
      "        class attribute, which is a dictionary `param_name: list of constraints`. See\n",
      "        the docstring of `validate_parameter_constraints` for a description of the\n",
      "        accepted constraints.\n",
      "        \"\"\"\n",
      "        validate_parameter_constraints(\n",
      "            self._parameter_constraints,\n",
      "            self.get_params(deep=False),\n",
      "            caller_name=self.__class__.__name__,\n",
      "        )\n",
      "\n",
      "    @property\n",
      "    def _repr_html_(self):\n",
      "        \"\"\"HTML representation of estimator.\n",
      "\n",
      "        This is redundant with the logic of `_repr_mimebundle_`. The latter\n",
      "        should be favorted in the long term, `_repr_html_` is only\n",
      "        implemented for consumers who do not interpret `_repr_mimbundle_`.\n",
      "        \"\"\"\n",
      "        if get_config()[\"display\"] != \"diagram\":\n",
      "            raise AttributeError(\n",
      "                \"_repr_html_ is only defined when the \"\n",
      "                \"'display' configuration option is set to \"\n",
      "                \"'diagram'\"\n",
      "            )\n",
      "        return self._repr_html_inner\n",
      "\n",
      "    def _repr_html_inner(self):\n",
      "        \"\"\"This function is returned by the @property `_repr_html_` to make\n",
      "        `hasattr(estimator, \"_repr_html_\") return `True` or `False` depending\n",
      "        on `get_config()[\"display\"]`.\n",
      "        \"\"\"\n",
      "        return estimator_html_repr(self)\n",
      "\n",
      "    def _repr_mimebundle_(self, **kwargs):\n",
      "        \"\"\"Mime bundle used by jupyter kernels to display estimator\"\"\"\n",
      "        output = {\"text/plain\": repr(self)}\n",
      "        if get_config()[\"display\"] == \"diagram\":\n",
      "            output[\"text/html\"] = estimator_html_repr(self)\n",
      "        return output\n",
      "\n"
     ]
    }
   ],
   "source": [
    "print(inspect.getsource(BaseEstimator))"
   ]
  },
  {
   "cell_type": "code",
   "execution_count": 128,
   "metadata": {},
   "outputs": [],
   "source": [
    "# Consensus -> decorator가 복잡하면 이해가 되지 않기 때문에. return 안 줌.\n",
    "# Decorator pattern \n",
    "\n",
    "def foo():\n",
    "    print('foo!')\n"
   ]
  },
  {
   "cell_type": "code",
   "execution_count": 129,
   "metadata": {},
   "outputs": [],
   "source": [
    "def bar(fn):\n",
    "    fn() # callable 개념이 들어가 있다. \n"
   ]
  },
  {
   "cell_type": "code",
   "execution_count": 130,
   "metadata": {},
   "outputs": [
    {
     "name": "stdout",
     "output_type": "stream",
     "text": [
      "foo!\n"
     ]
    }
   ],
   "source": [
    "bar(foo) # prints 'foo!' -> first-class 개념 떄문에."
   ]
  },
  {
   "cell_type": "code",
   "execution_count": 131,
   "metadata": {},
   "outputs": [],
   "source": [
    "# Functions can be defined inside other functions \n",
    "# It is also possible to define functions inside other functions. 아무도 접근할 수 없다. -> Encapsulation"
   ]
  },
  {
   "cell_type": "code",
   "execution_count": 134,
   "metadata": {},
   "outputs": [],
   "source": [
    "def foo():\n",
    "    def bar():\n",
    "        print('bar!')\n",
    "    bar()"
   ]
  },
  {
   "cell_type": "code",
   "execution_count": 135,
   "metadata": {},
   "outputs": [
    {
     "ename": "TypeError",
     "evalue": "bar() missing 1 required positional argument: 'fn'",
     "output_type": "error",
     "traceback": [
      "\u001b[0;31m---------------------------------------------------------------------------\u001b[0m",
      "\u001b[0;31mTypeError\u001b[0m                                 Traceback (most recent call last)",
      "Cell \u001b[0;32mIn[135], line 1\u001b[0m\n\u001b[0;32m----> 1\u001b[0m bar()\n",
      "\u001b[0;31mTypeError\u001b[0m: bar() missing 1 required positional argument: 'fn'"
     ]
    }
   ],
   "source": [
    "bar() # 그 결과로서 실행이 되지 않는다는 점을 확인할 수 있다."
   ]
  },
  {
   "cell_type": "code",
   "execution_count": 138,
   "metadata": {},
   "outputs": [],
   "source": [
    "def x(m):\n",
    "    def y(n):\n",
    "        return m + n\n",
    "    return y\n",
    "\n",
    "# closure 구조"
   ]
  },
  {
   "cell_type": "code",
   "execution_count": 139,
   "metadata": {},
   "outputs": [],
   "source": [
    "# decorator = function closure"
   ]
  },
  {
   "cell_type": "code",
   "execution_count": 1,
   "metadata": {},
   "outputs": [],
   "source": [
    "# @tf.function : graph 형태로.\n",
    "# tf.function -> "
   ]
  },
  {
   "cell_type": "code",
   "execution_count": 2,
   "metadata": {},
   "outputs": [],
   "source": [
    "# syntactic sugar : 문법적인 간결성을 표현한다. \n",
    "import sqlite3"
   ]
  },
  {
   "cell_type": "code",
   "execution_count": 11,
   "metadata": {},
   "outputs": [],
   "source": [
    "con = sqlite3.connect(':memory')\n"
   ]
  },
  {
   "cell_type": "code",
   "execution_count": 14,
   "metadata": {},
   "outputs": [
    {
     "data": {
      "text/plain": [
       "<function Connection.close>"
      ]
     },
     "execution_count": 14,
     "metadata": {},
     "output_type": "execute_result"
    }
   ],
   "source": [
    "con.close"
   ]
  },
  {
   "cell_type": "code",
   "execution_count": 13,
   "metadata": {},
   "outputs": [
    {
     "data": {
      "text/plain": [
       "['DataError',\n",
       " 'DatabaseError',\n",
       " 'Error',\n",
       " 'IntegrityError',\n",
       " 'InterfaceError',\n",
       " 'InternalError',\n",
       " 'NotSupportedError',\n",
       " 'OperationalError',\n",
       " 'ProgrammingError',\n",
       " 'Warning',\n",
       " '__call__',\n",
       " '__class__',\n",
       " '__delattr__',\n",
       " '__dir__',\n",
       " '__doc__',\n",
       " '__enter__',\n",
       " '__eq__',\n",
       " '__exit__',\n",
       " '__format__',\n",
       " '__ge__',\n",
       " '__getattribute__',\n",
       " '__gt__',\n",
       " '__hash__',\n",
       " '__init__',\n",
       " '__init_subclass__',\n",
       " '__le__',\n",
       " '__lt__',\n",
       " '__ne__',\n",
       " '__new__',\n",
       " '__reduce__',\n",
       " '__reduce_ex__',\n",
       " '__repr__',\n",
       " '__setattr__',\n",
       " '__sizeof__',\n",
       " '__str__',\n",
       " '__subclasshook__',\n",
       " 'backup',\n",
       " 'close',\n",
       " 'commit',\n",
       " 'create_aggregate',\n",
       " 'create_collation',\n",
       " 'create_function',\n",
       " 'cursor',\n",
       " 'enable_load_extension',\n",
       " 'execute',\n",
       " 'executemany',\n",
       " 'executescript',\n",
       " 'in_transaction',\n",
       " 'interrupt',\n",
       " 'isolation_level',\n",
       " 'iterdump',\n",
       " 'load_extension',\n",
       " 'rollback',\n",
       " 'row_factory',\n",
       " 'set_authorizer',\n",
       " 'set_progress_handler',\n",
       " 'set_trace_callback',\n",
       " 'text_factory',\n",
       " 'total_changes']"
      ]
     },
     "execution_count": 13,
     "metadata": {},
     "output_type": "execute_result"
    }
   ],
   "source": [
    "dir(con) # __iter__, __next__ && __enter__, __exit__"
   ]
  },
  {
   "cell_type": "code",
   "execution_count": 15,
   "metadata": {},
   "outputs": [
    {
     "ename": "AttributeError",
     "evalue": "__enter__",
     "output_type": "error",
     "traceback": [
      "\u001b[0;31m---------------------------------------------------------------------------\u001b[0m",
      "\u001b[0;31mAttributeError\u001b[0m                            Traceback (most recent call last)",
      "Cell \u001b[0;32mIn[15], line 1\u001b[0m\n\u001b[0;32m----> 1\u001b[0m \u001b[39mwith\u001b[39;00m \u001b[39mint\u001b[39m():\n\u001b[1;32m      2\u001b[0m     \u001b[39mpass\u001b[39;00m\n",
      "\u001b[0;31mAttributeError\u001b[0m: __enter__"
     ]
    }
   ],
   "source": [
    "with int():\n",
    "    pass"
   ]
  },
  {
   "cell_type": "code",
   "execution_count": 19,
   "metadata": {},
   "outputs": [],
   "source": [
    "class A:\n",
    "    def __enter__(self):\n",
    "        print('enter')\n",
    "    def __exit__(self,a,b,c): # exit에 closure를 구현해놓으면 자동으로 close가 되도록 만들 수가 있다.\n",
    "        print('exit')\n"
   ]
  },
  {
   "cell_type": "code",
   "execution_count": 20,
   "metadata": {},
   "outputs": [
    {
     "name": "stdout",
     "output_type": "stream",
     "text": [
      "enter\n",
      "with\n",
      "exit\n"
     ]
    }
   ],
   "source": [
    "with A():\n",
    "    print('with')\n",
    "    pass"
   ]
  },
  {
   "cell_type": "code",
   "execution_count": 21,
   "metadata": {},
   "outputs": [
    {
     "name": "stdout",
     "output_type": "stream",
     "text": [
      "Writing t.txt\n"
     ]
    }
   ],
   "source": [
    "%%writefile t.txt\n",
    "sfkfjdlkfdsmfksl dskfjld \n",
    "sjld sfdjslf sfkdjl"
   ]
  },
  {
   "cell_type": "code",
   "execution_count": 23,
   "metadata": {},
   "outputs": [],
   "source": [
    "x = open('t.txt')"
   ]
  },
  {
   "cell_type": "code",
   "execution_count": 25,
   "metadata": {},
   "outputs": [],
   "source": [
    "with open('t.txt'):\n",
    "    pass"
   ]
  },
  {
   "cell_type": "code",
   "execution_count": 26,
   "metadata": {},
   "outputs": [
    {
     "data": {
      "text/plain": [
       "['_CHUNK_SIZE',\n",
       " '__class__',\n",
       " '__del__',\n",
       " '__delattr__',\n",
       " '__dict__',\n",
       " '__dir__',\n",
       " '__doc__',\n",
       " '__enter__',\n",
       " '__eq__',\n",
       " '__exit__',\n",
       " '__format__',\n",
       " '__ge__',\n",
       " '__getattribute__',\n",
       " '__gt__',\n",
       " '__hash__',\n",
       " '__init__',\n",
       " '__init_subclass__',\n",
       " '__iter__',\n",
       " '__le__',\n",
       " '__lt__',\n",
       " '__ne__',\n",
       " '__new__',\n",
       " '__next__',\n",
       " '__reduce__',\n",
       " '__reduce_ex__',\n",
       " '__repr__',\n",
       " '__setattr__',\n",
       " '__sizeof__',\n",
       " '__str__',\n",
       " '__subclasshook__',\n",
       " '_checkClosed',\n",
       " '_checkReadable',\n",
       " '_checkSeekable',\n",
       " '_checkWritable',\n",
       " '_finalizing',\n",
       " 'buffer',\n",
       " 'close',\n",
       " 'closed',\n",
       " 'detach',\n",
       " 'encoding',\n",
       " 'errors',\n",
       " 'fileno',\n",
       " 'flush',\n",
       " 'isatty',\n",
       " 'line_buffering',\n",
       " 'mode',\n",
       " 'name',\n",
       " 'newlines',\n",
       " 'read',\n",
       " 'readable',\n",
       " 'readline',\n",
       " 'readlines',\n",
       " 'reconfigure',\n",
       " 'seek',\n",
       " 'seekable',\n",
       " 'tell',\n",
       " 'truncate',\n",
       " 'writable',\n",
       " 'write',\n",
       " 'write_through',\n",
       " 'writelines']"
      ]
     },
     "execution_count": 26,
     "metadata": {},
     "output_type": "execute_result"
    }
   ],
   "source": [
    "dir(x)"
   ]
  },
  {
   "cell_type": "code",
   "execution_count": 77,
   "metadata": {},
   "outputs": [],
   "source": [
    "def x(fun):\n",
    "    def y(*x, **kw):\n",
    "        print('yyyyy')\n",
    "        fun(*x, **kw)\n",
    "    return y"
   ]
  },
  {
   "cell_type": "code",
   "execution_count": 54,
   "metadata": {},
   "outputs": [],
   "source": [
    "def xx():\n",
    "    print('ttt')"
   ]
  },
  {
   "cell_type": "code",
   "execution_count": 55,
   "metadata": {},
   "outputs": [
    {
     "data": {
      "text/plain": [
       "<function __main__.xx()>"
      ]
     },
     "execution_count": 55,
     "metadata": {},
     "output_type": "execute_result"
    }
   ],
   "source": [
    "xx"
   ]
  },
  {
   "cell_type": "code",
   "execution_count": 56,
   "metadata": {},
   "outputs": [
    {
     "name": "stdout",
     "output_type": "stream",
     "text": [
      "ttt\n"
     ]
    }
   ],
   "source": [
    "xx()"
   ]
  },
  {
   "cell_type": "code",
   "execution_count": 57,
   "metadata": {},
   "outputs": [],
   "source": [
    "@x\n",
    "def xx():\n",
    "    print('ttt') # function overload를 지원하지 않기 때문에, 즉, python은 signiture를 다 보지 않고, name만 확인한다는 말이다."
   ]
  },
  {
   "cell_type": "code",
   "execution_count": 58,
   "metadata": {},
   "outputs": [
    {
     "data": {
      "text/plain": [
       "<function __main__.x.<locals>.y(*x, **kw)>"
      ]
     },
     "execution_count": 58,
     "metadata": {},
     "output_type": "execute_result"
    }
   ],
   "source": [
    "xx"
   ]
  },
  {
   "cell_type": "code",
   "execution_count": 59,
   "metadata": {},
   "outputs": [
    {
     "name": "stdout",
     "output_type": "stream",
     "text": [
      "yyyyy\n",
      "ttt\n"
     ]
    }
   ],
   "source": [
    "xx()"
   ]
  },
  {
   "cell_type": "code",
   "execution_count": 68,
   "metadata": {},
   "outputs": [],
   "source": [
    "@x\n",
    "def yy(x):\n",
    "    print(x)"
   ]
  },
  {
   "cell_type": "code",
   "execution_count": 69,
   "metadata": {},
   "outputs": [
    {
     "name": "stdout",
     "output_type": "stream",
     "text": [
      "yyyyy\n",
      "3\n"
     ]
    }
   ],
   "source": [
    "yy(3) # 가변 포지셔널 "
   ]
  },
  {
   "cell_type": "code",
   "execution_count": 70,
   "metadata": {},
   "outputs": [
    {
     "data": {
      "text/plain": [
       "<function __main__.x.<locals>.y(*x, **kw)>"
      ]
     },
     "execution_count": 70,
     "metadata": {},
     "output_type": "execute_result"
    }
   ],
   "source": [
    "yy"
   ]
  },
  {
   "attachments": {},
   "cell_type": "markdown",
   "metadata": {},
   "source": [
    "### 데코레이터의 두가지 패턴 \n",
    "1. \n",
    "2. "
   ]
  },
  {
   "cell_type": "code",
   "execution_count": 71,
   "metadata": {},
   "outputs": [],
   "source": [
    "from functools import wraps"
   ]
  },
  {
   "cell_type": "code",
   "execution_count": 75,
   "metadata": {},
   "outputs": [],
   "source": [
    "def yy(fun):\n",
    "    @wraps(fun) # 사용자에게 이름으로 인한 혼돈을 주지 않기 위해. # 경고메시지 데코레이터.\n",
    "    def y(*x, **kw):\n",
    "        print('yyyyy')\n",
    "        fun(*x, **kw)\n",
    "    return y"
   ]
  },
  {
   "cell_type": "code",
   "execution_count": 76,
   "metadata": {},
   "outputs": [
    {
     "data": {
      "text/plain": [
       "<function __main__.yy(fun)>"
      ]
     },
     "execution_count": 76,
     "metadata": {},
     "output_type": "execute_result"
    }
   ],
   "source": [
    "yy "
   ]
  },
  {
   "cell_type": "code",
   "execution_count": 78,
   "metadata": {},
   "outputs": [],
   "source": [
    "# tensorflow -> 데코레이터에 괄호가 붙으면 \n",
    "# Decorator with Parameter : \n",
    "\n",
    "def n(nn):\n",
    "    def x(fun):\n",
    "        @wraps(fun)\n",
    "        def y(*args, **kwargs):\n",
    "            print(n)\n",
    "            return fun(*args, **kwargs)\n",
    "        return y\n",
    "    return x "
   ]
  },
  {
   "cell_type": "code",
   "execution_count": 82,
   "metadata": {},
   "outputs": [],
   "source": [
    "@n(3)\n",
    "def x(a):\n",
    "    return a"
   ]
  },
  {
   "cell_type": "code",
   "execution_count": 81,
   "metadata": {},
   "outputs": [
    {
     "name": "stdout",
     "output_type": "stream",
     "text": [
      "<function n at 0x10b50a430>\n"
     ]
    },
    {
     "ename": "TypeError",
     "evalue": "'int' object is not callable",
     "output_type": "error",
     "traceback": [
      "\u001b[0;31m---------------------------------------------------------------------------\u001b[0m",
      "\u001b[0;31mTypeError\u001b[0m                                 Traceback (most recent call last)",
      "Cell \u001b[0;32mIn[81], line 1\u001b[0m\n\u001b[0;32m----> 1\u001b[0m x(\u001b[39m3\u001b[39;49m)()\n",
      "Cell \u001b[0;32mIn[78], line 9\u001b[0m, in \u001b[0;36mn.<locals>.x.<locals>.y\u001b[0;34m(*args, **kwargs)\u001b[0m\n\u001b[1;32m      6\u001b[0m \u001b[39m@wraps\u001b[39m(fun)\n\u001b[1;32m      7\u001b[0m \u001b[39mdef\u001b[39;00m \u001b[39my\u001b[39m(\u001b[39m*\u001b[39margs, \u001b[39m*\u001b[39m\u001b[39m*\u001b[39mkwargs):\n\u001b[1;32m      8\u001b[0m     \u001b[39mprint\u001b[39m(n)\n\u001b[0;32m----> 9\u001b[0m     \u001b[39mreturn\u001b[39;00m fun(\u001b[39m*\u001b[39;49margs, \u001b[39m*\u001b[39;49m\u001b[39m*\u001b[39;49mkwargs)\n",
      "\u001b[0;31mTypeError\u001b[0m: 'int' object is not callable"
     ]
    }
   ],
   "source": [
    "x(3)"
   ]
  },
  {
   "cell_type": "code",
   "execution_count": 83,
   "metadata": {},
   "outputs": [
    {
     "name": "stdout",
     "output_type": "stream",
     "text": [
      "<function n at 0x10b50a430>\n"
     ]
    },
    {
     "data": {
      "text/plain": [
       "3"
      ]
     },
     "execution_count": 83,
     "metadata": {},
     "output_type": "execute_result"
    }
   ],
   "source": [
    "x(3)"
   ]
  },
  {
   "cell_type": "code",
   "execution_count": 84,
   "metadata": {},
   "outputs": [],
   "source": [
    "def decorator1(fn):\n",
    "    print(\"decorator1\") #decorator에 함수를 집어넣게 되고, 이러한 형태가 가장 먼저 실행되기 때문에.\n",
    "    def inner1(*args, **kwargs):\n",
    "        print(\"inner1\")\n",
    "        return fn(*args, **kwargs)\n",
    "    return inner1\n",
    "\n",
    "def decorator2(fn):\n",
    "    print(\"decorator2\")\n",
    "    def inner2(*args, **kwargs):\n",
    "        print(\"inner2\")\n",
    "        return fn(*args, **kwargs)\n",
    "    return inner2 "
   ]
  },
  {
   "cell_type": "code",
   "execution_count": 85,
   "metadata": {},
   "outputs": [
    {
     "name": "stdout",
     "output_type": "stream",
     "text": [
      "decorator1\n"
     ]
    }
   ],
   "source": [
    "@decorator1\n",
    "def xx():\n",
    "    print('a')"
   ]
  },
  {
   "cell_type": "code",
   "execution_count": 87,
   "metadata": {},
   "outputs": [
    {
     "name": "stdout",
     "output_type": "stream",
     "text": [
      "inner1\n",
      "a\n"
     ]
    }
   ],
   "source": [
    "xx() # 동적 패턴"
   ]
  },
  {
   "cell_type": "code",
   "execution_count": 88,
   "metadata": {},
   "outputs": [
    {
     "name": "stdout",
     "output_type": "stream",
     "text": [
      "decorator2\n",
      "decorator1\n"
     ]
    }
   ],
   "source": [
    "@decorator1\n",
    "@decorator2 \n",
    "def xx():\n",
    "    print('a')"
   ]
  },
  {
   "cell_type": "code",
   "execution_count": 90,
   "metadata": {},
   "outputs": [
    {
     "name": "stdout",
     "output_type": "stream",
     "text": [
      "inner1\n",
      "inner2\n",
      "a\n"
     ]
    }
   ],
   "source": [
    "xx() # 감싸진 순서가 출력 순서의 차이를 만든다. (만들 떄와 생성할 때의 순서가 다르다.)"
   ]
  },
  {
   "cell_type": "code",
   "execution_count": null,
   "metadata": {},
   "outputs": [],
   "source": [
    "# dataclasses : 클래스의 데코레이터."
   ]
  }
 ],
 "metadata": {
  "kernelspec": {
   "display_name": "pytorch",
   "language": "python",
   "name": "python3"
  },
  "language_info": {
   "codemirror_mode": {
    "name": "ipython",
    "version": 3
   },
   "file_extension": ".py",
   "mimetype": "text/x-python",
   "name": "python",
   "nbconvert_exporter": "python",
   "pygments_lexer": "ipython3",
   "version": "3.8.16"
  },
  "orig_nbformat": 4
 },
 "nbformat": 4,
 "nbformat_minor": 2
}
