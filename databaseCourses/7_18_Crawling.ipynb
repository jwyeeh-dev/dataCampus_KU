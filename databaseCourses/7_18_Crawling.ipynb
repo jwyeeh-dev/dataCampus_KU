{
 "cells": [
  {
   "cell_type": "markdown",
   "metadata": {},
   "source": [
    "Session (Cookie) -> 인증된 사용자 정보 -> 서버 안쪽 데이터\n",
    "- [Name : Value] ; domain/path/expired ...\n",
    "- Cookie -> Client Browser (temporal path ; webdb ...)\n",
    "-> requests.request*(get,post,...) **cookies = {k:v}\n",
    "    cookie jar object <= cookie_jar_from_dict\n",
    "    cookie 매번 관리 (set-cookie)\n",
    "-> Session().request* (get,post,...)\n",
    "    request vs. session.request ; cookie 관리 주체\n",
    "-> Browser Cookie => Cookie dict, jar"
   ]
  },
  {
   "cell_type": "code",
   "execution_count": null,
   "metadata": {},
   "outputs": [],
   "source": [
    "from requests import request\n",
    "from requests.compat import *\n",
    "from bs4 import BeautifulSoup\n",
    "\n",
    "headers = {\n",
    "    'user-agent' : 'Mozilla/5.0 (Macintosh; Intel Mac OS X 10_15_7) AppleWebKit/537.36 (KHTML, like Gecko) Chrome/114.0.0.0 Safari/537.36'\n",
    "}"
   ]
  }
 ],
 "metadata": {
  "kernelspec": {
   "display_name": "pytorch",
   "language": "python",
   "name": "python3"
  },
  "language_info": {
   "name": "python",
   "version": "3.8.16"
  },
  "orig_nbformat": 4
 },
 "nbformat": 4,
 "nbformat_minor": 2
}
