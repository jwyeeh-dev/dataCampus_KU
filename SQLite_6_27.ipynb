{
 "cells": [
  {
   "cell_type": "code",
   "execution_count": 3,
   "metadata": {},
   "outputs": [],
   "source": [
    "import sqlite3"
   ]
  },
  {
   "attachments": {},
   "cell_type": "markdown",
   "metadata": {},
   "source": [
    "### User -> DBMS -> Database\n",
    "\n",
    "    Connection : DBMS 접속\n",
    "    Cursor : 작업을 하도록 하는 매개체\n",
    "\n",
    "[과정]\n",
    "1. Connetion -> 2. Cursor"
   ]
  },
  {
   "cell_type": "code",
   "execution_count": 5,
   "metadata": {},
   "outputs": [],
   "source": [
    "con = sqlite3.connect(':memory:')"
   ]
  },
  {
   "cell_type": "code",
   "execution_count": 6,
   "metadata": {},
   "outputs": [
    {
     "data": {
      "text/plain": [
       "(sqlite3.Connection,\n",
       " ['DataError',\n",
       "  'DatabaseError',\n",
       "  'Error',\n",
       "  'IntegrityError',\n",
       "  'InterfaceError',\n",
       "  'InternalError',\n",
       "  'NotSupportedError',\n",
       "  'OperationalError',\n",
       "  'ProgrammingError',\n",
       "  'Warning',\n",
       "  '__call__',\n",
       "  '__class__',\n",
       "  '__delattr__',\n",
       "  '__dir__',\n",
       "  '__doc__',\n",
       "  '__enter__',\n",
       "  '__eq__',\n",
       "  '__exit__',\n",
       "  '__format__',\n",
       "  '__ge__',\n",
       "  '__getattribute__',\n",
       "  '__gt__',\n",
       "  '__hash__',\n",
       "  '__init__',\n",
       "  '__init_subclass__',\n",
       "  '__le__',\n",
       "  '__lt__',\n",
       "  '__ne__',\n",
       "  '__new__',\n",
       "  '__reduce__',\n",
       "  '__reduce_ex__',\n",
       "  '__repr__',\n",
       "  '__setattr__',\n",
       "  '__sizeof__',\n",
       "  '__str__',\n",
       "  '__subclasshook__',\n",
       "  'backup',\n",
       "  'close',\n",
       "  'commit',\n",
       "  'create_aggregate',\n",
       "  'create_collation',\n",
       "  'create_function',\n",
       "  'cursor',\n",
       "  'enable_load_extension',\n",
       "  'execute',\n",
       "  'executemany',\n",
       "  'executescript',\n",
       "  'in_transaction',\n",
       "  'interrupt',\n",
       "  'isolation_level',\n",
       "  'iterdump',\n",
       "  'load_extension',\n",
       "  'rollback',\n",
       "  'row_factory',\n",
       "  'set_authorizer',\n",
       "  'set_progress_handler',\n",
       "  'set_trace_callback',\n",
       "  'text_factory',\n",
       "  'total_changes'])"
      ]
     },
     "execution_count": 6,
     "metadata": {},
     "output_type": "execute_result"
    }
   ],
   "source": [
    "type(con), dir(con)"
   ]
  },
  {
   "cell_type": "code",
   "execution_count": 7,
   "metadata": {},
   "outputs": [],
   "source": [
    "cur = con.cursor()"
   ]
  },
  {
   "cell_type": "code",
   "execution_count": 8,
   "metadata": {},
   "outputs": [
    {
     "data": {
      "text/plain": [
       "(sqlite3.Connection, sqlite3.Cursor)"
      ]
     },
     "execution_count": 8,
     "metadata": {},
     "output_type": "execute_result"
    }
   ],
   "source": [
    "type(con), type(cur)"
   ]
  },
  {
   "cell_type": "code",
   "execution_count": 10,
   "metadata": {},
   "outputs": [
    {
     "data": {
      "text/plain": [
       "builtin_function_or_method"
      ]
     },
     "execution_count": 10,
     "metadata": {},
     "output_type": "execute_result"
    }
   ],
   "source": [
    "type(con.cursor)\n",
    "# 임시 커서 객체로도 할 수는 있으나 안정성을 위해 객체를 따로 만들어주는 것이 도움됨."
   ]
  },
  {
   "cell_type": "code",
   "execution_count": 13,
   "metadata": {},
   "outputs": [
    {
     "data": {
      "text/plain": [
       "['__class__',\n",
       " '__delattr__',\n",
       " '__dir__',\n",
       " '__doc__',\n",
       " '__eq__',\n",
       " '__format__',\n",
       " '__ge__',\n",
       " '__getattribute__',\n",
       " '__gt__',\n",
       " '__hash__',\n",
       " '__init__',\n",
       " '__init_subclass__',\n",
       " '__iter__',\n",
       " '__le__',\n",
       " '__lt__',\n",
       " '__ne__',\n",
       " '__new__',\n",
       " '__next__',\n",
       " '__reduce__',\n",
       " '__reduce_ex__',\n",
       " '__repr__',\n",
       " '__setattr__',\n",
       " '__sizeof__',\n",
       " '__str__',\n",
       " '__subclasshook__',\n",
       " 'arraysize',\n",
       " 'close',\n",
       " 'connection',\n",
       " 'description',\n",
       " 'execute',\n",
       " 'executemany',\n",
       " 'executescript',\n",
       " 'fetchall',\n",
       " 'fetchmany',\n",
       " 'fetchone',\n",
       " 'lastrowid',\n",
       " 'row_factory',\n",
       " 'rowcount',\n",
       " 'setinputsizes',\n",
       " 'setoutputsize']"
      ]
     },
     "execution_count": 13,
     "metadata": {},
     "output_type": "execute_result"
    }
   ],
   "source": [
    "dir(cur)\n",
    "# 자주 사용할 명령문.\n",
    "# 'execute',\n",
    "# 'executemany',\n",
    "# 'executescript',\n",
    "# 'fetchall',\n",
    "# 'fetchmany',\n",
    "# 'fetchone',"
   ]
  },
  {
   "cell_type": "code",
   "execution_count": null,
   "metadata": {},
   "outputs": [],
   "source": [
    "# DB 종료를 꼭 해주고, 다시 실행해야 한다. 무결성 유지 목적.\n",
    "# 하나의 파일로 접근하므로 다른 접근 lock 걸 수 있다.\n",
    "con.close()"
   ]
  },
  {
   "cell_type": "code",
   "execution_count": null,
   "metadata": {},
   "outputs": [],
   "source": [
    "cur.execute(),\n",
    "# 하나씩 줄을 수행\n",
    "cur.executemany(),\n",
    "# 여러개 줄을 실행\n",
    "cur.executescript()\n",
    "# 한번에 줄을 멀티 실행. rollback 하는 법 알아야함."
   ]
  },
  {
   "cell_type": "code",
   "execution_count": 15,
   "metadata": {},
   "outputs": [
    {
     "data": {
      "text/plain": [
       "<sqlite3.Cursor at 0x11083a810>"
      ]
     },
     "execution_count": 15,
     "metadata": {},
     "output_type": "execute_result"
    }
   ],
   "source": [
    "cur.execute('CREATE TABLE CITY(CNO INTEGER PRIMARY KEY, CNAME TEXT);')"
   ]
  },
  {
   "attachments": {},
   "cell_type": "markdown",
   "metadata": {},
   "source": [
    "### Client DBMS  DB\n",
    "execute --> 해석 <-----> </br>      \n",
    "    cur ---> None, [결과 여러개] : 커서의 위치 안내\n"
   ]
  },
  {
   "cell_type": "code",
   "execution_count": 16,
   "metadata": {},
   "outputs": [
    {
     "data": {
      "text/plain": [
       "<sqlite3.Cursor at 0x11083a810>"
      ]
     },
     "execution_count": 16,
     "metadata": {},
     "output_type": "execute_result"
    }
   ],
   "source": [
    "cur.execute('SELECT * FROM CITY')"
   ]
  },
  {
   "cell_type": "code",
   "execution_count": 20,
   "metadata": {},
   "outputs": [
    {
     "data": {
      "text/plain": [
       "<sqlite3.Cursor at 0x11083a810>"
      ]
     },
     "execution_count": 20,
     "metadata": {},
     "output_type": "execute_result"
    }
   ],
   "source": [
    "cur.execute('''INSERT INTO CITY(CNO, CNAME) VALUES(1,'성북구')''')"
   ]
  },
  {
   "cell_type": "code",
   "execution_count": 21,
   "metadata": {},
   "outputs": [
    {
     "data": {
      "text/plain": [
       "<sqlite3.Cursor at 0x11083a810>"
      ]
     },
     "execution_count": 21,
     "metadata": {},
     "output_type": "execute_result"
    }
   ],
   "source": [
    "cur.execute('SELECT * FROM CITY')"
   ]
  },
  {
   "cell_type": "code",
   "execution_count": 22,
   "metadata": {},
   "outputs": [
    {
     "data": {
      "text/plain": [
       "[(1, '성북구')]"
      ]
     },
     "execution_count": 22,
     "metadata": {},
     "output_type": "execute_result"
    }
   ],
   "source": [
    "cur.fetchall()"
   ]
  },
  {
   "cell_type": "code",
   "execution_count": 23,
   "metadata": {},
   "outputs": [
    {
     "data": {
      "text/plain": [
       "<sqlite3.Cursor at 0x11083a810>"
      ]
     },
     "execution_count": 23,
     "metadata": {},
     "output_type": "execute_result"
    }
   ],
   "source": [
    "cur.execute('''INSERT INTO CITY(CNO, CNAME) VALUES(NULL,'강북구')''')"
   ]
  },
  {
   "cell_type": "code",
   "execution_count": 24,
   "metadata": {},
   "outputs": [
    {
     "data": {
      "text/plain": [
       "<sqlite3.Cursor at 0x11083a810>"
      ]
     },
     "execution_count": 24,
     "metadata": {},
     "output_type": "execute_result"
    }
   ],
   "source": [
    "cur.execute('SELECT * FROM CITY')"
   ]
  },
  {
   "cell_type": "code",
   "execution_count": 25,
   "metadata": {},
   "outputs": [
    {
     "data": {
      "text/plain": [
       "[(1, '성북구'), (2, '강북구')]"
      ]
     },
     "execution_count": 25,
     "metadata": {},
     "output_type": "execute_result"
    }
   ],
   "source": [
    "cur.fetchall()"
   ]
  },
  {
   "cell_type": "code",
   "execution_count": 26,
   "metadata": {},
   "outputs": [],
   "source": [
    "# 즉, primary key 일 때, auto increment, unique, not null 등등 다 해준다.\n",
    "# 하지만 다른 Column일 때, Not null 이외 다른 것 안넣으면 Error"
   ]
  },
  {
   "cell_type": "code",
   "execution_count": 27,
   "metadata": {},
   "outputs": [
    {
     "data": {
      "text/plain": [
       "<sqlite3.Cursor at 0x11083a810>"
      ]
     },
     "execution_count": 27,
     "metadata": {},
     "output_type": "execute_result"
    }
   ],
   "source": [
    "cur.execute('''INSERT INTO CITY(CNAME) VALUES('성동구')''')\n",
    "cur.execute('''INSERT INTO CITY VALUES(NULL, '동대문구')''')"
   ]
  },
  {
   "cell_type": "code",
   "execution_count": 28,
   "metadata": {},
   "outputs": [
    {
     "data": {
      "text/plain": [
       "[(1, '성북구'), (2, '강북구'), (3, '성동구'), (4, '동대문구')]"
      ]
     },
     "execution_count": 28,
     "metadata": {},
     "output_type": "execute_result"
    }
   ],
   "source": [
    "cur.execute('SELECT * FROM CITY')\n",
    "cur.fetchall()"
   ]
  },
  {
   "cell_type": "code",
   "execution_count": 29,
   "metadata": {},
   "outputs": [],
   "source": [
    "# PK 리턴하도록 하는 사이트는 보안적 문제."
   ]
  },
  {
   "cell_type": "code",
   "execution_count": 31,
   "metadata": {},
   "outputs": [
    {
     "data": {
      "text/plain": [
       "4"
      ]
     },
     "execution_count": 31,
     "metadata": {},
     "output_type": "execute_result"
    }
   ],
   "source": [
    "cur.lastrowid"
   ]
  },
  {
   "cell_type": "code",
   "execution_count": 34,
   "metadata": {},
   "outputs": [
    {
     "name": "stdout",
     "output_type": "stream",
     "text": [
      "already Have 성북구 4\n",
      "already Have 강북구 4\n",
      "already Have 동대문구 4\n",
      "new 중구 5\n",
      "new 도봉구 6\n"
     ]
    }
   ],
   "source": [
    "cityList = ['성북구', '강북구', '동대문구', '중구', '도봉구']\n",
    "cur.execute('''SELECT CNO FROM CITY WHERE CNAME=?''', [cityList[0], ])\n",
    "#quemark 스타일 -> param이 iterable한 형태로 와야 오류가 나지 않는다.\n",
    "\n",
    "for cname in cityList:\n",
    "    cur.execute('''SELECT CNO FROM CITY WHERE CNAME=?''', [cname,])\n",
    "    \n",
    "    if len(cur.fetchall()) == 0:\n",
    "        cur.execute('''INSERT INTO CITY VALUES(NULL, :cname)''', {'cname':cityList[0]})\n",
    "        print('new', cname, cur.lastrowid)\n",
    "    else:\n",
    "        print('already Have', cname, cur.lastrowid)"
   ]
  },
  {
   "cell_type": "code",
   "execution_count": 35,
   "metadata": {},
   "outputs": [
    {
     "data": {
      "text/plain": [
       "(0, [])"
      ]
     },
     "execution_count": 35,
     "metadata": {},
     "output_type": "execute_result"
    }
   ],
   "source": [
    "len(cur.fetchall()), cur.fetchall()"
   ]
  },
  {
   "cell_type": "code",
   "execution_count": 40,
   "metadata": {},
   "outputs": [],
   "source": [
    "con.close()"
   ]
  },
  {
   "cell_type": "code",
   "execution_count": 41,
   "metadata": {},
   "outputs": [],
   "source": [
    "con = sqlite3.connect(':memory:')\n",
    "cur = con.cursor()"
   ]
  },
  {
   "cell_type": "code",
   "execution_count": 42,
   "metadata": {},
   "outputs": [
    {
     "data": {
      "text/plain": [
       "<sqlite3.Cursor at 0x107d09b90>"
      ]
     },
     "execution_count": 42,
     "metadata": {},
     "output_type": "execute_result"
    }
   ],
   "source": [
    "cur.execute('CREATE TABLE CITY(CNO INTEGER PRIMARY KEY, CNAME TEXT);')"
   ]
  },
  {
   "cell_type": "code",
   "execution_count": 43,
   "metadata": {},
   "outputs": [
    {
     "data": {
      "text/plain": [
       "<sqlite3.Cursor at 0x107d09b90>"
      ]
     },
     "execution_count": 43,
     "metadata": {},
     "output_type": "execute_result"
    }
   ],
   "source": [
    "\n",
    "cur.execute('''INSERT INTO CITY(CNO, CNAME) VALUES(1,'성북구')''')\n",
    "cur.execute('''INSERT INTO CITY(CNAME) VALUES('강북구')''')\n",
    "cur.execute('''INSERT INTO CITY VALUES(NULL, '강동구')''')"
   ]
  },
  {
   "cell_type": "code",
   "execution_count": 44,
   "metadata": {},
   "outputs": [
    {
     "data": {
      "text/plain": [
       "3"
      ]
     },
     "execution_count": 44,
     "metadata": {},
     "output_type": "execute_result"
    }
   ],
   "source": [
    "cur.lastrowid"
   ]
  },
  {
   "cell_type": "code",
   "execution_count": 47,
   "metadata": {},
   "outputs": [
    {
     "data": {
      "text/plain": [
       "<sqlite3.Cursor at 0x107d09b90>"
      ]
     },
     "execution_count": 47,
     "metadata": {},
     "output_type": "execute_result"
    }
   ],
   "source": [
    "# qmark\n",
    "# SQL(?), Python(iterable 객체)\n",
    "\n",
    "cur.execute('''INSERT INTO CITY(CNAME) VALUES(?)''', ('동대문구',))"
   ]
  },
  {
   "cell_type": "code",
   "execution_count": 48,
   "metadata": {},
   "outputs": [
    {
     "data": {
      "text/plain": [
       "4"
      ]
     },
     "execution_count": 48,
     "metadata": {},
     "output_type": "execute_result"
    }
   ],
   "source": [
    "cur.lastrowid"
   ]
  },
  {
   "cell_type": "code",
   "execution_count": 49,
   "metadata": {},
   "outputs": [
    {
     "data": {
      "text/plain": [
       "<sqlite3.Cursor at 0x107d09b90>"
      ]
     },
     "execution_count": 49,
     "metadata": {},
     "output_type": "execute_result"
    }
   ],
   "source": [
    "# named style\n",
    "# SQL(:key), Python(dict 객체)\n",
    "cur.execute('''INSERT INTO CITY(CNAME) VALUES(:key)''', {'key':'중랑구'})"
   ]
  },
  {
   "attachments": {},
   "cell_type": "markdown",
   "metadata": {},
   "source": [
    "## 전체적으로 정리하자면, 파이썬에서 SQL 접근을 할 수 있는 방법은 아래와 같습니다.\n"
   ]
  },
  {
   "cell_type": "code",
   "execution_count": 56,
   "metadata": {},
   "outputs": [],
   "source": [
    "con.close()"
   ]
  },
  {
   "cell_type": "code",
   "execution_count": 57,
   "metadata": {},
   "outputs": [],
   "source": [
    "con = sqlite3.connect(':memory:')"
   ]
  },
  {
   "cell_type": "code",
   "execution_count": 58,
   "metadata": {},
   "outputs": [],
   "source": [
    "cur = con.cursor()"
   ]
  },
  {
   "cell_type": "code",
   "execution_count": 59,
   "metadata": {},
   "outputs": [
    {
     "data": {
      "text/plain": [
       "<sqlite3.Cursor at 0x1108fd490>"
      ]
     },
     "execution_count": 59,
     "metadata": {},
     "output_type": "execute_result"
    }
   ],
   "source": [
    "cur.execute(\n",
    "    '''\n",
    "    CREATE TABLE CITY(\n",
    "        CNO INTEGER PRIMARY KEY, CNAME TEXT\n",
    "    )\n",
    "    '''\n",
    ")"
   ]
  },
  {
   "cell_type": "code",
   "execution_count": 66,
   "metadata": {},
   "outputs": [
    {
     "data": {
      "text/plain": [
       "<sqlite3.Cursor at 0x1108fd490>"
      ]
     },
     "execution_count": 66,
     "metadata": {},
     "output_type": "execute_result"
    }
   ],
   "source": [
    "cur.executemany('''\n",
    "INSERT INTO CITY(CNAME) VALUES(?)\n",
    "''', [('성북구1',),('성북구2',),('성북구3',),('성북구4',)])"
   ]
  },
  {
   "cell_type": "code",
   "execution_count": null,
   "metadata": {},
   "outputs": [],
   "source": [
    "# execute ----> \n",
    "#"
   ]
  },
  {
   "cell_type": "code",
   "execution_count": 61,
   "metadata": {},
   "outputs": [
    {
     "data": {
      "text/plain": [
       "<sqlite3.Cursor at 0x1108fd490>"
      ]
     },
     "execution_count": 61,
     "metadata": {},
     "output_type": "execute_result"
    }
   ],
   "source": [
    "cur.execute('SELECT * FROM CITY')"
   ]
  },
  {
   "cell_type": "code",
   "execution_count": 62,
   "metadata": {},
   "outputs": [
    {
     "data": {
      "text/plain": [
       "[(1, '성북구1'), (2, '성북구2'), (3, '성북구3'), (4, '성북구4')]"
      ]
     },
     "execution_count": 62,
     "metadata": {},
     "output_type": "execute_result"
    }
   ],
   "source": [
    "cur.fetchall()"
   ]
  },
  {
   "cell_type": "code",
   "execution_count": 69,
   "metadata": {},
   "outputs": [
    {
     "ename": "ProgrammingError",
     "evalue": "Incorrect number of bindings supplied. The current statement uses 1, and there are 4 supplied.",
     "output_type": "error",
     "traceback": [
      "\u001b[0;31m---------------------------------------------------------------------------\u001b[0m",
      "\u001b[0;31mProgrammingError\u001b[0m                          Traceback (most recent call last)",
      "Cell \u001b[0;32mIn[69], line 1\u001b[0m\n\u001b[0;32m----> 1\u001b[0m cur\u001b[39m.\u001b[39;49mexecutemany(\u001b[39m'''\u001b[39;49m\n\u001b[1;32m      2\u001b[0m \u001b[39mINSERT INTO CITY(CNAME) VALUES(?)\u001b[39;49m\n\u001b[1;32m      3\u001b[0m \u001b[39m'''\u001b[39;49m, (\u001b[39m'\u001b[39;49m\u001b[39m성북구5\u001b[39;49m\u001b[39m'\u001b[39;49m,))\n\u001b[1;32m      4\u001b[0m \u001b[39m# ? -> qmark의 개수대로 바인딩하지 못하니 오류.\u001b[39;00m\n",
      "\u001b[0;31mProgrammingError\u001b[0m: Incorrect number of bindings supplied. The current statement uses 1, and there are 4 supplied."
     ]
    }
   ],
   "source": [
    "cur.executemany('''\n",
    "INSERT INTO CITY(CNAME) VALUES(?)\n",
    "''', ('성북구5',))\n",
    "# ? -> qmark의 개수대로 바인딩하지 못하니 오류."
   ]
  },
  {
   "cell_type": "code",
   "execution_count": 70,
   "metadata": {},
   "outputs": [
    {
     "data": {
      "text/plain": [
       "<sqlite3.Cursor at 0x1108fd490>"
      ]
     },
     "execution_count": 70,
     "metadata": {},
     "output_type": "execute_result"
    }
   ],
   "source": [
    "cur.executescript('''\n",
    "    INSERT INTO CITY(CNAME) VALUES('성북구5'); \n",
    "    INSERT INTO CITY(CNAME) VALUES('성북구6'); \n",
    "    INSERT INTO CITY(CNAME) VALUES('성북구7');\n",
    "    INSERT INTO CITY(CNAME) VALUES('성북구8');\n",
    "''')\n",
    "# 테이블 여러개 만들때 사용 -> 프로시저 관심있게, DB 인젝션 방어 목적."
   ]
  },
  {
   "cell_type": "code",
   "execution_count": 71,
   "metadata": {},
   "outputs": [
    {
     "data": {
      "text/plain": [
       "[(1, '성북구1'),\n",
       " (2, '성북구2'),\n",
       " (3, '성북구3'),\n",
       " (4, '성북구4'),\n",
       " (5, '성북구5'),\n",
       " (6, '성북구1'),\n",
       " (7, '성북구2'),\n",
       " (8, '성북구3'),\n",
       " (9, '성북구4'),\n",
       " (10, '성북구5'),\n",
       " (11, '성북구6'),\n",
       " (12, '성북구7'),\n",
       " (13, '성북구8')]"
      ]
     },
     "execution_count": 71,
     "metadata": {},
     "output_type": "execute_result"
    }
   ],
   "source": [
    "cur.execute('SELECT * FROM CITY')\n",
    "cur.fetchall()"
   ]
  },
  {
   "attachments": {},
   "cell_type": "markdown",
   "metadata": {},
   "source": [
    "### SQL문 DBMS 활용하는 법 with PYTHON 객체\n",
    "#### Python - (execute*) => DBMS -> DB\n",
    "1. execute ; 단일 SQL 실행 (DBMS -> DB) ; Qmark, Named 파라미터 (Python) -> 단일 데이터에 대한 Attributes\n",
    "2. executemany ; 단일 SQL 여러번 실행 -> 여러 데이터에 대한\n",
    "3. executescript ; 비표준, 여러 SQL 실행; Statement의 끝에는 항상 semicolon(;)으로!"
   ]
  },
  {
   "attachments": {},
   "cell_type": "markdown",
   "metadata": {},
   "source": [
    "### SQL문을 해석한 결과를 DBMS에서 가져오는 법\n",
    "#### Python - (execute*) => DBMS -> DB\n",
    "####                       (데이터)\n",
    "#### (저장)     (fetch*)  <= 가져오는 과정\n",
    "\n",
    "fetchone -> 1개 </br>\n",
    "fetchmany -> N개 </br>\n",
    "fetchall -> 전체 데이터 </br>\n",
    "</br>\n",
    "-> 더이상 데이터가 없을 때까지 fetch"
   ]
  },
  {
   "cell_type": "code",
   "execution_count": 72,
   "metadata": {},
   "outputs": [
    {
     "data": {
      "text/plain": [
       "<sqlite3.Cursor at 0x1108fd490>"
      ]
     },
     "execution_count": 72,
     "metadata": {},
     "output_type": "execute_result"
    }
   ],
   "source": [
    "cur.execute('SELECT * FROM CITY')"
   ]
  },
  {
   "cell_type": "code",
   "execution_count": 73,
   "metadata": {},
   "outputs": [
    {
     "data": {
      "text/plain": [
       "(1, '성북구1')"
      ]
     },
     "execution_count": 73,
     "metadata": {},
     "output_type": "execute_result"
    }
   ],
   "source": [
    "cur.fetchone()"
   ]
  },
  {
   "cell_type": "code",
   "execution_count": 74,
   "metadata": {},
   "outputs": [
    {
     "data": {
      "text/plain": [
       "[(2, '성북구2'), (3, '성북구3'), (4, '성북구4')]"
      ]
     },
     "execution_count": 74,
     "metadata": {},
     "output_type": "execute_result"
    }
   ],
   "source": [
    "cur.fetchmany(3)"
   ]
  },
  {
   "cell_type": "code",
   "execution_count": 75,
   "metadata": {},
   "outputs": [
    {
     "data": {
      "text/plain": [
       "[(5, '성북구5'),\n",
       " (6, '성북구1'),\n",
       " (7, '성북구2'),\n",
       " (8, '성북구3'),\n",
       " (9, '성북구4'),\n",
       " (10, '성북구5'),\n",
       " (11, '성북구6'),\n",
       " (12, '성북구7'),\n",
       " (13, '성북구8')]"
      ]
     },
     "execution_count": 75,
     "metadata": {},
     "output_type": "execute_result"
    }
   ],
   "source": [
    "cur.fetchall()"
   ]
  },
  {
   "cell_type": "code",
   "execution_count": 76,
   "metadata": {},
   "outputs": [],
   "source": [
    "con.close()"
   ]
  },
  {
   "cell_type": "code",
   "execution_count": 77,
   "metadata": {},
   "outputs": [],
   "source": [
    "con = sqlite3.connect('fnb.db')"
   ]
  },
  {
   "cell_type": "code",
   "execution_count": 78,
   "metadata": {},
   "outputs": [],
   "source": [
    "cur = con.cursor()"
   ]
  },
  {
   "cell_type": "code",
   "execution_count": 103,
   "metadata": {},
   "outputs": [],
   "source": [
    "con.close()"
   ]
  },
  {
   "cell_type": "code",
   "execution_count": 80,
   "metadata": {},
   "outputs": [
    {
     "name": "stdout",
     "output_type": "stream",
     "text": [
      " file.ipynb      fnb.db           june_twsev.ipynb june_twsix.ipynb\n"
     ]
    }
   ],
   "source": [
    "!ls"
   ]
  },
  {
   "cell_type": "code",
   "execution_count": 104,
   "metadata": {},
   "outputs": [],
   "source": [
    "con = sqlite3.connect('fnb.db')"
   ]
  },
  {
   "cell_type": "code",
   "execution_count": 105,
   "metadata": {},
   "outputs": [],
   "source": [
    "cur = con.cursor()"
   ]
  },
  {
   "cell_type": "code",
   "execution_count": 83,
   "metadata": {},
   "outputs": [
    {
     "data": {
      "text/plain": [
       "<sqlite3.Cursor at 0x1080b4260>"
      ]
     },
     "execution_count": 83,
     "metadata": {},
     "output_type": "execute_result"
    }
   ],
   "source": [
    "cur.executescript('''\n",
    "\n",
    "CREATE TABLE CITY(\n",
    "    CNO INTEGER PRIMARY KEY,\n",
    "    CNAME KEY\n",
    ");\n",
    "\n",
    "CREATE TABLE SUPPLIER(\n",
    "    SNO INTEGER PRIMARY KEY,\n",
    "    SNAME TEXT,\n",
    "    CNO INTEGER NOT NULL\n",
    ");\n",
    "\n",
    "CREATE TABLE PART(\n",
    "    PNO INTEGER PRIMARY KEY,\n",
    "    PMAKE TEXT\n",
    ");\n",
    "\n",
    "CREATE TABLE SELLS(\n",
    "    SNO INTEGER,\n",
    "    PNO INTEGER,\n",
    "    PRICE INTEGER\n",
    ");\n",
    "\n",
    "''')"
   ]
  },
  {
   "cell_type": "code",
   "execution_count": 95,
   "metadata": {},
   "outputs": [
    {
     "data": {
      "text/plain": [
       "<sqlite3.Cursor at 0x10805fce0>"
      ]
     },
     "execution_count": 95,
     "metadata": {},
     "output_type": "execute_result"
    }
   ],
   "source": [
    "cur.execute('INSERT INTO CITY(CNAME) VALUES(\"양천구\")')"
   ]
  },
  {
   "cell_type": "code",
   "execution_count": 92,
   "metadata": {},
   "outputs": [
    {
     "data": {
      "text/plain": [
       "1"
      ]
     },
     "execution_count": 92,
     "metadata": {},
     "output_type": "execute_result"
    }
   ],
   "source": [
    "cur.lastrowid"
   ]
  },
  {
   "cell_type": "code",
   "execution_count": 93,
   "metadata": {},
   "outputs": [
    {
     "data": {
      "text/plain": [
       "[(1, '성북구')]"
      ]
     },
     "execution_count": 93,
     "metadata": {},
     "output_type": "execute_result"
    }
   ],
   "source": [
    "cur.execute('SELECT * FROM CITY')\n",
    "cur.fetchall()"
   ]
  },
  {
   "cell_type": "code",
   "execution_count": 89,
   "metadata": {},
   "outputs": [],
   "source": [
    "con.close()"
   ]
  },
  {
   "cell_type": "code",
   "execution_count": 90,
   "metadata": {},
   "outputs": [],
   "source": [
    "con = sqlite3.connect('fnb.db')\n",
    "cur = con.cursor()"
   ]
  },
  {
   "cell_type": "code",
   "execution_count": 96,
   "metadata": {},
   "outputs": [],
   "source": [
    "#  DB는 하나하나의 데이터를 넣는 것이 아니라 묶음 단위인 Transaction으로 진행하기 때문에.\n",
    "# commit 하지 않고 닫는다면 connection을 잃어버려서 저장되지 않을 수 있음.\n",
    "# rollback 해야하는 경우.\n",
    "con.commit()"
   ]
  },
  {
   "cell_type": "code",
   "execution_count": 106,
   "metadata": {},
   "outputs": [],
   "source": [
    "cityList = [('성북구',),('강북구',),('강동구',),('동대문구',)]\n",
    "\n",
    "# 중복 검사 구문 (데이터가 많을 때는 이 방법이 좋지 않음.)\n",
    "for city in cityList:\n",
    "    cur.execute('SELECT * FROM CITY WHERE CNAME=?', city)\n",
    "    if len(cur.fetchall()) == 0:\n",
    "        cur.execute('INSERT INTO CITY(CNAME) VALUES(?)', city)"
   ]
  },
  {
   "cell_type": "code",
   "execution_count": 107,
   "metadata": {},
   "outputs": [
    {
     "data": {
      "text/plain": [
       "[(1, '성북구'), (2, '양천구'), (3, '강북구'), (4, '강동구'), (5, '동대문구')]"
      ]
     },
     "execution_count": 107,
     "metadata": {},
     "output_type": "execute_result"
    }
   ],
   "source": [
    "cur.execute('SELECT * FROM CITY')\n",
    "cur.fetchall()"
   ]
  },
  {
   "cell_type": "code",
   "execution_count": 108,
   "metadata": {},
   "outputs": [],
   "source": [
    "con.commit()"
   ]
  },
  {
   "cell_type": "code",
   "execution_count": 111,
   "metadata": {},
   "outputs": [
    {
     "data": {
      "text/plain": [
       "<sqlite3.Cursor at 0x108083180>"
      ]
     },
     "execution_count": 111,
     "metadata": {},
     "output_type": "execute_result"
    }
   ],
   "source": [
    "suplierList = [('1호점', 1), ('2호점', 2), ('3호점', 3), ('4호점', 4)]\n",
    "cur.executemany('INSERT INTO SUPPLIER(SNAME, CNO) VALUES(?,?)', suplierList)\n"
   ]
  },
  {
   "cell_type": "code",
   "execution_count": 112,
   "metadata": {},
   "outputs": [],
   "source": [
    "con.commit()"
   ]
  },
  {
   "cell_type": "code",
   "execution_count": 113,
   "metadata": {},
   "outputs": [
    {
     "data": {
      "text/plain": [
       "[(1, '1호점', 1), (2, '2호점', 2), (3, '3호점', 3), (4, '4호점', 4)]"
      ]
     },
     "execution_count": 113,
     "metadata": {},
     "output_type": "execute_result"
    }
   ],
   "source": [
    "cur.execute('SELECT * FROM SUPPLIER')\n",
    "cur.fetchall()"
   ]
  },
  {
   "cell_type": "code",
   "execution_count": null,
   "metadata": {},
   "outputs": [],
   "source": []
  }
 ],
 "metadata": {
  "kernelspec": {
   "display_name": "pytorch",
   "language": "python",
   "name": "python3"
  },
  "language_info": {
   "codemirror_mode": {
    "name": "ipython",
    "version": 3
   },
   "file_extension": ".py",
   "mimetype": "text/x-python",
   "name": "python",
   "nbconvert_exporter": "python",
   "pygments_lexer": "ipython3",
   "version": "3.8.16"
  },
  "orig_nbformat": 4
 },
 "nbformat": 4,
 "nbformat_minor": 2
}
