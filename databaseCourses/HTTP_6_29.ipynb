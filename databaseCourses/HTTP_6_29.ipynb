{
 "cells": [
  {
   "attachments": {},
   "cell_type": "markdown",
   "metadata": {},
   "source": [
    "RE => 비정형데이터 (텍스트) / 특정한 패턴을 찾고, 추출/교체/검사...\n",
    "\n",
    "Symbol => 패턴\n",
    "\n",
    "., *, +, ?, {m}, {n,m}, {n,}\n",
    "    * : {0,}, + : {1,}\n",
    "\n",
    "[범위 or 이 중 하나] => TEXT\n",
    "\n",
    "\\w (영문자 + 숫자 + _),\n",
    "\\d \n",
    "\\s\n",
    "\\b\n",
    "\n",
    "^(시작), $(끝), [^] (not)\n",
    "escape (\\), => raw text, re.escape\n",
    "\n",
    "match, search, findall, ... + re.flag(i) (필요한 경우 활용)\n",
    "\n",
    "^...,  중간,     모든 것\n",
    "\n",
    "compile => 패턴 만들어주는 역할\n",
    "patterns = [p1, p2, p3, p4, ...]\n",
    "In Case: patterns[0,4,5] => "
   ]
  },
  {
   "cell_type": "code",
   "execution_count": 1,
   "metadata": {},
   "outputs": [],
   "source": [
    "from string import punctuation"
   ]
  },
  {
   "cell_type": "code",
   "execution_count": 3,
   "metadata": {},
   "outputs": [
    {
     "data": {
      "text/plain": [
       "('!\"\\\\#\\\\$%\\\\&\\'\\\\(\\\\)\\\\*\\\\+,\\\\-\\\\./:;<=>\\\\?@\\\\[\\\\\\\\\\\\]\\\\^_`\\\\{\\\\|\\\\}\\\\~',\n",
       " '!\"#$%&\\'()*+,-./:;<=>?@[\\\\]^_`{|}~',\n",
       " '!\"#$%&\\'()*+,-./:;<=>?@[\\\\]^_`{|}~')"
      ]
     },
     "execution_count": 3,
     "metadata": {},
     "output_type": "execute_result"
    }
   ],
   "source": [
    "import re\n",
    "re.escape(punctuation), punctuation, r'{}'.format(punctuation)"
   ]
  },
  {
   "attachments": {},
   "cell_type": "markdown",
   "metadata": {},
   "source": [
    "### TCP/IP 4계층\n",
    "                    프로그램 (Browser)\n",
    "                        requests *\n",
    "                        urllib => \n",
    "App            => FTP, TELNET, [HTTP -> Header]\n",
    "</br>\n",
    "TCP / UDP      => [TCP : 신뢰성 SYN/ACK -> Header에서 확인. 통신여부를 확인하기 위해.], UDP : 비신뢰성\n",
    "</br>\n",
    "IP             => 패킷화 => Masking (255.255.255.0) IPv4\n",
    "</br>\n",
    "Network        => MAC => \n",
    "\n",
    "\n",
    "Router(Gateway), Switch, Hub => 공유기\n",
    "(WAN, LAN)        (LAN)   (Broadcasting)"
   ]
  },
  {
   "attachments": {},
   "cell_type": "markdown",
   "metadata": {},
   "source": [
    "나                                  네이버\n",
    "naver.com --------> DNS -------> IP\n",
    "            DNS < ---- KT ----> Ping ms (홉)\n",
    ".../index.html ----------------> 신원, 메시지 확인\n",
    "                <--------------- HTML\n",
    "OK  --------------> (Header)\n",
    "    <------------- (Header)\n",
    "        TCP/IP\n"
   ]
  },
  {
   "cell_type": "code",
   "execution_count": null,
   "metadata": {},
   "outputs": [],
   "source": [
    "# Robots.txt\n",
    "\n",
    "# 웹사이트에서 가져와도 되는 안되는 root 폴더 제시\n",
    "<meta name=\"robots\" content=\"noindex,nofollow\">"
   ]
  },
  {
   "cell_type": "code",
   "execution_count": 4,
   "metadata": {},
   "outputs": [],
   "source": [
    "#builtwith"
   ]
  },
  {
   "cell_type": "code",
   "execution_count": 5,
   "metadata": {},
   "outputs": [
    {
     "name": "stdout",
     "output_type": "stream",
     "text": [
      "Collecting builtwith\n",
      "  Downloading builtwith-1.3.4.tar.gz (34 kB)\n",
      "  Preparing metadata (setup.py) ... \u001b[?25ldone\n",
      "\u001b[?25hRequirement already satisfied: six in /Users/jwyeeh/miniforge3/envs/pytorch/lib/python3.8/site-packages (from builtwith) (1.16.0)\n",
      "Building wheels for collected packages: builtwith\n",
      "  Building wheel for builtwith (setup.py) ... \u001b[?25ldone\n",
      "\u001b[?25h  Created wheel for builtwith: filename=builtwith-1.3.4-py3-none-any.whl size=36078 sha256=d97d492c1b9bcbfac2c3f8c2f061bf6639b18b31b02a8844a6b45fcbe3f0b02a\n",
      "  Stored in directory: /Users/jwyeeh/Library/Caches/pip/wheels/be/16/b5/70218da689a5a9d8cf951266eea6435c4efd4fff87d919cd1b\n",
      "Successfully built builtwith\n",
      "Installing collected packages: builtwith\n",
      "Successfully installed builtwith-1.3.4\n"
     ]
    }
   ],
   "source": [
    "!pip install builtwith"
   ]
  },
  {
   "cell_type": "code",
   "execution_count": 6,
   "metadata": {},
   "outputs": [
    {
     "name": "stdout",
     "output_type": "stream",
     "text": [
      "Collecting python-whois\n",
      "  Downloading python-whois-0.8.0.tar.gz (109 kB)\n",
      "\u001b[2K     \u001b[90m━━━━━━━━━━━━━━━━━━━━━━━━━━━━━━━━━━━━━━━\u001b[0m \u001b[32m109.6/109.6 kB\u001b[0m \u001b[31m2.6 MB/s\u001b[0m eta \u001b[36m0:00:00\u001b[0ma \u001b[36m0:00:01\u001b[0m\n",
      "\u001b[?25h  Preparing metadata (setup.py) ... \u001b[?25ldone\n",
      "\u001b[?25hRequirement already satisfied: future in /Users/jwyeeh/miniforge3/envs/pytorch/lib/python3.8/site-packages (from python-whois) (0.18.3)\n",
      "Building wheels for collected packages: python-whois\n",
      "  Building wheel for python-whois (setup.py) ... \u001b[?25ldone\n",
      "\u001b[?25h  Created wheel for python-whois: filename=python_whois-0.8.0-py3-none-any.whl size=103247 sha256=56842b19613a786e8783ba6e999e72d37941167058141563dfbe1b3d45149e9e\n",
      "  Stored in directory: /Users/jwyeeh/Library/Caches/pip/wheels/24/20/6b/5550a3d6bef09ddaed74eb84006fc3d53f94867f1916794df4\n",
      "Successfully built python-whois\n",
      "Installing collected packages: python-whois\n",
      "Successfully installed python-whois-0.8.0\n"
     ]
    }
   ],
   "source": [
    "!pip install python-whois"
   ]
  },
  {
   "cell_type": "code",
   "execution_count": null,
   "metadata": {},
   "outputs": [],
   "source": []
  }
 ],
 "metadata": {
  "kernelspec": {
   "display_name": "pytorch",
   "language": "python",
   "name": "python3"
  },
  "language_info": {
   "codemirror_mode": {
    "name": "ipython",
    "version": 3
   },
   "file_extension": ".py",
   "mimetype": "text/x-python",
   "name": "python",
   "nbconvert_exporter": "python",
   "pygments_lexer": "ipython3",
   "version": "3.8.16"
  },
  "orig_nbformat": 4
 },
 "nbformat": 4,
 "nbformat_minor": 2
}
