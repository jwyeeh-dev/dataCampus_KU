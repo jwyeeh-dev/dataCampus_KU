{
 "cells": [
  {
   "attachments": {},
   "cell_type": "markdown",
   "metadata": {},
   "source": [
    "for 분석, 모델링\n",
    "데이터 필요함.\n",
    "데이터 축적/관리/가져오기 => DB, [files, XML, JSON, ...]\n",
    "-> DB에 넣어놓으면 관리하기 용이.\n",
    "\n",
    "DB -> Data - Relationship => RDB - RDBMS(SQLite)\n",
    "\n",
    "SQL(*) =>\n",
    "Business Logic (service) => 사용자들이 실제로 하게 되는 행동\n",
    "---> 함수를 통해 행동단위로 정의해보았다. (하지만 굉장히 번거로움.)\n",
    "-> Table(Entity)-Attribute = Object로 릴레이션을 표현해보자. -> ORM technique =>\n",
    "    Object-Property-Method\n"
   ]
  },
  {
   "cell_type": "code",
   "execution_count": 8,
   "metadata": {},
   "outputs": [],
   "source": [
    "# 정규식 \n",
    "# 최대한 간격하고 쉬운 표현으로 알려주신다고 함.\n",
    "# 특별한 문자 형태 -> 패턴 -> 이 패턴이 어디에 있었는지 찾기, 대치, 파싱\n",
    "\n",
    "# 속도가 매우 빠르다.\n",
    "# 매우 큰 데이터 처리에 용이함.\n",
    "\n",
    "# -> learning curve가 있음.\n",
    "\n",
    "\n",
    "# (x)(?:y) : 그룹핑을 하되 x만 보여줌.\n",
    "# ₩^ :\n",
    "# 대문자는 반대의 의미.\n",
    "\n",
    "\n"
   ]
  },
  {
   "cell_type": "code",
   "execution_count": 9,
   "metadata": {},
   "outputs": [],
   "source": [
    "import re"
   ]
  },
  {
   "cell_type": "code",
   "execution_count": 10,
   "metadata": {},
   "outputs": [
    {
     "data": {
      "text/plain": [
       "(<function re.compile(pattern, flags=0)>,\n",
       " <function re.match(pattern, string, flags=0)>,\n",
       " <function re.search(pattern, string, flags=0)>,\n",
       " <function re.findall(pattern, string, flags=0)>)"
      ]
     },
     "execution_count": 10,
     "metadata": {},
     "output_type": "execute_result"
    }
   ],
   "source": [
    "re.compile, re.match, re.search, re.findall\n",
    "\n",
    "# pattern용 ,  ^한 개  ,  한 개    , 전체/여러개"
   ]
  },
  {
   "cell_type": "code",
   "execution_count": 14,
   "metadata": {},
   "outputs": [
    {
     "data": {
      "text/plain": [
       "NoneType"
      ]
     },
     "execution_count": 14,
     "metadata": {},
     "output_type": "execute_result"
    }
   ],
   "source": [
    "# flag -> IGNORELINE, MULTI~\n",
    "type(re.match('Hello|Servo', 'CrowHello'))"
   ]
  },
  {
   "cell_type": "code",
   "execution_count": 15,
   "metadata": {},
   "outputs": [
    {
     "data": {
      "text/plain": [
       "<re.Match object; span=(4, 9), match='Hello'>"
      ]
     },
     "execution_count": 15,
     "metadata": {},
     "output_type": "execute_result"
    }
   ],
   "source": [
    "re.search('Hello|Servo', 'CrowHello')"
   ]
  },
  {
   "cell_type": "code",
   "execution_count": 21,
   "metadata": {},
   "outputs": [],
   "source": [
    "# 메타 캐릭터가 어떻게 배치되느냐에 따라 역할이 달라진다.\n",
    "rst = re.search('^Life', 'Life skadnjndasdandj')"
   ]
  },
  {
   "cell_type": "code",
   "execution_count": 19,
   "metadata": {},
   "outputs": [],
   "source": [
    "re.search('^Life', 'vsljdkjfksj Life')"
   ]
  },
  {
   "cell_type": "code",
   "execution_count": 18,
   "metadata": {},
   "outputs": [
    {
     "data": {
      "text/plain": [
       "<re.Match object; span=(12, 16), match='Life'>"
      ]
     },
     "execution_count": 18,
     "metadata": {},
     "output_type": "execute_result"
    }
   ],
   "source": [
    "re.search('Life$', 'vsljdkjfksj Life')"
   ]
  },
  {
   "cell_type": "code",
   "execution_count": 23,
   "metadata": {},
   "outputs": [
    {
     "data": {
      "text/plain": [
       "(0, 4, (0, 4), 'Life')"
      ]
     },
     "execution_count": 23,
     "metadata": {},
     "output_type": "execute_result"
    }
   ],
   "source": [
    "rst.start(), rst.end(), rst.span(), rst.group() # 찾고자 하는 문자열의 위치에 관한 함수"
   ]
  },
  {
   "cell_type": "code",
   "execution_count": 25,
   "metadata": {},
   "outputs": [
    {
     "data": {
      "text/plain": [
       "False"
      ]
     },
     "execution_count": 25,
     "metadata": {},
     "output_type": "execute_result"
    }
   ],
   "source": [
    "#찾았는지 안 찾았는지를 확인하는 반복구문으로 활용가능하다.\n",
    "True if re.search('^Life', 'vsljdkjfksj Life') else False"
   ]
  },
  {
   "cell_type": "code",
   "execution_count": 26,
   "metadata": {},
   "outputs": [
    {
     "data": {
      "text/plain": [
       "<re.Match object; span=(0, 9), match='ABCABCABC'>"
      ]
     },
     "execution_count": 26,
     "metadata": {},
     "output_type": "execute_result"
    }
   ],
   "source": [
    "re.search('(ABC)+', 'ABCABCABC OK') #반복된 길이만큼 찾아낸다."
   ]
  },
  {
   "cell_type": "code",
   "execution_count": 28,
   "metadata": {},
   "outputs": [
    {
     "data": {
      "text/plain": [
       "('ABC',)"
      ]
     },
     "execution_count": 28,
     "metadata": {},
     "output_type": "execute_result"
    }
   ],
   "source": [
    "re.search('(ABC)+', 'ABCABCABC OK').groups() #실제 패턴의 반복 단위를 확인할 수 있다."
   ]
  },
  {
   "cell_type": "code",
   "execution_count": 34,
   "metadata": {},
   "outputs": [
    {
     "data": {
      "text/plain": [
       "'ABCABCABC'"
      ]
     },
     "execution_count": 34,
     "metadata": {},
     "output_type": "execute_result"
    }
   ],
   "source": [
    "re.search('(ABC)+', 'ABCABCABC OK').group(0) #그룹의 개수에 따른 인덱스의 그룹 전체를 확인할 수 있다."
   ]
  },
  {
   "cell_type": "code",
   "execution_count": null,
   "metadata": {},
   "outputs": [],
   "source": [
    "# 문제상황\n",
    "re.match('\\')\n",
    "# 이런 문제가 발생하는 것을 방지하기 위해 escape 처리를 진행.\n",
    "# 특히, 브라켓에서는 이 중 하나라는 형태를 가지고 있으므로 \\\\여도 상관없고, 문자로만 인식될 필요가 있다."
   ]
  },
  {
   "cell_type": "code",
   "execution_count": 35,
   "metadata": {},
   "outputs": [
    {
     "data": {
      "text/plain": [
       "('\\n', '\\\\n', '\\\\\\n', '\\\\\\\\n')"
      ]
     },
     "execution_count": 35,
     "metadata": {},
     "output_type": "execute_result"
    }
   ],
   "source": [
    "'\\n', r'\\n', re.escape('\\n'), re.escape(r'\\n')\n",
    "# 개행이 아닌 문자로 읽게하는 방식 -> rawtext (원래 기능을 잃고 문자로 인식될 수 있도록.)\n",
    "# 정규식에 있는 escape 처리를 하면 역슬래시가 들어갔을 때 원활하게 작업 가능."
   ]
  },
  {
   "cell_type": "code",
   "execution_count": 37,
   "metadata": {},
   "outputs": [
    {
     "data": {
      "text/plain": [
       "(<re.Match object; span=(20, 25), match='class'>,\n",
       " <re.Match object; span=(11, 16), match='class'>,\n",
       " <re.Match object; span=(11, 16), match='class'>)"
      ]
     },
     "execution_count": 37,
     "metadata": {},
     "output_type": "execute_result"
    }
   ],
   "source": [
    "re.search(r'\\bclass\\b', 'djdhkjflkslkfjdlkjs class dkfjsk'), \\\n",
    "re.search(r'\\Bclass\\b', 'djdhkjs subclass dkfjsk'), \\\n",
    "re.search(r'\\Bclass\\B', 'djdhkjs subclasss dkfjsk')\n",
    "\n",
    "# 꼭 None-boundary 처리를 해주어야 찾을 수 있을 것이다. 아니면 못 찾음."
   ]
  },
  {
   "cell_type": "code",
   "execution_count": 38,
   "metadata": {},
   "outputs": [
    {
     "data": {
      "text/plain": [
       "<re.Match object; span=(0, 12), match='stackoverflo'>"
      ]
     },
     "execution_count": 38,
     "metadata": {},
     "output_type": "execute_result"
    }
   ],
   "source": [
    "# greedy reg : 끝까지 찾은 위치에서 끝냄.\n",
    "re.search('s.*o', 'stackoverflow')\n"
   ]
  },
  {
   "cell_type": "code",
   "execution_count": 39,
   "metadata": {},
   "outputs": [
    {
     "data": {
      "text/plain": [
       "<re.Match object; span=(0, 6), match='stacko'>"
      ]
     },
     "execution_count": 39,
     "metadata": {},
     "output_type": "execute_result"
    }
   ],
   "source": [
    "# lazy reg : 첫번째 나오면 거기까지 끝냄.\n",
    "re.search('s.*?o', 'stackoverflow')"
   ]
  },
  {
   "cell_type": "code",
   "execution_count": null,
   "metadata": {},
   "outputs": [],
   "source": [
    " "
   ]
  }
 ],
 "metadata": {
  "kernelspec": {
   "display_name": "pytorch",
   "language": "python",
   "name": "python3"
  },
  "language_info": {
   "codemirror_mode": {
    "name": "ipython",
    "version": 3
   },
   "file_extension": ".py",
   "mimetype": "text/x-python",
   "name": "python",
   "nbconvert_exporter": "python",
   "pygments_lexer": "ipython3",
   "version": "3.8.16"
  },
  "orig_nbformat": 4
 },
 "nbformat": 4,
 "nbformat_minor": 2
}
