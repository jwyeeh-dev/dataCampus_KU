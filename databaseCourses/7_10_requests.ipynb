{
 "cells": [
  {
   "attachments": {},
   "cell_type": "markdown",
   "metadata": {},
   "source": [
    "HTML / XML  =>  DOM (-> BeautifulSoup의 도움)\n",
    "            => CSSOM (selector; pseudo)\n",
    "\n",
    "selector (*)  { X }\n",
    "tags, #id, .class, .class1.class2\n",
    "[attr], [attr = value], [attr^=, $=]\n",
    "( ) => 자손,  > => 자식, + => 내 다음 형제\n",
    "\n",
    ":nth-of-type, :first/last-child, :nth-child, ...\n",
    ":has, :not\n",
    "\n",
    "=> Crawling/Scraping\n",
    "while 더이상 url 없을 때까지\n",
    "    : robots.txt 파싱\n",
    "    : HTTP Req/Resp ===> Resp.body (Scraping) => content-type()\n",
    "    : anchor(a;hyperlink) => URL (*; urljoin)\n",
    "    : link => regularization (full url)\n",
    "    : visited O/X => URL Pool => ()\n",
    "    : pop(url) => (BFS/DFS/Focused => 탐색 전략)\n",
    "\n"
   ]
  },
  {
   "attachments": {},
   "cell_type": "markdown",
   "metadata": {},
   "source": [
    "HyperLinks = ?\n",
    "[Tags]\n",
    "A, FORM, IMG, VIDEO, AUDIO, META, SCRIPT, STYLES, IFRAME, ...\n",
    "[Attributes]\n",
    "HREF, SRC, ACTION\n",
    "=> * [HREF|SRC|ACTION]"
   ]
  },
  {
   "cell_type": "code",
   "execution_count": 112,
   "metadata": {},
   "outputs": [],
   "source": [
    "from requests import request\n",
    "\n",
    "headers = {\n",
    "    'user-agent' : 'Mozilla/5.0 (Macintosh; Intel Mac OS X 10_15_7) AppleWebKit/537.36 (KHTML, like Gecko) Chrome/114.0.0.0 Safari/537.36'\n",
    "}"
   ]
  },
  {
   "cell_type": "code",
   "execution_count": 3,
   "metadata": {},
   "outputs": [],
   "source": [
    "url = 'https://search.naver.com/search.naver'\n",
    "\n",
    "params = {\n",
    "    'where' : 'nexearch', \n",
    "    'query' : '뉴진스'\n",
    "}\n",
    "\n",
    "resp = request('GET', url, params= params, headers = headers)"
   ]
  },
  {
   "cell_type": "code",
   "execution_count": 4,
   "metadata": {},
   "outputs": [
    {
     "data": {
      "text/plain": [
       "(200,\n",
       " 'OK',\n",
       " {'Date': 'Mon, 10 Jul 2023 01:31:41 GMT', 'Content-Type': 'text/html; charset=UTF-8', 'Transfer-Encoding': 'chunked', 'Connection': 'keep-alive', 'Set-Cookie': 'page_uid=i6WQQdp0JXVssZKU41hssssstQ4-068911; path=/; domain=.naver.com, _naver_usersession_=h+W2EgQHCkZaYNjFdHpuGw==; path=/; expires=Mon, 10-Jul-23 01:36:41 GMT; domain=.naver.com, nx_ssl=2; Domain=.naver.com; Path=/; Expires=Wed, 09-Aug-2023 01:31:41 GMT;', 'X-Frame-Options': 'SAMEORIGIN', 'X-XSS-Protection': '1; report=/p/er/post/xss', 'Cache-Control': 'no-cache, no-store, must-revalidate, max-age=0', 'Pragma': 'no-cache', 'Referrer-Policy': 'unsafe-url', 'Vary': 'Accept-Encoding', 'Content-Encoding': 'gzip', 'Server': 'nxg', 'Accept-CH': 'Sec-CH-UA, Sec-CH-UA-Arch, Sec-CH-UA-Bitness, Sec-CH-UA-Full-Version-List, Sec-CH-UA-Mobile, Sec-CH-UA-Model, Sec-CH-UA-Platform, Sec-CH-UA-Platform-Version, Sec-CH-UA-WoW64'})"
      ]
     },
     "execution_count": 4,
     "metadata": {},
     "output_type": "execute_result"
    }
   ],
   "source": [
    "resp.status_code, resp.reason, resp.headers"
   ]
  },
  {
   "cell_type": "code",
   "execution_count": 5,
   "metadata": {},
   "outputs": [],
   "source": [
    "from bs4 import BeautifulSoup\n",
    "\n",
    "dom = BeautifulSoup(resp.text, 'html5lib')"
   ]
  },
  {
   "cell_type": "code",
   "execution_count": 9,
   "metadata": {},
   "outputs": [
    {
     "data": {
      "text/plain": [
       "(760, 252, 3)"
      ]
     },
     "execution_count": 9,
     "metadata": {},
     "output_type": "execute_result"
    }
   ],
   "source": [
    "len(dom.select('[href]')), len(dom.select('[src]')), len(dom.select('[action]'))\n",
    "# 이렇게 다양한 태그들로 포함이 된다는 걸 확인할 수 있다. "
   ]
  },
  {
   "cell_type": "code",
   "execution_count": 10,
   "metadata": {},
   "outputs": [
    {
     "data": {
      "text/plain": [
       "(<link href=\"https://ssl.pstatic.net/sstatic/search/favicon/favicon_191118_pc.ico\" rel=\"shortcut icon\"/>,\n",
       " <script crossorigin=\"anonymous\" src=\"https://ssl.pstatic.net/sstatic/sdyn.js?f=/au/pc/_nx/jindo_1.5.3_171116.js+/search/js/nhn.Component.js+/search/js/jindo.Component.1.1.0.js+/search/js/jindo.component.library_120927.js+/au/s/pc/_common/jindo/jindo.Rolling_140526.js+/fe/sfe/common/pc-1.2.3.js+/fe/sfe/nx_jquery/pc/nx_jquery_221215.js+/fe/meerkat/logger/sfe/naver.common.meerkat.logger.sfe_pc_230601.js+/fe/sfe/naver_autocomplete/pc/naver.common.atcmp.naver_web_230216.js+/fe/sfe/web-vitals/web-vitals_230627.js+/fe/sfe/scrollLog/Controller_220714.js&amp;o=search\"></script>,\n",
       " <form action=\"?\" id=\"nx_search_form\" method=\"get\" name=\"search\" onsubmit=\"return nx_form_submit(this)\" role=\"search\"> <fieldset class=\"greenwindow\"> <legend>검색</legend> <input name=\"sm\" type=\"hidden\" value=\"tab_hty.top\"/> <input name=\"where\" type=\"hidden\" value=\"nexearch\"/> <div class=\"greenbox\"> <input accesskey=\"s\" autocomplete=\"off\" class=\"box_window\" data-atcmp-element=\"\" id=\"nx_query\" maxlength=\"255\" name=\"query\" placeholder=\"검색어를 입력해 주세요.\" type=\"text\" value=\"뉴진스\"/> </div> <input name=\"oquery\" type=\"hidden\" value=\"뉴진스\"/> <input name=\"tqi\" type=\"hidden\" value=\"i6WQQdp0JXVssZKU41hssssstQ4-068911\"/> <input disabled=\"\" name=\"acq\" type=\"hidden\" value=\"\"/> <input disabled=\"\" name=\"acr\" type=\"hidden\" value=\"\"/> <input disabled=\"\" name=\"qdt\" type=\"hidden\" value=\"\"/> <input disabled=\"\" name=\"acir\" type=\"hidden\" value=\"\"/> <input disabled=\"\" name=\"os\" type=\"hidden\" value=\"\"/> <input disabled=\"\" name=\"bid\" type=\"hidden\" value=\"\"/> <input disabled=\"\" name=\"pkid\" type=\"hidden\" value=\"\"/> <input disabled=\"\" name=\"eid\" type=\"hidden\" value=\"\"/> <input disabled=\"\" name=\"mra\" type=\"hidden\" value=\"\"/>  <div class=\"setkr_area\"> <a aria-pressed=\"false\" class=\"bt_setkr\" href=\"#\" id=\"ke_kbd_btn\" onclick=\"return tCR('a=sch.ime');\" role=\"button\"><i class=\"spnew ico_keyboard\">한글 입력기</i></a> <div id=\"_nx_kbd\" style=\"display:none;\"></div> </div> <!--[AU]초기화 코드는 마크업 코드 바로 뒤에 위치--> <script> (function() { var startApplication = function() { var $ = jQuery; var jsUrl = \"https://ssl.pstatic.net/sstatic/fe/sfe/ime/app-1.0.4.js\"; var cssUrl = \"https://ssl.pstatic.net/sstatic/search/pc/css/api_keyboard_230706.css\"; var ime; $(\"#ke_kbd_btn\").on(\"click\", function() { require([jsUrl], function(IMEKeyboard) { if (ime) { ime.toggle(); return; } ime = new IMEKeyboard({ \"cssUrl\": cssUrl, \"selector\": { \"TOGGLE_BTN\": \"#ke_kbd_btn\", \"CONTENTS_AREA\": \"#_nx_kbd\", \"INPUT\": \"#nx_query\" }, \"onSearchBtnClick\": function() { $(\"#nx_search_form\").submit(); } }).toggle(); }, function(e) { alert(\"네트워크 상태가 안 좋아 한영 입력기를 불러오지 못했습니다.\\n잠시 후 다시 시도해 주세요.\"); }); }); }; naver.common.load_js(null, startApplication, true, 150); })(); </script> <div class=\"autocomplete\"> <a aria-pressed=\"false\" class=\"bt_atcp _btn_arw\" data-atcmp-element=\"\" href=\"#\" id=\"nautocomplete\" role=\"button\"><i class=\"spnew ico_arrow\">자동완성 레이어</i></a> <div class=\"ly_atcmp\" data-atcmp-element=\"\" id=\"nx_autoframe_top\" style=\"display:none\"> <div class=\"api_atcmp_wrap\"> <div class=\"atcmp_fixer _recent_layer\" style=\"display:none;\"> <div class=\"atcmp_header _recent_header\"> <strong class=\"tit\">최근검색어</strong> <div class=\"option\"> <a aria-pressed=\"false\" class=\"item _delAll\" href=\"#\" role=\"button\">전체삭제</a> </div> </div> <div class=\"atcmp_container\"> <ul class=\"kwd_lst _recent\"> <li class=\"item _item\" data-keyword=\"@in_txt@\" data-rank=\"@rank@\" data-template-type=\"history\"> <a class=\"kwd\" href=\"#\"> <span class=\"fix\"><span class=\"common_ico_kwd\"><i class=\"imsc ico_search\"></i></span><span>@txt@</span></span> </a> <span class=\"etc\"> <em class=\"date\">@date@.</em> <a aria-pressed=\"false\" class=\"bt_item _del\" href=\"#\" role=\"button\"><i class=\"imsc ico_del\">삭제</i></a> </span> </li> </ul> <div class=\"kwd_info kwd_off _offMsg\" style=\"display: none;\">검색어 저장 기능이 꺼져 있습니다.<br/><span class=\"kwd_dsc\">설정이 초기화 된다면 <a class=\"kwd_help\" href=\"https://help.naver.com/support/alias/search/word/word_29.naver\" onclick=\"return goOtherCR(this,'a=sly.help&amp;r=&amp;i=&amp;u='+urlencode(this.href));\" target=\"_blank\">도움말</a>을 확인해주세요.</span></div> <div class=\"kwd_info kwd_none _recentNone\" style=\"display: none;\">최근 검색어 내역이 없습니다.<br/><span class=\"kwd_dsc\">설정이 초기화 된다면 <a class=\"kwd_help\" href=\"https://help.naver.com/support/alias/search/word/word_29.naver\" onclick=\"return goOtherCR(this,'a=sly.help&amp;r=&amp;i=&amp;u='+urlencode(this.href));\" target=\"_blank\">도움말</a>을 확인해주세요.</span></div> </div> <div class=\"atcmp_footer\"> <span class=\"side_opt_area\"> <span class=\"opt_item\"><a href=\"https://help.naver.com/support/alias/search/word/word_29.naver\" onclick=\"return goOtherCR(this,'a=sly.help&amp;r=&amp;i=&amp;u='+urlencode(this.href));\" target=\"_blank\">도움말</a></span> </span> <span class=\"rside_opt_area\"> <span class=\"opt_item\"> <a class=\"close _keywordOnOff\" href=\"#\">자동저장 끄기</a> </span> </span> </div> </div> <div class=\"atcmp_fixer _atcmp_layer\" style=\"display:none;\"> <div class=\"atcmp_container _words\"> <div class=\"atcmp_correct type_lotto _answer\" data-code=\"@code@\" data-keyword=\"@1@\" data-template-type=\"answer_3\"> <a class=\"link_item\" href=\"#\"> <span class=\"common_ico_kwd\"><i class=\"imsc ico_search\"></i></span> <div class=\"dsc_area\"> <span class=\"tit\">@5@회 로또당첨번호</span> <span class=\"dsc\"> <span class=\"item\">동행복권 제공</span> </span> </div> <span class=\"etc_area\"> <span class=\"etc lotto\"> <em class=\"n@6@\">@6@</em><em class=\"n@7@\">@7@</em><em class=\"n@8@\">@8@</em><em class=\"n@9@\">@9@</em><em class=\"n@10@\">@10@</em><em class=\"n@11@\">@11@</em><em class=\"imsc_bf bonus n@12@\">@12@</em> </span> </span> </a> </div> <div class=\"atcmp_correct type_exchange _answer\" data-code=\"@code@\" data-keyword=\"@1@\" data-template-type=\"answer_9\"> <a class=\"link_item @11@\" href=\"#\"> <span class=\"common_ico_kwd\"><i class=\"imsc ico @12@\">@14@</i></span> <div class=\"dsc_area\"> <span class=\"tit\">@txt@<span class=\"sub\">@currency@</span></span> <span class=\"dsc\"> <span class=\"item\"><i class=\"imsc ico_arr\"></i>@8@(@9@%)</span> </span> </div> <span class=\"etc_area\"> <span class=\"etc\"><em class=\"num\">@6@</em>원</span> </span> </a> </div> <div class=\"atcmp_correct type_weather _answer\" data-code=\"@code@\" data-keyword=\"@1@\" data-template-type=\"answer_11\"> <a class=\"link_item @12@\" href=\"#\"> <span class=\"common_ico_kwd\"><i class=\"imsc ico_search\"></i></span> <div class=\"dsc_area\"> <span class=\"tit\">@txt@</span> <span class=\"dsc\"> <span class=\"item\">@7@, @message@</span> </span> </div> <span class=\"etc_area\"> <span class=\"etc\"> <span class=\"ico_weather\"><i class=\"imsc ico ico@iconNo@\">@7@</i></span> <em class=\"degree\">@8@<sup class=\"celsius\">°</sup></em> </span> </span> </a> </div> <div class=\"atcmp_correct type_site _answer\" data-code=\"@code@\" data-keyword=\"@1@\" data-template-type=\"answer_17\"> <a class=\"link_item\" href=\"@5@\" target=\"_blank\"> <span class=\"common_ico_kwd\"><i class=\"imsc ico_url\"></i></span> <div class=\"dsc_area\"> <span class=\"tit\">@txt@</span> <span class=\"dsc\"> <span class=\"item\">@5@</span> </span> </div> <span class=\"etc_area\"> <span class=\"etc\">바로가기</span> </span> </a> </div> <ul class=\"kwd_lst _kwd_list\"> <li class=\"item _item\" data-keyword=\"@in_txt@\" data-rank=\"@rank@\" data-template-type=\"suggestion\"> <a class=\"kwd\" href=\"#\"> <span class=\"fix\"><span class=\"common_ico_kwd\"><i class=\"imsc ico_search\"></i></span>@txt@</span> </a> <span class=\"etc\"> <a aria-pressed=\"false\" class=\"bt_item _add\" href=\"#\" role=\"button\"><i class=\"imsc ico_insert\">추가</i></a> </span> </li> <li class=\"item has_correct _item\" data-keyword=\"@in_txt@\" data-rank=\"@rank@\" data-template-type=\"history\"> <a class=\"kwd\" href=\"#\"> <span class=\"fix\"><span class=\"common_ico_kwd\"><i class=\"imsc ico_search\"></i></span>@txt@</span> </a> <span class=\"etc\"> <em class=\"date\">@date@.</em> <a aria-pressed=\"false\" class=\"bt_item _add\" href=\"#\" role=\"button\"><i class=\"imsc ico_insert\">추가</i></a> </span> </li> </ul> <li class=\"item has_correct _item\" data-intend-rank=\"@intendRank@\" data-keyword=\"@transQuery@\" data-rank=\"@rank@\" data-template-type=\"intend\"> <a class=\"kwd\" href=\"#\"> <span class=\"fix\"><span class=\"common_ico_kwd\"><i class=\"imsc ico_search\"></i></span>@query@ <span class=\"context\">@intend@</span></span> </a> <span class=\"etc\"> <a aria-pressed=\"false\" class=\"bt_item _add\" href=\"#\" role=\"button\"><i class=\"imsc ico_insert\">추가</i></a> </span> </li> <div class=\"atcmp_alert _alert\"> <div class=\"dsc_election\"> <p class=\"dsc\"> <i class=\"imsc ico_election\"></i><span class=\"_alert_passage\"></span> </p> <span class=\"dsc_inner\"> <span class=\"_alert_passage2\"></span> <a class=\"link _alert_link\" href=\"#\" onclick=\"return goOtherCR(this,'a=sug.vote&amp;r=&amp;i=&amp;u='+urlencode(this.href));\" target=\"_blank\">자세히보기</a> </span> </div> </div> <div class=\"atcmp_plus _plus\"> <div class=\"dsc_plus\"> <a class=\"link_dsc\" href=\"https://help.naver.com/support/alias/search/word/word_16.naver\" onclick=\"return goOtherCR(this,'a=sug.cxhelp&amp;r=&amp;i=&amp;u='+urlencode(this.href));\" target=\"_blank\">관심사를 반영한 컨텍스트 자동완성<i class=\"imsc ico_help\">도움말</i></a> </div> <div class=\"switch\"> <a aria-pressed=\"false\" class=\"bt_switch active _plus_btn\" href=\"#\" role=\"button\"><i class=\"imsc ico_option\">컨텍스트 자동완성</i></a> </div> <div class=\"layer_plus _plus_layer\"> <strong class=\"tit\">컨텍스트 자동완성</strong> <div class=\"_plus_layer_isloggedin\" style=\"display:none\"> <p class=\"dsc\">ON/OFF 설정은<br/>해당기기(브라우저)에 저장됩니다.</p> <div class=\"btn_area\"> <a class=\"btn btn_view\" href=\"https://help.naver.com/support/alias/search/word/word_16.naver\" onclick=\"return goOtherCR(this,'a=sug.cxhelp&amp;r=&amp;i=&amp;u='+urlencode(this.href));\" target=\"_blank\">자세히</a> </div> </div> <div class=\"_plus_layer_isnotloggedin\" style=\"display:none\"> <p class=\"dsc\"><em class=\"txt\">동일한 시간대/연령/남녀별</em> 사용자 그룹의<br/>관심사에 맞춰 자동완성을 제공합니다.</p> <div class=\"btn_area\"> <a class=\"btn btn_login\" href=\"https://nid.naver.com/nidlogin.login?url=https%3A%2F%2Fsearch.naver.com%2Fsearch.naver%3Fwhere%3Dnexearch%26query%3D%25EB%2589%25B4%25EC%25A7%2584%25EC%258A%25A4\" onclick=\"return goOtherCR(this,'a=sug.cxlogin&amp;r=&amp;i=&amp;u='+urlencode(this.href));\">로그인</a> <a class=\"btn btn_view\" href=\"https://help.naver.com/support/alias/search/word/word_16.naver\" onclick=\"return goOtherCR(this,'a=sug.cxhelp&amp;r=&amp;i=&amp;u='+urlencode(this.href));\" target=\"_blank\">자세히</a> </div> </div> <a class=\"btn_close _plus_layer_close\" href=\"#\" onclick=\"return tCR('a=sug.cxhide');\" role=\"button\"><i class=\"imsc ico_close\">컨텍스트 자동완성 레이어 닫기</i></a> </div> </div> </div> <div class=\"atcmp_footer\"> <span class=\"side_opt_area\"> <span class=\"opt_item\"><a href=\"https://help.naver.com/alias/search/word/word_17.naver\" onclick=\"return goOtherCR(this,'a=sug.help&amp;r=&amp;i=&amp;u='+urlencode(this.href));\" target=\"_blank\">도움말</a></span> <span class=\"opt_item\"><a class=\"report\" href=\"https://help.naver.com/support/alias/search/word/word_18.naver\" onclick=\"return goOtherCR(this,'a=sug.report&amp;r=&amp;i=&amp;u='+urlencode(this.href));\" target=\"_blank\">신고</a></span> </span> <span class=\"rside_opt_area\"> <span class=\"opt_item\"> <a class=\"close _suggestOnOff\" href=\"#\">자동완성 끄기</a> </span> </span> </div> </div> </div> </div> </div> <button class=\"bt_search\" type=\"submit\"><i class=\"spnew ico_search\">검색</i></button> </fieldset> </form>)"
      ]
     },
     "execution_count": 10,
     "metadata": {},
     "output_type": "execute_result"
    }
   ],
   "source": [
    "dom.select('[href]')[0], dom.select('[src]')[0], dom.select('[action]')[0]\n"
   ]
  },
  {
   "cell_type": "code",
   "execution_count": 11,
   "metadata": {},
   "outputs": [
    {
     "data": {
      "text/plain": [
       "('https://ssl.pstatic.net/sstatic/search/favicon/favicon_191118_pc.ico',\n",
       " 'https://ssl.pstatic.net/sstatic/sdyn.js?f=/au/pc/_nx/jindo_1.5.3_171116.js+/search/js/nhn.Component.js+/search/js/jindo.Component.1.1.0.js+/search/js/jindo.component.library_120927.js+/au/s/pc/_common/jindo/jindo.Rolling_140526.js+/fe/sfe/common/pc-1.2.3.js+/fe/sfe/nx_jquery/pc/nx_jquery_221215.js+/fe/meerkat/logger/sfe/naver.common.meerkat.logger.sfe_pc_230601.js+/fe/sfe/naver_autocomplete/pc/naver.common.atcmp.naver_web_230216.js+/fe/sfe/web-vitals/web-vitals_230627.js+/fe/sfe/scrollLog/Controller_220714.js&o=search',\n",
       " '?')"
      ]
     },
     "execution_count": 11,
     "metadata": {},
     "output_type": "execute_result"
    }
   ],
   "source": [
    "dom.select('[href]')[0].attrs['href'], dom.select('[src]')[0].attrs['src'], dom.select('[action]')[0].attrs['action']\n",
    "# 이 주소의 path가 명확하지 않음. -> dom.select('[action]')[0].attrs['action']\n",
    "# 'https://ssl.pstatic.net/sstatic/search/favicon/favicon_191118_pc.ico' -> 전혀 다른 형태의 도메인이 나오는데 이를 urljoin을 활용하여."
   ]
  },
  {
   "cell_type": "code",
   "execution_count": 16,
   "metadata": {},
   "outputs": [
    {
     "data": {
      "text/plain": [
       "('/search.naver',\n",
       " 'https://search.naver.com/search.naver?a=b',\n",
       " 'http://www.test.com')"
      ]
     },
     "execution_count": 16,
     "metadata": {},
     "output_type": "execute_result"
    }
   ],
   "source": [
    "from requests.compat import urlparse, urljoin\n",
    "\n",
    "urlparse(resp.url).path, \\\n",
    "urljoin(resp.url, '?a=b'), \\\n",
    "urljoin(resp.url, 'http://www.test.com') # ? 뒤에 param이 있으므로 이를 바꾸겠다는 뜻이다.\n"
   ]
  },
  {
   "cell_type": "code",
   "execution_count": 18,
   "metadata": {},
   "outputs": [
    {
     "data": {
      "text/plain": [
       "'get'"
      ]
     },
     "execution_count": 18,
     "metadata": {},
     "output_type": "execute_result"
    }
   ],
   "source": [
    "dom.select('[action]')[0].attrs['method'] # get 메서드가 아닌 형태는 다르게 조정해야 할 수도 있음."
   ]
  },
  {
   "cell_type": "code",
   "execution_count": 19,
   "metadata": {},
   "outputs": [
    {
     "name": "stdout",
     "output_type": "stream",
     "text": [
      "sm=tab_hty.top\n",
      "where=nexearch\n",
      "query=뉴진스\n",
      "oquery=뉴진스\n",
      "tqi=i6WQQdp0JXVssZKU41hssssstQ4-068911\n",
      "acq=\n",
      "acr=\n",
      "qdt=\n",
      "acir=\n",
      "os=\n",
      "bid=\n",
      "pkid=\n",
      "eid=\n",
      "mra=\n"
     ]
    }
   ],
   "source": [
    "for node in dom.select('[action]')[0]. select('input'):\n",
    "    print(node.attrs['name'] + '=' + node.attrs['value'])\n",
    "\n",
    "# 파라미터 쌍이다. 경우에 따라 쓰일수도 있고, 안 쓰일수도 있지만, 지금은 안 쓰여 있다. "
   ]
  },
  {
   "cell_type": "code",
   "execution_count": 21,
   "metadata": {},
   "outputs": [
    {
     "data": {
      "text/plain": [
       "{'where': ['nexearch'], 'query': ['뉴진스']}"
      ]
     },
     "execution_count": 21,
     "metadata": {},
     "output_type": "execute_result"
    }
   ],
   "source": [
    "from urllib.parse import parse_qs\n",
    "parse_qs(urlparse(resp.url).query)\n",
    "# link를 통해 정규화하는 과정 (전체 url) -> link는 naver.com 이라면 파라미터를 추가하는 과정이 regularization이라고 할 수 있다."
   ]
  },
  {
   "cell_type": "code",
   "execution_count": 23,
   "metadata": {},
   "outputs": [
    {
     "data": {
      "text/plain": [
       "[<a class=\"mp3_down\" href=\"javascript:;\" nocr=\"\" onclick=\"goOtherTCR(this, 'a=nco_xgh*a.adown&amp;r=1&amp;i=00000000_000001E62A69');window.open('https://vibe.naver.com/mp3/mp3CartRoute?trackIds=65992968', '', 'width=650,height=572,scrollbars=yes,resizable=yes');\"> <span class=\"text\">MP3</span> </a>,\n",
       " <a class=\"spnew_af item item_save _keep_save\" data-cr-off=\"a=itb_bas*b.kepoff&amp;r=15&amp;i=SYS-0000000005344485.90000003_0000000000000033F48A0DE8&amp;g=%7B%22bid%22%3A%22SYS-0000000005344485%22%2C%22docRank%22%3A1%7D\" data-cr-on=\"a=itb_bas*b.kepon&amp;r=15&amp;i=SYS-0000000005344485.90000003_0000000000000033F48A0DE8&amp;g=%7B%22bid%22%3A%22SYS-0000000005344485%22%2C%22docRank%22%3A1%7D\" href=\"javascript:;\" role=\"button\">Keep에 저장</a>,\n",
       " <a class=\"spnew_af item item_save _keep_save\" data-cr-off=\"a=itb_bas*b.kepoff&amp;r=16&amp;i=SYS-0000000005344485.90000003_0000000000000033F4709394&amp;g=%7B%22bid%22%3A%22SYS-0000000005344485%22%2C%22docRank%22%3A2%7D\" data-cr-on=\"a=itb_bas*b.kepon&amp;r=16&amp;i=SYS-0000000005344485.90000003_0000000000000033F4709394&amp;g=%7B%22bid%22%3A%22SYS-0000000005344485%22%2C%22docRank%22%3A2%7D\" href=\"javascript:;\" role=\"button\">Keep에 저장</a>,\n",
       " <a class=\"spnew_af item item_save _keep_save\" data-cr-off=\"a=itb_bas*f.kepoff&amp;r=17&amp;i=SYS-0000000005344485.a0209rl4_nblog_post_223150735176&amp;g=%7B%22bid%22%3A%22SYS-0000000005344485%22%2C%22docRank%22%3A3%7D\" data-cr-on=\"a=itb_bas*f.kepon&amp;r=17&amp;i=SYS-0000000005344485.a0209rl4_nblog_post_223150735176&amp;g=%7B%22bid%22%3A%22SYS-0000000005344485%22%2C%22docRank%22%3A3%7D\" href=\"javascript:;\" role=\"button\">Keep에 저장</a>,\n",
       " <a class=\"spnew_af item item_save _keep_save\" data-cr-off=\"a=itb_bas*b.kepoff&amp;r=18&amp;i=SYS-0000000026426284.90000003_0000000000000033EC356503&amp;g=%7B%22bid%22%3A%22SYS-0000000026426284%22%2C%22docRank%22%3A1%7D\" data-cr-on=\"a=itb_bas*b.kepon&amp;r=18&amp;i=SYS-0000000026426284.90000003_0000000000000033EC356503&amp;g=%7B%22bid%22%3A%22SYS-0000000026426284%22%2C%22docRank%22%3A1%7D\" href=\"javascript:;\" role=\"button\">Keep에 저장</a>,\n",
       " <a class=\"spnew_af item item_save _keep_save\" data-cr-off=\"a=itb_bas*b.kepoff&amp;r=19&amp;i=SYS-0000000026426284.90000003_0000000000000033E3ECE9C6&amp;g=%7B%22bid%22%3A%22SYS-0000000026426284%22%2C%22docRank%22%3A2%7D\" data-cr-on=\"a=itb_bas*b.kepon&amp;r=19&amp;i=SYS-0000000026426284.90000003_0000000000000033E3ECE9C6&amp;g=%7B%22bid%22%3A%22SYS-0000000026426284%22%2C%22docRank%22%3A2%7D\" href=\"javascript:;\" role=\"button\">Keep에 저장</a>,\n",
       " <a class=\"spnew_af item item_save _keep_save\" data-cr-off=\"a=itb_bas*b.kepoff&amp;r=20&amp;i=SYS-0000000026426284.90000003_0000000000000033E7DB887F&amp;g=%7B%22bid%22%3A%22SYS-0000000026426284%22%2C%22docRank%22%3A3%7D\" data-cr-on=\"a=itb_bas*b.kepon&amp;r=20&amp;i=SYS-0000000026426284.90000003_0000000000000033E7DB887F&amp;g=%7B%22bid%22%3A%22SYS-0000000026426284%22%2C%22docRank%22%3A3%7D\" href=\"javascript:;\" role=\"button\">Keep에 저장</a>,\n",
       " <a class=\"spnew_af item item_save _keep_save\" data-cr-off=\"a=itb_bas*b.kepoff&amp;r=21&amp;i=SYS-0000000028866570.90000003_0000000000000033F3E79541&amp;g=%7B%22bid%22%3A%22SYS-0000000028866570%22%2C%22docRank%22%3A1%7D\" data-cr-on=\"a=itb_bas*b.kepon&amp;r=21&amp;i=SYS-0000000028866570.90000003_0000000000000033F3E79541&amp;g=%7B%22bid%22%3A%22SYS-0000000028866570%22%2C%22docRank%22%3A1%7D\" href=\"javascript:;\" role=\"button\">Keep에 저장</a>,\n",
       " <a class=\"spnew_af item item_save _keep_save\" data-cr-off=\"a=itb_bas*b.kepoff&amp;r=22&amp;i=SYS-0000000028866570.90000003_0000000000000033F1E832E6&amp;g=%7B%22bid%22%3A%22SYS-0000000028866570%22%2C%22docRank%22%3A2%7D\" data-cr-on=\"a=itb_bas*b.kepon&amp;r=22&amp;i=SYS-0000000028866570.90000003_0000000000000033F1E832E6&amp;g=%7B%22bid%22%3A%22SYS-0000000028866570%22%2C%22docRank%22%3A2%7D\" href=\"javascript:;\" role=\"button\">Keep에 저장</a>,\n",
       " <a class=\"spnew_af item item_save _keep_save\" data-cr-off=\"a=itb_bas*b.kepoff&amp;r=23&amp;i=SYS-0000000028866570.90000003_0000000000000033F1184234&amp;g=%7B%22bid%22%3A%22SYS-0000000028866570%22%2C%22docRank%22%3A3%7D\" data-cr-on=\"a=itb_bas*b.kepon&amp;r=23&amp;i=SYS-0000000028866570.90000003_0000000000000033F1184234&amp;g=%7B%22bid%22%3A%22SYS-0000000028866570%22%2C%22docRank%22%3A3%7D\" href=\"javascript:;\" role=\"button\">Keep에 저장</a>,\n",
       " <a class=\"thumb_area\" href=\"javascript:;\" style=\"background-color: #BDB8CE;\"></a>,\n",
       " <a class=\"thumb_area\" href=\"javascript:;\" style=\"background-color: #E1B785;\"></a>,\n",
       " <a class=\"thumb_area\" href=\"javascript:;\" style=\"background-color: #DB9D8F;\"></a>,\n",
       " <a class=\"thumb_area\" href=\"javascript:;\" style=\"background-color: #B5B68F;\"></a>,\n",
       " <a class=\"thumb_area\" href=\"javascript:;\" style=\"background-color: #C2C7CC;\"></a>,\n",
       " <a class=\"thumb_area\" href=\"javascript:;\" style=\"background-color: #E1B785;\"></a>,\n",
       " <a class=\"thumb_area\" href=\"javascript:;\" style=\"background-color: #B5B68F;\"></a>,\n",
       " <a class=\"thumb_area\" href=\"javascript:;\" style=\"background-color: #E1B785;\"></a>,\n",
       " <a aria-expanded=\"false\" aria-haspopup=\"true\" class=\"btn_open\" href=\"javascript:;\" role=\"button\"><i class=\"spnew api_ico_npay_plus type_small\">네이버페이 플러스</i></a>,\n",
       " <a aria-expanded=\"false\" aria-haspopup=\"true\" class=\"btn_open\" href=\"javascript:;\" role=\"button\"><i class=\"spnew api_ico_npay_plus type_small\">네이버페이 플러스</i></a>,\n",
       " <a aria-expanded=\"false\" aria-haspopup=\"true\" class=\"btn_open\" href=\"javascript:;\" role=\"button\"><i class=\"spnew api_ico_npay_plus type_small\">네이버페이 플러스</i></a>,\n",
       " <a aria-expanded=\"false\" aria-haspopup=\"true\" class=\"btn_open\" href=\"javascript:;\" role=\"button\"><i class=\"spnew api_ico_npay_plus type_small\">네이버페이 플러스</i></a>,\n",
       " <a aria-expanded=\"false\" aria-haspopup=\"true\" class=\"btn_open\" href=\"javascript:;\" role=\"button\"><i class=\"spnew api_ico_npay_plus type_small\">네이버페이 플러스</i></a>,\n",
       " <a aria-expanded=\"false\" aria-haspopup=\"true\" class=\"btn_open\" href=\"javascript:;\" role=\"button\"><i class=\"spnew api_ico_npay_plus type_small\">네이버페이 플러스</i></a>,\n",
       " <a aria-expanded=\"false\" aria-haspopup=\"true\" class=\"btn_open\" href=\"javascript:;\" role=\"button\"><i class=\"spnew api_ico_npay_plus type_small\">네이버페이 플러스</i></a>,\n",
       " <a aria-expanded=\"false\" aria-haspopup=\"true\" class=\"btn_open\" href=\"javascript:;\" role=\"button\"><i class=\"spnew api_ico_npay_plus type_small\">네이버페이 플러스</i></a>,\n",
       " <a class=\"btn\" href=\"javascript:;\" onclick='tCR(\"a=web_gen*g.prev&amp;r=&amp;i=&amp;u=javascript\")' role=\"button\"><i class=\"spnew ico_arr\">이전</i></a>,\n",
       " <a class=\"btn\" href=\"javascript:;\" onclick='tCR(\"a=web_gen*g.next&amp;r=&amp;i=&amp;u=javascript\")' role=\"button\"><i class=\"spnew ico_arr\">다음</i></a>]"
      ]
     },
     "execution_count": 23,
     "metadata": {},
     "output_type": "execute_result"
    }
   ],
   "source": [
    "dom.select('[href^=\"javascript\"]')\n",
    "# onclick -> event trigger -> selenium 보충."
   ]
  },
  {
   "cell_type": "code",
   "execution_count": 24,
   "metadata": {},
   "outputs": [
    {
     "data": {
      "text/plain": [
       "[<a href=\"#lnb\"><span>메뉴 영역으로 바로가기</span></a>,\n",
       " <a href=\"#content\"><span>본문 영역으로 바로가기</span></a>,\n",
       " <a aria-pressed=\"false\" class=\"bt_setkr\" href=\"#\" id=\"ke_kbd_btn\" onclick=\"return tCR('a=sch.ime');\" role=\"button\"><i class=\"spnew ico_keyboard\">한글 입력기</i></a>,\n",
       " <a aria-pressed=\"false\" class=\"bt_atcp _btn_arw\" data-atcmp-element=\"\" href=\"#\" id=\"nautocomplete\" role=\"button\"><i class=\"spnew ico_arrow\">자동완성 레이어</i></a>,\n",
       " <a aria-pressed=\"false\" class=\"item _delAll\" href=\"#\" role=\"button\">전체삭제</a>,\n",
       " <a class=\"kwd\" href=\"#\"> <span class=\"fix\"><span class=\"common_ico_kwd\"><i class=\"imsc ico_search\"></i></span><span>@txt@</span></span> </a>,\n",
       " <a aria-pressed=\"false\" class=\"bt_item _del\" href=\"#\" role=\"button\"><i class=\"imsc ico_del\">삭제</i></a>,\n",
       " <a class=\"close _keywordOnOff\" href=\"#\">자동저장 끄기</a>,\n",
       " <a class=\"link_item\" href=\"#\"> <span class=\"common_ico_kwd\"><i class=\"imsc ico_search\"></i></span> <div class=\"dsc_area\"> <span class=\"tit\">@5@회 로또당첨번호</span> <span class=\"dsc\"> <span class=\"item\">동행복권 제공</span> </span> </div> <span class=\"etc_area\"> <span class=\"etc lotto\"> <em class=\"n@6@\">@6@</em><em class=\"n@7@\">@7@</em><em class=\"n@8@\">@8@</em><em class=\"n@9@\">@9@</em><em class=\"n@10@\">@10@</em><em class=\"n@11@\">@11@</em><em class=\"imsc_bf bonus n@12@\">@12@</em> </span> </span> </a>,\n",
       " <a class=\"link_item @11@\" href=\"#\"> <span class=\"common_ico_kwd\"><i class=\"imsc ico @12@\">@14@</i></span> <div class=\"dsc_area\"> <span class=\"tit\">@txt@<span class=\"sub\">@currency@</span></span> <span class=\"dsc\"> <span class=\"item\"><i class=\"imsc ico_arr\"></i>@8@(@9@%)</span> </span> </div> <span class=\"etc_area\"> <span class=\"etc\"><em class=\"num\">@6@</em>원</span> </span> </a>,\n",
       " <a class=\"link_item @12@\" href=\"#\"> <span class=\"common_ico_kwd\"><i class=\"imsc ico_search\"></i></span> <div class=\"dsc_area\"> <span class=\"tit\">@txt@</span> <span class=\"dsc\"> <span class=\"item\">@7@, @message@</span> </span> </div> <span class=\"etc_area\"> <span class=\"etc\"> <span class=\"ico_weather\"><i class=\"imsc ico ico@iconNo@\">@7@</i></span> <em class=\"degree\">@8@<sup class=\"celsius\">°</sup></em> </span> </span> </a>,\n",
       " <a class=\"kwd\" href=\"#\"> <span class=\"fix\"><span class=\"common_ico_kwd\"><i class=\"imsc ico_search\"></i></span>@txt@</span> </a>,\n",
       " <a aria-pressed=\"false\" class=\"bt_item _add\" href=\"#\" role=\"button\"><i class=\"imsc ico_insert\">추가</i></a>,\n",
       " <a class=\"kwd\" href=\"#\"> <span class=\"fix\"><span class=\"common_ico_kwd\"><i class=\"imsc ico_search\"></i></span>@txt@</span> </a>,\n",
       " <a aria-pressed=\"false\" class=\"bt_item _add\" href=\"#\" role=\"button\"><i class=\"imsc ico_insert\">추가</i></a>,\n",
       " <a class=\"kwd\" href=\"#\"> <span class=\"fix\"><span class=\"common_ico_kwd\"><i class=\"imsc ico_search\"></i></span>@query@ <span class=\"context\">@intend@</span></span> </a>,\n",
       " <a aria-pressed=\"false\" class=\"bt_item _add\" href=\"#\" role=\"button\"><i class=\"imsc ico_insert\">추가</i></a>,\n",
       " <a class=\"link _alert_link\" href=\"#\" onclick=\"return goOtherCR(this,'a=sug.vote&amp;r=&amp;i=&amp;u='+urlencode(this.href));\" target=\"_blank\">자세히보기</a>,\n",
       " <a aria-pressed=\"false\" class=\"bt_switch active _plus_btn\" href=\"#\" role=\"button\"><i class=\"imsc ico_option\">컨텍스트 자동완성</i></a>,\n",
       " <a class=\"btn_close _plus_layer_close\" href=\"#\" onclick=\"return tCR('a=sug.cxhide');\" role=\"button\"><i class=\"imsc ico_close\">컨텍스트 자동완성 레이어 닫기</i></a>,\n",
       " <a class=\"close _suggestOnOff\" href=\"#\">자동완성 끄기</a>,\n",
       " <a aria-pressed=\"false\" class=\"lnb_more _more_btn\" href=\"#\" onclick=\"tCR(jQuery(this).attr('aria-pressed') === 'false' ? 'a=tab.more' : 'a=tmr.less');\" role=\"button\"> <i class=\"spnew ico_lnb_more\">더보기</i> </a>,\n",
       " <a aria-pressed=\"false\" class=\"btn_option _option_btn\" href=\"#\" onclick=\"return tCR('a=tmr.optn');\" role=\"button\">검색옵션</a>,\n",
       " <a class=\"spnew_bf bt_share naver-splugin\" data-band-url=\"https://search.naver.com/search.naver?query=%EB%89%B4%EC%A7%84%EC%8A%A4&amp;sm=bdp_pin&amp;where=nexearch\" data-blog-url=\"https://search.naver.com/search.naver?query=%EB%89%B4%EC%A7%84%EC%8A%A4&amp;sm=svc_pin.blog&amp;where=nexearch\" data-cafe-source-form=\"2\" data-cafe-url=\"https://search.naver.com/search.naver?query=%EB%89%B4%EC%A7%84%EC%8A%A4&amp;sm=svc_pin.cafe&amp;where=nexearch\" data-calendar-url=\"https://search.naver.com/search.naver?query=%EB%89%B4%EC%A7%84%EC%8A%A4&amp;sm=svc_pin.cal&amp;where=nexearch\" data-evkey=\"search\" data-facebook-url=\"https://search.naver.com/search.naver?query=%EB%89%B4%EC%A7%84%EC%8A%A4&amp;sm=fbp_pin&amp;where=nexearch\" data-mail-display=\"off\" data-me-display=\"off\" data-memo-url=\"https://search.naver.com/search.naver?query=%EB%89%B4%EC%A7%84%EC%8A%A4&amp;sm=svc_pin.memo&amp;where=nexearch\" data-option=\"{baseElement:'spiButton2', layerPosition:'outside-bottom', align:'right', top:4, left:0, marginLeft:8, marginTop:10}\" data-service-name=\"통합검색\" data-style=\"unity-v2\" data-twitter-url=\"https://search.naver.com/search.naver?query=%EB%89%B4%EC%A7%84%EC%8A%A4&amp;sm=twp_pin&amp;where=nexearch\" data-use-short-url=\"on\" href=\"#\" id=\"spiButton2\" onclick=\"return tCR('a=lnb.shr');\" role=\"button\">공유</a>,\n",
       " <a aria-selected=\"false\" class=\"txt txt_option _calendar_select_trigger\" data-select-trigger=\"\" href=\"#\" onclick=\"tCR('a=opt.cal');\" role=\"tab\">직접입력<i class=\"spnew ico_check\">옵션<em class=\"open\">펼치기</em><em class=\"close\">접기</em></i></a>,\n",
       " <a aria-selected=\"true\" class=\"spnew_bf ico_calendar _start_trigger\" href=\"#\" onclick=\"tCR('a=opt.str');\" role=\"tab\"></a>,\n",
       " <a aria-selected=\"false\" class=\"spnew_bf ico_calendar _end_trigger\" href=\"#\" onclick=\"tCR('a=opt.fin');\" role=\"tab\"></a>,\n",
       " <a class=\"btn_save _keep_trigger\" data-url=\"https://search.naver.com/search.naver?where=nexearch&amp;sm=tab_etc&amp;mra=bjky&amp;x_csa=%7B%22fromUi%22%3A%22kb_artist%22%7D&amp;pkid=1&amp;os=28564418&amp;qvt=0&amp;query=%EB%89%B4%EC%A7%84%EC%8A%A4\" href=\"#\" nocr=\"\" onclick=\"goOtherTCR(this, 'a=nco_x29*u.keep&amp;r=1&amp;i=1800000D_000001B3DBC2');return false;\" role=\"button\"> <i class=\"spnew ico_save\">문서 저장하기</i> </a>,\n",
       " <a class=\"spnew_af item item_save _keep_save\" data-cr-off=\"a=nco_x29*u.keepoff&amp;r=1&amp;i=1800000D_000001B3DBC2\" data-cr-on=\"a=nco_x29*u.keepon&amp;r=1&amp;i=1800000D_000001B3DBC2\" href=\"#\" nocr=\"\" role=\"button\">Keep에 저장</a>,\n",
       " <a class=\"pre_visual _prev _left\" href=\"#\" nocr=\"\">이전</a>,\n",
       " <a class=\"next_visual _next _right\" href=\"#\" nocr=\"\">다음</a>,\n",
       " <a class=\"pre_visual _prev\" href=\"#\" nocr=\"\" onclick=\"goOtherTCR(this, 'a=nco_x29*u.abanscrleft&amp;r=1&amp;i=1800000D_000000000000');return false;\">이전</a>,\n",
       " <a class=\"next_visual _next on\" href=\"#\" nocr=\"\" onclick=\"goOtherTCR(this, 'a=nco_x29*u.abanscrright&amp;r=1&amp;i=1800000D_000000000000');return false;\">다음</a>,\n",
       " <a class=\"pre_visual\" data-kgs-page-action-prev=\"\" href=\"#\" nocr=\"\" onclick=\"goOtherTCR(this, 'a=nco_x29*u.videoscrleft&amp;r=1&amp;i=1800000D_000000000000');return false;\"><span class=\"blind\">이전</span></a>,\n",
       " <a class=\"next_visual\" data-kgs-page-action-next=\"\" href=\"#\" nocr=\"\" onclick=\"goOtherTCR(this, 'a=nco_x29*u.videoscrright&amp;r=1&amp;i=1800000D_000000000000');return false;\"><span class=\"blind\">다음</span></a>,\n",
       " <a class=\"pre_visual _prev\" href=\"#\" nocr=\"\" onclick=\"goOtherTCR(this, 'a=nco_x29*u.memscrleft&amp;r=1&amp;i=1800000D_000000000000');return false;\">이전</a>,\n",
       " <a class=\"next_visual _next on\" href=\"#\" nocr=\"\" onclick=\"goOtherTCR(this, 'a=nco_x29*u.memscrright&amp;r=1&amp;i=1800000D_000000000000');return false;\">다음</a>,\n",
       " <a class=\"pre_visual _prev\" href=\"#\" nocr=\"\" onclick=\"goOtherTCR(this, 'a=nco_x29*u.astscrleft&amp;r=1&amp;i=1800000D_000000000000');return false;\"><span class=\"blind\">이전</span></a>,\n",
       " <a class=\"next_visual _next\" href=\"#\" nocr=\"\" onclick=\"goOtherTCR(this, 'a=nco_x29*u.astscrright&amp;r=1&amp;i=1800000D_000000000000');return false;\"><span class=\"blind\">다음</span></a>,\n",
       " <a href=\"#\" onclick='return goOtherCR(this,\"a=nco_x29*u&amp;r=1&amp;i=\"+urlencode(\"1800000D_000001B3DBC2\")+\"&amp;u=\"+urlencode(this.href));'>트위터</a>,\n",
       " <a href=\"#\" onclick='return goOtherCR(this,\"a=nco_x29*u&amp;r=1&amp;i=\"+urlencode(\"1800000D_000001B3DBC2\")+\"&amp;u=\"+urlencode(this.href));'>Weverse</a>,\n",
       " <a href=\"#\" onclick='return goOtherCR(this,\"a=nco_x29*u&amp;r=1&amp;i=\"+urlencode(\"1800000D_000001B3DBC2\")+\"&amp;u=\"+urlencode(this.href));'>유튜브</a>,\n",
       " <a href=\"#\" onclick='return goOtherCR(this,\"a=nco_x29*u&amp;r=1&amp;i=\"+urlencode(\"1800000D_000001B3DBC2\")+\"&amp;u=\"+urlencode(this.href));'>네이버 NOW.</a>,\n",
       " <a class=\"pre_visual _prev\" href=\"#\" nocr=\"\" onclick=\"goOtherTCR(this, 'a=nco_x29*u.asnsscrleft&amp;r=1&amp;i=1800000D_000000000000');return false;\">이전</a>,\n",
       " <a class=\"next_visual _next on\" href=\"#\" nocr=\"\" onclick=\"goOtherTCR(this, 'a=nco_x29*u.asnsscrright&amp;r=1&amp;i=1800000D_000000000000');return false;\">다음</a>,\n",
       " <a class=\"play_tab\" href=\"#\" nocr=\"\" onclick=\"goOtherTCR(this, 'a=nco_x29*u.rsngtap&amp;r=1&amp;i=1800000D_000001B3DBC2');return false;\">곡</a>,\n",
       " <a class=\"play_tab\" href=\"#\" nocr=\"\" onclick=\"goOtherTCR(this, 'a=nco_x29*u.ralbtap&amp;r=1&amp;i=1800000D_000001B3DBC2');return false;\">앨범</a>,\n",
       " <a class=\"play_tab\" href=\"#\" nocr=\"\" onclick=\"goOtherTCR(this, 'a=nco_x29*u.rplaytap&amp;r=1&amp;i=1800000D_000001B3DBC2');return false;\">공연</a>,\n",
       " <a class=\"play_tab\" href=\"#\" nocr=\"\" onclick=\"goOtherTCR(this, 'a=nco_x29*u.rtvtap&amp;r=1&amp;i=1800000D_000001B3DBC2');return false;\">방송</a>,\n",
       " <a class=\"pre_visual _prev\" href=\"#\" nocr=\"\" onclick=\"goOtherTCR(this, 'a=nco_x29*u.rsngleft&amp;r=1&amp;i=1800000D_000000000000');return false;\">이전</a>,\n",
       " <a class=\"next_visual _next on\" href=\"#\" nocr=\"\" onclick=\"goOtherTCR(this, 'a=nco_x29*u.rsngright&amp;r=1&amp;i=1800000D_000000000000');return false;\">다음</a>,\n",
       " <a class=\"pre_visual _prev\" href=\"#\" nocr=\"\" onclick=\"goOtherTCR(this, 'a=nco_x29*u.ralbleft&amp;r=1&amp;i=1800000D_000000000000');return false;\">이전</a>,\n",
       " <a class=\"next_visual _next on\" href=\"#\" nocr=\"\" onclick=\"goOtherTCR(this, 'a=nco_x29*u.ralbright&amp;r=1&amp;i=1800000D_000000000000');return false;\">다음</a>,\n",
       " <a class=\"pre_visual _prev\" href=\"#\" nocr=\"\" onclick=\"goOtherTCR(this, 'a=nco_x29*u.rplayleft&amp;r=1&amp;i=1800000D_000000000000');return false;\">이전</a>,\n",
       " <a class=\"next_visual _next on\" href=\"#\" nocr=\"\" onclick=\"goOtherTCR(this, 'a=nco_x29*u.rplayright&amp;r=1&amp;i=1800000D_000000000000');return false;\">다음</a>,\n",
       " <a class=\"pre_visual _prev\" href=\"#\" nocr=\"\" onclick=\"goOtherTCR(this, 'a=nco_x29*u.rtvleft&amp;r=1&amp;i=1800000D_000000000000');return false;\">이전</a>,\n",
       " <a class=\"next_visual _next on\" href=\"#\" nocr=\"\" onclick=\"goOtherTCR(this, 'a=nco_x29*u.rtvright&amp;r=1&amp;i=1800000D_000000000000');return false;\">다음</a>,\n",
       " <a class=\"btn_save _keep_trigger\" data-url=\"https://search.naver.com/search.naver?where=nexearch&amp;sm=tab_etc&amp;mra=bkhH&amp;x_csa=%7B%22theme%22%3A%22music_top%22%2C%20%22pkid%22%3A%22632%22%7D&amp;pkid=632&amp;os=31861353&amp;qvt=0&amp;query=New%20Jeans\" href=\"#\" nocr=\"\" onclick=\"goOtherTCR(this, 'a=nco_xgh*a.keep&amp;r=1&amp;i=00000000_000001E62A69');return false;\" role=\"button\"> <i class=\"spnew ico_save\">문서 저장하기</i> </a>,\n",
       " <a class=\"spnew_af item item_save _keep_save\" data-cr-off=\"a=nco_xgh*a.keepoff&amp;r=1&amp;i=00000000_000001E62A69\" data-cr-on=\"a=nco_xgh*a.keepon&amp;r=1&amp;i=00000000_000001E62A69\" href=\"#\" nocr=\"\" role=\"button\">Keep에 저장</a>,\n",
       " <a class=\"pre_visual _prev _left\" href=\"#\" nocr=\"\">이전</a>,\n",
       " <a class=\"next_visual _next _right\" href=\"#\" nocr=\"\">다음</a>,\n",
       " <a class=\"info_text\" data-kgs-collapse-toggle-info=\"\" href=\"#\" nocr=\"\" onclick=\"goOtherTCR(this, 'a=nco_xgh*a.asourceinfo&amp;r=1&amp;i=00000000_000001E62A69');return false;\" role=\"button\">제공<i class=\"cm_ico_alert\"><span class=\"area_inner\"><span class=\"blind\">정보확인 내용 열고 닫기</span></span></i></a>,\n",
       " <a aria-pressed=\"false\" class=\"btn_save _keep_trigger\" data-url=\"https://news.jtbc.co.kr/article/article.aspx?news_id=NB12134267\" href=\"#\" onclick=\"tCR('a=nws_all*a.kep&amp;r=1&amp;i=08138260_000000000000000000350474&amp;u=javascript'); return false;\" role=\"button\"><i class=\"spnew ico_save\">문서 저장하기</i></a>,\n",
       " <a class=\"spnew_af item item_save _keep_save\" data-cr-off=\"a=nws_all*a.kepoff&amp;r=1&amp;i=08138260_000000000000000000350474&amp;u=javascript\" data-cr-on=\"a=nws_all*a.kepon&amp;r=1&amp;i=08138260_000000000000000000350474&amp;u=javascript\" href=\"#\" role=\"button\">Keep에 저장</a>,\n",
       " <a aria-pressed=\"false\" class=\"btn_save _keep_trigger\" data-url=\"https://www.starnewskorea.com/stview.php?no=2023071009414665638\" href=\"#\" onclick=\"tCR('a=nws_all*a.kep&amp;r=4&amp;i=880000C3_000000000000000003165941&amp;u=javascript'); return false;\" role=\"button\"><i class=\"spnew ico_save\">문서 저장하기</i></a>,\n",
       " <a class=\"spnew_af item item_save _keep_save\" data-cr-off=\"a=nws_all*a.kepoff&amp;r=4&amp;i=880000C3_000000000000000003165941&amp;u=javascript\" data-cr-on=\"a=nws_all*a.kepon&amp;r=4&amp;i=880000C3_000000000000000003165941&amp;u=javascript\" href=\"#\" role=\"button\">Keep에 저장</a>,\n",
       " <a aria-pressed=\"false\" class=\"btn_save _keep_trigger\" data-url=\"https://www.news1.kr/articles/5102811\" href=\"#\" onclick=\"tCR('a=nws_all*a.kep&amp;r=7&amp;i=08138263_000000000000000006916711&amp;u=javascript'); return false;\" role=\"button\"><i class=\"spnew ico_save\">문서 저장하기</i></a>,\n",
       " <a class=\"spnew_af item item_save _keep_save\" data-cr-off=\"a=nws_all*a.kepoff&amp;r=7&amp;i=08138263_000000000000000006916711&amp;u=javascript\" data-cr-on=\"a=nws_all*a.kepon&amp;r=7&amp;i=08138263_000000000000000006916711&amp;u=javascript\" href=\"#\" role=\"button\">Keep에 저장</a>,\n",
       " <a aria-pressed=\"false\" class=\"btn_save _keep_trigger\" data-url=\"http://www.newsis.com/view/?id=NISX20230709_0002369520&amp;cID=10601&amp;pID=10600\" href=\"#\" onclick=\"tCR('a=nws_all*a.kep&amp;r=10&amp;i=88000127_000000000000000011962401&amp;u=javascript'); return false;\" role=\"button\"><i class=\"spnew ico_save\">문서 저장하기</i></a>,\n",
       " <a class=\"spnew_af item item_save _keep_save\" data-cr-off=\"a=nws_all*a.kepoff&amp;r=10&amp;i=88000127_000000000000000011962401&amp;u=javascript\" data-cr-on=\"a=nws_all*a.kepon&amp;r=10&amp;i=88000127_000000000000000011962401&amp;u=javascript\" href=\"#\" role=\"button\">Keep에 저장</a>,\n",
       " <a class=\"btn_save _keep_trigger\" data-url=\"https://namu.wiki/w/NewJeans\" href=\"#\" onclick='tCR(\"a=sit_4po.kep&amp;r=&amp;i=&amp;u=javascript\")' role=\"button\"><i class=\"spnew ico_save\">문서 저장하기</i></a>,\n",
       " <a class=\"spnew_af item item_save _keep_save\" data-cr-off=\"a=sit_4po.keepoff\" data-cr-on=\"a=sit_4po.keepon\" href=\"#\" role=\"button\">Keep에 저장</a>,\n",
       " <a class=\"btn\" href=\"#\" onclick=\"tCR('a=itb_bas*0.prev&amp;r=&amp;i=&amp;u=javascript');\" role=\"button\"><i class=\"spnew ico_arr\">이전</i></a>,\n",
       " <a class=\"btn\" href=\"#\" onclick=\"tCR('a=itb_bas*0.next&amp;r=&amp;i=&amp;u=javascript');\" role=\"button\"><i class=\"spnew ico_arr\">다음</i></a>,\n",
       " <a aria-pressed=\"false\" class=\"btn_save _keep_trigger\" data-cr-off=\"a=itb_bas*b.kep&amp;r=15&amp;i=SYS-0000000005344485.90000003_0000000000000033F48A0DE8&amp;g=%7B%22bid%22%3A%22SYS-0000000005344485%22%2C%22docRank%22%3A1%7D\" data-cr-on=\"a=itb_bas*b.kep&amp;r=15&amp;i=SYS-0000000005344485.90000003_0000000000000033F48A0DE8&amp;g=%7B%22bid%22%3A%22SYS-0000000005344485%22%2C%22docRank%22%3A1%7D\" data-url=\"https://blog.naver.com/lo_meo/223146020328\" href=\"#\" role=\"button\"><i class=\"spnew ico_save\">문서 저장하기</i></a>,\n",
       " <a class=\"btn\" href=\"#\" onclick=\"tCR('a=itb_bas*b.imgflk&amp;r=&amp;i=&amp;u=javascript');\" role=\"button\"><i class=\"spnew ico_arr\">이전</i></a>,\n",
       " <a class=\"btn\" href=\"#\" onclick=\"tCR('a=itb_bas*b.imgflk&amp;r=&amp;i=&amp;u=javascript');\" role=\"button\"><i class=\"spnew ico_arr\">다음</i></a>,\n",
       " <a aria-pressed=\"false\" class=\"btn_save _keep_trigger\" data-cr-off=\"a=itb_bas*b.kep&amp;r=16&amp;i=SYS-0000000005344485.90000003_0000000000000033F4709394&amp;g=%7B%22bid%22%3A%22SYS-0000000005344485%22%2C%22docRank%22%3A2%7D\" data-cr-on=\"a=itb_bas*b.kep&amp;r=16&amp;i=SYS-0000000005344485.90000003_0000000000000033F4709394&amp;g=%7B%22bid%22%3A%22SYS-0000000005344485%22%2C%22docRank%22%3A2%7D\" data-url=\"https://blog.naver.com/dedoeoh/223144350612\" href=\"#\" role=\"button\"><i class=\"spnew ico_save\">문서 저장하기</i></a>,\n",
       " <a aria-pressed=\"false\" class=\"btn_save _keep_trigger\" data-cr-off=\"a=itb_bas*f.kep&amp;r=17&amp;i=SYS-0000000005344485.a0209rl4_nblog_post_223150735176&amp;g=%7B%22bid%22%3A%22SYS-0000000005344485%22%2C%22docRank%22%3A3%7D\" data-cr-on=\"a=itb_bas*f.kep&amp;r=17&amp;i=SYS-0000000005344485.a0209rl4_nblog_post_223150735176&amp;g=%7B%22bid%22%3A%22SYS-0000000005344485%22%2C%22docRank%22%3A3%7D\" data-url=\"https://in.naver.com/buucuukuu/contents/internal/583820162714208\" href=\"#\" role=\"button\"><i class=\"spnew ico_save\">문서 저장하기</i></a>,\n",
       " <a aria-pressed=\"false\" class=\"btn_save _keep_trigger\" data-cr-off=\"a=itb_bas*b.kep&amp;r=18&amp;i=SYS-0000000026426284.90000003_0000000000000033EC356503&amp;g=%7B%22bid%22%3A%22SYS-0000000026426284%22%2C%22docRank%22%3A1%7D\" data-cr-on=\"a=itb_bas*b.kep&amp;r=18&amp;i=SYS-0000000026426284.90000003_0000000000000033EC356503&amp;g=%7B%22bid%22%3A%22SYS-0000000026426284%22%2C%22docRank%22%3A1%7D\" data-url=\"https://blog.naver.com/hello_jooya00/223006254339\" href=\"#\" role=\"button\"><i class=\"spnew ico_save\">문서 저장하기</i></a>,\n",
       " <a class=\"btn\" href=\"#\" onclick=\"tCR('a=itb_bas*b.imgflk&amp;r=&amp;i=&amp;u=javascript');\" role=\"button\"><i class=\"spnew ico_arr\">이전</i></a>,\n",
       " <a class=\"btn\" href=\"#\" onclick=\"tCR('a=itb_bas*b.imgflk&amp;r=&amp;i=&amp;u=javascript');\" role=\"button\"><i class=\"spnew ico_arr\">다음</i></a>,\n",
       " <a aria-pressed=\"false\" class=\"btn_save _keep_trigger\" data-cr-off=\"a=itb_bas*b.kep&amp;r=19&amp;i=SYS-0000000026426284.90000003_0000000000000033E3ECE9C6&amp;g=%7B%22bid%22%3A%22SYS-0000000026426284%22%2C%22docRank%22%3A2%7D\" data-cr-on=\"a=itb_bas*b.kep&amp;r=19&amp;i=SYS-0000000026426284.90000003_0000000000000033E3ECE9C6&amp;g=%7B%22bid%22%3A%22SYS-0000000026426284%22%2C%22docRank%22%3A2%7D\" data-url=\"https://blog.naver.com/secretinto/222867286470\" href=\"#\" role=\"button\"><i class=\"spnew ico_save\">문서 저장하기</i></a>,\n",
       " <a aria-pressed=\"false\" class=\"btn_save _keep_trigger\" data-cr-off=\"a=itb_bas*b.kep&amp;r=20&amp;i=SYS-0000000026426284.90000003_0000000000000033E7DB887F&amp;g=%7B%22bid%22%3A%22SYS-0000000026426284%22%2C%22docRank%22%3A3%7D\" data-cr-on=\"a=itb_bas*b.kep&amp;r=20&amp;i=SYS-0000000026426284.90000003_0000000000000033E7DB887F&amp;g=%7B%22bid%22%3A%22SYS-0000000026426284%22%2C%22docRank%22%3A3%7D\" data-url=\"https://blog.naver.com/thrue111/222933256319\" href=\"#\" role=\"button\"><i class=\"spnew ico_save\">문서 저장하기</i></a>,\n",
       " <a class=\"api_link_help _trigger\" href=\"#\" onclick=\"tCR('a=crs_itb.info&amp;r=&amp;i=&amp;u=javascript');\" role=\"button\"><i class=\"spnew api_ico_alert\">이 정보가 표시된 이유</i></a>,\n",
       " <a class=\"btn\" href=\"#\" onclick=\"tCR('a=crs_itb.frk&amp;r=&amp;i=&amp;u=javascript');\" role=\"button\"><i class=\"spnew ico_arr\">이전</i></a>,\n",
       " <a class=\"btn\" href=\"#\" onclick=\"tCR('a=crs_itb.frk&amp;r=&amp;i=&amp;u=javascript');\" role=\"button\"><i class=\"spnew ico_arr\">다음</i></a>,\n",
       " <a class=\"rec_btn_close _intent_cross_collection_close_button\" href=\"#\" onclick=\"tCR('a=crs_itb.close&amp;r=&amp;i=&amp;u=javascript');\" role=\"button\"><i class=\"spnew api_ico_close\">함께 볼만한 검색어 닫기</i></a>,\n",
       " <a aria-pressed=\"false\" class=\"btn_save _keep_trigger\" data-cr-off=\"a=itb_bas*b.kep&amp;r=21&amp;i=SYS-0000000028866570.90000003_0000000000000033F3E79541&amp;g=%7B%22bid%22%3A%22SYS-0000000028866570%22%2C%22docRank%22%3A1%7D\" data-cr-on=\"a=itb_bas*b.kep&amp;r=21&amp;i=SYS-0000000028866570.90000003_0000000000000033F3E79541&amp;g=%7B%22bid%22%3A%22SYS-0000000028866570%22%2C%22docRank%22%3A1%7D\" data-url=\"https://blog.naver.com/hello_jooya00/223135372609\" href=\"#\" role=\"button\"><i class=\"spnew ico_save\">문서 저장하기</i></a>,\n",
       " <a class=\"btn\" href=\"#\" onclick=\"tCR('a=itb_bas*b.imgflk&amp;r=&amp;i=&amp;u=javascript');\" role=\"button\"><i class=\"spnew ico_arr\">이전</i></a>,\n",
       " <a class=\"btn\" href=\"#\" onclick=\"tCR('a=itb_bas*b.imgflk&amp;r=&amp;i=&amp;u=javascript');\" role=\"button\"><i class=\"spnew ico_arr\">다음</i></a>,\n",
       " <a aria-pressed=\"false\" class=\"btn_save _keep_trigger\" data-cr-off=\"a=itb_bas*b.kep&amp;r=22&amp;i=SYS-0000000028866570.90000003_0000000000000033F1E832E6&amp;g=%7B%22bid%22%3A%22SYS-0000000028866570%22%2C%22docRank%22%3A2%7D\" data-cr-on=\"a=itb_bas*b.kep&amp;r=22&amp;i=SYS-0000000028866570.90000003_0000000000000033F1E832E6&amp;g=%7B%22bid%22%3A%22SYS-0000000028866570%22%2C%22docRank%22%3A2%7D\" data-url=\"https://blog.naver.com/icecreamyam222/223101858534\" href=\"#\" role=\"button\"><i class=\"spnew ico_save\">문서 저장하기</i></a>,\n",
       " <a aria-pressed=\"false\" class=\"btn_save _keep_trigger\" data-cr-off=\"a=itb_bas*b.kep&amp;r=23&amp;i=SYS-0000000028866570.90000003_0000000000000033F1184234&amp;g=%7B%22bid%22%3A%22SYS-0000000028866570%22%2C%22docRank%22%3A3%7D\" data-cr-on=\"a=itb_bas*b.kep&amp;r=23&amp;i=SYS-0000000028866570.90000003_0000000000000033F1184234&amp;g=%7B%22bid%22%3A%22SYS-0000000028866570%22%2C%22docRank%22%3A3%7D\" data-url=\"https://blog.naver.com/dcje1024/223088230964\" href=\"#\" role=\"button\"><i class=\"spnew ico_save\">문서 저장하기</i></a>,\n",
       " <a class=\"btn_confirm _ok\" href=\"#\" onclick=\"return tCR('a=img_bas.reportok');\" role=\"button\">확인</a>,\n",
       " <a class=\"btn_cancel _cancel\" href=\"#\" onclick=\"return tCR('a=img_bas.reportno');\" role=\"button\">취소</a>,\n",
       " <a class=\"btn_report _btn\" href=\"#\" onclick=\"return tCR('a=img_bas.report');\" role=\"button\">이미지 신고하기</a>,\n",
       " <a aria-pressed=\"false\" class=\"api_link_help _trigger\" href=\"#\" onclick=\"return tCR('a=shp_gui.imark&amp;r=&amp;i=&amp;u=javascript');\" role=\"button\" title=\"이 정보가 표시된 이유\"><i class=\"spnew api_ico_alert\">이 정보가 표시된 이유</i></a>,\n",
       " <a aria-selected=\"true\" class=\"item _item\" href=\"#\" onclick=\"return tCR('u=javascript&amp;r=&amp;i=&amp;a=shp_gui*9.tab');\" role=\"tab\"><span class=\"txt\">키워드추천</span></a>,\n",
       " <a aria-selected=\"false\" class=\"item _item\" href=\"#\" onclick=\"return tCR('u=javascript&amp;r=&amp;i=&amp;a=shp_gui*3.tab');\" role=\"tab\"><span class=\"txt\">수집품종류</span></a>,\n",
       " <a aria-selected=\"false\" class=\"item _item\" href=\"#\" onclick=\"return tCR('u=javascript&amp;r=&amp;i=&amp;a=shp_gui*i.tab');\" role=\"tab\"><span class=\"txt\">가격</span></a>,\n",
       " <a aria-selected=\"true\" class=\"item _item\" data-adlog=\"https://event.impression-neo.naver.com/api/v1/impressions?impressionKey=CnTUKwAAAYk9bQHWFGqtdte2rSs%3D&amp;channelAlias=naver.search.pc.npla&amp;ui=GUIDE\" data-clicklog-id=\"shp_gui*a\" data-cpnt=\"etc\" data-ctnt=\"all\" data-more-count=\"27562\" data-more-link=\"https://search.shopping.naver.com/search/all?query=%EB%89%B4%EC%A7%84%EC%8A%A4&amp;bt=-1&amp;frm=NVSCPRO\" data-searchword=\"\" data-start=\"1\" href=\"#\" onclick=\"return tCR('u=javascript&amp;r=&amp;i=&amp;a=shp_gui*a.tab&amp;g=C_etc_all');\" role=\"tab\"> <span class=\"txt\">전체</span> </a>,\n",
       " <a aria-selected=\"false\" class=\"item _item\" data-clicklog-id=\"shp_gui*9\" data-cpnt=\"etc\" data-ctnt=\"뉴진스앨범\" data-more-count=\"1687\" data-more-link=\"https://search.shopping.naver.com/search/all?query=%EB%89%B4%EC%A7%84%EC%8A%A4&amp;iq=%EB%89%B4%EC%A7%84%EC%8A%A4%EC%95%A8%EB%B2%94&amp;bt=-1&amp;frm=NVSCPRO\" data-searchword=\"뉴진스앨범\" data-start=\"9\" href=\"#\" onclick=\"return tCR('u=javascript&amp;r=&amp;i=&amp;a=shp_gui*9.tab&amp;g=C_etc_%EB%89%B4%EC%A7%84%EC%8A%A4%EC%95%A8%EB%B2%94');\" role=\"tab\"> <span class=\"txt\">앨범</span> </a>,\n",
       " <a aria-selected=\"false\" class=\"item _item\" data-clicklog-id=\"shp_gui*9\" data-cpnt=\"etc\" data-ctnt=\"뉴진스블루북\" data-more-count=\"105\" data-more-link=\"https://search.shopping.naver.com/search/all?query=%EB%89%B4%EC%A7%84%EC%8A%A4&amp;iq=%EB%89%B4%EC%A7%84%EC%8A%A4%EB%B8%94%EB%A3%A8%EB%B6%81&amp;bt=-1&amp;frm=NVSCPRO\" data-searchword=\"뉴진스블루북\" data-start=\"17\" href=\"#\" onclick=\"return tCR('u=javascript&amp;r=&amp;i=&amp;a=shp_gui*9.tab&amp;g=C_etc_%EB%89%B4%EC%A7%84%EC%8A%A4%EB%B8%94%EB%A3%A8%EB%B6%81');\" role=\"tab\"> <span class=\"txt\">블루북</span> </a>,\n",
       " <a aria-selected=\"false\" class=\"item _item\" data-clicklog-id=\"shp_gui*9\" data-cpnt=\"etc\" data-ctnt=\"뉴진스omg\" data-more-count=\"1538\" data-more-link=\"https://search.shopping.naver.com/search/all?query=%EB%89%B4%EC%A7%84%EC%8A%A4&amp;iq=%EB%89%B4%EC%A7%84%EC%8A%A4omg&amp;bt=-1&amp;frm=NVSCPRO\" data-searchword=\"뉴진스omg\" data-start=\"25\" href=\"#\" onclick=\"return tCR('u=javascript&amp;r=&amp;i=&amp;a=shp_gui*9.tab&amp;g=C_etc_%EB%89%B4%EC%A7%84%EC%8A%A4omg');\" role=\"tab\"> <span class=\"txt\">omg</span> </a>,\n",
       " <a aria-selected=\"false\" class=\"item _item\" data-clicklog-id=\"shp_gui*9\" data-cpnt=\"etc\" data-ctnt=\"뉴진스getup\" data-more-count=\"66\" data-more-link=\"https://search.shopping.naver.com/search/all?query=%EB%89%B4%EC%A7%84%EC%8A%A4&amp;iq=%EB%89%B4%EC%A7%84%EC%8A%A4getup&amp;bt=-1&amp;frm=NVSCPRO\" data-searchword=\"뉴진스getup\" data-start=\"33\" href=\"#\" onclick=\"return tCR('u=javascript&amp;r=&amp;i=&amp;a=shp_gui*9.tab&amp;g=C_etc_%EB%89%B4%EC%A7%84%EC%8A%A4getup');\" role=\"tab\"> <span class=\"txt\">getup</span> </a>,\n",
       " <a aria-selected=\"false\" class=\"item _item\" data-clicklog-id=\"shp_gui*9\" data-cpnt=\"etc\" data-ctnt=\"뉴진스위버스\" data-more-count=\"227\" data-more-link=\"https://search.shopping.naver.com/search/all?query=%EB%89%B4%EC%A7%84%EC%8A%A4&amp;iq=%EB%89%B4%EC%A7%84%EC%8A%A4%EC%9C%84%EB%B2%84%EC%8A%A4&amp;bt=-1&amp;frm=NVSCPRO\" data-searchword=\"뉴진스위버스\" data-start=\"41\" href=\"#\" onclick=\"return tCR('u=javascript&amp;r=&amp;i=&amp;a=shp_gui*9.tab&amp;g=C_etc_%EB%89%B4%EC%A7%84%EC%8A%A4%EC%9C%84%EB%B2%84%EC%8A%A4');\" role=\"tab\"> <span class=\"txt\">위버스</span> </a>,\n",
       " <a aria-selected=\"false\" class=\"item _item\" data-clicklog-id=\"shp_gui*9\" data-cpnt=\"etc\" data-ctnt=\"뉴진스포카\" data-more-count=\"1121\" data-more-link=\"https://search.shopping.naver.com/search/all?query=%EB%89%B4%EC%A7%84%EC%8A%A4&amp;iq=%EB%89%B4%EC%A7%84%EC%8A%A4%ED%8F%AC%EC%B9%B4&amp;bt=-1&amp;frm=NVSCPRO\" data-searchword=\"뉴진스포카\" data-start=\"49\" href=\"#\" onclick=\"return tCR('u=javascript&amp;r=&amp;i=&amp;a=shp_gui*9.tab&amp;g=C_etc_%EB%89%B4%EC%A7%84%EC%8A%A4%ED%8F%AC%EC%B9%B4');\" role=\"tab\"> <span class=\"txt\">포카</span> </a>,\n",
       " <a aria-selected=\"false\" class=\"item _item\" data-clicklog-id=\"shp_gui*9\" data-cpnt=\"etc\" data-ctnt=\"뉴진스비치백\" data-more-count=\"108\" data-more-link=\"https://search.shopping.naver.com/search/all?query=%EB%89%B4%EC%A7%84%EC%8A%A4&amp;iq=%EB%89%B4%EC%A7%84%EC%8A%A4%EB%B9%84%EC%B9%98%EB%B0%B1&amp;bt=-1&amp;frm=NVSCPRO\" data-searchword=\"뉴진스비치백\" data-start=\"57\" href=\"#\" onclick=\"return tCR('u=javascript&amp;r=&amp;i=&amp;a=shp_gui*9.tab&amp;g=C_etc_%EB%89%B4%EC%A7%84%EC%8A%A4%EB%B9%84%EC%B9%98%EB%B0%B1');\" role=\"tab\"> <span class=\"txt\">비치백</span> </a>,\n",
       " <a aria-selected=\"false\" class=\"item _item\" data-clicklog-id=\"shp_gui*9\" data-cpnt=\"etc\" data-ctnt=\"뉴진스시즌그리팅\" data-more-count=\"130\" data-more-link=\"https://search.shopping.naver.com/search/all?query=%EB%89%B4%EC%A7%84%EC%8A%A4&amp;iq=%EB%89%B4%EC%A7%84%EC%8A%A4%EC%8B%9C%EC%A6%8C%EA%B7%B8%EB%A6%AC%ED%8C%85&amp;bt=-1&amp;frm=NVSCPRO\" data-searchword=\"뉴진스시즌그리팅\" data-start=\"65\" href=\"#\" onclick=\"return tCR('u=javascript&amp;r=&amp;i=&amp;a=shp_gui*9.tab&amp;g=C_etc_%EB%89%B4%EC%A7%84%EC%8A%A4%EC%8B%9C%EC%A6%8C%EA%B7%B8%EB%A6%AC%ED%8C%85');\" role=\"tab\"> <span class=\"txt\">시즌그리팅</span> </a>,\n",
       " <a aria-selected=\"false\" class=\"item _item\" data-clicklog-id=\"shp_gui*9\" data-cpnt=\"etc\" data-ctnt=\"뉴진스cd\" data-more-count=\"127\" data-more-link=\"https://search.shopping.naver.com/search/all?query=%EB%89%B4%EC%A7%84%EC%8A%A4&amp;iq=%EB%89%B4%EC%A7%84%EC%8A%A4cd&amp;bt=-1&amp;frm=NVSCPRO\" data-searchword=\"뉴진스cd\" data-start=\"73\" href=\"#\" onclick=\"return tCR('u=javascript&amp;r=&amp;i=&amp;a=shp_gui*9.tab&amp;g=C_etc_%EB%89%B4%EC%A7%84%EC%8A%A4cd');\" role=\"tab\"> <span class=\"txt\">cd</span> </a>,\n",
       " <a aria-selected=\"false\" class=\"item _item\" data-clicklog-id=\"shp_gui*9\" data-cpnt=\"etc\" data-ctnt=\"뉴진스포스터\" data-more-count=\"88\" data-more-link=\"https://search.shopping.naver.com/search/all?query=%EB%89%B4%EC%A7%84%EC%8A%A4&amp;iq=%EB%89%B4%EC%A7%84%EC%8A%A4%ED%8F%AC%EC%8A%A4%ED%84%B0&amp;bt=-1&amp;frm=NVSCPRO\" data-searchword=\"뉴진스포스터\" data-start=\"81\" href=\"#\" onclick=\"return tCR('u=javascript&amp;r=&amp;i=&amp;a=shp_gui*9.tab&amp;g=C_etc_%EB%89%B4%EC%A7%84%EC%8A%A4%ED%8F%AC%EC%8A%A4%ED%84%B0');\" role=\"tab\"> <span class=\"txt\">포스터</span> </a>,\n",
       " <a aria-selected=\"false\" class=\"item _item\" data-clicklog-id=\"shp_gui*9\" data-cpnt=\"etc\" data-ctnt=\"뉴진스해린\" data-more-count=\"2580\" data-more-link=\"https://search.shopping.naver.com/search/all?query=%EB%89%B4%EC%A7%84%EC%8A%A4&amp;iq=%EB%89%B4%EC%A7%84%EC%8A%A4%ED%95%B4%EB%A6%B0&amp;bt=-1&amp;frm=NVSCPRO\" data-searchword=\"뉴진스해린\" data-start=\"89\" href=\"#\" onclick=\"return tCR('u=javascript&amp;r=&amp;i=&amp;a=shp_gui*9.tab&amp;g=C_etc_%EB%89%B4%EC%A7%84%EC%8A%A4%ED%95%B4%EB%A6%B0');\" role=\"tab\"> <span class=\"txt\">해린</span> </a>,\n",
       " <a aria-selected=\"true\" class=\"item _item\" data-clicklog-id=\"shp_gui*3\" data-cpnt=\"category1\" data-ctnt=\"0450007080\" data-more-count=\"741\" data-more-link=\"https://search.shopping.naver.com/search/all?query=%EB%89%B4%EC%A7%84%EC%8A%A4&amp;catId=50007080&amp;bt=-1&amp;frm=NVSCPRO\" data-searchword=\"뉴진스\" data-start=\"97\" href=\"#\" onclick=\"return tCR('u=javascript&amp;r=&amp;i=&amp;a=shp_gui*3.tab&amp;g=C_category1_0450007080');\" role=\"tab\"> <span class=\"txt\">포토/브로마이드</span> </a>,\n",
       " <a aria-selected=\"false\" class=\"item _item\" data-clicklog-id=\"shp_gui*3\" data-cpnt=\"category1\" data-ctnt=\"0450007084\" data-more-count=\"72\" data-more-link=\"https://search.shopping.naver.com/search/all?query=%EB%89%B4%EC%A7%84%EC%8A%A4&amp;catId=50007084&amp;bt=-1&amp;frm=NVSCPRO\" data-searchword=\"뉴진스\" data-start=\"105\" href=\"#\" onclick=\"return tCR('u=javascript&amp;r=&amp;i=&amp;a=shp_gui*3.tab&amp;g=C_category1_0450007084');\" role=\"tab\"> <span class=\"txt\">응원봉</span> </a>,\n",
       " <a aria-selected=\"false\" class=\"item _item\" data-clicklog-id=\"shp_gui*3\" data-cpnt=\"category1\" data-ctnt=\"0450007086\" data-more-count=\"151\" data-more-link=\"https://search.shopping.naver.com/search/all?query=%EB%89%B4%EC%A7%84%EC%8A%A4&amp;catId=50007086&amp;bt=-1&amp;frm=NVSCPRO\" data-searchword=\"뉴진스\" data-start=\"113\" href=\"#\" onclick=\"return tCR('u=javascript&amp;r=&amp;i=&amp;a=shp_gui*3.tab&amp;g=C_category1_0450007086');\" role=\"tab\"> <span class=\"txt\">기타굿즈</span> </a>,\n",
       " <a aria-selected=\"false\" class=\"item _item\" data-clicklog-id=\"shp_gui*3\" data-cpnt=\"category1\" data-ctnt=\"0450007081\" data-more-count=\"17\" data-more-link=\"https://search.shopping.naver.com/search/all?query=%EB%89%B4%EC%A7%84%EC%8A%A4&amp;catId=50007081&amp;bt=-1&amp;frm=NVSCPRO\" data-searchword=\"뉴진스\" data-start=\"121\" href=\"#\" onclick=\"return tCR('u=javascript&amp;r=&amp;i=&amp;a=shp_gui*3.tab&amp;g=C_category1_0450007081');\" role=\"tab\"> <span class=\"txt\">스티커</span> </a>,\n",
       " <a aria-selected=\"true\" class=\"item _item\" data-clicklog-id=\"shp_gui*i\" data-cpnt=\"price\" data-ctnt=\"0|20000\" data-more-count=\"6281\" data-more-link=\"https://search.shopping.naver.com/search/all?query=%EB%89%B4%EC%A7%84%EC%8A%A4&amp;minPrice=0&amp;maxPrice=20000&amp;bt=-1&amp;frm=NVSCPRO\" data-searchword=\"뉴진스\" data-start=\"129\" href=\"#\" onclick=\"return tCR('u=javascript&amp;r=&amp;i=&amp;a=shp_gui*i.tab&amp;g=C_price_0%7C20000');\" role=\"tab\"> <span class=\"txt\">2만원이하</span> </a>,\n",
       " <a aria-selected=\"false\" class=\"item _item\" data-clicklog-id=\"shp_gui*i\" data-cpnt=\"price\" data-ctnt=\"20000|40000\" data-more-count=\"9196\" data-more-link=\"https://search.shopping.naver.com/search/all?query=%EB%89%B4%EC%A7%84%EC%8A%A4&amp;minPrice=20000&amp;maxPrice=40000&amp;bt=-1&amp;frm=NVSCPRO\" data-searchword=\"뉴진스\" data-start=\"137\" href=\"#\" onclick=\"return tCR('u=javascript&amp;r=&amp;i=&amp;a=shp_gui*i.tab&amp;g=C_price_20000%7C40000');\" role=\"tab\"> <span class=\"txt\">2만~4만원</span> </a>,\n",
       " <a aria-selected=\"false\" class=\"item _item\" data-clicklog-id=\"shp_gui*i\" data-cpnt=\"price\" data-ctnt=\"40000|80000\" data-more-count=\"6672\" data-more-link=\"https://search.shopping.naver.com/search/all?query=%EB%89%B4%EC%A7%84%EC%8A%A4&amp;minPrice=40000&amp;maxPrice=80000&amp;bt=-1&amp;frm=NVSCPRO\" data-searchword=\"뉴진스\" data-start=\"145\" href=\"#\" onclick=\"return tCR('u=javascript&amp;r=&amp;i=&amp;a=shp_gui*i.tab&amp;g=C_price_40000%7C80000');\" role=\"tab\"> <span class=\"txt\">4만~8만원</span> </a>,\n",
       " <a aria-selected=\"false\" class=\"item _item\" data-clicklog-id=\"shp_gui*i\" data-cpnt=\"price\" data-ctnt=\"80000|6761000\" data-more-count=\"5496\" data-more-link=\"https://search.shopping.naver.com/search/all?query=%EB%89%B4%EC%A7%84%EC%8A%A4&amp;minPrice=80000&amp;maxPrice=6761000&amp;bt=-1&amp;frm=NVSCPRO\" data-searchword=\"뉴진스\" data-start=\"153\" href=\"#\" onclick=\"return tCR('u=javascript&amp;r=&amp;i=&amp;a=shp_gui*i.tab&amp;g=C_price_80000%7C6761000');\" role=\"tab\"> <span class=\"txt\">8만원이상</span> </a>,\n",
       " <a class=\"btn\" href=\"#\" onclick=\"return tCR('u=javascript&amp;r=&amp;i=&amp;a=shp_gui.tmor');\" role=\"button\"><i class=\"spnew ico_arr\">이전</i></a>,\n",
       " <a class=\"btn\" href=\"#\" onclick=\"return tCR('u=javascript&amp;r=&amp;i=&amp;a=shp_gui.tmor');\" role=\"button\"><i class=\"spnew ico_arr\">다음</i></a>,\n",
       " <a class=\"api_sub_link _trigger\" href=\"#\" onclick=\"return tCR('u=javascript&amp;r=&amp;i=&amp;a=shp_gui*h.hlp');\"> <i class=\"spsh ico_aitems\">by AiTEMS</i><i class=\"spnew api_ico_alert\"></i> </a>,\n",
       " <a class=\"btn\" href=\"#\" onclick=\"return tCR('u=javascript&amp;r=&amp;i=&amp;a=shp_gui*h.scr');\" role=\"button\"><i class=\"spnew ico_arr\">이전</i></a>,\n",
       " <a class=\"btn\" href=\"#\" onclick=\"return tCR('u=javascript&amp;r=&amp;i=&amp;a=shp_gui*h.scr');\" role=\"button\"><i class=\"spnew ico_arr\">다음</i></a>,\n",
       " <a class=\"btn_save _keep_trigger\" data-url=\"https://newjeans.kr/\" href=\"#\" onclick='tCR(\"a=web_gen.kep&amp;r=&amp;i=&amp;u=javascript\")' role=\"button\"><i class=\"spnew ico_save\">문서 저장하기</i></a>,\n",
       " <a class=\"spnew_af item item_save _keep_save\" data-cr-off=\"a=web_gen.keepoff\" data-cr-on=\"a=web_gen.keepon\" href=\"#\" role=\"button\">Keep에 저장</a>,\n",
       " <a class=\"btn_save _keep_trigger\" data-url=\"https://www.youtube.com/channel/UCMki_UkHb4qSc0qyEcOHHJw\" href=\"#\" onclick='tCR(\"a=web_gen.kep&amp;r=&amp;i=&amp;u=javascript\")' role=\"button\"><i class=\"spnew ico_save\">문서 저장하기</i></a>,\n",
       " <a class=\"spnew_af item item_save _keep_save\" data-cr-off=\"a=web_gen.keepoff\" data-cr-on=\"a=web_gen.keepon\" href=\"#\" role=\"button\">Keep에 저장</a>,\n",
       " <a class=\"btn_save _keep_trigger\" data-url=\"https://www.tiktok.com/@newjeans_official\" href=\"#\" onclick='tCR(\"a=web_gen.kep&amp;r=&amp;i=&amp;u=javascript\")' role=\"button\"><i class=\"spnew ico_save\">문서 저장하기</i></a>,\n",
       " <a class=\"spnew_af item item_save _keep_save\" data-cr-off=\"a=web_gen.keepoff\" data-cr-on=\"a=web_gen.keepon\" href=\"#\" role=\"button\">Keep에 저장</a>,\n",
       " <a class=\"btn_save _keep_trigger\" data-url=\"https://gall.dcinside.com/mgallery/board/lists/?id=newjeans\" href=\"#\" onclick='tCR(\"a=web_gen.kep&amp;r=&amp;i=&amp;u=javascript\")' role=\"button\"><i class=\"spnew ico_save\">문서 저장하기</i></a>,\n",
       " <a class=\"spnew_af item item_save _keep_save\" data-cr-off=\"a=web_gen.keepoff\" data-cr-on=\"a=web_gen.keepon\" href=\"#\" role=\"button\">Keep에 저장</a>,\n",
       " <a class=\"item\" href=\"#\" role=\"button\" target=\"_self\">내 업체 등록</a>,\n",
       " <a class=\"item\" href=\"#\" role=\"button\" target=\"_self\">신규장소 등록</a>,\n",
       " <a class=\"BfF3H\" href=\"#\" role=\"button\" target=\"_self\"><span class=\"place_blind\">안내</span><svg aria-hidden=\"true\" class=\"wHa0T\" viewBox=\"0 0 15 15\" xmlns=\"http://www.w3.org/2000/svg\"><path d=\"M7.5 0a7.5 7.5 0 110 15 7.5 7.5 0 010-15zm0 1a6.5 6.5 0 100 13 6.5 6.5 0 000-13zM8 6v6H7V6h1zm-.5-2.5a.75.75 0 110 1.5.75.75 0 010-1.5z\"></path></svg></a>,\n",
       " <a aria-expanded=\"false\" aria-haspopup=\"true\" class=\"vcshc\" href=\"#\" role=\"button\" target=\"_self\"><span class=\"hClKF\">안산 단원구 초지동</span><span class=\"JXQZb\"><svg aria-hidden=\"true\" class=\"FEhi4\" viewBox=\"0 0 12 7\" xmlns=\"http://www.w3.org/2000/svg\"><path d=\"M6 5.59L11.35 0l.65.7L6 7 0 .7.65 0z\"></path></svg></span></a>,\n",
       " <a class=\"_T0lO naver-splugin spi_sns_share\" data-bookmark-display=\"off\" data-friend-display=\"on\" data-kakaostory-display=\"off\" data-kakaotalk-button-text=\"네이버 플레이스로 보기\" data-kakaotalk-description=\"경기도 안산시 단원구 광덕2로 32 1405동 6층 604호\" data-kakaotalk-image-url=\"https://ldb-phinf.pstatic.net/20230319_71/1679203400675yIW7Y_PNG/0.%B4%BA%C1%F8%BD%BA_%B0%B3_%C7%B3%BC%B1_600-600.png\" data-kakaotalk-template-type=\"custom_web\" data-kakaotalk-title=\"뉴진스\" data-keep-display=\"on\" data-line-description=\"경기도 안산시 단원구 광덕2로 32 1405동 6층 604호\" data-line-template-type=\"custom_web\" data-line-title=\"뉴진스\" data-mail-display=\"off\" data-memo-display=\"off\" data-style=\"type_a\" data-title=\"뉴진스\n",
       " 경기도 안산시 단원구 광덕2로 32 1405동 6층 604호\" data-url-extra=\"뉴진스\n",
       " 경기도 안산시 단원구 광덕2로 32 1405동 6층 604호\" data-use-short-url=\"on\" href=\"#\" id=\"_.share\" target=\"_self\"><span class=\"Dl8SE\"><svg aria-hidden=\"true\" class=\"yR6ue\" viewBox=\"0 0 20 20\" xmlns=\"http://www.w3.org/2000/svg\"><path d=\"M15.6 17.6H1.4V6.4h4.58V5H0v14h17v-4.35h-1.4v2.95zm-4.18-8.26h3.03v3.47L20 7.41 14.45 2v3.35h-3.03c-3.6 0-5.66 3.53-5.97 7.7 0 0 1.42-3.71 5.96-3.71z\"></path></svg></span>공유</a>,\n",
       " <a class=\"PznE8 aNw43 FQjW7 bVGv3\" href=\"#\" role=\"button\"><span class=\"nK_aH\"><svg aria-hidden=\"true\" class=\"Vg1dR\" viewBox=\"0 0 6 11\" xmlns=\"http://www.w3.org/2000/svg\"><path d=\"M.4.4c.2-.2.6-.2.8 0l4.5 4.7c.2.2.2.6 0 .8l-4.5 4.7c-.2.2-.6.2-.8 0a.6.6 0 010-.8l4.1-4.3L.4 1.2C.1 1 .1.6.4.4z\"></path></svg><span class=\"place_blind\">이전</span></span></a>,\n",
       " <a class=\"ZCqf_ aNw43 FQjW7 bVGv3\" href=\"#\" role=\"button\"><span class=\"nK_aH\"><svg aria-hidden=\"true\" class=\"Vg1dR\" viewBox=\"0 0 6 11\" xmlns=\"http://www.w3.org/2000/svg\"><path d=\"M.4.4c.2-.2.6-.2.8 0l4.5 4.7c.2.2.2.6 0 .8l-4.5 4.7c-.2.2-.6.2-.8 0a.6.6 0 010-.8l4.1-4.3L.4 1.2C.1 1 .1.6.4.4z\"></path></svg><span class=\"place_blind\">다음</span></span></a>,\n",
       " <a class=\"BfF3H\" href=\"#\" role=\"button\" target=\"_self\"><span class=\"place_blind\">안내</span><svg aria-hidden=\"true\" class=\"wHa0T\" viewBox=\"0 0 15 15\" xmlns=\"http://www.w3.org/2000/svg\"><path d=\"M7.5 0a7.5 7.5 0 110 15 7.5 7.5 0 010-15zm0 1a6.5 6.5 0 100 13 6.5 6.5 0 000-13zM8 6v6H7V6h1zm-.5-2.5a.75.75 0 110 1.5.75.75 0 010-1.5z\"></path></svg></a>,\n",
       " <a aria-expanded=\"false\" aria-haspopup=\"true\" class=\"vcshc\" href=\"#\" role=\"button\" target=\"_self\"><span class=\"hClKF\">서울 강남구 청담동</span><span class=\"JXQZb\"><svg aria-hidden=\"true\" class=\"FEhi4\" viewBox=\"0 0 12 7\" xmlns=\"http://www.w3.org/2000/svg\"><path d=\"M6 5.59L11.35 0l.65.7L6 7 0 .7.65 0z\"></path></svg></span></a>,\n",
       " <a class=\"_T0lO naver-splugin spi_sns_share\" data-bookmark-display=\"off\" data-friend-display=\"on\" data-kakaostory-display=\"off\" data-kakaotalk-button-text=\"네이버 플레이스로 보기\" data-kakaotalk-description=\"서울특별시 강남구 압구정로60길 17-14 제이와이(J.Y.)\" data-kakaotalk-image-url=\"https://ldb-phinf.pstatic.net/20220901_231/1662016859480AuWgr_JPEG/4AE81E23-2FDE-455E-AEB6-5F9BF235F315.jpeg\" data-kakaotalk-template-type=\"custom_web\" data-kakaotalk-title=\"제이와이\" data-keep-display=\"on\" data-line-description=\"서울특별시 강남구 압구정로60길 17-14 제이와이(J.Y.)\" data-line-template-type=\"custom_web\" data-line-title=\"제이와이\" data-mail-display=\"off\" data-memo-display=\"off\" data-style=\"type_a\" data-title=\"제이와이\n",
       " 서울특별시 강남구 압구정로60길 17-14 제이와이(J.Y.)\" data-url-extra=\"제이와이\n",
       " 서울특별시 강남구 압구정로60길 17-14 제이와이(J.Y.)\" data-use-short-url=\"on\" href=\"#\" id=\"_.share\" target=\"_self\"><span class=\"Dl8SE\"><svg aria-hidden=\"true\" class=\"yR6ue\" viewBox=\"0 0 20 20\" xmlns=\"http://www.w3.org/2000/svg\"><path d=\"M15.6 17.6H1.4V6.4h4.58V5H0v14h17v-4.35h-1.4v2.95zm-4.18-8.26h3.03v3.47L20 7.41 14.45 2v3.35h-3.03c-3.6 0-5.66 3.53-5.97 7.7 0 0 1.42-3.71 5.96-3.71z\"></path></svg></span>공유</a>,\n",
       " <a class=\"PznE8 aNw43 FQjW7 bVGv3\" href=\"#\" role=\"button\"><span class=\"nK_aH\"><svg aria-hidden=\"true\" class=\"Vg1dR\" viewBox=\"0 0 6 11\" xmlns=\"http://www.w3.org/2000/svg\"><path d=\"M.4.4c.2-.2.6-.2.8 0l4.5 4.7c.2.2.2.6 0 .8l-4.5 4.7c-.2.2-.6.2-.8 0a.6.6 0 010-.8l4.1-4.3L.4 1.2C.1 1 .1.6.4.4z\"></path></svg><span class=\"place_blind\">이전</span></span></a>,\n",
       " <a class=\"ZCqf_ aNw43 FQjW7 bVGv3\" href=\"#\" role=\"button\"><span class=\"nK_aH\"><svg aria-hidden=\"true\" class=\"Vg1dR\" viewBox=\"0 0 6 11\" xmlns=\"http://www.w3.org/2000/svg\"><path d=\"M.4.4c.2-.2.6-.2.8 0l4.5 4.7c.2.2.2.6 0 .8l-4.5 4.7c-.2.2-.6.2-.8 0a.6.6 0 010-.8l4.1-4.3L.4 1.2C.1 1 .1.6.4.4z\"></path></svg><span class=\"place_blind\">다음</span></span></a>,\n",
       " <a aria-expanded=\"false\" aria-haspopup=\"true\" class=\"vcshc\" href=\"#\" role=\"button\" target=\"_self\"><span class=\"hClKF\">서울 강남구 신사동</span><span class=\"JXQZb\"><svg aria-hidden=\"true\" class=\"FEhi4\" viewBox=\"0 0 12 7\" xmlns=\"http://www.w3.org/2000/svg\"><path d=\"M6 5.59L11.35 0l.65.7L6 7 0 .7.65 0z\"></path></svg></span></a>,\n",
       " <a class=\"_T0lO naver-splugin spi_sns_share\" data-bookmark-display=\"off\" data-friend-display=\"on\" data-kakaostory-display=\"off\" data-kakaotalk-button-text=\"네이버 플레이스로 보기\" data-kakaotalk-description=\"서울특별시 강남구 가로수길 19 1층\" data-kakaotalk-image-url=\"https://ldb-phinf.pstatic.net/20201122_203/1605974022110JX1R1_JPEG/yPxM7gy1s47a3YJA6T1c4yPZ.jpg\" data-kakaotalk-template-type=\"custom_web\" data-kakaotalk-title=\"오렌즈 가로수길점\" data-keep-display=\"on\" data-line-description=\"서울특별시 강남구 가로수길 19 1층\" data-line-template-type=\"custom_web\" data-line-title=\"오렌즈 가로수길점\" data-mail-display=\"off\" data-memo-display=\"off\" data-style=\"type_a\" data-title=\"오렌즈 가로수길점\n",
       " 서울특별시 강남구 가로수길 19 1층\" data-url-extra=\"오렌즈 가로수길점\n",
       " 서울특별시 강남구 가로수길 19 1층\" data-use-short-url=\"on\" href=\"#\" id=\"_.share\" target=\"_self\"><span class=\"Dl8SE\"><svg aria-hidden=\"true\" class=\"yR6ue\" viewBox=\"0 0 20 20\" xmlns=\"http://www.w3.org/2000/svg\"><path d=\"M15.6 17.6H1.4V6.4h4.58V5H0v14h17v-4.35h-1.4v2.95zm-4.18-8.26h3.03v3.47L20 7.41 14.45 2v3.35h-3.03c-3.6 0-5.66 3.53-5.97 7.7 0 0 1.42-3.71 5.96-3.71z\"></path></svg></span>공유</a>,\n",
       " <a class=\"PznE8 aNw43 FQjW7 bVGv3\" href=\"#\" role=\"button\"><span class=\"nK_aH\"><svg aria-hidden=\"true\" class=\"Vg1dR\" viewBox=\"0 0 6 11\" xmlns=\"http://www.w3.org/2000/svg\"><path d=\"M.4.4c.2-.2.6-.2.8 0l4.5 4.7c.2.2.2.6 0 .8l-4.5 4.7c-.2.2-.6.2-.8 0a.6.6 0 010-.8l4.1-4.3L.4 1.2C.1 1 .1.6.4.4z\"></path></svg><span class=\"place_blind\">이전</span></span></a>,\n",
       " <a class=\"ZCqf_ aNw43 FQjW7 bVGv3\" href=\"#\" role=\"button\"><span class=\"nK_aH\"><svg aria-hidden=\"true\" class=\"Vg1dR\" viewBox=\"0 0 6 11\" xmlns=\"http://www.w3.org/2000/svg\"><path d=\"M.4.4c.2-.2.6-.2.8 0l4.5 4.7c.2.2.2.6 0 .8l-4.5 4.7c-.2.2-.6.2-.8 0a.6.6 0 010-.8l4.1-4.3L.4 1.2C.1 1 .1.6.4.4z\"></path></svg><span class=\"place_blind\">다음</span></span></a>,\n",
       " <a aria-expanded=\"false\" aria-haspopup=\"true\" class=\"vcshc\" href=\"#\" role=\"button\" target=\"_self\"><span class=\"hClKF\">서울 마포구 서교동</span><span class=\"JXQZb\"><svg aria-hidden=\"true\" class=\"FEhi4\" viewBox=\"0 0 12 7\" xmlns=\"http://www.w3.org/2000/svg\"><path d=\"M6 5.59L11.35 0l.65.7L6 7 0 .7.65 0z\"></path></svg></span></a>,\n",
       " <a class=\"_T0lO naver-splugin spi_sns_share\" data-bookmark-display=\"off\" data-friend-display=\"on\" data-kakaostory-display=\"off\" data-kakaotalk-button-text=\"네이버 플레이스로 보기\" data-kakaotalk-description=\"서울특별시 마포구 동교로 107 홍익제일빌딩 1층,2층\" data-kakaotalk-image-url=\"https://ldb-phinf.pstatic.net/20230220_99/1676877442960G9F3j_PNG/20230220_161605.png\" data-kakaotalk-template-type=\"custom_web\" data-kakaotalk-title=\"비트로드\" data-keep-display=\"on\" data-line-description=\"서울특별시 마포구 동교로 107 홍익제일빌딩 1층,2층\" data-line-template-type=\"custom_web\" data-line-title=\"비트로드\" data-mail-display=\"off\" data-memo-display=\"off\" data-style=\"type_a\" data-title=\"비트로드\n",
       " 서울특별시 마포구 동교로 107 홍익제일빌딩 1층,2층\" data-url-extra=\"비트로드\n",
       " 서울특별시 마포구 동교로 107 홍익제일빌딩 1층,2층\" data-use-short-url=\"on\" href=\"#\" id=\"_.share\" target=\"_self\"><span class=\"Dl8SE\"><svg aria-hidden=\"true\" class=\"yR6ue\" viewBox=\"0 0 20 20\" xmlns=\"http://www.w3.org/2000/svg\"><path d=\"M15.6 17.6H1.4V6.4h4.58V5H0v14h17v-4.35h-1.4v2.95zm-4.18-8.26h3.03v3.47L20 7.41 14.45 2v3.35h-3.03c-3.6 0-5.66 3.53-5.97 7.7 0 0 1.42-3.71 5.96-3.71z\"></path></svg></span>공유</a>,\n",
       " <a class=\"PznE8 aNw43 FQjW7 bVGv3\" href=\"#\" role=\"button\"><span class=\"nK_aH\"><svg aria-hidden=\"true\" class=\"Vg1dR\" viewBox=\"0 0 6 11\" xmlns=\"http://www.w3.org/2000/svg\"><path d=\"M.4.4c.2-.2.6-.2.8 0l4.5 4.7c.2.2.2.6 0 .8l-4.5 4.7c-.2.2-.6.2-.8 0a.6.6 0 010-.8l4.1-4.3L.4 1.2C.1 1 .1.6.4.4z\"></path></svg><span class=\"place_blind\">이전</span></span></a>,\n",
       " <a class=\"ZCqf_ aNw43 FQjW7 bVGv3\" href=\"#\" role=\"button\"><span class=\"nK_aH\"><svg aria-hidden=\"true\" class=\"Vg1dR\" viewBox=\"0 0 6 11\" xmlns=\"http://www.w3.org/2000/svg\"><path d=\"M.4.4c.2-.2.6-.2.8 0l4.5 4.7c.2.2.2.6 0 .8l-4.5 4.7c-.2.2-.6.2-.8 0a.6.6 0 010-.8l4.1-4.3L.4 1.2C.1 1 .1.6.4.4z\"></path></svg><span class=\"place_blind\">다음</span></span></a>,\n",
       " <a class=\"BfF3H\" href=\"#\" role=\"button\" target=\"_self\"><span class=\"place_blind\">안내</span><svg aria-hidden=\"true\" class=\"wHa0T\" viewBox=\"0 0 15 15\" xmlns=\"http://www.w3.org/2000/svg\"><path d=\"M7.5 0a7.5 7.5 0 110 15 7.5 7.5 0 010-15zm0 1a6.5 6.5 0 100 13 6.5 6.5 0 000-13zM8 6v6H7V6h1zm-.5-2.5a.75.75 0 110 1.5.75.75 0 010-1.5z\"></path></svg></a>,\n",
       " <a aria-expanded=\"false\" aria-haspopup=\"true\" class=\"vcshc\" href=\"#\" role=\"button\" target=\"_self\"><span class=\"hClKF\">서울 마포구 합정동</span><span class=\"JXQZb\"><svg aria-hidden=\"true\" class=\"FEhi4\" viewBox=\"0 0 12 7\" xmlns=\"http://www.w3.org/2000/svg\"><path d=\"M6 5.59L11.35 0l.65.7L6 7 0 .7.65 0z\"></path></svg></span></a>,\n",
       " <a class=\"_T0lO naver-splugin spi_sns_share\" data-bookmark-display=\"off\" data-friend-display=\"on\" data-kakaostory-display=\"off\" data-kakaotalk-button-text=\"네이버 플레이스로 보기\" data-kakaotalk-description=\"서울특별시 마포구 독막로 9 1층\" data-kakaotalk-image-url=\"https://ldb-phinf.pstatic.net/20210204_143/1612426467359QKsxv_JPEG/zmKenhVyBzz4bDFjm7VJ9uZ3.jpg\" data-kakaotalk-template-type=\"custom_web\" data-kakaotalk-title=\"오렌즈 합정점\" data-keep-display=\"on\" data-line-description=\"서울특별시 마포구 독막로 9 1층\" data-line-template-type=\"custom_web\" data-line-title=\"오렌즈 합정점\" data-mail-display=\"off\" data-memo-display=\"off\" data-style=\"type_a\" data-title=\"오렌즈 합정점\n",
       " 서울특별시 마포구 독막로 9 1층\" data-url-extra=\"오렌즈 합정점\n",
       " 서울특별시 마포구 독막로 9 1층\" data-use-short-url=\"on\" href=\"#\" id=\"_.share\" target=\"_self\"><span class=\"Dl8SE\"><svg aria-hidden=\"true\" class=\"yR6ue\" viewBox=\"0 0 20 20\" xmlns=\"http://www.w3.org/2000/svg\"><path d=\"M15.6 17.6H1.4V6.4h4.58V5H0v14h17v-4.35h-1.4v2.95zm-4.18-8.26h3.03v3.47L20 7.41 14.45 2v3.35h-3.03c-3.6 0-5.66 3.53-5.97 7.7 0 0 1.42-3.71 5.96-3.71z\"></path></svg></span>공유</a>,\n",
       " <a class=\"PznE8 aNw43 FQjW7 bVGv3\" href=\"#\" role=\"button\"><span class=\"nK_aH\"><svg aria-hidden=\"true\" class=\"Vg1dR\" viewBox=\"0 0 6 11\" xmlns=\"http://www.w3.org/2000/svg\"><path d=\"M.4.4c.2-.2.6-.2.8 0l4.5 4.7c.2.2.2.6 0 .8l-4.5 4.7c-.2.2-.6.2-.8 0a.6.6 0 010-.8l4.1-4.3L.4 1.2C.1 1 .1.6.4.4z\"></path></svg><span class=\"place_blind\">이전</span></span></a>,\n",
       " <a class=\"ZCqf_ aNw43 FQjW7 bVGv3\" href=\"#\" role=\"button\"><span class=\"nK_aH\"><svg aria-hidden=\"true\" class=\"Vg1dR\" viewBox=\"0 0 6 11\" xmlns=\"http://www.w3.org/2000/svg\"><path d=\"M.4.4c.2-.2.6-.2.8 0l4.5 4.7c.2.2.2.6 0 .8l-4.5 4.7c-.2.2-.6.2-.8 0a.6.6 0 010-.8l4.1-4.3L.4 1.2C.1 1 .1.6.4.4z\"></path></svg><span class=\"place_blind\">다음</span></span></a>,\n",
       " <a aria-expanded=\"false\" aria-haspopup=\"true\" class=\"vcshc\" href=\"#\" role=\"button\" target=\"_self\"><span class=\"hClKF\">부천 상동</span><span class=\"JXQZb\"><svg aria-hidden=\"true\" class=\"FEhi4\" viewBox=\"0 0 12 7\" xmlns=\"http://www.w3.org/2000/svg\"><path d=\"M6 5.59L11.35 0l.65.7L6 7 0 .7.65 0z\"></path></svg></span></a>,\n",
       " <a class=\"_T0lO naver-splugin spi_sns_share\" data-bookmark-display=\"off\" data-friend-display=\"on\" data-kakaostory-display=\"off\" data-kakaotalk-button-text=\"네이버 플레이스로 보기\" data-kakaotalk-description=\"경기도 부천시 상동로 79 1층 101호\" data-kakaotalk-image-url=\"https://ldb-phinf.pstatic.net/20201122_172/1605974228618f3hJw_JPEG/ExLe8_2hTCRfZZsNTI3IyHdD.jpg\" data-kakaotalk-template-type=\"custom_web\" data-kakaotalk-title=\"오렌즈 상동점\" data-keep-display=\"on\" data-line-description=\"경기도 부천시 상동로 79 1층 101호\" data-line-template-type=\"custom_web\" data-line-title=\"오렌즈 상동점\" data-mail-display=\"off\" data-memo-display=\"off\" data-style=\"type_a\" data-title=\"오렌즈 상동점\n",
       " 경기도 부천시 상동로 79 1층 101호\" data-url-extra=\"오렌즈 상동점\n",
       " 경기도 부천시 상동로 79 1층 101호\" data-use-short-url=\"on\" href=\"#\" id=\"_.share\" target=\"_self\"><span class=\"Dl8SE\"><svg aria-hidden=\"true\" class=\"yR6ue\" viewBox=\"0 0 20 20\" xmlns=\"http://www.w3.org/2000/svg\"><path d=\"M15.6 17.6H1.4V6.4h4.58V5H0v14h17v-4.35h-1.4v2.95zm-4.18-8.26h3.03v3.47L20 7.41 14.45 2v3.35h-3.03c-3.6 0-5.66 3.53-5.97 7.7 0 0 1.42-3.71 5.96-3.71z\"></path></svg></span>공유</a>,\n",
       " <a class=\"PznE8 aNw43 FQjW7 bVGv3\" href=\"#\" role=\"button\"><span class=\"nK_aH\"><svg aria-hidden=\"true\" class=\"Vg1dR\" viewBox=\"0 0 6 11\" xmlns=\"http://www.w3.org/2000/svg\"><path d=\"M.4.4c.2-.2.6-.2.8 0l4.5 4.7c.2.2.2.6 0 .8l-4.5 4.7c-.2.2-.6.2-.8 0a.6.6 0 010-.8l4.1-4.3L.4 1.2C.1 1 .1.6.4.4z\"></path></svg><span class=\"place_blind\">이전</span></span></a>,\n",
       " <a class=\"ZCqf_ aNw43 FQjW7 bVGv3\" href=\"#\" role=\"button\"><span class=\"nK_aH\"><svg aria-hidden=\"true\" class=\"Vg1dR\" viewBox=\"0 0 6 11\" xmlns=\"http://www.w3.org/2000/svg\"><path d=\"M.4.4c.2-.2.6-.2.8 0l4.5 4.7c.2.2.2.6 0 .8l-4.5 4.7c-.2.2-.6.2-.8 0a.6.6 0 010-.8l4.1-4.3L.4 1.2C.1 1 .1.6.4.4z\"></path></svg><span class=\"place_blind\">다음</span></span></a>,\n",
       " <a class=\"spnew_bf cmm_pg_prev\" href=\"#\" role=\"button\" target=\"_self\">이전</a>,\n",
       " <a class=\"spnew_bf cmm_pg_next on\" href=\"#\" role=\"button\" target=\"_self\">다음</a>,\n",
       " <a class=\"top\" href=\"#\" onclick=\"window.scrollTo(0,0); document.querySelector('#wrap a').focus(); return false;\"><i class=\"spnew ico_top\">맨위로</i></a>]"
      ]
     },
     "execution_count": 24,
     "metadata": {},
     "output_type": "execute_result"
    }
   ],
   "source": [
    "dom.select('[href^=\"#\"]')\n",
    "# 영역 바로가기 역할이므로 걸러야 함. 어차피 같은 내용."
   ]
  },
  {
   "attachments": {},
   "cell_type": "markdown",
   "metadata": {},
   "source": [
    "            root ; WWW\n",
    "        A           B\n",
    "\n",
    "BFS (앞에서 ; queue) => \n",
    "=>  관련도 순으로 ... \n",
    "\n",
    "DFS (뒤에서 ; stack) => 너무 깊으면, 못 빠져나옴. \n",
    "\n",
    "Focused Crawling (전략) => depth 한계치를 정해둔다. (특정 도메인 등등)\n",
    "                        => 웹툰, 뉴스 등 한계 "
   ]
  },
  {
   "cell_type": "code",
   "execution_count": 25,
   "metadata": {},
   "outputs": [],
   "source": [
    "from urllib.robotparser import RobotFileParser\n",
    "rb = RobotFileParser(주소)\n",
    "rb.read()\n",
    "rb.can_fetch(agent, path) # T/F"
   ]
  },
  {
   "cell_type": "code",
   "execution_count": 110,
   "metadata": {},
   "outputs": [],
   "source": [
    "from requests.exceptions import HTTPError\n",
    "import re\n",
    "\n",
    "ROBOT = dict()\n",
    "\n",
    "def canFetch(url, agent = '*', path = '/'):\n",
    "    k = urlparse(url).netloc\n",
    "\n",
    "    if k not in ROBOT:\n",
    "        robot = urljoin(url, '/robots.txt') # robot이 없으면, 3.1\n",
    "        resp = request('GET', robot)\n",
    "\n",
    "        try:\n",
    "            resp.raise_for_status()\n",
    "        except HTTPError as e:\n",
    "            print(e) \n",
    "\n",
    "        if resp.status_code == 200:\n",
    "            ua = '*'\n",
    "            ROBOT[k] = list()\n",
    "\n",
    "            for l in resp.text.lower().splitlines():\n",
    "                a = re.search(r'user-agent:(.+)', l, re.IGNORECASE) # parsing -> user-agent /Allow/Disallow\n",
    "                if a:\n",
    "                    ua = a.group(1).strip()\n",
    "                else:\n",
    "                    p = re.search(r'((?:dis)?allow):(.+)', l, re.IGNORECASE) # User-agent 물어보고, 지금 작업 중인 ua를 ua로 설정\n",
    "\n",
    "                    if p:\n",
    "                        allow = False if p.group(1) == 'disallow' else True\n",
    "                        ROBOT[k].append((ua, p.group(2).strip(), allow)) # allow/disallow를 key = tuple(ua, path, allow/disallow)\n",
    "\n",
    "            # rp = RobotFileParser(robot)\n",
    "            # rp.read()\n",
    "            # rp.can_fetch(agent, path)\n",
    "    \n",
    "    if k in ROBOT: # 로봇이 있으면.\n",
    "        candidates = list()\n",
    "        \n",
    "        for l in ROBOT[k]:\n",
    "            if l[0] == agent and re.match(l[1].replace('*', '[^/]+?'), path): # param.agent 값으로 path에 re\n",
    "                candidates.append(l)\n",
    "        #candidates = list(filter(lambda l:l[0] == agent and re.match(l[1].replace('*', '[^/]+?', path))))\n",
    "\n",
    "        candidates = sorted(candidates, key=lambda c: len(c[1]), reverse=True)\n",
    "        \n",
    "        if len(candidates) > 0:\n",
    "            return candidates[0][-1]\n",
    "        return True\n",
    "\n",
    "\n",
    "    return True\n",
    "\n"
   ]
  },
  {
   "cell_type": "code",
   "execution_count": 64,
   "metadata": {},
   "outputs": [
    {
     "data": {
      "text/plain": [
       "False"
      ]
     },
     "execution_count": 64,
     "metadata": {},
     "output_type": "execute_result"
    }
   ],
   "source": [
    "canFetch('https://www.google.com', agent= '*', path='/search/?adksmfd')"
   ]
  },
  {
   "cell_type": "code",
   "execution_count": 116,
   "metadata": {},
   "outputs": [
    {
     "name": "stdout",
     "output_type": "stream",
     "text": [
      "/search False\n",
      "96\n",
      "/search False\n",
      "128\n",
      "/websearch/answer/181196 True\n",
      "40\n",
      "/webhp False\n",
      "20\n",
      "/images/branding/googlelogo/2x/googlelogo_color_92x30dp.png False\n",
      "/tia/tia.png False\n",
      "/search False\n",
      "98\n",
      "/search False\n",
      "52\n",
      "/search False\n",
      "35\n",
      "/search False\n",
      "71\n",
      "/w/NewJeans True\n",
      "1088\n"
     ]
    }
   ],
   "source": [
    "urls = ['https://www.google.com/search?q=%EB%89%B4%EC%A7%84%EC%8A%A4&source=hp&ei=W3WrZLuILIbY1e8PqPit6As&iflsig=AD69kcEAAAAAZKuDa38MQ51JwvPHwYd83AuvhAqMfll5&ved=0ahUKEwj7ofv7k4OAAxUGbPUHHSh8C70Q4dUDCAs&uact=5&oq=%EB%89%B4%EC%A7%84%EC%8A%A4&gs_lcp=Cgdnd3Mtd2l6EAMyCwguEIAEELEDEIMBMgQIABADMgsILhCABBCxAxCDATILCC4QgAQQsQMQgwEyCwguEIAEELEDEIMBMggIABCABBCxAzILCAAQgAQQsQMQgwEyCwgAEIAEELEDEIMBMggILhCABBCxAzILCAAQgAQQsQMQgwE6DgguEIAEELEDEMcBENEDOgUIABCABFDUAVixB2ChCGgCcAB4AYABe4gBwAWSAQMwLjaYAQCgAQGwAQA&sclient=gws-wiz']\n",
    "visited = []\n",
    "i = 0\n",
    "while urls: \n",
    "    #  limitation\n",
    "    if i > 10:\n",
    "        break\n",
    "    i += 1\n",
    "\n",
    "    url = urls.pop(0)\n",
    "    visited = []\n",
    "    try:\n",
    "        print(urlparse(url).path, canFetch(url, path = urlparse(url).path))\n",
    "    except:\n",
    "        print(url)\n",
    "    resp = request('GET', url, headers=headers)\n",
    "    # <meta> index/noindex, follow/nofollow -> 하지만 이를 다 확인하면 가져올 수 있는게 없다.\n",
    "    # meta = dom.select_one('meta[name=\"robots\"]')\n",
    "    # meta.attrs['content'].split(',')\n",
    "    if resp.status_code == 200:\n",
    "        visited.append(url)\n",
    "        if re.search('xml|html', resp.headers['content-type']):\n",
    "            dom = BeautifulSoup(resp.text, 'lxml')\n",
    "            a = list()\n",
    "            for node in dom.select('[href], [src]'):\n",
    "                temp = urljoin(url, node.attrs['href' if node.has_attr('href') else 'src']) # , = '또는'\n",
    "                \n",
    "                if not re.match(r'#|javascript|data:', temp):\n",
    "                    newurl = urljoin(url, temp)\n",
    "                    a.append(newurl)\n",
    "#                else:\n",
    "#                    print(temp, urlparse(urljoin(url, temp)))\n",
    "            print(len(a))\n",
    "            urls += list(filter(lambda link:link not in visited and link not in urls, a))\n",
    "    else:\n",
    "        if resp.status_code >= 500:\n",
    "            urls.append(url) # 나중에 다시 검토.\n",
    "        else:\n",
    "            visited.append(url)\n",
    "\n",
    "            # 방문 이력, url pool 관리\n",
    "        # else 일 때, 처리 X, 500 => \n",
    "    # 서버 부하 delay "
   ]
  },
  {
   "cell_type": "code",
   "execution_count": 84,
   "metadata": {},
   "outputs": [
    {
     "data": {
      "text/plain": [
       "'data:image/gif;base64,R0lGODlhAQABAIAAAP///////yH5BAEKAAEALAAAAAABAAEAAAICTAEAOw=='"
      ]
     },
     "execution_count": 84,
     "metadata": {},
     "output_type": "execute_result"
    }
   ],
   "source": [
    "a[100]"
   ]
  },
  {
   "cell_type": "code",
   "execution_count": 104,
   "metadata": {},
   "outputs": [
    {
     "data": {
      "text/plain": [
       "(ParseResult(scheme='https', netloc='search.naver.com', path='/path/', params='', query='', fragment='lnb'),\n",
       " ParseResult(scheme='https', netloc='search.naver.com', path='/path', params='', query='a=b', fragment=''))"
      ]
     },
     "execution_count": 104,
     "metadata": {},
     "output_type": "execute_result"
    }
   ],
   "source": [
    "urlparse('https://search.naver.com/path/#lnb'), \\\n",
    "urlparse('https://search.naver.com/path?a=b')\n",
    "# fragment가 달라도 된다. -> 같은 내용의 페이지에서 위치만 다른 내용이다. "
   ]
  },
  {
   "cell_type": "code",
   "execution_count": null,
   "metadata": {},
   "outputs": [],
   "source": []
  }
 ],
 "metadata": {
  "kernelspec": {
   "display_name": "pytorch",
   "language": "python",
   "name": "python3"
  },
  "language_info": {
   "codemirror_mode": {
    "name": "ipython",
    "version": 3
   },
   "file_extension": ".py",
   "mimetype": "text/x-python",
   "name": "python",
   "nbconvert_exporter": "python",
   "pygments_lexer": "ipython3",
   "version": "3.8.16"
  },
  "orig_nbformat": 4
 },
 "nbformat": 4,
 "nbformat_minor": 2
}
