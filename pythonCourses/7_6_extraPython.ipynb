{
 "cells": [
  {
   "cell_type": "code",
   "execution_count": 1,
   "metadata": {},
   "outputs": [],
   "source": [
    "# array = homo + sequence\n",
    "# element-wise 계산 (수학적 컨셉) -> ndarray"
   ]
  },
  {
   "cell_type": "code",
   "execution_count": 2,
   "metadata": {},
   "outputs": [
    {
     "data": {
      "text/plain": [
       "[1, 2, 3, 4, 5, 6]"
      ]
     },
     "execution_count": 2,
     "metadata": {},
     "output_type": "execute_result"
    }
   ],
   "source": [
    "[1,2,3] + [4,5,6]"
   ]
  },
  {
   "cell_type": "code",
   "execution_count": 3,
   "metadata": {},
   "outputs": [],
   "source": [
    "import numpy as np "
   ]
  },
  {
   "cell_type": "code",
   "execution_count": 1,
   "metadata": {},
   "outputs": [],
   "source": [
    "import tensorflow as tf"
   ]
  },
  {
   "cell_type": "code",
   "execution_count": 2,
   "metadata": {},
   "outputs": [],
   "source": [
    "a = tf.Tensor([1,2,3])"
   ]
  },
  {
   "cell_type": "code",
   "execution_count": 3,
   "metadata": {},
   "outputs": [
    {
     "data": {
      "text/plain": [
       "['OVERLOADABLE_OPERATORS',\n",
       " '_USE_EQUALITY',\n",
       " '__abs__',\n",
       " '__add__',\n",
       " '__and__',\n",
       " '__array__',\n",
       " '__array_priority__',\n",
       " '__bool__',\n",
       " '__class__',\n",
       " '__copy__',\n",
       " '__delattr__',\n",
       " '__dict__',\n",
       " '__dir__',\n",
       " '__div__',\n",
       " '__doc__',\n",
       " '__eq__',\n",
       " '__floordiv__',\n",
       " '__format__',\n",
       " '__ge__',\n",
       " '__getattr__',\n",
       " '__getattribute__',\n",
       " '__getitem__',\n",
       " '__gt__',\n",
       " '__hash__',\n",
       " '__init__',\n",
       " '__init_subclass__',\n",
       " '__invert__',\n",
       " '__iter__',\n",
       " '__le__',\n",
       " '__len__',\n",
       " '__lt__',\n",
       " '__matmul__',\n",
       " '__mod__',\n",
       " '__module__',\n",
       " '__mul__',\n",
       " '__ne__',\n",
       " '__neg__',\n",
       " '__new__',\n",
       " '__nonzero__',\n",
       " '__or__',\n",
       " '__pow__',\n",
       " '__radd__',\n",
       " '__rand__',\n",
       " '__rdiv__',\n",
       " '__reduce__',\n",
       " '__reduce_ex__',\n",
       " '__repr__',\n",
       " '__rfloordiv__',\n",
       " '__rmatmul__',\n",
       " '__rmod__',\n",
       " '__rmul__',\n",
       " '__ror__',\n",
       " '__round__',\n",
       " '__rpow__',\n",
       " '__rsub__',\n",
       " '__rtruediv__',\n",
       " '__rxor__',\n",
       " '__setattr__',\n",
       " '__sizeof__',\n",
       " '__str__',\n",
       " '__sub__',\n",
       " '__subclasshook__',\n",
       " '__tf_tensor__',\n",
       " '__tf_tracing_type__',\n",
       " '__truediv__',\n",
       " '__weakref__',\n",
       " '__xor__',\n",
       " '_as_node_def_input',\n",
       " '_as_tf_output',\n",
       " '_disallow_bool_casting',\n",
       " '_disallow_in_graph_mode',\n",
       " '_disallow_iteration',\n",
       " '_disallow_when_autograph_disabled',\n",
       " '_disallow_when_autograph_enabled',\n",
       " '_disallow_when_autograph_unavailable',\n",
       " '_init',\n",
       " '_matmul',\n",
       " '_numpy_style_getitem',\n",
       " '_op',\n",
       " '_override_operator',\n",
       " '_rank',\n",
       " '_record_tape',\n",
       " '_set_shape',\n",
       " '_shape',\n",
       " '_shape_as_list',\n",
       " '_shape_tuple',\n",
       " '_tf_api_names',\n",
       " '_tf_api_names_v1',\n",
       " '_with_index_add',\n",
       " '_with_index_max',\n",
       " '_with_index_min',\n",
       " '_with_index_update',\n",
       " 'consumers',\n",
       " 'device',\n",
       " 'dtype',\n",
       " 'eval',\n",
       " 'experimental_ref',\n",
       " 'get_shape',\n",
       " 'graph',\n",
       " 'name',\n",
       " 'ndim',\n",
       " 'op',\n",
       " 'ref',\n",
       " 'set_shape',\n",
       " 'shape',\n",
       " 'value_index']"
      ]
     },
     "execution_count": 3,
     "metadata": {},
     "output_type": "execute_result"
    }
   ],
   "source": [
    "# Vectorization -> 크기가 같고, 똑같은 위치에 대해서만 연산이 되는.\n",
    "dir(a) # __array__ 연동 여부 확인."
   ]
  },
  {
   "cell_type": "code",
   "execution_count": 4,
   "metadata": {},
   "outputs": [],
   "source": [
    "import numpy as np"
   ]
  },
  {
   "cell_type": "code",
   "execution_count": 5,
   "metadata": {},
   "outputs": [],
   "source": [
    "# 데이터 선언 \n",
    "# 리터럴, 인스턴스\n",
    "a = np.array([1,2,3,4])"
   ]
  },
  {
   "cell_type": "code",
   "execution_count": 6,
   "metadata": {},
   "outputs": [
    {
     "data": {
      "text/plain": [
       "array([1, 2, 3, 4])"
      ]
     },
     "execution_count": 6,
     "metadata": {},
     "output_type": "execute_result"
    }
   ],
   "source": [
    "a # repr"
   ]
  },
  {
   "cell_type": "code",
   "execution_count": 8,
   "metadata": {},
   "outputs": [
    {
     "name": "stdout",
     "output_type": "stream",
     "text": [
      "[1 2 3 4]\n"
     ]
    }
   ],
   "source": [
    "print(a) # str"
   ]
  },
  {
   "cell_type": "code",
   "execution_count": 7,
   "metadata": {},
   "outputs": [
    {
     "data": {
      "text/plain": [
       "numpy.ndarray"
      ]
     },
     "execution_count": 7,
     "metadata": {},
     "output_type": "execute_result"
    }
   ],
   "source": [
    "type(a) # 실제 데이터 타입"
   ]
  },
  {
   "cell_type": "code",
   "execution_count": 10,
   "metadata": {},
   "outputs": [],
   "source": [
    "b = np.array([[1,2,3],[4,5,6]])"
   ]
  },
  {
   "cell_type": "code",
   "execution_count": 11,
   "metadata": {},
   "outputs": [
    {
     "data": {
      "text/plain": [
       "array([[1, 2, 3],\n",
       "       [4, 5, 6]])"
      ]
     },
     "execution_count": 11,
     "metadata": {},
     "output_type": "execute_result"
    }
   ],
   "source": [
    "b"
   ]
  },
  {
   "cell_type": "code",
   "execution_count": 35,
   "metadata": {},
   "outputs": [],
   "source": [
    "b = np.array([[1,2,3],[4,5,'6']])"
   ]
  },
  {
   "cell_type": "code",
   "execution_count": 13,
   "metadata": {},
   "outputs": [
    {
     "data": {
      "text/plain": [
       "array([['1', '2', '3'],\n",
       "       ['4', '5', '6']], dtype='<U21')"
      ]
     },
     "execution_count": 13,
     "metadata": {},
     "output_type": "execute_result"
    }
   ],
   "source": [
    "b"
   ]
  },
  {
   "cell_type": "code",
   "execution_count": 21,
   "metadata": {},
   "outputs": [],
   "source": [
    "b = np.array([[1,2,3],[4,5,None]])"
   ]
  },
  {
   "cell_type": "code",
   "execution_count": 22,
   "metadata": {},
   "outputs": [
    {
     "data": {
      "text/plain": [
       "array([[1, 2, 3],\n",
       "       [4, 5, None]], dtype=object)"
      ]
     },
     "execution_count": 22,
     "metadata": {},
     "output_type": "execute_result"
    }
   ],
   "source": [
    "b"
   ]
  },
  {
   "cell_type": "code",
   "execution_count": 24,
   "metadata": {},
   "outputs": [
    {
     "data": {
      "text/plain": [
       "' C와 공유하는 데이터 타입\\nnumpy.bool_,\\n numpy.complex64,\\n numpy.complex128,\\n numpy.clongdouble,\\n numpy.float16,\\n numpy.float32,\\n numpy.float64,\\n numpy.longdouble,\\n numpy.int8,\\n numpy.int16,\\n numpy.int32,\\n numpy.int64,\\n numpy.longlong,\\n numpy.timedelta64,\\n numpy.datetime64,\\n numpy.object_,\\n numpy.bytes_,\\n numpy.str_,\\n...\\n numpy.uint16,\\n numpy.uint32,\\n numpy.uint64,\\n numpy.ulonglong,\\n numpy.void)\\n'"
      ]
     },
     "execution_count": 24,
     "metadata": {},
     "output_type": "execute_result"
    }
   ],
   "source": [
    "np.ScalarType\n",
    "''' C와 공유하는 데이터 타입\n",
    "numpy.bool_,\n",
    " numpy.complex64,\n",
    " numpy.complex128,\n",
    " numpy.clongdouble,\n",
    " numpy.float16,\n",
    " numpy.float32,\n",
    " numpy.float64,\n",
    " numpy.longdouble,\n",
    " numpy.int8,\n",
    " numpy.int16,\n",
    " numpy.int32,\n",
    " numpy.int64,\n",
    " numpy.longlong,\n",
    " numpy.timedelta64,\n",
    " numpy.datetime64,\n",
    " numpy.object_,\n",
    " numpy.bytes_,\n",
    " numpy.str_,\n",
    "...\n",
    " numpy.uint16,\n",
    " numpy.uint32,\n",
    " numpy.uint64,\n",
    " numpy.ulonglong,\n",
    " numpy.void)\n",
    "'''"
   ]
  },
  {
   "cell_type": "code",
   "execution_count": 25,
   "metadata": {},
   "outputs": [
    {
     "data": {
      "text/plain": [
       "<function numpy.sctype2char(sctype)>"
      ]
     },
     "execution_count": 25,
     "metadata": {},
     "output_type": "execute_result"
    }
   ],
   "source": [
    "np.sctype2char"
   ]
  },
  {
   "cell_type": "code",
   "execution_count": 26,
   "metadata": {},
   "outputs": [
    {
     "data": {
      "text/plain": [
       "{'?': numpy.bool_,\n",
       " 0: numpy.bool_,\n",
       " 'byte': numpy.int8,\n",
       " 'b': numpy.int8,\n",
       " 1: numpy.int8,\n",
       " 'ubyte': numpy.uint8,\n",
       " 'B': numpy.uint8,\n",
       " 2: numpy.uint8,\n",
       " 'short': numpy.int16,\n",
       " 'h': numpy.int16,\n",
       " 3: numpy.int16,\n",
       " 'ushort': numpy.uint16,\n",
       " 'H': numpy.uint16,\n",
       " 4: numpy.uint16,\n",
       " 'i': numpy.int32,\n",
       " 5: numpy.int32,\n",
       " 'uint': numpy.uint64,\n",
       " 'I': numpy.uint32,\n",
       " 6: numpy.uint32,\n",
       " 'intp': numpy.int64,\n",
       " 'p': numpy.int64,\n",
       " 7: numpy.int64,\n",
       " 'uintp': numpy.uint64,\n",
       " 'P': numpy.uint64,\n",
       " 8: numpy.uint64,\n",
       " 'long': numpy.int64,\n",
       " 'l': numpy.int64,\n",
       " 'ulong': numpy.uint64,\n",
       " 'L': numpy.uint64,\n",
       " 'longlong': numpy.longlong,\n",
       " 'q': numpy.longlong,\n",
       " 9: numpy.longlong,\n",
       " 'ulonglong': numpy.ulonglong,\n",
       " 'Q': numpy.ulonglong,\n",
       " 10: numpy.ulonglong,\n",
       " 'half': numpy.float16,\n",
       " 'e': numpy.float16,\n",
       " 23: numpy.float16,\n",
       " 'f': numpy.float32,\n",
       " 11: numpy.float32,\n",
       " 'double': numpy.float64,\n",
       " 'd': numpy.float64,\n",
       " 12: numpy.float64,\n",
       " 'longdouble': numpy.longdouble,\n",
       " 'g': numpy.longdouble,\n",
       " 13: numpy.longdouble,\n",
       " 'cfloat': numpy.complex128,\n",
       " 'F': numpy.complex64,\n",
       " 14: numpy.complex64,\n",
       " 'cdouble': numpy.complex128,\n",
       " 'D': numpy.complex128,\n",
       " 15: numpy.complex128,\n",
       " 'clongdouble': numpy.clongdouble,\n",
       " 'G': numpy.clongdouble,\n",
       " 16: numpy.clongdouble,\n",
       " 'O': numpy.object_,\n",
       " 17: numpy.object_,\n",
       " 'S': numpy.bytes_,\n",
       " 18: numpy.bytes_,\n",
       " 'unicode': numpy.str_,\n",
       " 'U': numpy.str_,\n",
       " 19: numpy.str_,\n",
       " 'void': numpy.void,\n",
       " 'V': numpy.void,\n",
       " 20: numpy.void,\n",
       " 'M': numpy.datetime64,\n",
       " 21: numpy.datetime64,\n",
       " 'm': numpy.timedelta64,\n",
       " 22: numpy.timedelta64,\n",
       " 'b1': numpy.bool_,\n",
       " 'bool8': numpy.bool_,\n",
       " 'i8': numpy.int64,\n",
       " 'int64': numpy.int64,\n",
       " 'u8': numpy.uint64,\n",
       " 'uint64': numpy.uint64,\n",
       " 'f2': numpy.float16,\n",
       " 'float16': numpy.float16,\n",
       " 'f4': numpy.float32,\n",
       " 'float32': numpy.float32,\n",
       " 'f8': numpy.float64,\n",
       " 'float64': numpy.float64,\n",
       " 'c8': numpy.complex64,\n",
       " 'complex64': numpy.complex64,\n",
       " 'c16': numpy.complex128,\n",
       " 'complex128': numpy.complex128,\n",
       " 'object0': numpy.object_,\n",
       " 'bytes0': numpy.bytes_,\n",
       " 'str0': numpy.str_,\n",
       " 'void0': numpy.void,\n",
       " 'M8': numpy.datetime64,\n",
       " 'datetime64': numpy.datetime64,\n",
       " 'm8': numpy.timedelta64,\n",
       " 'timedelta64': numpy.timedelta64,\n",
       " 'int32': numpy.int32,\n",
       " 'i4': numpy.int32,\n",
       " 'uint32': numpy.uint32,\n",
       " 'u4': numpy.uint32,\n",
       " 'int16': numpy.int16,\n",
       " 'i2': numpy.int16,\n",
       " 'uint16': numpy.uint16,\n",
       " 'u2': numpy.uint16,\n",
       " 'int8': numpy.int8,\n",
       " 'i1': numpy.int8,\n",
       " 'uint8': numpy.uint8,\n",
       " 'u1': numpy.uint8,\n",
       " 'complex_': numpy.complex128,\n",
       " 'single': numpy.float32,\n",
       " 'csingle': numpy.complex64,\n",
       " 'singlecomplex': numpy.complex64,\n",
       " 'float_': numpy.float64,\n",
       " 'intc': numpy.int32,\n",
       " 'uintc': numpy.uint32,\n",
       " 'int_': numpy.int64,\n",
       " 'longfloat': numpy.longdouble,\n",
       " 'clongfloat': numpy.clongdouble,\n",
       " 'longcomplex': numpy.clongdouble,\n",
       " 'bool_': numpy.bool_,\n",
       " 'bytes_': numpy.bytes_,\n",
       " 'string_': numpy.bytes_,\n",
       " 'str_': numpy.str_,\n",
       " 'unicode_': numpy.str_,\n",
       " 'object_': numpy.object_,\n",
       " 'int': numpy.int64,\n",
       " 'float': numpy.float64,\n",
       " 'complex': numpy.complex128,\n",
       " 'bool': numpy.bool_,\n",
       " 'object': numpy.object_,\n",
       " 'str': numpy.str_,\n",
       " 'bytes': numpy.bytes_,\n",
       " 'a': numpy.bytes_,\n",
       " 'int0': numpy.int64,\n",
       " 'uint0': numpy.uint64,\n",
       " 'float8_e4m3fn': float8_e4m3fn,\n",
       " 'float8_e5m2': float8_e5m2,\n",
       " 'bfloat16': bfloat16,\n",
       " 'float8_e4m3b11': float8_e4m3b11}"
      ]
     },
     "execution_count": 26,
     "metadata": {},
     "output_type": "execute_result"
    }
   ],
   "source": [
    "np.sctypeDict"
   ]
  },
  {
   "cell_type": "code",
   "execution_count": 29,
   "metadata": {},
   "outputs": [
    {
     "data": {
      "text/plain": [
       "dtype('int64')"
      ]
     },
     "execution_count": 29,
     "metadata": {},
     "output_type": "execute_result"
    }
   ],
   "source": [
    "# array는 특징이 homo이기 때문에.\n",
    "a.dtype"
   ]
  },
  {
   "cell_type": "code",
   "execution_count": 30,
   "metadata": {},
   "outputs": [
    {
     "data": {
      "text/plain": [
       "(2, 3)"
      ]
     },
     "execution_count": 30,
     "metadata": {},
     "output_type": "execute_result"
    }
   ],
   "source": [
    "b.shape"
   ]
  },
  {
   "cell_type": "code",
   "execution_count": 31,
   "metadata": {},
   "outputs": [
    {
     "data": {
      "text/plain": [
       "(4,)"
      ]
     },
     "execution_count": 31,
     "metadata": {},
     "output_type": "execute_result"
    }
   ],
   "source": [
    "a.shape"
   ]
  },
  {
   "cell_type": "code",
   "execution_count": 32,
   "metadata": {},
   "outputs": [],
   "source": [
    "import tensorflow as tf\n",
    "b = tf.constant([1,2,3,4])"
   ]
  },
  {
   "cell_type": "code",
   "execution_count": 36,
   "metadata": {},
   "outputs": [
    {
     "data": {
      "text/plain": [
       "(2, 3)"
      ]
     },
     "execution_count": 36,
     "metadata": {},
     "output_type": "execute_result"
    }
   ],
   "source": [
    "b.shape"
   ]
  },
  {
   "cell_type": "code",
   "execution_count": 37,
   "metadata": {},
   "outputs": [
    {
     "data": {
      "text/plain": [
       "6"
      ]
     },
     "execution_count": 37,
     "metadata": {},
     "output_type": "execute_result"
    }
   ],
   "source": [
    "b.size"
   ]
  },
  {
   "cell_type": "code",
   "execution_count": 38,
   "metadata": {},
   "outputs": [
    {
     "data": {
      "text/plain": [
       "2"
      ]
     },
     "execution_count": 38,
     "metadata": {},
     "output_type": "execute_result"
    }
   ],
   "source": [
    "b.ndim"
   ]
  },
  {
   "cell_type": "code",
   "execution_count": 39,
   "metadata": {},
   "outputs": [],
   "source": [
    "# shape과 dtype 확인해야 함.\n",
    "# broadcasting : 묵시적 shape 변환 -> "
   ]
  },
  {
   "cell_type": "code",
   "execution_count": 41,
   "metadata": {},
   "outputs": [
    {
     "data": {
      "text/plain": [
       "array([[0., 0., 0.],\n",
       "       [0., 0., 0.]])"
      ]
     },
     "execution_count": 41,
     "metadata": {},
     "output_type": "execute_result"
    }
   ],
   "source": [
    "np.zeros((2,3), dtype=float)"
   ]
  },
  {
   "cell_type": "code",
   "execution_count": 40,
   "metadata": {},
   "outputs": [
    {
     "data": {
      "text/plain": [
       "array([[1., 1., 1., 1.],\n",
       "       [1., 1., 1., 1.],\n",
       "       [1., 1., 1., 1.]])"
      ]
     },
     "execution_count": 40,
     "metadata": {},
     "output_type": "execute_result"
    }
   ],
   "source": [
    "np.ones((3,4))"
   ]
  },
  {
   "cell_type": "code",
   "execution_count": 44,
   "metadata": {},
   "outputs": [
    {
     "data": {
      "text/plain": [
       "array([[1., 0., 0.],\n",
       "       [0., 1., 0.],\n",
       "       [0., 0., 1.]])"
      ]
     },
     "execution_count": 44,
     "metadata": {},
     "output_type": "execute_result"
    }
   ],
   "source": [
    "np.eye(3)"
   ]
  },
  {
   "cell_type": "code",
   "execution_count": 46,
   "metadata": {},
   "outputs": [
    {
     "data": {
      "text/plain": [
       "array([[1., 0., 0., 0.],\n",
       "       [1., 1., 0., 0.],\n",
       "       [1., 1., 1., 0.],\n",
       "       [1., 1., 1., 1.]])"
      ]
     },
     "execution_count": 46,
     "metadata": {},
     "output_type": "execute_result"
    }
   ],
   "source": [
    "np.tri(4)"
   ]
  },
  {
   "cell_type": "code",
   "execution_count": 47,
   "metadata": {},
   "outputs": [],
   "source": [
    "# 수학적 컨셉에 맞추기 위해서 다양한 라이브러리를 지원해준다.\n",
    "from pprint import pprint"
   ]
  },
  {
   "cell_type": "code",
   "execution_count": 48,
   "metadata": {},
   "outputs": [
    {
     "name": "stdout",
     "output_type": "stream",
     "text": [
      "<tf.Tensor: shape=(4,), dtype=int32, numpy=array([1, 2, 3, 4], dtype=int32)>\n"
     ]
    }
   ],
   "source": [
    "pprint(tf.constant([1,2,3,4]))"
   ]
  },
  {
   "cell_type": "code",
   "execution_count": 50,
   "metadata": {},
   "outputs": [],
   "source": [
    "a = np.arange(48).reshape(3,4,4)"
   ]
  },
  {
   "cell_type": "code",
   "execution_count": 52,
   "metadata": {},
   "outputs": [
    {
     "data": {
      "text/plain": [
       "array([[[ 0,  1,  2,  3],\n",
       "        [ 4,  5,  6,  7],\n",
       "        [ 8,  9, 10, 11],\n",
       "        [12, 13, 14, 15]],\n",
       "\n",
       "       [[16, 17, 18, 19],\n",
       "        [20, 21, 22, 23],\n",
       "        [24, 25, 26, 27],\n",
       "        [28, 29, 30, 31]],\n",
       "\n",
       "       [[32, 33, 34, 35],\n",
       "        [36, 37, 38, 39],\n",
       "        [40, 41, 42, 43],\n",
       "        [44, 45, 46, 47]]])"
      ]
     },
     "execution_count": 52,
     "metadata": {},
     "output_type": "execute_result"
    }
   ],
   "source": [
    "a # 항상 행렬 관점 -> 3 * (4,4)"
   ]
  },
  {
   "cell_type": "code",
   "execution_count": 54,
   "metadata": {},
   "outputs": [],
   "source": [
    "import tensorflow as tf\n"
   ]
  },
  {
   "cell_type": "code",
   "execution_count": 55,
   "metadata": {},
   "outputs": [
    {
     "name": "stdout",
     "output_type": "stream",
     "text": [
      "Downloading data from https://storage.googleapis.com/tensorflow/tf-keras-datasets/mnist.npz\n",
      "11490434/11490434 [==============================] - 1s 0us/step\n"
     ]
    }
   ],
   "source": [
    "(X_train, y_train), (X_test, y_test) = tf.keras.datasets.mnist.load_data()"
   ]
  },
  {
   "cell_type": "code",
   "execution_count": 59,
   "metadata": {},
   "outputs": [
    {
     "data": {
      "text/plain": [
       "array([[[0, 0, 0, ..., 0, 0, 0],\n",
       "        [0, 0, 0, ..., 0, 0, 0],\n",
       "        [0, 0, 0, ..., 0, 0, 0],\n",
       "        ...,\n",
       "        [0, 0, 0, ..., 0, 0, 0],\n",
       "        [0, 0, 0, ..., 0, 0, 0],\n",
       "        [0, 0, 0, ..., 0, 0, 0]],\n",
       "\n",
       "       [[0, 0, 0, ..., 0, 0, 0],\n",
       "        [0, 0, 0, ..., 0, 0, 0],\n",
       "        [0, 0, 0, ..., 0, 0, 0],\n",
       "        ...,\n",
       "        [0, 0, 0, ..., 0, 0, 0],\n",
       "        [0, 0, 0, ..., 0, 0, 0],\n",
       "        [0, 0, 0, ..., 0, 0, 0]],\n",
       "\n",
       "       [[0, 0, 0, ..., 0, 0, 0],\n",
       "        [0, 0, 0, ..., 0, 0, 0],\n",
       "        [0, 0, 0, ..., 0, 0, 0],\n",
       "        ...,\n",
       "        [0, 0, 0, ..., 0, 0, 0],\n",
       "        [0, 0, 0, ..., 0, 0, 0],\n",
       "        [0, 0, 0, ..., 0, 0, 0]],\n",
       "\n",
       "       ...,\n",
       "\n",
       "       [[0, 0, 0, ..., 0, 0, 0],\n",
       "        [0, 0, 0, ..., 0, 0, 0],\n",
       "        [0, 0, 0, ..., 0, 0, 0],\n",
       "        ...,\n",
       "        [0, 0, 0, ..., 0, 0, 0],\n",
       "        [0, 0, 0, ..., 0, 0, 0],\n",
       "        [0, 0, 0, ..., 0, 0, 0]],\n",
       "\n",
       "       [[0, 0, 0, ..., 0, 0, 0],\n",
       "        [0, 0, 0, ..., 0, 0, 0],\n",
       "        [0, 0, 0, ..., 0, 0, 0],\n",
       "        ...,\n",
       "        [0, 0, 0, ..., 0, 0, 0],\n",
       "        [0, 0, 0, ..., 0, 0, 0],\n",
       "        [0, 0, 0, ..., 0, 0, 0]],\n",
       "\n",
       "       [[0, 0, 0, ..., 0, 0, 0],\n",
       "        [0, 0, 0, ..., 0, 0, 0],\n",
       "        [0, 0, 0, ..., 0, 0, 0],\n",
       "        ...,\n",
       "        [0, 0, 0, ..., 0, 0, 0],\n",
       "        [0, 0, 0, ..., 0, 0, 0],\n",
       "        [0, 0, 0, ..., 0, 0, 0]]], dtype=uint8)"
      ]
     },
     "execution_count": 59,
     "metadata": {},
     "output_type": "execute_result"
    }
   ],
   "source": [
    "# 항상 Numpy로 진행되는\n",
    "X_train # Ellipsis와 다른 ...을 보여준다. "
   ]
  },
  {
   "cell_type": "code",
   "execution_count": 58,
   "metadata": {},
   "outputs": [
    {
     "data": {
      "text/plain": [
       "Ellipsis"
      ]
     },
     "execution_count": 58,
     "metadata": {},
     "output_type": "execute_result"
    }
   ],
   "source": [
    "... # 코드에서는 기능을 한다."
   ]
  },
  {
   "cell_type": "code",
   "execution_count": 60,
   "metadata": {},
   "outputs": [
    {
     "data": {
      "text/plain": [
       "['T',\n",
       " '__abs__',\n",
       " '__add__',\n",
       " '__and__',\n",
       " '__array__',\n",
       " '__array_finalize__',\n",
       " '__array_function__',\n",
       " '__array_interface__',\n",
       " '__array_prepare__',\n",
       " '__array_priority__',\n",
       " '__array_struct__',\n",
       " '__array_ufunc__',\n",
       " '__array_wrap__',\n",
       " '__bool__',\n",
       " '__class__',\n",
       " '__class_getitem__',\n",
       " '__complex__',\n",
       " '__contains__',\n",
       " '__copy__',\n",
       " '__deepcopy__',\n",
       " '__delattr__',\n",
       " '__delitem__',\n",
       " '__dir__',\n",
       " '__divmod__',\n",
       " '__dlpack__',\n",
       " '__dlpack_device__',\n",
       " '__doc__',\n",
       " '__eq__',\n",
       " '__float__',\n",
       " '__floordiv__',\n",
       " '__format__',\n",
       " '__ge__',\n",
       " '__getattribute__',\n",
       " '__getitem__',\n",
       " '__gt__',\n",
       " '__hash__',\n",
       " '__iadd__',\n",
       " '__iand__',\n",
       " '__ifloordiv__',\n",
       " '__ilshift__',\n",
       " '__imatmul__',\n",
       " '__imod__',\n",
       " '__imul__',\n",
       " '__index__',\n",
       " '__init__',\n",
       " '__init_subclass__',\n",
       " '__int__',\n",
       " '__invert__',\n",
       " '__ior__',\n",
       " '__ipow__',\n",
       " '__irshift__',\n",
       " '__isub__',\n",
       " '__iter__',\n",
       " '__itruediv__',\n",
       " '__ixor__',\n",
       " '__le__',\n",
       " '__len__',\n",
       " '__lshift__',\n",
       " '__lt__',\n",
       " '__matmul__',\n",
       " '__mod__',\n",
       " '__mul__',\n",
       " '__ne__',\n",
       " '__neg__',\n",
       " '__new__',\n",
       " '__or__',\n",
       " '__pos__',\n",
       " '__pow__',\n",
       " '__radd__',\n",
       " '__rand__',\n",
       " '__rdivmod__',\n",
       " '__reduce__',\n",
       " '__reduce_ex__',\n",
       " '__repr__',\n",
       " '__rfloordiv__',\n",
       " '__rlshift__',\n",
       " '__rmatmul__',\n",
       " '__rmod__',\n",
       " '__rmul__',\n",
       " '__ror__',\n",
       " '__rpow__',\n",
       " '__rrshift__',\n",
       " '__rshift__',\n",
       " '__rsub__',\n",
       " '__rtruediv__',\n",
       " '__rxor__',\n",
       " '__setattr__',\n",
       " '__setitem__',\n",
       " '__setstate__',\n",
       " '__sizeof__',\n",
       " '__str__',\n",
       " '__sub__',\n",
       " '__subclasshook__',\n",
       " '__truediv__',\n",
       " '__xor__',\n",
       " 'all',\n",
       " 'any',\n",
       " 'argmax',\n",
       " 'argmin',\n",
       " 'argpartition',\n",
       " 'argsort',\n",
       " 'astype',\n",
       " 'base',\n",
       " 'byteswap',\n",
       " 'choose',\n",
       " 'clip',\n",
       " 'compress',\n",
       " 'conj',\n",
       " 'conjugate',\n",
       " 'copy',\n",
       " 'ctypes',\n",
       " 'cumprod',\n",
       " 'cumsum',\n",
       " 'data',\n",
       " 'diagonal',\n",
       " 'dot',\n",
       " 'dtype',\n",
       " 'dump',\n",
       " 'dumps',\n",
       " 'fill',\n",
       " 'flags',\n",
       " 'flat',\n",
       " 'flatten',\n",
       " 'getfield',\n",
       " 'imag',\n",
       " 'item',\n",
       " 'itemset',\n",
       " 'itemsize',\n",
       " 'max',\n",
       " 'mean',\n",
       " 'min',\n",
       " 'nbytes',\n",
       " 'ndim',\n",
       " 'newbyteorder',\n",
       " 'nonzero',\n",
       " 'partition',\n",
       " 'prod',\n",
       " 'ptp',\n",
       " 'put',\n",
       " 'ravel',\n",
       " 'real',\n",
       " 'repeat',\n",
       " 'reshape',\n",
       " 'resize',\n",
       " 'round',\n",
       " 'searchsorted',\n",
       " 'setfield',\n",
       " 'setflags',\n",
       " 'shape',\n",
       " 'size',\n",
       " 'sort',\n",
       " 'squeeze',\n",
       " 'std',\n",
       " 'strides',\n",
       " 'sum',\n",
       " 'swapaxes',\n",
       " 'take',\n",
       " 'tobytes',\n",
       " 'tofile',\n",
       " 'tolist',\n",
       " 'tostring',\n",
       " 'trace',\n",
       " 'transpose',\n",
       " 'var',\n",
       " 'view']"
      ]
     },
     "execution_count": 60,
     "metadata": {},
     "output_type": "execute_result"
    }
   ],
   "source": [
    "# 이미 있는 데이터를 변환시키는 데 초점을 맞춰졌기 때문에.\n",
    "# 확인해야 한다. \n",
    "\n",
    "dir(X_train)"
   ]
  },
  {
   "cell_type": "code",
   "execution_count": 61,
   "metadata": {},
   "outputs": [
    {
     "data": {
      "text/plain": [
       "165"
      ]
     },
     "execution_count": 61,
     "metadata": {},
     "output_type": "execute_result"
    }
   ],
   "source": [
    "len(dir(X_train))"
   ]
  },
  {
   "cell_type": "code",
   "execution_count": 64,
   "metadata": {},
   "outputs": [
    {
     "name": "stdout",
     "output_type": "stream",
     "text": [
      "Search results for 'sum'\n",
      "------------------------\n",
      "numpy.sum\n",
      "    Sum of array elements over a given axis.\n",
      "numpy.cumsum\n",
      "    Return the cumulative sum of the elements along a given axis.\n",
      "numpy.einsum\n",
      "    einsum(subscripts, *operands, out=None, dtype=None, order='K',\n",
      "numpy.nansum\n",
      "    Return the sum of array elements over a given axis treating Not a\n",
      "numpy.nancumsum\n",
      "    Return the cumulative sum of array elements over a given axis treating Not a\n",
      "numpy.einsum_path\n",
      "    Evaluates the lowest cost contraction order for an einsum expression by\n",
      "numpy.trace\n",
      "    Return the sum along diagonals of the array.\n",
      "numpy.ma.sum\n",
      "    Return the sum of the array elements over the given axis.\n",
      "numpy.bool_.sum\n",
      "    Scalar method identical to the corresponding array attribute.\n",
      "numpy.polyadd\n",
      "    Find the sum of two polynomials.\n",
      "numpy.ma.cumsum\n",
      "    Return the cumulative sum of the array elements over the given axis.\n",
      "numpy.logaddexp\n",
      "    Logarithm of the sum of exponentiations of the inputs.\n",
      "numpy.bool_.cumsum\n",
      "    Scalar method identical to the corresponding array attribute.\n",
      "numpy.logaddexp2\n",
      "    Logarithm of the sum of exponentiations of the inputs in base-2.\n",
      "numpy.matrix.sum\n",
      "    Returns the sum of the matrix elements, along the given axis.\n",
      "numpy.chararray.sum\n",
      "    Return the sum of the array elements over the given axis.\n",
      "numpy.mask_indices\n",
      "    Return the indices to access (n, n) arrays, given a masking function.\n",
      "numpy.chararray.cumsum\n",
      "    Return the cumulative sum of the elements along the given axis.\n",
      "numpy.chararray.trace\n",
      "    Return the sum along diagonals of the array.\n",
      "numpy.bytes_.expandtabs\n",
      "    Return a copy where all tab characters are expanded using spaces.\n",
      "numpy.str_.expandtabs\n",
      "    Return a copy where all tab characters are expanded using spaces.\n",
      "numpy.format_float_positional\n",
      "    Format a floating-point scalar as a decimal string in positional notation.\n",
      "numpy.format_float_scientific\n",
      "    Format a floating-point scalar as a decimal string in scientific notation.\n",
      "numpy.linalg.tensorsolve\n",
      "    Solve the tensor equation ``a x = b`` for x.\n",
      "numpy.ma.MaskedArray.sum\n",
      "    Return the sum of the array elements over the given axis.\n",
      "numpy.ma.MaskedArray.cumsum\n",
      "    Return the cumulative sum of the array elements over the given axis.\n",
      "numpy.ma.MaskedArray.trace\n",
      "    Return the sum along diagonals of the array.\n",
      "numpy.polynomial.Hermite._add\n",
      "    Add one Hermite series to another.\n",
      "numpy.polynomial.HermiteE._add\n",
      "    Add one Hermite series to another.\n",
      "numpy.polynomial.Laguerre._add\n",
      "    Add one Laguerre series to another.\n",
      "numpy.polynomial.Legendre._add\n",
      "    Add one Legendre series to another.\n",
      "numpy.polynomial.Chebyshev._add\n",
      "    Add one Chebyshev series to another.\n",
      "numpy.polynomial.Polynomial._add\n",
      "    Add one polynomial to another.\n",
      "numpy.AxisError.__class__.__sizeof__\n",
      "    Return memory consumption of the type object.\n",
      "numpy.add\n",
      "    Add arguments element-wise.\n",
      "numpy.cov\n",
      "    Estimate a covariance matrix, given data and weights.\n",
      "numpy.dot\n",
      "    Dot product of two arrays. Specifically,\n",
      "numpy.std\n",
      "    Compute the standard deviation along the specified axis.\n",
      "numpy.var\n",
      "    Compute the variance along the specified axis.\n",
      "numpy.diag\n",
      "    Extract a diagonal or construct a diagonal array.\n",
      "numpy.diff\n",
      "    Calculate the n-th discrete difference along the given axis.\n",
      "numpy.in1d\n",
      "    Test whether each element of a 1-D array is also present in a second array.\n",
      "numpy.isin\n",
      "    Calculates ``element in test_elements``, broadcasting over `element` only.\n",
      "numpy.kron\n",
      "    Kronecker product of two arrays.\n",
      "numpy.mean\n",
      "    Compute the arithmetic mean along the specified axis.\n",
      "numpy.poly\n",
      "    Find the coefficients of a polynomial with the given sequence of roots.\n",
      "numpy.cross\n",
      "    Return the cross product of two (arrays of) vectors.\n",
      "numpy.inner\n",
      "    Inner product of two arrays.\n",
      "numpy.outer\n",
      "    Compute the outer product of two vectors.\n",
      "numpy.roots\n",
      "    Return the roots of a polynomial with coefficients given in p.\n",
      "numpy.trapz\n",
      "    Integrate along the given axis using the composite trapezoidal rule.\n",
      "numpy.choose\n",
      "    Construct an array from an index array and a list of arrays to choose from.\n",
      "numpy.matmul\n",
      "    Matrix product of two arrays.\n",
      "numpy.nanstd\n",
      "    Compute the standard deviation along the specified axis, while\n",
      "numpy.nanvar\n",
      "    Compute the variance along the specified axis, while ignoring NaNs.\n",
      "numpy.nditer\n",
      "    Efficient multi-dimensional iterator object to iterate over arrays.\n",
      "numpy.poly1d\n",
      "    A one-dimensional polynomial class.\n",
      "numpy.average\n",
      "    Compute the weighted average along the specified axis.\n",
      "numpy.isclose\n",
      "    Returns a boolean array where two arrays are element-wise equal within a\n",
      "numpy.nanmean\n",
      "    Compute the arithmetic mean along the specified axis, ignoring NaNs.\n",
      "numpy.nanprod\n",
      "    Return the product of array elements over a given axis treating Not a\n",
      "numpy.polyder\n",
      "    Return the derivative of the specified order of a polynomial.\n",
      "numpy.polydiv\n",
      "    Returns the quotient and remainder of polynomial division.\n",
      "numpy.polyfit\n",
      "    Least squares polynomial fit.\n",
      "numpy.polyint\n",
      "    Return an antiderivative (indefinite integral) of a polynomial.\n",
      "numpy.polymul\n",
      "    Find the product of two polynomials.\n",
      "numpy.polysub\n",
      "    Difference (subtraction) of two polynomials.\n",
      "numpy.polyval\n",
      "    Evaluate a polynomial at specific values.\n",
      "numpy.bincount\n",
      "    Count number of occurrences of each value in array of non-negative ints.\n",
      "numpy.blackman\n",
      "    Return the Blackman window.\n",
      "numpy.convolve\n",
      "    Returns the discrete, linear convolution of two one-dimensional sequences.\n",
      "numpy.diagflat\n",
      "    Create a two-dimensional array with the flattened input as a diagonal.\n",
      "numpy.diagonal\n",
      "    Return specified diagonals.\n",
      "numpy.gradient\n",
      "    Return the gradient of an N-dimensional array.\n",
      "numpy.quantile\n",
      "    Compute the q-th quantile of the data along the specified axis.\n",
      "numpy.setxor1d\n",
      "    Find the set exclusive-or of two arrays.\n",
      "numpy.AxisError\n",
      "    Axis supplied was invalid.\n",
      "numpy.correlate\n",
      "    Cross-correlation of two 1-dimensional sequences.\n",
      "numpy.histogram\n",
      "    Compute the histogram of a dataset.\n",
      "numpy.isrealobj\n",
      "    Return True if x is a not complex type or an array of complex numbers.\n",
      "numpy.piecewise\n",
      "    Evaluate a piecewise-defined function.\n",
      "numpy.setdiff1d\n",
      "    Find the set difference of two arrays.\n",
      "numpy.tensordot\n",
      "    Compute tensor dot product along specified axes.\n",
      "numpy.vectorize\n",
      "    vectorize(pyfunc, otypes=None, doc=None, excluded=None, cache=False,\n",
      "numpy.percentile\n",
      "    Compute the q-th percentile of the data along the specified axis.\n",
      "numpy.histogram2d\n",
      "    Compute the bi-dimensional histogram of two data samples.\n",
      "numpy.histogramdd\n",
      "    Compute the multidimensional histogram of some data.\n",
      "numpy.intersect1d\n",
      "    Find the intersection of two arrays.\n",
      "numpy.nanquantile\n",
      "    Compute the qth quantile of the data along the specified axis,\n",
      "numpy.array2string\n",
      "    Return a string representation of an array.\n",
      "numpy.ma.add\n",
      "    Add arguments element-wise.\n",
      "numpy.ma.var\n",
      "    Compute the variance along the specified axis.\n",
      "numpy.searchsorted\n",
      "    Find indices where elements should be inserted to maintain order.\n",
      "numpy.fft.hfft\n",
      "    Compute the FFT of a signal that has Hermitian symmetry, i.e., a real\n",
      "numpy.fft.ifft\n",
      "    Compute the one-dimensional inverse discrete Fourier Transform.\n",
      "numpy.ma.diff\n",
      "    Calculate the n-th discrete difference along the given axis.\n",
      "numpy.nanpercentile\n",
      "    Compute the qth percentile of the data along the specified axis,\n",
      "numpy.fft.irfft\n",
      "    Computes the inverse of `rfft`.\n",
      "numpy.ma.inner\n",
      "    Inner product of two arrays.\n",
      "numpy.ma.outer\n",
      "    Compute the outer product of two vectors.\n",
      "numpy.ma.trace\n",
      "    a.trace(offset=0, axis1=0, axis2=1, dtype=None, out=None)\n",
      "numpy.apply_over_axes\n",
      "    Apply a function repeatedly over multiple axes.\n",
      "numpy.fft.irfftn\n",
      "    Computes the inverse of `rfftn`.\n",
      "numpy.array_api._array_object.Array.__array__\n",
      "    Warning: this method is NOT part of the array API spec. Implementers\n",
      "numpy.linalg.svd\n",
      "    Singular Value Decomposition.\n",
      "numpy.ma.average\n",
      "    Return the weighted average of array over the given axis.\n",
      "numpy.ma.polyfit\n",
      "    Least squares polynomial fit.\n",
      "numpy.set_printoptions\n",
      "    Set printing options.\n",
      "numpy.linalg.cond\n",
      "    Compute the condition number of a matrix.\n",
      "numpy.linalg.norm\n",
      "    Matrix or vector norm.\n",
      "numpy.linalg.pinv\n",
      "    Compute the (Moore-Penrose) pseudo-inverse of a matrix.\n",
      "numpy.ma.convolve\n",
      "    Returns the discrete, linear convolution of two one-dimensional sequences.\n",
      "numpy.ma.diagflat\n",
      "    Create a two-dimensional array with the flattened input as a diagonal.\n",
      "numpy.linalg.lstsq\n",
      "    Return the least-squares solution to a linear matrix equation.\n",
      "numpy.random.PCG64\n",
      "    BitGenerator for the PCG-64 pseudo-random number generator.\n",
      "numpy.random.SFC64\n",
      "    BitGenerator for Chris Doty-Humphrey's Small Fast Chaotic PRNG.\n",
      "numpy.rec.fromfile\n",
      "    Create an array from binary file data\n",
      "numpy.histogram_bin_edges\n",
      "    Function to calculate only the edges of the bins used by the `histogram`\n",
      "numpy.ufunc.reduce\n",
      "    Reduces `array`'s dimension by one, by applying ufunc along one axis.\n",
      "numpy.random.Philox\n",
      "    Container for the Philox (4x64) pseudo-random number generator.\n",
      "numpy.random.MT19937\n",
      "    Container for the Mersenne Twister pseudo-random number generator.\n",
      "numpy.ufunc.reduceat\n",
      "    Performs a (local) reduce with specified slices over a single axis.\n",
      "numpy.linalg.multi_dot\n",
      "    Compute the dot product of two or more arrays in a single function call,\n",
      "numpy.linalg.tensorinv\n",
      "    Compute the 'inverse' of an N-dimensional array.\n",
      "numpy.random.PCG64DXSM\n",
      "    BitGenerator for the PCG-64 DXSM pseudo-random number generator.\n",
      "numpy.ufunc.accumulate\n",
      "    Accumulate the result of applying the operator to all elements.\n",
      "numpy.linalg.matrix_rank\n",
      "    Return matrix rank of array using SVD method\n",
      "numpy.ma.apply_over_axes\n",
      "    Apply a function repeatedly over multiple axes.\n",
      "numpy.distutils.command.sdist.sdist.write_manifest\n",
      "    Write the file list in 'self.filelist' (presumably as filled in\n",
      "numpy.ufunc.resolve_dtypes\n",
      "    Find the dtypes NumPy will use for the operation.  Both input and\n",
      "numpy.distutils.armccompiler.ArmCCompiler.find_library_file\n",
      "    Second-guess the linker with not much hard\n",
      "numpy.ma.MaskedArray.var\n",
      "    Compute the variance along the specified axis.\n",
      "numpy.random.Generator.f\n",
      "    Draw samples from an F distribution.\n",
      "numpy.random.RandomState.f\n",
      "    Draw samples from an F distribution.\n",
      "numpy.random.MT19937.jumped\n",
      "    Returns a new bit generator with the state jumped\n",
      "numpy.polynomial.Hermite.fit\n",
      "    Least squares fit to data.\n",
      "numpy.polynomial.Hermite._fit\n",
      "    Least squares fit of Hermite series to data.\n",
      "numpy.polynomial.HermiteE.fit\n",
      "    Least squares fit to data.\n",
      "numpy.polynomial.Laguerre.fit\n",
      "    Least squares fit to data.\n",
      "numpy.polynomial.Legendre.fit\n",
      "    Least squares fit to data.\n",
      "numpy.random.Generator.choice\n",
      "    Generates a random sample from a given array\n",
      "numpy.polynomial.Chebyshev.fit\n",
      "    Least squares fit to data.\n",
      "numpy.polynomial.HermiteE._fit\n",
      "    Least squares fit of Hermite series to data.\n",
      "numpy.polynomial.Laguerre._fit\n",
      "    Least squares fit of Laguerre series to data.\n",
      "numpy.polynomial.Legendre._fit\n",
      "    Least squares fit of Legendre series to data.\n",
      "numpy.polynomial.Chebyshev._fit\n",
      "    Least squares fit of Chebyshev series to data.\n",
      "numpy.polynomial.Hermite._roots\n",
      "    Compute the roots of a Hermite series.\n",
      "numpy.polynomial.Polynomial.fit\n",
      "    Least squares fit to data.\n",
      "numpy.random.Generator.binomial\n",
      "    Draw samples from a binomial distribution.\n",
      "numpy.random.Generator.logistic\n",
      "    Draw samples from a logistic distribution.\n",
      "numpy.random.Generator.rayleigh\n",
      "    Draw samples from a Rayleigh distribution.\n",
      "numpy.random.RandomState.choice\n",
      "    Generates a random sample from a given 1-D array\n",
      "numpy.polynomial.HermiteE._roots\n",
      "    Compute the roots of a HermiteE series.\n",
      "numpy.polynomial.Laguerre._roots\n",
      "    Compute the roots of a Laguerre series.\n",
      "numpy.polynomial.Legendre._roots\n",
      "    Compute the roots of a Legendre series.\n",
      "numpy.polynomial.Polynomial._fit\n",
      "    Least-squares fit of a polynomial to data.\n",
      "numpy.random.Generator.chisquare\n",
      "    Draw samples from a chi-square distribution.\n",
      "numpy.random.Generator.dirichlet\n",
      "    Draw samples from the Dirichlet distribution.\n",
      "numpy.random.Generator.geometric\n",
      "    Draw samples from the geometric distribution.\n",
      "numpy.random.Generator.lognormal\n",
      "    Draw samples from a log-normal distribution.\n",
      "numpy.polynomial.Chebyshev._roots\n",
      "    Compute the roots of a Chebyshev series.\n",
      "numpy.distutils.command.build_clib.build_clib.check_library_list\n",
      "    Ensure that the list of libraries is valid.\n",
      "numpy.random.Generator.standard_t\n",
      "    Draw samples from a standard Student's t distribution with `df` degrees\n",
      "numpy.random.RandomState.binomial\n",
      "    Draw samples from a binomial distribution.\n",
      "numpy.random.RandomState.logistic\n",
      "    Draw samples from a logistic distribution.\n",
      "numpy.random.RandomState.rayleigh\n",
      "    Draw samples from a Rayleigh distribution.\n",
      "numpy.distutils.command.build_ext.build_ext.check_extensions_list\n",
      "    Ensure that the list of extensions (presumably provided as a\n",
      "numpy.polynomial.Polynomial._roots\n",
      "    Compute the roots of a polynomial.\n",
      "numpy.polynomial.hermite.hermval2d\n",
      "    Evaluate a 2-D Hermite series at points (x, y).\n",
      "numpy.polynomial.hermite.hermval3d\n",
      "    Evaluate a 3-D Hermite series at points (x, y, z).\n",
      "numpy.polynomial.laguerre.lagval2d\n",
      "    Evaluate a 2-D Laguerre series at points (x, y).\n",
      "numpy.polynomial.laguerre.lagval3d\n",
      "    Evaluate a 3-D Laguerre series at points (x, y, z).\n",
      "numpy.polynomial.legendre.legval2d\n",
      "    Evaluate a 2-D Legendre series at points (x, y).\n",
      "numpy.polynomial.legendre.legval3d\n",
      "    Evaluate a 3-D Legendre series at points (x, y, z).\n",
      "numpy.random.Generator.multinomial\n",
      "    Draw samples from a multinomial distribution.\n",
      "numpy.random.RandomState.chisquare\n",
      "    Draw samples from a chi-square distribution.\n",
      "numpy.random.RandomState.dirichlet\n",
      "    Draw samples from the Dirichlet distribution.\n",
      "numpy.random.RandomState.geometric\n",
      "    Draw samples from the geometric distribution.\n",
      "numpy.random.RandomState.lognormal\n",
      "    Draw samples from a log-normal distribution.\n",
      "numpy.random.RandomState.set_state\n",
      "    set_state(state)\n",
      "numpy.polynomial.hermite.hermgrid2d\n",
      "    Evaluate a 2-D Hermite series on the Cartesian product of x and y.\n",
      "numpy.polynomial.hermite.hermgrid3d\n",
      "    Evaluate a 3-D Hermite series on the Cartesian product of x, y, and z.\n",
      "numpy.polynomial.laguerre.laggrid2d\n",
      "    Evaluate a 2-D Laguerre series on the Cartesian product of x and y.\n",
      "numpy.polynomial.laguerre.laggrid3d\n",
      "    Evaluate a 3-D Laguerre series on the Cartesian product of x, y, and z.\n",
      "numpy.polynomial.legendre.leggrid2d\n",
      "    Evaluate a 2-D Legendre series on the Cartesian product of x and y.\n",
      "numpy.polynomial.legendre.leggrid3d\n",
      "    Evaluate a 3-D Legendre series on the Cartesian product of x, y, and z.\n",
      "numpy.random.Generator.noncentral_f\n",
      "    Draw samples from the noncentral F distribution.\n",
      "numpy.random.RandomState.standard_t\n",
      "    Draw samples from a standard Student's t distribution with `df` degrees\n",
      "numpy.polynomial.chebyshev.chebval2d\n",
      "    Evaluate a 2-D Chebyshev series at points (x, y).\n",
      "numpy.polynomial.chebyshev.chebval3d\n",
      "    Evaluate a 3-D Chebyshev series at points (x, y, z).\n",
      "numpy.random.RandomState.multinomial\n",
      "    Draw samples from a multinomial distribution.\n",
      "numpy.polynomial.chebyshev.chebgrid2d\n",
      "    Evaluate a 2-D Chebyshev series on the Cartesian product of x and y.\n",
      "numpy.polynomial.chebyshev.chebgrid3d\n",
      "    Evaluate a 3-D Chebyshev series on the Cartesian product of x, y, and z.\n",
      "numpy.polynomial.hermite_e.hermeval2d\n",
      "    Evaluate a 2-D HermiteE series at points (x, y).\n",
      "numpy.polynomial.hermite_e.hermeval3d\n",
      "    Evaluate a 3-D Hermite_e series at points (x, y, z).\n",
      "numpy.polynomial.polynomial.polyval2d\n",
      "    Evaluate a 2-D polynomial at points (x, y).\n",
      "numpy.polynomial.polynomial.polyval3d\n",
      "    Evaluate a 3-D polynomial at points (x, y, z).\n",
      "numpy.random.Generator.hypergeometric\n",
      "    Draw samples from a Hypergeometric distribution.\n",
      "numpy.random.RandomState.noncentral_f\n",
      "    Draw samples from the noncentral F distribution.\n",
      "numpy.polynomial.hermite_e.hermegrid2d\n",
      "    Evaluate a 2-D HermiteE series on the Cartesian product of x and y.\n",
      "numpy.polynomial.hermite_e.hermegrid3d\n",
      "    Evaluate a 3-D HermiteE series on the Cartesian product of x, y, and z.\n",
      "numpy.polynomial.polynomial.polygrid2d\n",
      "    Evaluate a 2-D polynomial on the Cartesian product of x and y.\n",
      "numpy.polynomial.polynomial.polygrid3d\n",
      "    Evaluate a 3-D polynomial on the Cartesian product of x, y and z.\n",
      "numpy.random.Generator.standard_cauchy\n",
      "    Draw samples from a standard Cauchy distribution with mode = 0.\n",
      "numpy.distutils.command.develop.develop.create_index.__getitem__\n",
      "    Return a newest-to-oldest list of distributions for `project_name`\n",
      "numpy.random.RandomState.hypergeometric\n",
      "    Draw samples from a Hypergeometric distribution.\n",
      "numpy.lib.recfunctions.apply_along_fields\n",
      "    Apply function 'func' as a reduction across fields of a structured array.\n",
      "numpy.random.Generator.negative_binomial\n",
      "    Draw samples from a negative binomial distribution.\n",
      "numpy.random.RandomState.random_integers\n",
      "    Random integers of type `np.int_` between `low` and `high`, inclusive.\n",
      "numpy.random.RandomState.standard_cauchy\n",
      "    Draw samples from a standard Cauchy distribution with mode = 0.\n",
      "numpy.random.RandomState.negative_binomial\n",
      "    Draw samples from a negative binomial distribution.\n",
      "numpy.random.Generator.noncentral_chisquare\n",
      "    Draw samples from a noncentral chi-square distribution.\n",
      "numpy.random.RandomState.noncentral_chisquare\n",
      "    Draw samples from a noncentral chi-square distribution.\n",
      "numpy.random.Generator.multivariate_hypergeometric\n",
      "    multivariate_hypergeometric(colors, nsample, size=None,\n",
      "numpy.distutils.misc_util.Configuration.set_options\n",
      "    Configure Configuration instance.\n",
      "numpy.distutils.misc_util.Configuration.add_subpackage\n",
      "    Add a sub-package to the current Configuration instance.\n",
      "numpy.distutils.misc_util.Configuration.get_subpackage\n",
      "    Return list of subpackage configurations.\n",
      "numpy.distutils.ccompiler_opt.CCompilerOpt.feature_ahead\n",
      "    Return list of features in 'names' after remove any\n",
      "numpy.distutils.ccompiler_opt.CCompilerOpt.feature_untied\n",
      "    same as 'feature_ahead()' but if both features implied each other\n",
      "numpy.distutils.misc_util.Configuration.add_npy_pkg_config\n",
      "    Generate and install a npy-pkg config file from a template.\n",
      "numpy.linalg.tests.test_deprecations.test_qr_mode_full_future_warning\n",
      "    Check mode='full' FutureWarning.\n",
      "numpy.distutils.tests.test_ccompiler_opt_conf.TestConfFeatures.subTest\n",
      "    Return a context manager that will return the enclosed block"
     ]
    }
   ],
   "source": [
    "np.lookfor('sum') # Numpy 기능 구현 설명"
   ]
  },
  {
   "cell_type": "code",
   "execution_count": 65,
   "metadata": {},
   "outputs": [
    {
     "name": "stdout",
     "output_type": "stream",
     "text": [
      " einsum(*operands, out=None, optimize=False, **kwargs)\n",
      "\n",
      "einsum(subscripts, *operands, out=None, dtype=None, order='K',\n",
      "       casting='safe', optimize=False)\n",
      "\n",
      "Evaluates the Einstein summation convention on the operands.\n",
      "\n",
      "Using the Einstein summation convention, many common multi-dimensional,\n",
      "linear algebraic array operations can be represented in a simple fashion.\n",
      "In *implicit* mode `einsum` computes these values.\n",
      "\n",
      "In *explicit* mode, `einsum` provides further flexibility to compute\n",
      "other array operations that might not be considered classical Einstein\n",
      "summation operations, by disabling, or forcing summation over specified\n",
      "subscript labels.\n",
      "\n",
      "See the notes and examples for clarification.\n",
      "\n",
      "Parameters\n",
      "----------\n",
      "subscripts : str\n",
      "    Specifies the subscripts for summation as comma separated list of\n",
      "    subscript labels. An implicit (classical Einstein summation)\n",
      "    calculation is performed unless the explicit indicator '->' is\n",
      "    included as well as subscript labels of the precise output form.\n",
      "operands : list of array_like\n",
      "    These are the arrays for the operation.\n",
      "out : ndarray, optional\n",
      "    If provided, the calculation is done into this array.\n",
      "dtype : {data-type, None}, optional\n",
      "    If provided, forces the calculation to use the data type specified.\n",
      "    Note that you may have to also give a more liberal `casting`\n",
      "    parameter to allow the conversions. Default is None.\n",
      "order : {'C', 'F', 'A', 'K'}, optional\n",
      "    Controls the memory layout of the output. 'C' means it should\n",
      "    be C contiguous. 'F' means it should be Fortran contiguous,\n",
      "    'A' means it should be 'F' if the inputs are all 'F', 'C' otherwise.\n",
      "    'K' means it should be as close to the layout as the inputs as\n",
      "    is possible, including arbitrarily permuted axes.\n",
      "    Default is 'K'.\n",
      "casting : {'no', 'equiv', 'safe', 'same_kind', 'unsafe'}, optional\n",
      "    Controls what kind of data casting may occur.  Setting this to\n",
      "    'unsafe' is not recommended, as it can adversely affect accumulations.\n",
      "\n",
      "      * 'no' means the data types should not be cast at all.\n",
      "      * 'equiv' means only byte-order changes are allowed.\n",
      "      * 'safe' means only casts which can preserve values are allowed.\n",
      "      * 'same_kind' means only safe casts or casts within a kind,\n",
      "        like float64 to float32, are allowed.\n",
      "      * 'unsafe' means any data conversions may be done.\n",
      "\n",
      "    Default is 'safe'.\n",
      "optimize : {False, True, 'greedy', 'optimal'}, optional\n",
      "    Controls if intermediate optimization should occur. No optimization\n",
      "    will occur if False and True will default to the 'greedy' algorithm.\n",
      "    Also accepts an explicit contraction list from the ``np.einsum_path``\n",
      "    function. See ``np.einsum_path`` for more details. Defaults to False.\n",
      "\n",
      "Returns\n",
      "-------\n",
      "output : ndarray\n",
      "    The calculation based on the Einstein summation convention.\n",
      "\n",
      "See Also\n",
      "--------\n",
      "einsum_path, dot, inner, outer, tensordot, linalg.multi_dot\n",
      "einops :\n",
      "    similar verbose interface is provided by\n",
      "    `einops <https://github.com/arogozhnikov/einops>`_ package to cover\n",
      "    additional operations: transpose, reshape/flatten, repeat/tile,\n",
      "    squeeze/unsqueeze and reductions.\n",
      "opt_einsum :\n",
      "    `opt_einsum <https://optimized-einsum.readthedocs.io/en/stable/>`_\n",
      "    optimizes contraction order for einsum-like expressions\n",
      "    in backend-agnostic manner.\n",
      "\n",
      "Notes\n",
      "-----\n",
      ".. versionadded:: 1.6.0\n",
      "\n",
      "The Einstein summation convention can be used to compute\n",
      "many multi-dimensional, linear algebraic array operations. `einsum`\n",
      "provides a succinct way of representing these.\n",
      "\n",
      "A non-exhaustive list of these operations,\n",
      "which can be computed by `einsum`, is shown below along with examples:\n",
      "\n",
      "* Trace of an array, :py:func:`numpy.trace`.\n",
      "* Return a diagonal, :py:func:`numpy.diag`.\n",
      "* Array axis summations, :py:func:`numpy.sum`.\n",
      "* Transpositions and permutations, :py:func:`numpy.transpose`.\n",
      "* Matrix multiplication and dot product, :py:func:`numpy.matmul` :py:func:`numpy.dot`.\n",
      "* Vector inner and outer products, :py:func:`numpy.inner` :py:func:`numpy.outer`.\n",
      "* Broadcasting, element-wise and scalar multiplication, :py:func:`numpy.multiply`.\n",
      "* Tensor contractions, :py:func:`numpy.tensordot`.\n",
      "* Chained array operations, in efficient calculation order, :py:func:`numpy.einsum_path`.\n",
      "\n",
      "The subscripts string is a comma-separated list of subscript labels,\n",
      "where each label refers to a dimension of the corresponding operand.\n",
      "Whenever a label is repeated it is summed, so ``np.einsum('i,i', a, b)``\n",
      "is equivalent to :py:func:`np.inner(a,b) <numpy.inner>`. If a label\n",
      "appears only once, it is not summed, so ``np.einsum('i', a)`` produces a\n",
      "view of ``a`` with no changes. A further example ``np.einsum('ij,jk', a, b)``\n",
      "describes traditional matrix multiplication and is equivalent to\n",
      ":py:func:`np.matmul(a,b) <numpy.matmul>`. Repeated subscript labels in one\n",
      "operand take the diagonal. For example, ``np.einsum('ii', a)`` is equivalent\n",
      "to :py:func:`np.trace(a) <numpy.trace>`.\n",
      "\n",
      "In *implicit mode*, the chosen subscripts are important\n",
      "since the axes of the output are reordered alphabetically.  This\n",
      "means that ``np.einsum('ij', a)`` doesn't affect a 2D array, while\n",
      "``np.einsum('ji', a)`` takes its transpose. Additionally,\n",
      "``np.einsum('ij,jk', a, b)`` returns a matrix multiplication, while,\n",
      "``np.einsum('ij,jh', a, b)`` returns the transpose of the\n",
      "multiplication since subscript 'h' precedes subscript 'i'.\n",
      "\n",
      "In *explicit mode* the output can be directly controlled by\n",
      "specifying output subscript labels.  This requires the\n",
      "identifier '->' as well as the list of output subscript labels.\n",
      "This feature increases the flexibility of the function since\n",
      "summing can be disabled or forced when required. The call\n",
      "``np.einsum('i->', a)`` is like :py:func:`np.sum(a, axis=-1) <numpy.sum>`,\n",
      "and ``np.einsum('ii->i', a)`` is like :py:func:`np.diag(a) <numpy.diag>`.\n",
      "The difference is that `einsum` does not allow broadcasting by default.\n",
      "Additionally ``np.einsum('ij,jh->ih', a, b)`` directly specifies the\n",
      "order of the output subscript labels and therefore returns matrix\n",
      "multiplication, unlike the example above in implicit mode.\n",
      "\n",
      "To enable and control broadcasting, use an ellipsis.  Default\n",
      "NumPy-style broadcasting is done by adding an ellipsis\n",
      "to the left of each term, like ``np.einsum('...ii->...i', a)``.\n",
      "To take the trace along the first and last axes,\n",
      "you can do ``np.einsum('i...i', a)``, or to do a matrix-matrix\n",
      "product with the left-most indices instead of rightmost, one can do\n",
      "``np.einsum('ij...,jk...->ik...', a, b)``.\n",
      "\n",
      "When there is only one operand, no axes are summed, and no output\n",
      "parameter is provided, a view into the operand is returned instead\n",
      "of a new array.  Thus, taking the diagonal as ``np.einsum('ii->i', a)``\n",
      "produces a view (changed in version 1.10.0).\n",
      "\n",
      "`einsum` also provides an alternative way to provide the subscripts\n",
      "and operands as ``einsum(op0, sublist0, op1, sublist1, ..., [sublistout])``.\n",
      "If the output shape is not provided in this format `einsum` will be\n",
      "calculated in implicit mode, otherwise it will be performed explicitly.\n",
      "The examples below have corresponding `einsum` calls with the two\n",
      "parameter methods.\n",
      "\n",
      ".. versionadded:: 1.10.0\n",
      "\n",
      "Views returned from einsum are now writeable whenever the input array\n",
      "is writeable. For example, ``np.einsum('ijk...->kji...', a)`` will now\n",
      "have the same effect as :py:func:`np.swapaxes(a, 0, 2) <numpy.swapaxes>`\n",
      "and ``np.einsum('ii->i', a)`` will return a writeable view of the diagonal\n",
      "of a 2D array.\n",
      "\n",
      ".. versionadded:: 1.12.0\n",
      "\n",
      "Added the ``optimize`` argument which will optimize the contraction order\n",
      "of an einsum expression. For a contraction with three or more operands this\n",
      "can greatly increase the computational efficiency at the cost of a larger\n",
      "memory footprint during computation.\n",
      "\n",
      "Typically a 'greedy' algorithm is applied which empirical tests have shown\n",
      "returns the optimal path in the majority of cases. In some cases 'optimal'\n",
      "will return the superlative path through a more expensive, exhaustive search.\n",
      "For iterative calculations it may be advisable to calculate the optimal path\n",
      "once and reuse that path by supplying it as an argument. An example is given\n",
      "below.\n",
      "\n",
      "See :py:func:`numpy.einsum_path` for more details.\n",
      "\n",
      "Examples\n",
      "--------\n",
      ">>> a = np.arange(25).reshape(5,5)\n",
      ">>> b = np.arange(5)\n",
      ">>> c = np.arange(6).reshape(2,3)\n",
      "\n",
      "Trace of a matrix:\n",
      "\n",
      ">>> np.einsum('ii', a)\n",
      "60\n",
      ">>> np.einsum(a, [0,0])\n",
      "60\n",
      ">>> np.trace(a)\n",
      "60\n",
      "\n",
      "Extract the diagonal (requires explicit form):\n",
      "\n",
      ">>> np.einsum('ii->i', a)\n",
      "array([ 0,  6, 12, 18, 24])\n",
      ">>> np.einsum(a, [0,0], [0])\n",
      "array([ 0,  6, 12, 18, 24])\n",
      ">>> np.diag(a)\n",
      "array([ 0,  6, 12, 18, 24])\n",
      "\n",
      "Sum over an axis (requires explicit form):\n",
      "\n",
      ">>> np.einsum('ij->i', a)\n",
      "array([ 10,  35,  60,  85, 110])\n",
      ">>> np.einsum(a, [0,1], [0])\n",
      "array([ 10,  35,  60,  85, 110])\n",
      ">>> np.sum(a, axis=1)\n",
      "array([ 10,  35,  60,  85, 110])\n",
      "\n",
      "For higher dimensional arrays summing a single axis can be done with ellipsis:\n",
      "\n",
      ">>> np.einsum('...j->...', a)\n",
      "array([ 10,  35,  60,  85, 110])\n",
      ">>> np.einsum(a, [Ellipsis,1], [Ellipsis])\n",
      "array([ 10,  35,  60,  85, 110])\n",
      "\n",
      "Compute a matrix transpose, or reorder any number of axes:\n",
      "\n",
      ">>> np.einsum('ji', c)\n",
      "array([[0, 3],\n",
      "       [1, 4],\n",
      "       [2, 5]])\n",
      ">>> np.einsum('ij->ji', c)\n",
      "array([[0, 3],\n",
      "       [1, 4],\n",
      "       [2, 5]])\n",
      ">>> np.einsum(c, [1,0])\n",
      "array([[0, 3],\n",
      "       [1, 4],\n",
      "       [2, 5]])\n",
      ">>> np.transpose(c)\n",
      "array([[0, 3],\n",
      "       [1, 4],\n",
      "       [2, 5]])\n",
      "\n",
      "Vector inner products:\n",
      "\n",
      ">>> np.einsum('i,i', b, b)\n",
      "30\n",
      ">>> np.einsum(b, [0], b, [0])\n",
      "30\n",
      ">>> np.inner(b,b)\n",
      "30\n",
      "\n",
      "Matrix vector multiplication:\n",
      "\n",
      ">>> np.einsum('ij,j', a, b)\n",
      "array([ 30,  80, 130, 180, 230])\n",
      ">>> np.einsum(a, [0,1], b, [1])\n",
      "array([ 30,  80, 130, 180, 230])\n",
      ">>> np.dot(a, b)\n",
      "array([ 30,  80, 130, 180, 230])\n",
      ">>> np.einsum('...j,j', a, b)\n",
      "array([ 30,  80, 130, 180, 230])\n",
      "\n",
      "Broadcasting and scalar multiplication:\n",
      "\n",
      ">>> np.einsum('..., ...', 3, c)\n",
      "array([[ 0,  3,  6],\n",
      "       [ 9, 12, 15]])\n",
      ">>> np.einsum(',ij', 3, c)\n",
      "array([[ 0,  3,  6],\n",
      "       [ 9, 12, 15]])\n",
      ">>> np.einsum(3, [Ellipsis], c, [Ellipsis])\n",
      "array([[ 0,  3,  6],\n",
      "       [ 9, 12, 15]])\n",
      ">>> np.multiply(3, c)\n",
      "array([[ 0,  3,  6],\n",
      "       [ 9, 12, 15]])\n",
      "\n",
      "Vector outer product:\n",
      "\n",
      ">>> np.einsum('i,j', np.arange(2)+1, b)\n",
      "array([[0, 1, 2, 3, 4],\n",
      "       [0, 2, 4, 6, 8]])\n",
      ">>> np.einsum(np.arange(2)+1, [0], b, [1])\n",
      "array([[0, 1, 2, 3, 4],\n",
      "       [0, 2, 4, 6, 8]])\n",
      ">>> np.outer(np.arange(2)+1, b)\n",
      "array([[0, 1, 2, 3, 4],\n",
      "       [0, 2, 4, 6, 8]])\n",
      "\n",
      "Tensor contraction:\n",
      "\n",
      ">>> a = np.arange(60.).reshape(3,4,5)\n",
      ">>> b = np.arange(24.).reshape(4,3,2)\n",
      ">>> np.einsum('ijk,jil->kl', a, b)\n",
      "array([[4400., 4730.],\n",
      "       [4532., 4874.],\n",
      "       [4664., 5018.],\n",
      "       [4796., 5162.],\n",
      "       [4928., 5306.]])\n",
      ">>> np.einsum(a, [0,1,2], b, [1,0,3], [2,3])\n",
      "array([[4400., 4730.],\n",
      "       [4532., 4874.],\n",
      "       [4664., 5018.],\n",
      "       [4796., 5162.],\n",
      "       [4928., 5306.]])\n",
      ">>> np.tensordot(a,b, axes=([1,0],[0,1]))\n",
      "array([[4400., 4730.],\n",
      "       [4532., 4874.],\n",
      "       [4664., 5018.],\n",
      "       [4796., 5162.],\n",
      "       [4928., 5306.]])\n",
      "\n",
      "Writeable returned arrays (since version 1.10.0):\n",
      "\n",
      ">>> a = np.zeros((3, 3))\n",
      ">>> np.einsum('ii->i', a)[:] = 1\n",
      ">>> a\n",
      "array([[1., 0., 0.],\n",
      "       [0., 1., 0.],\n",
      "       [0., 0., 1.]])\n",
      "\n",
      "Example of ellipsis use:\n",
      "\n",
      ">>> a = np.arange(6).reshape((3,2))\n",
      ">>> b = np.arange(12).reshape((4,3))\n",
      ">>> np.einsum('ki,jk->ij', a, b)\n",
      "array([[10, 28, 46, 64],\n",
      "       [13, 40, 67, 94]])\n",
      ">>> np.einsum('ki,...k->i...', a, b)\n",
      "array([[10, 28, 46, 64],\n",
      "       [13, 40, 67, 94]])\n",
      ">>> np.einsum('k...,jk', a, b)\n",
      "array([[10, 28, 46, 64],\n",
      "       [13, 40, 67, 94]])\n",
      "\n",
      "Chained array operations. For more complicated contractions, speed ups\n",
      "might be achieved by repeatedly computing a 'greedy' path or pre-computing the\n",
      "'optimal' path and repeatedly applying it, using an\n",
      "`einsum_path` insertion (since version 1.12.0). Performance improvements can be\n",
      "particularly significant with larger arrays:\n",
      "\n",
      ">>> a = np.ones(64).reshape(2,4,8)\n",
      "\n",
      "Basic `einsum`: ~1520ms  (benchmarked on 3.1GHz Intel i5.)\n",
      "\n",
      ">>> for iteration in range(500):\n",
      "...     _ = np.einsum('ijk,ilm,njm,nlk,abc->',a,a,a,a,a)\n",
      "\n",
      "Sub-optimal `einsum` (due to repeated path calculation time): ~330ms\n",
      "\n",
      ">>> for iteration in range(500):\n",
      "...     _ = np.einsum('ijk,ilm,njm,nlk,abc->',a,a,a,a,a, optimize='optimal')\n",
      "\n",
      "Greedy `einsum` (faster optimal path approximation): ~160ms\n",
      "\n",
      ">>> for iteration in range(500):\n",
      "...     _ = np.einsum('ijk,ilm,njm,nlk,abc->',a,a,a,a,a, optimize='greedy')\n",
      "\n",
      "Optimal `einsum` (best usage pattern in some use cases): ~110ms\n",
      "\n",
      ">>> path = np.einsum_path('ijk,ilm,njm,nlk,abc->',a,a,a,a,a, optimize='optimal')[0]\n",
      ">>> for iteration in range(500):\n",
      "...     _ = np.einsum('ijk,ilm,njm,nlk,abc->',a,a,a,a,a, optimize=path)\n"
     ]
    }
   ],
   "source": [
    "np.info(np.einsum) # 찾아써서 설명을 이해하는게 좋다."
   ]
  },
  {
   "cell_type": "code",
   "execution_count": null,
   "metadata": {},
   "outputs": [],
   "source": []
  }
 ],
 "metadata": {
  "kernelspec": {
   "display_name": "pytorch",
   "language": "python",
   "name": "python3"
  },
  "language_info": {
   "codemirror_mode": {
    "name": "ipython",
    "version": 3
   },
   "file_extension": ".py",
   "mimetype": "text/x-python",
   "name": "python",
   "nbconvert_exporter": "python",
   "pygments_lexer": "ipython3",
   "version": "3.8.16"
  },
  "orig_nbformat": 4
 },
 "nbformat": 4,
 "nbformat_minor": 2
}
