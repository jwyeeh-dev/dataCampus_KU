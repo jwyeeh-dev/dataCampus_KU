{
 "cells": [
  {
   "cell_type": "markdown",
   "metadata": {},
   "source": [
    "Crawling\n",
    "\n",
    "Scraping - content - type; text/html, application/json, /image/*, ...\n",
    "                        => Focused crawling + scraping\n",
    "\n",
    "Dynamic HTML (AJAX - XmlHttpRequest/JS/Doc...)\n",
    "            => DOM (Req/Resp), Data(Req/Resp => content-type), 예시로서 웹툰\n",
    "\n",
    "Cookie / Session\n",
    "\n",
    "                HTTP\n",
    "        Client              Server\n",
    "        Req     =========>  login, 회원가입, ... => REST API (Put, Post)\n",
    "        Resp    <=========  HTML Form (method, action / JS) -> \n",
    "                        변수 = 우리 정보\n",
    "        Cookie(*)           Session\n",
    "                (key)"
   ]
  },
  {
   "cell_type": "code",
   "execution_count": 3,
   "metadata": {},
   "outputs": [],
   "source": [
    "from requests import request\n",
    "from requests.compat import *\n",
    "from bs4 import BeautifulSoup\n",
    "\n",
    "headers = {\n",
    "    'user-agent' : 'Mozilla/5.0 (Macintosh; Intel Mac OS X 10_15_7) AppleWebKit/537.36 (KHTML, like Gecko) Chrome/114.0.0.0 Safari/537.36'\n",
    "}"
   ]
  },
  {
   "cell_type": "code",
   "execution_count": 5,
   "metadata": {},
   "outputs": [],
   "source": [
    "url = 'https://pythonscraping.com/pages/cookies/login.html'\n",
    "resp = request('GET', url)"
   ]
  },
  {
   "cell_type": "code",
   "execution_count": 6,
   "metadata": {},
   "outputs": [
    {
     "data": {
      "text/plain": [
       "200"
      ]
     },
     "execution_count": 6,
     "metadata": {},
     "output_type": "execute_result"
    }
   ],
   "source": [
    "resp.status_code"
   ]
  },
  {
   "cell_type": "code",
   "execution_count": 7,
   "metadata": {},
   "outputs": [],
   "source": [
    "dom = BeautifulSoup(resp.text, 'html.parser')"
   ]
  },
  {
   "cell_type": "code",
   "execution_count": 8,
   "metadata": {},
   "outputs": [],
   "source": [
    "form = dom.select_one('form')"
   ]
  },
  {
   "cell_type": "code",
   "execution_count": 9,
   "metadata": {},
   "outputs": [
    {
     "data": {
      "text/plain": [
       "'welcome.php'"
      ]
     },
     "execution_count": 9,
     "metadata": {},
     "output_type": "execute_result"
    }
   ],
   "source": [
    "form.attrs['action']"
   ]
  },
  {
   "cell_type": "code",
   "execution_count": 10,
   "metadata": {},
   "outputs": [
    {
     "data": {
      "text/plain": [
       "['username', 'password']"
      ]
     },
     "execution_count": 10,
     "metadata": {},
     "output_type": "execute_result"
    }
   ],
   "source": [
    "[tag.attrs['name'] for tag in form.select('[name]')]"
   ]
  },
  {
   "cell_type": "code",
   "execution_count": 11,
   "metadata": {},
   "outputs": [
    {
     "data": {
      "text/plain": [
       "'https://pythonscraping.com/pages/cookies/welcome.php'"
      ]
     },
     "execution_count": 11,
     "metadata": {},
     "output_type": "execute_result"
    }
   ],
   "source": [
    "urljoin(resp.url, form.attrs['action'])"
   ]
  },
  {
   "cell_type": "code",
   "execution_count": 14,
   "metadata": {},
   "outputs": [],
   "source": [
    "params = {\n",
    "    'username' : 'testest',\n",
    "    'password' : 'password'\n",
    "}\n",
    "\n",
    "resp = request(form.attrs['method'], urljoin(resp.url, form.attrs['action']), data = params)"
   ]
  },
  {
   "cell_type": "code",
   "execution_count": 15,
   "metadata": {},
   "outputs": [
    {
     "data": {
      "text/plain": [
       "'loggedin=1, username=testest'"
      ]
     },
     "execution_count": 15,
     "metadata": {},
     "output_type": "execute_result"
    }
   ],
   "source": [
    "resp.headers['set-cookie']"
   ]
  },
  {
   "cell_type": "code",
   "execution_count": 18,
   "metadata": {},
   "outputs": [
    {
     "data": {
      "text/plain": [
       "'You\\'re not logged into the site!<br>Visit <a href=\"login.html\">the login page</a> to log in'"
      ]
     },
     "execution_count": 18,
     "metadata": {},
     "output_type": "execute_result"
    }
   ],
   "source": [
    "request('GET', urljoin(resp.url, 'profile.php')).text"
   ]
  },
  {
   "cell_type": "code",
   "execution_count": 19,
   "metadata": {},
   "outputs": [
    {
     "data": {
      "text/plain": [
       "\"Hey test! Looks like you're still logged into the site!\""
      ]
     },
     "execution_count": 19,
     "metadata": {},
     "output_type": "execute_result"
    }
   ],
   "source": [
    "request('GET', urljoin(resp.url, 'profile.php'), cookies={'loggedin' : '1', 'username' : 'test'}).text"
   ]
  },
  {
   "cell_type": "code",
   "execution_count": 21,
   "metadata": {},
   "outputs": [
    {
     "data": {
      "text/plain": [
       "('https://pythonscraping.com/pages/cookies/welcome.php',\n",
       " 'username=testest&password=password')"
      ]
     },
     "execution_count": 21,
     "metadata": {},
     "output_type": "execute_result"
    }
   ],
   "source": [
    "resp.request.url, resp.request.body"
   ]
  },
  {
   "cell_type": "code",
   "execution_count": 22,
   "metadata": {},
   "outputs": [],
   "source": [
    "from requests.cookies import cookiejar_from_dict"
   ]
  },
  {
   "cell_type": "code",
   "execution_count": 26,
   "metadata": {},
   "outputs": [],
   "source": [
    "c = cookiejar_from_dict({'loggedin' : '1', 'username' : 'whoami'})"
   ]
  },
  {
   "cell_type": "code",
   "execution_count": 27,
   "metadata": {},
   "outputs": [
    {
     "data": {
      "text/plain": [
       "\"Hey whoami! Looks like you're still logged into the site!\""
      ]
     },
     "execution_count": 27,
     "metadata": {},
     "output_type": "execute_result"
    }
   ],
   "source": [
    "request('GET', urljoin(resp.url, 'profile.php'), cookies=c).text"
   ]
  },
  {
   "cell_type": "code",
   "execution_count": 28,
   "metadata": {},
   "outputs": [
    {
     "name": "stdout",
     "output_type": "stream",
     "text": [
      "['loggedin', '1']\n",
      "['username', 'testest']\n"
     ]
    }
   ],
   "source": [
    "for row in resp.headers['set-cookie'].split(','):\n",
    "    print(row.strip().split('='))"
   ]
  },
  {
   "cell_type": "code",
   "execution_count": null,
   "metadata": {},
   "outputs": [],
   "source": []
  },
  {
   "cell_type": "code",
   "execution_count": null,
   "metadata": {},
   "outputs": [],
   "source": [
    "resp = session.request(form.attrs['method'], urljoin(resp.url, form.attrs['action']), data = params)"
   ]
  },
  {
   "cell_type": "code",
   "execution_count": null,
   "metadata": {},
   "outputs": [],
   "source": [
    "session.request('GET', urljoin(resp.url, 'profile.php')).text"
   ]
  },
  {
   "cell_type": "code",
   "execution_count": 29,
   "metadata": {},
   "outputs": [],
   "source": [
    "url = 'https://lms.sunde41.net'\n",
    "resp = request('GET', url)"
   ]
  },
  {
   "cell_type": "code",
   "execution_count": 30,
   "metadata": {},
   "outputs": [
    {
     "data": {
      "text/plain": [
       "200"
      ]
     },
     "execution_count": 30,
     "metadata": {},
     "output_type": "execute_result"
    }
   ],
   "source": [
    "resp.status_code"
   ]
  },
  {
   "cell_type": "code",
   "execution_count": 31,
   "metadata": {},
   "outputs": [],
   "source": [
    "dom = BeautifulSoup(resp.text, 'html.parser')"
   ]
  },
  {
   "cell_type": "code",
   "execution_count": 33,
   "metadata": {},
   "outputs": [
    {
     "data": {
      "text/plain": [
       "1"
      ]
     },
     "execution_count": 33,
     "metadata": {},
     "output_type": "execute_result"
    }
   ],
   "source": [
    "len(dom.select('form'))"
   ]
  },
  {
   "cell_type": "code",
   "execution_count": 36,
   "metadata": {},
   "outputs": [
    {
     "name": "stdout",
     "output_type": "stream",
     "text": [
      "{'username': None}\n",
      "{'password': None}\n"
     ]
    }
   ],
   "source": [
    "params = {}\n",
    "\n",
    "for tag in form.select('[name]'):\n",
    "    print({tag.attrs['name']:tag.attrs['value'] if tag.has_attr('value') else None})"
   ]
  },
  {
   "cell_type": "code",
   "execution_count": 38,
   "metadata": {},
   "outputs": [],
   "source": [
    "params = {}\n",
    "\n",
    "for tag in form.select('[name]'):\n",
    "    params[tag.attrs['name']] = tag.attrs['value'] if tag.has_attr('value') else ''"
   ]
  },
  {
   "cell_type": "code",
   "execution_count": 44,
   "metadata": {},
   "outputs": [
    {
     "name": "stdout",
     "output_type": "stream",
     "text": [
      "Overwriting lms.txt\n"
     ]
    }
   ],
   "source": [
    "%%writefile lms.txt\n",
    "{\n",
    "    \"id\" : \"unijellytwo@naver.com\",\n",
    "    \"pw\" : \"01077034572\"\n",
    "}"
   ]
  },
  {
   "cell_type": "code",
   "execution_count": 45,
   "metadata": {},
   "outputs": [],
   "source": [
    "import json"
   ]
  },
  {
   "cell_type": "code",
   "execution_count": 46,
   "metadata": {},
   "outputs": [],
   "source": [
    "with open('lms.txt', 'r', encoding = 'utf-8') as fp:\n",
    "    lms = json.load(fp)"
   ]
  },
  {
   "cell_type": "code",
   "execution_count": 47,
   "metadata": {},
   "outputs": [],
   "source": [
    "from requests import session"
   ]
  },
  {
   "cell_type": "code",
   "execution_count": null,
   "metadata": {},
   "outputs": [],
   "source": [
    "session.cookies.clear()"
   ]
  },
  {
   "cell_type": "code",
   "execution_count": 49,
   "metadata": {},
   "outputs": [
    {
     "data": {
      "text/plain": [
       "{'method': 'post', 'action': 'welcome.php'}"
      ]
     },
     "execution_count": 49,
     "metadata": {},
     "output_type": "execute_result"
    }
   ],
   "source": [
    "form.attrs"
   ]
  },
  {
   "cell_type": "code",
   "execution_count": null,
   "metadata": {},
   "outputs": [],
   "source": [
    "resp = session.request(form.attrs['method'], urljoin(resp.url, form.attrs['action']), data = params)"
   ]
  },
  {
   "cell_type": "code",
   "execution_count": null,
   "metadata": {},
   "outputs": [],
   "source": [
    "session.request('GET', url)"
   ]
  },
  {
   "cell_type": "code",
   "execution_count": null,
   "metadata": {},
   "outputs": [],
   "source": [
    "dom.select('a[href]^=\"/course\"]')"
   ]
  },
  {
   "cell_type": "code",
   "execution_count": null,
   "metadata": {},
   "outputs": [],
   "source": [
    "resp = request('GET', urljoin(url, '/course'))"
   ]
  },
  {
   "cell_type": "code",
   "execution_count": null,
   "metadata": {},
   "outputs": [],
   "source": [
    "c = {}\n",
    "for k,v in session.cookies.get_dict().items():\n",
    "    c[k] = v"
   ]
  },
  {
   "cell_type": "code",
   "execution_count": 52,
   "metadata": {},
   "outputs": [
    {
     "data": {
      "text/plain": [
       "'<!DOCTYPE html>\\n<html lang=\"ko\">\\n<head>\\n    <meta charset=\"UTF-8\">\\n    <meta http-equiv=\"X-UA-Compatible\" content=\"IE=edge,chrome=1\">\\n    <meta name=\"viewport\" content=\"width=device-width, initial-scale=1, maximum-scale=1, shrink-to-fit=no\">\\n    <meta name=\"description\" content=\"\">\\n    <meta name=\"author\" content=\"\">\\n    <title> 로그인 : 고려대학교 지능정보SW아카데미</title>\\n    <link href=\"/static/vendors/login.css\" rel=\"stylesheet\">\\n    <link href=\"/static/vendors/bootstrap.css\" rel=\"stylesheet\">\\n    <link href=\"/static/vendors/style.css?v=1.7\" rel=\"stylesheet\">\\n    <link rel=\"shortcut icon\" href=\"/static/favicon/favicon.ico\" type=\"image/x-icon\">\\n    <link rel=\"icon\" href=\"/static/favicon/favicon.ico\" type=\"image/x-icon\">\\n    <style>\\n        .m-form .m-form__group {\\n        padding-top: 0;\\n        padding-bottom: 0;\\n        }\\n    </style>\\n</head>\\n<body>\\n    <div class=\"form-body without-side\">\\n        <div class=\"row\">\\n            <div class=\"img-holder\">\\n                <div class=\"bg\"></div>\\n            </div>\\n<div class=\"form-holder\">\\n    <div class=\"form-content\">\\n        <div class=\"form-items\">\\n            <h3><i class=\"fa fa-sign-in\"></i>Login</h3>\\n            <form action=\"/auth/login\" method=\"POST\" name=\"login_user_form\" class=\"m-form\">\\n                <input id=\"next\" name=\"next\" type=\"hidden\" value=\"/\">\\n                <div class=\"form-group m-form__group\">\\n                    <div class=\"m-input-icon m-input-icon--left\">\\n                        <div class=\"form-group m-form__group\">\\n    <div class=\"m-input-icon m-input-icon--left\">\\n        <input autocomplete=\"email\" class=\"form-control m-input\" id=\"email\" name=\"email\" placeholder=\"이메일을 입력하세요\" type=\"email\" value=\"\">\\n        <span class=\"m-input-icon__icon m-input-icon__icon--left\"><span><i\\n                class=\"flaticon-multimedia-2\"></i></span></span>\\n    </div>\\n</div>\\n\\n                        <span class=\"m-input-icon__icon m-input-icon__icon--left\"><span><i\\n                                class=\"flaticon-multimedia-2\"></i></span></span>\\n                    </div>\\n                </div>\\n                <div class=\"form-group m-form__group\">\\n                    <div class=\"m-input-icon m-input-icon--left\">\\n                        <div class=\"form-group m-form__group\">\\n    <div class=\"m-input-icon m-input-icon--left\">\\n        <input autocomplete=\"current-password\" class=\"form-control m-input\" id=\"password\" name=\"password\" placeholder=\"비밀번호를 입력하세요\" required type=\"password\" value=\"\">\\n        <span class=\"m-input-icon__icon m-input-icon__icon--left\"><span><i\\n                class=\"flaticon-multimedia-2\"></i></span></span>\\n    </div>\\n</div>\\n\\n                        <span class=\"m-input-icon__icon m-input-icon__icon--left\"><span><i\\n                                class=\"flaticon-lock\"></i></span></span>\\n                    </div>\\n                </div>\\n                <label class=\"m-checkbox m-checkbox--solid m-checkbox--state-brand\">\\n                    <input checked=\"\" class=\"form-control\" id=\"remember\" name=\"remember\" type=\"checkbox\"> 로그인 유지\\n                    <span></span>\\n                </label>\\n                <input id=\"button\" class=\"disbtn\", value=\"로그인\" onclick=\"this.disabled=true;this.parentNode.submit();\">                   <a href=\"/user/reset\">비밀번호를 잃어버리셨습니까?</a>\\n            </form>\\n        </div>\\n    </div>\\n</div>\\n        </div>\\n    </div>\\n    <script src=\"https://ajax.googleapis.com/ajax/libs/jquery/3.3.1/jquery.min.js\"></script>\\n    <script>\\n        if (!window.jQuery) {\\n            document.write(\\'<script src=/static/vendors/jquery.js><\\\\/script>\\');\\n        }\\n    </script>\\n    <script src=\"https://cdnjs.cloudflare.com/ajax/libs/popper.js/1.14.6/umd/popper.min.js\" integrity=\"sha384-wHAiFfRlMFy6i5SRaxvfOCifBUQy1xHdJ/yoi7FRNXMRBu5WHdZYu1hA6ZOblgut\" crossorigin=\"anonymous\"></script>\\n    <script src=\"https://stackpath.bootstrapcdn.com/bootstrap/4.2.1/js/bootstrap.min.js\" integrity=\"sha384-B0UglyR+jN6CkvvICOB2joaf5I4l3gm9GU6Hc1og6Ls7i6U/mkkaduKaBhlAXv9k\" crossorigin=\"anonymous\"></script>\\n    <script src=\"/static/vendors/basic.js\" ></script>\\n</body>\\n</html>'"
      ]
     },
     "execution_count": 52,
     "metadata": {},
     "output_type": "execute_result"
    }
   ],
   "source": [
    "request('GET', url, cookies=c).text"
   ]
  },
  {
   "cell_type": "markdown",
   "metadata": {},
   "source": [
    "auto/login -> /lms.sunde41.net -> dashboard\n",
    "            302                 302"
   ]
  },
  {
   "cell_type": "code",
   "execution_count": 53,
   "metadata": {},
   "outputs": [],
   "source": [
    "from requests.sessions import Session\n",
    "session = Session()"
   ]
  },
  {
   "cell_type": "code",
   "execution_count": 54,
   "metadata": {},
   "outputs": [],
   "source": [
    "resp = request('POST', urljoin(url, '/auth/login'), data=params)"
   ]
  },
  {
   "cell_type": "code",
   "execution_count": 61,
   "metadata": {},
   "outputs": [],
   "source": [
    "url = 'https://nid.naver.com/nidlogin.login?mode=form'\n",
    "\n",
    "resp = request('GET', url)"
   ]
  },
  {
   "cell_type": "code",
   "execution_count": 62,
   "metadata": {},
   "outputs": [],
   "source": [
    "session.cookies.clear()"
   ]
  },
  {
   "cell_type": "code",
   "execution_count": 63,
   "metadata": {},
   "outputs": [
    {
     "data": {
      "text/plain": [
       "[<input id=\"localechange\" name=\"localechange\" type=\"hidden\" value=\"\"/>,\n",
       " <input id=\"dynamicKey\" name=\"dynamicKey\" type=\"hidden\" value=\"kVVrx4CpVGBtkp_EvbtdK1ktHOR7bhnzggr1hOpAO5QXhxFa9I6isCsnkR_zngyNOa_yTBUC1wq_dzJQiE_2Rit5f9Egs--nhD_k1CBWeRM\"/>,\n",
       " <input id=\"encpw\" name=\"encpw\" type=\"hidden\" value=\"\"/>,\n",
       " <input id=\"enctp\" name=\"enctp\" type=\"hidden\" value=\"1\"/>,\n",
       " <input id=\"svctype\" name=\"svctype\" type=\"hidden\" value=\"1\"/>,\n",
       " <input id=\"smart_LEVEL\" name=\"smart_LEVEL\" type=\"hidden\" value=\"1\"/>,\n",
       " <input id=\"bvsd\" name=\"bvsd\" type=\"hidden\" value=\"\"/>,\n",
       " <input id=\"encnm\" name=\"encnm\" type=\"hidden\" value=\"\"/>,\n",
       " <input id=\"locale\" name=\"locale\" type=\"hidden\" value=\"ko_KR\"/>,\n",
       " <input id=\"url\" name=\"url\" type=\"hidden\" value=\"https://www.naver.com\"/>,\n",
       " <input class=\"input_text\" id=\"id\" maxlength=\"41\" name=\"id\" placeholder=\"아이디\" title=\"아이디\" type=\"text\" value=\"\"/>,\n",
       " <input class=\"input_text\" id=\"pw\" maxlength=\"16\" name=\"pw\" placeholder=\"비밀번호\" title=\"비밀번호\" type=\"password\"/>,\n",
       " <input class=\"input_keep\" id=\"keep\" name=\"nvlong\" type=\"checkbox\" value=\"off\"/>]"
      ]
     },
     "execution_count": 63,
     "metadata": {},
     "output_type": "execute_result"
    }
   ],
   "source": [
    "dom = BeautifulSoup(resp.text, 'lxml')\n",
    "dom.select_one('form').select('[name]')"
   ]
  },
  {
   "cell_type": "code",
   "execution_count": 59,
   "metadata": {},
   "outputs": [
    {
     "data": {
      "text/plain": [
       "1"
      ]
     },
     "execution_count": 59,
     "metadata": {},
     "output_type": "execute_result"
    }
   ],
   "source": [
    "len(dom.select('form'))"
   ]
  },
  {
   "cell_type": "code",
   "execution_count": null,
   "metadata": {},
   "outputs": [],
   "source": [
    "dom = BeautifulSoup(resp.text, 'lxml')\n",
    "dom.select_one('form').select('[name]')"
   ]
  },
  {
   "cell_type": "code",
   "execution_count": 64,
   "metadata": {},
   "outputs": [],
   "source": [
    "r = '''\n",
    "JSESSIONID\tF59509BADECC255288BE081984ADF26F\twww.naver.com\t/\tSession\t42\t✓\t\t\t\tMedium\t\n",
    "tooltip_paging_close\t1\twww.naver.com\t/\t2024-07-07T07:29:50.729Z\t21\t\t\t\t\tMedium\t\n",
    "NID_JKL\tWIsD5YPdvpXCNo1w5W3sOceFvJF2uOe8xUczxNFiFOU=\t.naver.com\t/\tSession\t51\t\t✓\t\t\tMedium\t\n",
    "nx_ssl\t2\t.naver.com\t/\t2023-08-11T07:52:53.558Z\t7\t\t\t\t\tMedium\t\n",
    "MY_NUDGE\t1\twww.naver.com\t/\t2024-05-06T04:53:45.000Z\t9\t\t\t\t\tMedium\t\n",
    "NID_SES\tAAABj6UxLfBN6t+D4rJBngQ9qP7yeuo7av/WnNmL2c3sJutOsvLDf6Z7+H/iVJllqEXIE/rat7ITpHqU0pyPSy3UQe5gStbubkk2H0z1cUkdoavqKwvmFK4jFp3YxcVigJUMWtCJ2qoZGmvlFEBh9sY13Pjy7x70pl1ytgYOOQRL47+T4/kLtubIUGsx/cbukL491pxQZyWoWWxDqRGLdWB56FqNNuvLFLlSfVUIeyJXtsFIuLh0NZVB89I3MTA4b9t1bGS2rYtzqrOatezcC51PyC2CA/ak6hnghM4mxgYGIh4aavVevNRa1mpz1fwzTBELNUN+5H/XiesjRQU2Vww3AegIJxZ5pxC/o6fN2kJ3JQq+lbFwOtCPVi6ooiFqk3W4qjbaud9H5zBgtJgrhYpJuwZoyOWhU9KNzn0ClXFfGYpf3aVyPFpL9aDfLHLUhUxA4J2OFI3g2xmg9Su9pUuu/zTaRL3w5OMmSlf5stT3PzLhJ3BmtKz0AXlDVEKbaOjBQvnA9LNiPLm+4+x2oouax24=\t.naver.com\t/\tSession\t547\t\t\t\t\tMedium\t\n",
    "NID_AUT\thote1BBUvn0zhd891GwYqijUAZaoskPrCCKv+grbmY9xSrwGYycF7XFVSXuPvBYH\t.naver.com\t/\tSession\t71\t✓\t\t\t\tMedium\t\n",
    "page_uid\ti7fohdp0YihssTpSd/dssssstYR-073381\t.naver.com\t/\tSession\t42\t\t\t\t\tMedium\t\n",
    "nid_inf\t-1269507578\t.naver.com\t/\tSession\t18\t\t\t\t\tMedium\t\n",
    "NNB\t4FWLQHW2JUWWI\t.naver.com\t/\t2024-08-20T02:40:03.665Z\t16\t\t✓\tNone\t\tMedium\t\n",
    "nid_slevel\t1\t.nid.naver.com\t/\t2024-07-16T02:39:58.000Z\t11\t\t\t\t\tMedium\t\n",
    "PM_CK_loc\t2b6720e78c216d0746bf1f8ec13e12645283961615268c1cf9cf2c843f5c4d5e\twww.naver.com\t/\t2023-07-18T02:22:33.094Z\t73\t✓\t\t\t\tMedium\t\n",
    "ASID\tdee9324300000187760bd83900000049\t.naver.com\t/\t2024-07-11T07:18:26.920Z\t36\t\t✓\tNone\t\tMedium\t\n",
    "nid_buk\t4FWLQHW2JUWWI\t.nid.naver.com\t/\t2024-07-11T06:42:42.575Z\t20\t\t✓\t\t\tMedium\t\n",
    "'''\n",
    "c = {}\n",
    "for line in r.splitlines():\n",
    "    if len(line) > 1:\n",
    "       # print(line.split('\\t')[:2])\n",
    "       c[line.split('\\t')[0]] = line.split('\\t')[1]"
   ]
  },
  {
   "cell_type": "code",
   "execution_count": 67,
   "metadata": {},
   "outputs": [
    {
     "data": {
      "text/plain": [
       "'<!doctype html><html><head lang=\"ko\"><meta charset=\"UTF-8\"/><meta name=\"viewport\" content=\"width=device-width,initial-scale=1,maximum-scale=1,minimum-scale=1,viewport-fit=cover\"/><title>메일</title><link rel=\"shortcut icon\" href=\"/favicon.ico\" type=\"image/x-icon\"/><link rel=\"apple-touch-icon-precomposed\" sizes=\"72x72\" href=\"https://ssl.pstatic.net/static/pwe/naver_mail/hdpi_72X72.png\"><link rel=\"apple-touch-icon-precomposed\" sizes=\"96x96\" href=\"https://ssl.pstatic.net/static/pwe/naver_mail/xhdpi_96x96.png\"><link rel=\"apple-touch-icon-precomposed\" sizes=\"144x144\" href=\"https://ssl.pstatic.net/static/pwe/naver_mail/xxhpdi_144x144.png\"><link rel=\"apple-touch-icon-precomposed\" sizes=\"192x192\" href=\"https://ssl.pstatic.net/static/pwe/naver_mail/xxxhpdi_192x192.png\"><script>window.nhn = {};\\n      window.gnb_option = {\\n        gnb_service: \"mail\",\\n        gnb_template: \"gnb_utf8\",\\n        gnb_logout: \"https://www.naver.com\",\\n        gnb_one_naver: 1,\\n        gnb_item_hide_option: 8,\\n        gnb_one_flat: 1,\\n        gnb_one_pwe: 1\\n      };</script><script src=\"https://ssl.pstatic.net/tveta/libs/glad/prod/gfp-core.js\"></script><script>window.gladsdk = window.gladsdk || { cmd: [] };</script><script async src=\"/builds/v2/libs/jindo.js\"></script><script src=\"/builds/v2/libs/es6-shim.js\"></script><script src=\"/builds/v2/libs/lcslog_v0.14.0.js\"></script><script async src=\"/builds/v2/libs/site-translator_v3.0.6.js\"></script><script async src=\"/builds/v2/libs/nclk_v0.8.1.js\"></script><script id=\"postData\">try {\\n        var __ONEWEB_POST_DATA__ = (POST_DATA);\\n      } catch (e) {\\n        if (typeof __ONEWEB_POST_DATA__ === \\'undefined\\') {\\n          var postDataEl = document.querySelector(\\'#postData\\');\\n          postDataEl.parentNode.removeChild(postDataEl);\\n        }\\n      }</script><link rel=\"stylesheet\" href=\"/builds/v2/css/index.3e723f4.css\"/><script defer=\"defer\" src=\"/builds/v2/js/runtime.3e723f4.js\"></script><script defer=\"defer\" src=\"/builds/v2/js/vendor.3e723f4.js\"></script><script defer=\"defer\" src=\"/builds/v2/js/app.3e723f4.js\"></script></head><body><div id=\"u_skip\"><a href=\"#content\">본문으로 바로가기</a></div><div id=\"root\"></div><div id=\"layer\"></div><div id=\"toast\"></div></body></html>'"
      ]
     },
     "execution_count": 67,
     "metadata": {},
     "output_type": "execute_result"
    }
   ],
   "source": [
    "url = 'https://mail.naver.com'\n",
    "request('GET', url, cookies=c).text\n"
   ]
  },
  {
   "cell_type": "code",
   "execution_count": 69,
   "metadata": {},
   "outputs": [],
   "source": [
    "for k,v in c.items():\n",
    "    session.cookies.set(k,v)"
   ]
  },
  {
   "cell_type": "code",
   "execution_count": 70,
   "metadata": {},
   "outputs": [
    {
     "data": {
      "text/plain": [
       "<RequestsCookieJar[Cookie(version=0, name='ASID', value='dee9324300000187760bd83900000049', port=None, port_specified=False, domain='', domain_specified=False, domain_initial_dot=False, path='/', path_specified=True, secure=False, expires=None, discard=True, comment=None, comment_url=None, rest={'HttpOnly': None}, rfc2109=False), Cookie(version=0, name='JSESSIONID', value='F59509BADECC255288BE081984ADF26F', port=None, port_specified=False, domain='', domain_specified=False, domain_initial_dot=False, path='/', path_specified=True, secure=False, expires=None, discard=True, comment=None, comment_url=None, rest={'HttpOnly': None}, rfc2109=False), Cookie(version=0, name='MY_NUDGE', value='1', port=None, port_specified=False, domain='', domain_specified=False, domain_initial_dot=False, path='/', path_specified=True, secure=False, expires=None, discard=True, comment=None, comment_url=None, rest={'HttpOnly': None}, rfc2109=False), Cookie(version=0, name='NID_AUT', value='hote1BBUvn0zhd891GwYqijUAZaoskPrCCKv+grbmY9xSrwGYycF7XFVSXuPvBYH', port=None, port_specified=False, domain='', domain_specified=False, domain_initial_dot=False, path='/', path_specified=True, secure=False, expires=None, discard=True, comment=None, comment_url=None, rest={'HttpOnly': None}, rfc2109=False), Cookie(version=0, name='NID_JKL', value='WIsD5YPdvpXCNo1w5W3sOceFvJF2uOe8xUczxNFiFOU=', port=None, port_specified=False, domain='', domain_specified=False, domain_initial_dot=False, path='/', path_specified=True, secure=False, expires=None, discard=True, comment=None, comment_url=None, rest={'HttpOnly': None}, rfc2109=False), Cookie(version=0, name='NID_SES', value='AAABj6UxLfBN6t+D4rJBngQ9qP7yeuo7av/WnNmL2c3sJutOsvLDf6Z7+H/iVJllqEXIE/rat7ITpHqU0pyPSy3UQe5gStbubkk2H0z1cUkdoavqKwvmFK4jFp3YxcVigJUMWtCJ2qoZGmvlFEBh9sY13Pjy7x70pl1ytgYOOQRL47+T4/kLtubIUGsx/cbukL491pxQZyWoWWxDqRGLdWB56FqNNuvLFLlSfVUIeyJXtsFIuLh0NZVB89I3MTA4b9t1bGS2rYtzqrOatezcC51PyC2CA/ak6hnghM4mxgYGIh4aavVevNRa1mpz1fwzTBELNUN+5H/XiesjRQU2Vww3AegIJxZ5pxC/o6fN2kJ3JQq+lbFwOtCPVi6ooiFqk3W4qjbaud9H5zBgtJgrhYpJuwZoyOWhU9KNzn0ClXFfGYpf3aVyPFpL9aDfLHLUhUxA4J2OFI3g2xmg9Su9pUuu/zTaRL3w5OMmSlf5stT3PzLhJ3BmtKz0AXlDVEKbaOjBQvnA9LNiPLm+4+x2oouax24=', port=None, port_specified=False, domain='', domain_specified=False, domain_initial_dot=False, path='/', path_specified=True, secure=False, expires=None, discard=True, comment=None, comment_url=None, rest={'HttpOnly': None}, rfc2109=False), Cookie(version=0, name='NNB', value='4FWLQHW2JUWWI', port=None, port_specified=False, domain='', domain_specified=False, domain_initial_dot=False, path='/', path_specified=True, secure=False, expires=None, discard=True, comment=None, comment_url=None, rest={'HttpOnly': None}, rfc2109=False), Cookie(version=0, name='PM_CK_loc', value='2b6720e78c216d0746bf1f8ec13e12645283961615268c1cf9cf2c843f5c4d5e', port=None, port_specified=False, domain='', domain_specified=False, domain_initial_dot=False, path='/', path_specified=True, secure=False, expires=None, discard=True, comment=None, comment_url=None, rest={'HttpOnly': None}, rfc2109=False), Cookie(version=0, name='nid_buk', value='4FWLQHW2JUWWI', port=None, port_specified=False, domain='', domain_specified=False, domain_initial_dot=False, path='/', path_specified=True, secure=False, expires=None, discard=True, comment=None, comment_url=None, rest={'HttpOnly': None}, rfc2109=False), Cookie(version=0, name='nid_inf', value='-1269507578', port=None, port_specified=False, domain='', domain_specified=False, domain_initial_dot=False, path='/', path_specified=True, secure=False, expires=None, discard=True, comment=None, comment_url=None, rest={'HttpOnly': None}, rfc2109=False), Cookie(version=0, name='nid_slevel', value='1', port=None, port_specified=False, domain='', domain_specified=False, domain_initial_dot=False, path='/', path_specified=True, secure=False, expires=None, discard=True, comment=None, comment_url=None, rest={'HttpOnly': None}, rfc2109=False), Cookie(version=0, name='nx_ssl', value='2', port=None, port_specified=False, domain='', domain_specified=False, domain_initial_dot=False, path='/', path_specified=True, secure=False, expires=None, discard=True, comment=None, comment_url=None, rest={'HttpOnly': None}, rfc2109=False), Cookie(version=0, name='page_uid', value='i7fohdp0YihssTpSd/dssssstYR-073381', port=None, port_specified=False, domain='', domain_specified=False, domain_initial_dot=False, path='/', path_specified=True, secure=False, expires=None, discard=True, comment=None, comment_url=None, rest={'HttpOnly': None}, rfc2109=False), Cookie(version=0, name='tooltip_paging_close', value='1', port=None, port_specified=False, domain='', domain_specified=False, domain_initial_dot=False, path='/', path_specified=True, secure=False, expires=None, discard=True, comment=None, comment_url=None, rest={'HttpOnly': None}, rfc2109=False)]>"
      ]
     },
     "execution_count": 70,
     "metadata": {},
     "output_type": "execute_result"
    }
   ],
   "source": [
    "session.cookies"
   ]
  },
  {
   "cell_type": "code",
   "execution_count": 71,
   "metadata": {},
   "outputs": [],
   "source": [
    "import re"
   ]
  },
  {
   "cell_type": "code",
   "execution_count": 72,
   "metadata": {},
   "outputs": [
    {
     "data": {
      "text/plain": [
       "<re.Match object; span=(179, 196), match='<title>메일</title>'>"
      ]
     },
     "execution_count": 72,
     "metadata": {},
     "output_type": "execute_result"
    }
   ],
   "source": [
    "re.search(r'<title>(.+)</title>', session.request('GET', url).text)"
   ]
  },
  {
   "cell_type": "code",
   "execution_count": 74,
   "metadata": {},
   "outputs": [
    {
     "data": {
      "text/plain": [
       "'<!doctype html><html><head lang=\"ko\"><meta charset=\"UTF-8\"/><meta name=\"viewport\" content=\"width=device-width,initial-scale=1,maximum-scale=1,minimum-scale=1,viewport-fit=cover\"/><title>메일</title><link rel=\"shortcut icon\" href=\"/favicon.ico\" type=\"image/x-icon\"/><link rel=\"apple-touch-icon-precomposed\" sizes=\"72x72\" href=\"https://ssl.pstatic.net/static/pwe/naver_mail/hdpi_72X72.png\"><link rel=\"apple-touch-icon-precomposed\" sizes=\"96x96\" href=\"https://ssl.pstatic.net/static/pwe/naver_mail/xhdpi_96x96.png\"><link rel=\"apple-touch-icon-precomposed\" sizes=\"144x144\" href=\"https://ssl.pstatic.net/static/pwe/naver_mail/xxhpdi_144x144.png\"><link rel=\"apple-touch-icon-precomposed\" sizes=\"192x192\" href=\"https://ssl.pstatic.net/static/pwe/naver_mail/xxxhpdi_192x192.png\"><script>window.nhn = {};\\n      window.gnb_option = {\\n        gnb_service: \"mail\",\\n        gnb_template: \"gnb_utf8\",\\n        gnb_logout: \"https://www.naver.com\",\\n        gnb_one_naver: 1,\\n        gnb_item_hide_option: 8,\\n        gnb_one_flat: 1,\\n        gnb_one_pwe: 1\\n      };</script><script src=\"https://ssl.pstatic.net/tveta/libs/glad/prod/gfp-core.js\"></script><script>window.gladsdk = window.gladsdk || { cmd: [] };</script><script async src=\"/builds/v2/libs/jindo.js\"></script><script src=\"/builds/v2/libs/es6-shim.js\"></script><script src=\"/builds/v2/libs/lcslog_v0.14.0.js\"></script><script async src=\"/builds/v2/libs/site-translator_v3.0.6.js\"></script><script async src=\"/builds/v2/libs/nclk_v0.8.1.js\"></script><script id=\"postData\">try {\\n        var __ONEWEB_POST_DATA__ = (POST_DATA);\\n      } catch (e) {\\n        if (typeof __ONEWEB_POST_DATA__ === \\'undefined\\') {\\n          var postDataEl = document.querySelector(\\'#postData\\');\\n          postDataEl.parentNode.removeChild(postDataEl);\\n        }\\n      }</script><link rel=\"stylesheet\" href=\"/builds/v2/css/index.3e723f4.css\"/><script defer=\"defer\" src=\"/builds/v2/js/runtime.3e723f4.js\"></script><script defer=\"defer\" src=\"/builds/v2/js/vendor.3e723f4.js\"></script><script defer=\"defer\" src=\"/builds/v2/js/app.3e723f4.js\"></script></head><body><div id=\"u_skip\"><a href=\"#content\">본문으로 바로가기</a></div><div id=\"root\"></div><div id=\"layer\"></div><div id=\"toast\"></div></body></html>'"
      ]
     },
     "execution_count": 74,
     "metadata": {},
     "output_type": "execute_result"
    }
   ],
   "source": [
    "session.get('https://mail.naver.com/v2/folders/0').text"
   ]
  },
  {
   "cell_type": "code",
   "execution_count": 76,
   "metadata": {},
   "outputs": [],
   "source": [
    "url = 'https://mail.naver.com/json/list'\n",
    "\n",
    "params = {\n",
    "    'folderSN':'0',\n",
    "    'page':'1',\n",
    "    'viewMode':'time',\n",
    "    'previewMode':'1',\n",
    "    'sortField':'1',\n",
    "    'sortType':'0',\n",
    "    'u':'unijellytwo'\n",
    "}\n",
    "\n",
    "resp = session.request('POST', url, params=params)"
   ]
  },
  {
   "cell_type": "code",
   "execution_count": 77,
   "metadata": {},
   "outputs": [
    {
     "data": {
      "text/plain": [
       "30"
      ]
     },
     "execution_count": 77,
     "metadata": {},
     "output_type": "execute_result"
    }
   ],
   "source": [
    "len(resp.json()['mailData'])"
   ]
  },
  {
   "cell_type": "code",
   "execution_count": 79,
   "metadata": {},
   "outputs": [],
   "source": [
    "params = {\n",
    "    'folderSN':'5',\n",
    "    'page':'1',\n",
    "    'viewMode':'time',\n",
    "    'previewMode':'1',\n",
    "    'sortField':'1',\n",
    "    'sortType':'0',\n",
    "    'u':'unijellytwo'\n",
    "}"
   ]
  },
  {
   "cell_type": "code",
   "execution_count": 80,
   "metadata": {},
   "outputs": [
    {
     "data": {
      "text/plain": [
       "0"
      ]
     },
     "execution_count": 80,
     "metadata": {},
     "output_type": "execute_result"
    }
   ],
   "source": [
    "resp = request('POST', url, params=params, cookies=c)\n",
    "len(resp.json()['mailData'])"
   ]
  },
  {
   "cell_type": "code",
   "execution_count": 81,
   "metadata": {},
   "outputs": [],
   "source": [
    "resp = session.request('GET', 'https://cafe.naver.com')"
   ]
  },
  {
   "cell_type": "code",
   "execution_count": 82,
   "metadata": {},
   "outputs": [],
   "source": [
    "url = 'https://apis.naver.com/cafe-home-web/cafe-home/v1/homepc'"
   ]
  },
  {
   "cell_type": "code",
   "execution_count": 83,
   "metadata": {},
   "outputs": [],
   "source": [
    "params = {\n",
    "    'page' : '1',\n",
    "    'type' : 'join',\n",
    "    'perPage' : '10',\n",
    "    'recentUpdates' : 'true'\n",
    "}"
   ]
  },
  {
   "cell_type": "code",
   "execution_count": 84,
   "metadata": {},
   "outputs": [],
   "source": [
    "resp = request('GET', url, params=params, cookies=c)\n"
   ]
  },
  {
   "cell_type": "code",
   "execution_count": 98,
   "metadata": {},
   "outputs": [
    {
     "data": {
      "text/plain": [
       "1"
      ]
     },
     "execution_count": 98,
     "metadata": {},
     "output_type": "execute_result"
    }
   ],
   "source": [
    "len(resp.json())"
   ]
  },
  {
   "cell_type": "code",
   "execution_count": 100,
   "metadata": {},
   "outputs": [],
   "source": [
    "url = 'https://www.ypbooks.co.kr/kor_index.yp'\n",
    "\n",
    "resp = request('GET', url)\n",
    "\n",
    "dom = BeautifulSoup(resp.text, 'lxml')"
   ]
  },
  {
   "cell_type": "code",
   "execution_count": 101,
   "metadata": {},
   "outputs": [
    {
     "data": {
      "text/plain": [
       "<form action=\"https://www.ypbooks.co.kr/search.yp?targetpage=search_total_main\" method=\"post\" name=\"ypsearch\">\n",
       "<input name=\"query\" type=\"hidden\" value=\"\"/>\n",
       "<input name=\"searchField\" type=\"hidden\" value=\"\"/>\n",
       "<input name=\"sortField\" type=\"hidden\" value=\"RANK\"/>\n",
       "<input name=\"order\" type=\"hidden\" value=\"1\"/>\n",
       "<input name=\"idx\" type=\"hidden\" value=\"0\"/>\n",
       "<input name=\"rowNum\" type=\"hidden\" value=\"20\"/>\n",
       "<input name=\"notSoldOut\" type=\"hidden\" value=\"Y\"/>\n",
       "<input name=\"c1\" type=\"hidden\" value=\"\"/>\n",
       "<input name=\"c2\" type=\"hidden\" value=\"\"/>\n",
       "<input name=\"c3\" type=\"hidden\" value=\"\"/>\n",
       "<!-- 상세검색용 -->\n",
       "<input name=\"detailchk\" type=\"hidden\" value=\"\"/>\n",
       "<input name=\"d_title\" type=\"hidden\" value=\"\"/>\n",
       "<input name=\"d_author\" type=\"hidden\" value=\"\"/>\n",
       "<input name=\"d_cusnme\" type=\"hidden\" value=\"\"/>\n",
       "<input name=\"d_body\" type=\"hidden\" value=\"\"/>\n",
       "<input name=\"d_isbn\" type=\"hidden\" value=\"\"/>\n",
       "<input name=\"s_price\" type=\"hidden\" value=\"\"/>\n",
       "<input name=\"e_price\" type=\"hidden\" value=\"\"/>\n",
       "<input name=\"pubdt\" type=\"hidden\" value=\"\"/>\n",
       "<input name=\"s_pubdt\" type=\"hidden\" value=\"\"/>\n",
       "<input name=\"e_pubdt\" type=\"hidden\" value=\"\"/>\n",
       "<input name=\"max_price\" type=\"hidden\" value=\"\"/>\n",
       "<input name=\"tempColQuery\" type=\"hidden\" value=\"\"/>\n",
       "<input name=\"research_chk\" type=\"hidden\" value=\"\"/>\n",
       "<input name=\"pageIdx\" type=\"hidden\" value=\"total\"/>\n",
       "<input name=\"detailchk\" type=\"hidden\" value=\"\"/>\n",
       "</form>"
      ]
     },
     "execution_count": 101,
     "metadata": {},
     "output_type": "execute_result"
    }
   ],
   "source": [
    "dom.select('form')[4]"
   ]
  },
  {
   "cell_type": "code",
   "execution_count": 110,
   "metadata": {},
   "outputs": [],
   "source": [
    "form = dom.select('form')[-1]\n",
    "\n",
    "params = {node.attrs['name'] : node.attrs['value'] for node in form.select('[name]')}"
   ]
  },
  {
   "cell_type": "code",
   "execution_count": 111,
   "metadata": {},
   "outputs": [],
   "source": [
    "params['query'] = '뉴진스'"
   ]
  },
  {
   "cell_type": "code",
   "execution_count": 114,
   "metadata": {},
   "outputs": [],
   "source": [
    "resp = request(form.attrs['method'], urljoin(url, form.attrs['action']), data=params, headers=headers['user-agent'])"
   ]
  },
  {
   "cell_type": "code",
   "execution_count": 115,
   "metadata": {},
   "outputs": [
    {
     "data": {
      "text/plain": [
       "{'name': 'searchFrm', 'method': 'post', 'action': '/search.yp'}"
      ]
     },
     "execution_count": 115,
     "metadata": {},
     "output_type": "execute_result"
    }
   ],
   "source": [
    "form.attrs"
   ]
  },
  {
   "cell_type": "code",
   "execution_count": 118,
   "metadata": {},
   "outputs": [
    {
     "data": {
      "text/plain": [
       "(200,\n",
       " '200',\n",
       " {'Date': 'Mon, 17 Jul 2023 03:13:16 GMT', 'Set-Cookie': 'SCOUTER=x263fkldv58k97; Max-Age=2147483647; Expires=Sat, 04-Aug-2091 06:27:23 GMT; Path=/, JSESSIONID=856AB6DBD01F39CCFC74A8EDA5FBD67B; Path=/; Secure; HttpOnly', 'Keep-Alive': 'timeout=5, max=100', 'Connection': 'Keep-Alive', 'Transfer-Encoding': 'chunked', 'Content-Type': 'text/html;charset=UTF-8'})"
      ]
     },
     "execution_count": 118,
     "metadata": {},
     "output_type": "execute_result"
    }
   ],
   "source": [
    "resp.status_code, resp.reason, resp.headers"
   ]
  },
  {
   "cell_type": "code",
   "execution_count": 117,
   "metadata": {},
   "outputs": [
    {
     "name": "stdout",
     "output_type": "stream",
     "text": [
      "\n",
      "\n",
      "\n",
      "\n",
      "\n",
      "\n",
      "\n",
      "\n",
      "\n",
      "\n",
      "\n",
      "\n",
      "\n",
      "\n",
      "\n",
      "\n",
      "\n",
      "\n",
      "\n",
      "<!DOCTYPE html PUBLIC \"-//W3C//DTD XHTML 1.0 Transitional//EN\" \"http://www.w3.org/TR/xhtml1/DTD/xhtml1-transitional.dtd\">\n",
      "<html xmlns=\"http://www.w3.org/1999/xhtml\">\n",
      "<head>\n",
      "\t<title>영풍문고 - 서점다운 서점</title>\n",
      "\t<meta http-equiv=\"X-UA-Compatible\" content=\"IE=edge\" />\n",
      "\t<link rel=\"shortcut icon\" href=\"https://img.ypbooks.co.kr/ypbooks/images/new_favicon.ico\" type=\"image/x-icon\" />\n",
      "\t\t<style type=\"text/css\">\n",
      "\t\t#allFrame {width:/*1080px*/100%;margin:0px auto;position:relative;overflow:hidden;}\n",
      "\t\t#mainFrame {width:1080px;margin:0px auto;position:relative;}\n",
      "\t\t#allFrame #cartArea {width:450px;;height:500px;right:0px;position:absolute;text-align:right;z-index:1000;top:192px;}\n",
      "\t\t#mainFrame #cartArea {width:450px;;height:500px;right:0px;position:absolute;text-align:right;z-index:1000;top:144px;}\n",
      "\t\t</style>\n",
      "\t\t<script type=\"text/javascript\" src=\"/ypbooks/js/jquery-1.12.4.min.js\"></script>\n",
      "\t\t<script type=\"text/javascript\" src=\"/ypbooks/js/jquery.bgiframe.min.js\"></script>\n",
      "\t\t<script type=\"text/javascript\" src=\"/ypbooks/js/sub.js\"></script>\n",
      "\t\t<script type=\"text/javascript\" src=\"/ypbooks/js/util.js\"></script>\n",
      "</head>\n",
      "\n",
      "<body>\n",
      "\t<div id=\"wrap\" style=\"background:none\">\n",
      "\t\t<div id=\"allFrame\">\n",
      "\t\t\n",
      "\t\t\t<div>\n",
      "\t\t\t\t\n",
      "\n",
      "\n",
      "\n",
      "\n",
      "\n",
      "<!DOCTYPE html PUBLIC \"-//W3C//DTD XHTML 1.0 Transitional//EN\" \"http://www.w3.org/TR/xhtml1/DTD/xhtml1-transitional.dtd\">\n",
      "<html xmlns=\"http://www.w3.org/1999/xhtml\">\n",
      "<head>\n",
      "<meta http-equiv=\"Content-Type\" content=\"text/html; charset=utf-8\" />\n",
      "<meta http-equiv=\"X-UA-Compatible\" content=\"IE=edge\" />\n",
      "<title>영풍문고 통합검색</title>\n",
      "\n",
      "<!-- add -->\n",
      "<link rel=\"icon\" href=\"https://img.ypbooks.co.kr/ypbooks/images/new_favicon.ico\" type=\"image/x-icon\" />\n",
      "\n",
      "<link href=\"/ypbooks/search/css/search.css\" rel=\"stylesheet\" type=\"text/css\" />\n",
      "\n",
      "<!--이미지 롤링관련-->\n",
      "<script language=\"JavaScript\" src=\"/ypbooks/search/js/scroll.js\"></script>\n",
      "<script language=\"JavaScript\" src=\"/ypbooks/search/js/js_rolling.js\"></script>\n",
      "\n",
      "<!--슬라이드관련-->\n",
      "<script language=\"JavaScript\" src=\"/ypbooks/search/js/LibCrossBrowser.js\"></script>\n",
      "<script language=\"JavaScript\" src=\"/ypbooks/search/js/EventHandler.js\"></script>\n",
      "<script language=\"JavaScript\" src=\"/ypbooks/search/js/Bs_FormUtil.lib.js\"></script>\n",
      "<script language=\"JavaScript\" src=\"/ypbooks/search/js/Bs_ColorUtil.lib.js\"></script>\n",
      "<script language=\"JavaScript\" src=\"/ypbooks/search/js/Bs_Slider.class.js\"></script>\n",
      "\n",
      "<script language=\"javascript\" src=\"/ypbooks/search/js/mySearchWord.js\"></script>\n",
      "<script language=\"javascript\" src=\"/ypbooks/search/js/search.js\"></script>\n",
      "<script language=\"javascript\" src=\"/ypbooks/js/myinfo_util.js\"></script>\n",
      "<script type=\"text/javascript\" src=\"/ypbooks/js/http_request.js\"></script>\n",
      "\n",
      "\n",
      "<script>\n",
      "var t3;\n",
      "//통합검색\n",
      "$(\".ts_btn\").click(function() {\n",
      "\t$(\".cl_ul\").css(\"display\", $(\".cl_ul\").css(\"display\") != \"none\" ? \"none\" : \"block\");\n",
      "\treturn false;\n",
      "});\n",
      "\n",
      "$(\"#searchListB li a\").each(function(i) {\n",
      "\t$(this).click(function() {\n",
      "\t\tswitch (i) {\n",
      "\t\t\tcase 0 : setGubun('total','https://' + document.domain + '/search.yp'); $(\"#searchA\").html($(this).html()); break;\n",
      "\t\t\tcase 1 : setGubun('kor','https://' + document.domain + '/search.yp?collection=books_kor'); $(\"#searchA\").html($(this).html()); break;\n",
      "\t\t\tcase 2 : setGubun('Foreign','https://' + document.domain + '/search.yp?collection=books_eng'); $(\"#searchA\").html($(this).html()); break;\n",
      "\t\t\tcase 3 : setGubun('review','https://' + document.domain + '/search.yp?collection=book_review'); $(\"#searchA\").html($(this).html()); break;\n",
      "\t\t\tcase 4 : setGubun('dtsearch','https://' + document.domain + '/search.yp?searchField=dt_search'); $(\"#searchA\").html($(this).html()); break;\n",
      "\t\t}\n",
      "\t\t$(\"#searchListB\").hide();\n",
      "\t\treturn false;\n",
      "\t});\n",
      "});\n",
      "</script>\n",
      "\n",
      "<script>\n",
      "\tfunction preview_page(isbn, bookCd, adult) {\n",
      "\t\tvar form = document.previewForm;\n",
      "\t\tvar w = $(window).width()*0.98;\n",
      "\t\tvar h = $(window).height()*1.13;\n",
      "\t\twindow.open(form.action, 'previewPop', 'width='+w+',height='+h+',top=0,left=0');\n",
      "\t\tform.isbn.value = isbn;\n",
      "\t\tform.bookCd.value = bookCd;\n",
      "\t\tform.target = 'previewPop';\n",
      "\t\tdocument.previewForm.submit();\n",
      "\t}\n",
      "</script>\n",
      "<form name=\"previewForm\" method=\"get\" action=\"/bookPreview.yp\">\n",
      "\t<input type=\"hidden\" name=\"isbn\" value=\"\">\n",
      "\t<input type=\"hidden\" name=\"bookCd\" value=\"\">\n",
      "</form>\n",
      "\n",
      "<script type=\"text/javascript\">\n",
      "\tvar _gaq = _gaq || [];\n",
      "\t_gaq.push(['_setAccount', 'UA-23050343-1']);\n",
      "\t_gaq.push(['_trackPageview']);\n",
      "\n",
      "\t(function() {\n",
      "\tvar ga = document.createElement('script'); ga.type = 'text/javascript'; ga.async = true;\n",
      "\tga.src = ('https:' == document.location.protocol ? 'https://ssl' : 'http://www') + '.google-analytics.com/ga.js';\n",
      "\tvar s = document.getElementsByTagName('script')[0]; s.parentNode.insertBefore(ga, s);\n",
      "\t})();\n",
      "\n",
      "\tfunction onDayDelvCart_on(method) {\n",
      "\tif (method==11) {\n",
      "\t\tvar st = document.querySelector(\".delvInfo\").style.display;\n",
      "\t\tif (st == \"block\") {\n",
      "\t\t\tdocument.querySelector(\"delvInfo\").style.display = \"none\";\n",
      "\t\t} else {\n",
      "\t\t\tdocument.querySelector(\"delvInfo\").style.display = \"block\";\n",
      "\t}\n",
      "}\n",
      "\t\t}\n",
      "\t\n",
      "$(document).ready(function(){\n",
      "\t\n",
      "\t//주문 수량 변경시 안내버튼 hover 이벤트 -ksh\n",
      "\t$('.searInfo_btn').hover(function(){\n",
      "\t$(this).parents('dl').find('div.searInfo_pop').show();\n",
      "\t},function(){\n",
      "\t\t$('.searInfo_pop').hide();\n",
      "\t});\n",
      "\n",
      "\t$('#hFrame').load(function(){\n",
      "\t\tthis.contentWindow.init();\n",
      "\t});\n",
      "\t\n",
      "\t$(\".delvInfo\").load(\"/commonInfo/day_delvInfo.jsp\");\n",
      "\t$(\".delvInfo\").click(function() {onDayDelvCart_on(11);});\n",
      "\t\n",
      "\tsearchTab();\n",
      "\tsearchBest();\n",
      "});\n",
      "\t\n",
      "\t$(function(){\n",
      "\t  var sBtn = $(\".cat_list_m li\");\n",
      "\t  sBtn.find(\"a\").click(function(){\n",
      "\t\t  sBtn.removeClass(\"on\");\n",
      "\t\t  $(this).parent().addClass(\"on\");\n",
      "\t\t});\n",
      "\t});\n",
      "\n",
      "\t$(function(){\n",
      "\t\tvar tD_on = $(\".toggleDiv .toggleDiv_tr1 td ul li\");\n",
      "\t\ttD_on.find(\"a\").click(function(){\n",
      "\t\t  tD_on.removeClass(\"on\");\n",
      "\t\t  $(this).parent().addClass(\"on\");\n",
      "\t\t});\n",
      "\t});\n",
      "\n",
      "\t\n",
      "\t$(function(){\n",
      "\t\tvar dri_on = $(\".detail-result-imp-mid-top-left ul li\");\n",
      "\t  dri_on.find(\"a\").click(function(){\n",
      "\t\t  //$(this).attr(\"href\", \"#\");\n",
      "\t\t  dri_on.removeClass(\"on\");\n",
      "\t   $(this).parent().addClass(\"on\");\n",
      "\t   $(this).css({\"fontWeight\":\"bold !important\"});\n",
      "\t   $(this).css({\"color\":\"#285a35 !important\"});\n",
      "\t  });\n",
      "\t});\n",
      "</script>\n",
      "\n",
      "\n",
      "<script>\n",
      "function tab_bk_rv0(){\n",
      "\tdocument.querySelector(\".rvcnt\").style.display = \"none\";\n",
      "\tdocument.querySelector(\".ctTtl\").style.display = \"none\";\n",
      "\tdocument.querySelector(\".slTtCt\").style.display = \"none\";\n",
      "\tdocument.querySelector(\".viewstyle_i\").style.display = \"none\";\n",
      "\tdocument.querySelector(\".detail-result-imp .detail-result-imp-mid .detail-result-imp-mid-top .detail-result-imp-mid-top-right div.listimg-yn\").style.width = \"35px\";\n",
      "\tdocument.querySelector(\".detail-result-imp .detail-result-imp-mid .detail-result-imp-mid-top .detail-result-imp-mid-top-right\").style.width = \"271px\";\n",
      "}\n",
      "\n",
      "function tab_bk_rv1(){\n",
      "\tdocument.querySelector(\".rvcnt\").style.display = \"inline-block\";\n",
      "\tdocument.querySelector(\".ctTtl\").style.display = \"inline-block\";\n",
      "\tdocument.querySelector(\".slTtCt\").style.display = \"inline-block\";\n",
      "\tdocument.querySelector(\".viewstyle_i\").style.display = \"inline-block\";\n",
      "\tdocument.querySelector(\".detail-result-imp .detail-result-imp-mid .detail-result-imp-mid-top .detail-result-imp-mid-top-right div.listimg-yn\").style.width = \"65px\";\n",
      "\tdocument.querySelector(\".detail-result-imp .detail-result-imp-mid .detail-result-imp-mid-top .detail-result-imp-mid-top-right\").style.width = \"301px\";\n",
      "}\n",
      "\n",
      "function book_img_error(obj) {\n",
      "\tobj.src = \"https://img.ypbooks.co.kr/ypbooks/search/images/empty70x100.gif\";\n",
      "}\n",
      "\n",
      "</script>\n",
      "\n",
      "\n",
      "</head>\n",
      "<body>\n",
      "\n",
      "\n",
      "\n",
      "\n",
      "\n",
      "<link rel=\"stylesheet\" href=\"//code.jquery.com/ui/1.12.1/themes/base/jquery-ui.css\">\n",
      "<script type=\"text/javascript\" src=\"/ypbooks/js/jquery-1.12.4.min.js\"></script>\n",
      "<script src=\"https://code.jquery.com/ui/1.12.1/jquery-ui.js\"></script>\n",
      "\n",
      "<script>\n",
      "$(document).ready(function(){ $.datepicker.setDefaults({regional: 'ko',currentText: \"오늘\", monthNames: ['1월', '2월', '3월', '4월', '5월', '6월', '7월', '8월', '9월', '10월', '11월', '12월'], monthNamesShort: ['1월', '2월', '3월', '4월', '5월', '6월', '7월', '8월', '9월', '10월', '11월', '12월'], dayNames: ['일', '월', '화', '수', '목', '금', '토'], dayNamesShort: ['일', '월', '화', '수', '목', '금', '토'], dayNamesMin: ['일', '월', '화', '수', '목', '금', '토'], weekHeader: \"주\", yearSuffix: '년' }); });\n",
      "$(function() {\n",
      "   $('.mdBox_tb_dateRel0_0').datepicker({\n",
      "      dateFormat:\"yymmdd\"\n",
      "      , onSelect:function(d){\n",
      "       }\n",
      "   });\n",
      "});\n",
      "$(function() {\n",
      "   $('.mdBox_tb_dateRel0_1').datepicker({\n",
      "      dateFormat:\"yymmdd\"\n",
      "      , onSelect:function(d){\n",
      "       }\n",
      "   });\n",
      "});\n",
      "</script>\n",
      " \n",
      "\n",
      "\n",
      "<div class=\"modal_box2_wrap\">\n",
      "\t<div class=\"modal_box2\">\n",
      "\t  <div class=\"m_b_top\">\n",
      "\t      <h1><span>결과내재검색/</span>상세검색</h1>\n",
      "\t      <a href=\"javascript:void(0);\" class=\"modal_close_btn\"  onclick=\"document.querySelector('.modal_box2_wrap').style.display='none'\"><img src=\"https://img.ypbooks.co.kr/ypbooks/images/common/closeW_btn.png\" alt=\"닫기\"></a>\n",
      "\t  </div>\n",
      "\t  <div class=\"m_b_btm\">\n",
      "\t      <div class=\"container\">\n",
      "\t          <ul class=\"tabs\">\n",
      "\t              <li class=\"tab-link tab-link1 current\" data-tab=\"tab-1\">결과내재검색</li>\n",
      "\t              <li class=\"tab-link tab-link2\" data-tab=\"tab-2\">상세검색</li>\n",
      "\t          </ul>\n",
      "\t          <hr class=\"m_b_btm_tabs_hr\">\n",
      "\t          <div id=\"tab-1\" class=\"tab-content current\">\n",
      "\t\t\t    <table>\n",
      "\t\t            <tr class=\"mdBox_tb_1stline\" >\n",
      "\t\t                <th>검색어 <span class=\"dt_table_0_tr1_th1_addSpan\">·</span></th>\n",
      "\t\t                <td colspan=\"3\">\n",
      "\t\t                    <select name=\"r_searchfield\" id=\"r_searchfield\" class=\"catcat-1\" >\n",
      "\t                          <option value=\"ALL\">전체</option>\n",
      "\t\t\t\t\t\t\t  <option value=\"TITLE\">도서명</option>\n",
      "\t\t\t\t\t\t\t  <option value=\"AUTHOR\">저자</option>\n",
      "\t\t\t\t\t\t\t  <option value=\"CUSNME\">출판사</option>\n",
      "\t\t                    </select>\n",
      "\t\t                    <input class=\"mdBox_tb_input_0\" type=\"text\" id=\"r_requery\">\n",
      "\t\t                    <form method=\"\" action=\"\" class=\"mdBox_tb_form0\" >\t\t\t\t\t                        \n",
      "\t\t                        <input type=\"radio\" name=\"r_exceptQueryFlag\" id=\"include_s_y\" value=\"Y\" checked>\n",
      "\t\t\t\t\t\t\t    <label for=\"include_s_y\"> 검색어포함</label>\t\t\t\t\t                        \n",
      "\t\t\t\t\t\t\t    <input type=\"radio\" name=\"r_exceptQueryFlag\" id=\"include_s_n\" value=\"N\">\n",
      "\t\t\t\t\t\t\t    <label for=\"include_s_n\"> 검색어제외</label>\n",
      "\t\t                    </form>\n",
      "\t\t                </td>\n",
      "\t\t            </tr>\n",
      "\t\t            <tr>\n",
      "\t\t              <th>가격</th>\n",
      "\t\t\t\t\t  <td class=\"mdBox_tb_price0\" >\n",
      "\t\t\t\t\t  \t<input class=\"mdBox_tb_price0_ip0 only_nb_cls only_nb_cls_maxNum\" type=\"text\" name=\"r_minPrice\" id=\"r_minPrice\">원 &#126; &nbsp;\n",
      "\t\t\t\t\t  \t<input class=\"mdBox_tb_price0_ip1 only_nb_cls only_nb_cls_maxNum\" type=\"text\" name=\"r_maxPrice\" id=\"r_maxPrice\"> 원\n",
      "\t\t\t\t\t  </td>\n",
      "\t\t\t\t\t  <th>출간일자</th>\n",
      "\t\t\t\t\t  <td style=\"height:67px;\">\n",
      "\t\t\t\t\t\t  <input class=\"mdBox_tb_dateRel0 mdBox_tb_dateRel0_0 only_nb_cls\" type='text' name=\"r_s_pubdt\" id=\"r_s_pubdt\" value=''> <span class=\"mdBox_tb_dateRel0_btw\">&#126;</span>\n",
      "\t\t\t\t\t\t  <input class=\"mdBox_tb_dateRel0 mdBox_tb_dateRel0_1 only_nb_cls\" type='text' name=\"r_e_pubdt\" id=\"r_e_pubdt\" value=''>\n",
      "\t\t\t\t\t\t  <span style=\"display: block; font-size: 10px; margin-bottom: -16px ; color: #888; padding-top: 20px ;\">* 직접 입력 시 '20211021' 형식으로 입력해주세요.</span>\n",
      "\t\t\t\t\t  </td>\n",
      "\t\t            </tr>\n",
      "\t\t            <tr class=\"mdBox_tb_3rdline\" >\n",
      "\t                  <th>품절여부</th>\n",
      "\t\t\t\t\t  <td colspan=\"3\">\n",
      "\t\t\t\t\t\t  <form method=\"\" action=\"\">\n",
      "\t\t\t\t\t\t\t  <input type=\"radio\" id=\"soldout_ic_y\" name=\"r_notSoldOut\" value=\"N\" checked>\n",
      "\t\t\t\t\t\t\t  <label for=\"soldout_ic_y\"> 품절포함</label>\n",
      "\t\t\t\t\t\t\t  <input type=\"radio\" id=\"soldout_ic_n\" name=\"r_notSoldOut\" value=\"Y\">\n",
      "\t\t\t\t\t\t\t  <label for=\"soldout_ic_n\"> 품절제외</label>\n",
      "\t\t\t\t\t\t  </form>\n",
      "\t\t\t\t\t  </td>\n",
      "\t\t            </tr>\n",
      "\t\t        </table>\n",
      "\t        \t<input type=\"submit\" onclick=\"reSearch();\" value=\"검색\">\n",
      "\t          </div>\n",
      "\t          <div id=\"tab-2\" class=\"tab-content\">\n",
      "\t\t    \t<table id=\"dt_table_0\">\n",
      "\t\t            <tr class=\"dt_table_0_tr0\" >\n",
      "\t\t                <th >상품군</th>\n",
      "\t\t                <td colspan=\"3\">\n",
      "\t\t                    <select name=\"d_collection\" id=\"d_collection\">\n",
      "\t\t                        <option value=\"books_kor\">국내도서</option>\n",
      "\t\t\t\t\t\t\t\t<option value=\"books_foreign\">외국도서</option>\n",
      "\t\t                    </select>\n",
      "\t\t                </td>\n",
      "\t\t            </tr>\n",
      "\t\t            <tr class=\"dt_table_0_tr1\">\n",
      "\t\t                <th>분야</th>\n",
      "\t\t                <td>\n",
      "\t\t                    <select name=\"d_cateCode1\" id=\"d_cateCode1\" >\n",
      "\t\t                    \t<option value=\"\">대분류</option>\n",
      "\t\t\t                    \n",
      "\t\t\t                    <option class=\"books_kor\" value=\"10\">사전</option>\n",
      "\t\t\t                    \n",
      "\t\t\t                    <option class=\"books_kor\" value=\"12\">문학</option>\n",
      "\t\t\t                    \n",
      "\t\t\t                    <option class=\"books_kor\" value=\"14\">학습</option>\n",
      "\t\t\t                    \n",
      "\t\t\t                    <option class=\"books_kor\" value=\"16\">아동</option>\n",
      "\t\t\t                    \n",
      "\t\t\t                    <option class=\"books_kor\" value=\"18\">취미/실용</option>\n",
      "\t\t\t                    \n",
      "\t\t\t                    <option class=\"books_kor\" value=\"20\">예체능</option>\n",
      "\t\t\t                    \n",
      "\t\t\t                    <option class=\"books_kor\" value=\"22\">종교</option>\n",
      "\t\t\t                    \n",
      "\t\t\t                    <option class=\"books_kor\" value=\"24\">잡지</option>\n",
      "\t\t\t                    \n",
      "\t\t\t                    <option class=\"books_kor\" value=\"26\">정치.법률</option>\n",
      "\t\t\t                    \n",
      "\t\t\t                    <option class=\"books_kor\" value=\"28\">경제.경영</option>\n",
      "\t\t\t                    \n",
      "\t\t\t                    <option class=\"books_kor\" value=\"30\">인문</option>\n",
      "\t\t\t                    \n",
      "\t\t\t                    <option class=\"books_kor\" value=\"32\">외국어</option>\n",
      "\t\t\t                    \n",
      "\t\t\t                    <option class=\"books_kor\" value=\"34\">정부간행물</option>\n",
      "\t\t\t                    \n",
      "\t\t\t                    <option class=\"books_kor\" value=\"36\">컴퓨터</option>\n",
      "\t\t\t                    \n",
      "\t\t\t                    <option class=\"books_kor\" value=\"38\">공학</option>\n",
      "\t\t\t                    \n",
      "\t\t\t                    <option class=\"books_kor\" value=\"40\">자연</option>\n",
      "\t\t\t                    \n",
      "\t\t\t                    <option class=\"books_kor\" value=\"42\">의학</option>\n",
      "\t\t\t                    \n",
      "\t\t\t                    <option class=\"books_kor\" value=\"44\">수험서</option>\n",
      "\t\t\t                    \n",
      "\t\t\t                    \n",
      "\t\t\t                    <option class=\"books_foreign\" style=\"display:none;\" value=\"50\">외서 일반서적</option>\n",
      "\t\t\t                    \n",
      "\t\t\t                    <option class=\"books_foreign\" style=\"display:none;\" value=\"52\">외서 전문서적</option>\n",
      "\t\t\t                    \n",
      "\t\t\t                    <option class=\"books_foreign\" style=\"display:none;\" value=\"54\">외서 컴퓨터</option>\n",
      "\t\t\t                    \n",
      "\t\t\t                    <option class=\"books_foreign\" style=\"display:none;\" value=\"56\">일서잡지</option>\n",
      "\t\t\t                    \n",
      "\t\t\t                    <option class=\"books_foreign\" style=\"display:none;\" value=\"58\">일서 일반서적</option>\n",
      "\t\t\t                    \n",
      "\t\t\t                    <option class=\"books_foreign\" style=\"display:none;\" value=\"60\">일서 전문서적</option>\n",
      "\t\t\t                    \n",
      "\t\t                    </select>\n",
      "\t\t                </td>\n",
      "\t\t                <th class=\"dt_table_0_tr1_th1\" >도서명 <span class=\"dt_table_0_tr1_th1_addSpan\">·</span></th>\n",
      "\t\t\t\t\t    <td class=\"dt_table_0_tr1_td1\"><input type=\"text\" name=\"d_title\" id=\"d_title\"  /></td>\n",
      "\t\t            </tr>\n",
      "\t\t            <tr class=\"dt_table_0_tr2\">\n",
      "\t                  <th>출판사</th>\n",
      "\t\t\t\t\t  <td class=\"dt_table_0_tr2_td0\" ><input type=\"text\" name=\"d_cusnme\" id=\"d_cusnme\"  /></td>\n",
      "\t\t\t\t\t  <th class=\"dt_table_0_tr2_th1\" >저자</th>\n",
      "\t\t\t\t\t  <td class=\"dt_table_0_tr2_td1\"><input type=\"text\" name=\"d_author\" id=\"d_author\"  /></td>\n",
      "\t\t            </tr>\n",
      "\t\t            <tr class=\"dt_table_0_tr4\">\n",
      "\t                  <th>가격</th>\n",
      "\t\t\t\t\t  <td class=\"dt_table_0_tr4_td0\" >\n",
      "\t\t\t\t\t\t  <input type=\"text\" name=\"d_minPrice\" id=\"d_minPrice\" class=\"only_nb_cls only_nb_cls_maxNum\">  원 &#126; \n",
      "\t\t\t\t\t\t  <input type=\"text\" name=\"d_maxPrice\" id=\"d_maxPrice\" class=\"only_nb_cls only_nb_cls_maxNum\"> 원\n",
      "\t\t\t\t\t  </td>\n",
      "\t                  <th>출간일자</th>\n",
      "\t\t\t\t\t  <td class=\"dt_table_0_tr4_td1\" style=\"height: 70px; padding-bottom: 5px;\">\n",
      "\t\t\t\t\t\t  <input class=\"mdBox_tb_dateRel0 mdBox_tb_dateRel0_0 only_nb_cls\" type='text' name='d_s_pubdt' id='d_s_pubdt' value=''> <span class=\"mdBox_tb_dateRel0_btw\">&#126;</span>\n",
      "\t\t\t\t\t\t  <input class=\"mdBox_tb_dateRel0 mdBox_tb_dateRel0_1 only_nb_cls\" type='text' name='d_e_pubdt' id='d_e_pubdt' value=''>\n",
      "\t\t\t\t\t\t  <span style=\"display: block; padding-top: 22px; font-size: 10px; margin-bottom: -23px; color: #888; padding-bottom:5px;\">* 직접 입력 시 '20211021' 형식으로 입력해주세요.</span>\n",
      "\t\t\t\t\t  </td>\n",
      "\t\t            </tr>\n",
      "\t\t            <tr class=\"dt_table_0_tr5\" >\n",
      "\t\t                <th>품절여부</th>\n",
      "\t\t                <td class=\"dt_table_0_tr5_td0\">\n",
      "\t                      <form method=\"\" action=\"\">\n",
      "\t\t\t\t\t\t\t  <input type=\"radio\" id=\"soldout_ic_y_1\" name=\"d_notSoldOut\" value=\"N\" onclick=\"javascript:setSoldout(this.value)\" checked>\n",
      "\t\t\t\t\t\t\t  <label for=\"soldout_ic_y_1\"> 품절포함</label>\n",
      "\t\t\t\t\t\t\t  <input type=\"radio\" id=\"soldout_ic_n_1\" name=\"d_notSoldOut\" value=\"Y\" onclick=\"javascript:setSoldout(this.value)\"/>\n",
      "\t\t\t\t\t\t\t  <label for=\"soldout_ic_n_1\"> 품절제외</label>\n",
      "\t\t\t\t\t\t  </form>\n",
      "\t\t                </td>\n",
      "\t\t                <th>정렬</th>\n",
      "\t\t                <td class=\"dt_table_0_tr5_td1\">\n",
      "\t                      <select name=\"d_sortField\" id=\"d_sortField\">\n",
      "\t\t\t\t\t\t\t  <option value=\"RANK\">정확도</option>\n",
      "\t\t\t\t\t\t\t  <option value=\"SALE_TOTAL_CNT\">판매량</option>\n",
      "\t\t\t\t\t\t\t  <option value=\"DATE\">출판일</option>\n",
      "\t\t\t\t\t\t\t  <option value=\"TITLE_DOWN\">상품명</option>\n",
      "\t\t\t\t\t\t\t  <option value=\"SALEAMT_DOWN\">낮은가격</option>\n",
      "\t\t\t\t\t\t\t  <option value=\"SALEAMT_UP\">높은가격</option>\n",
      "\t\t\t\t\t\t\t  <option value=\"SALE_RATE\">할인율</option>\n",
      "\t\t\t\t\t\t\t  <option value=\"REVIEWCNT\">리뷰수</option>\n",
      "\t\t\t\t\t\t  </select>\n",
      "\t\t                </td>\n",
      "\t\t            </tr>\n",
      "\t\t        </table>\n",
      "\t            <input type=\"submit\" onclick=\"detailSearch();\" value=\"검색\">\n",
      "\t          </div>\n",
      "\t      </div>\n",
      "\t  </div>        \n",
      "\t</div>\n",
      "</div>\n",
      "  \n",
      "  <script>\n",
      "  $(document).ready(function(){\n",
      "\t  $('.modal_box2 ul.tabs li').click(function(){\n",
      "\t\t  var tab_id = $(this).attr('data-tab');\n",
      "\t\t  $('ul.tabs li').removeClass('current');\n",
      "\t\t  $('.tab-content').removeClass('current');\n",
      "\t\t  $(this).addClass('current');\n",
      "\t\t  $(\"#\"+tab_id).addClass('current');\n",
      "\t  });\n",
      "  });\n",
      "  \n",
      "  $('#d_collection').change(function() {\n",
      "\t  $('#d_cateCode1').find('option').show().not('.'+this.value).hide();\n",
      "\t  $('#d_cateCode1').val($('#d_cateCode1').find('option:visible:first').val());\n",
      "  });\n",
      "  \n",
      "  $('.only_nb_cls_maxNum').on('keyup', function() {\n",
      "      //this.value = this.value.replace(/\\D/g, '');\n",
      "      this.value = this.value.replace(/[^0-9]/g, '');\n",
      "      if (this.value > 99999999) {\n",
      "          this.value = 99999999\n",
      "      };\n",
      "  });\n",
      "  \n",
      "  $(\".only_nb_cls\").on(\"keyup\", function(event) {\n",
      "      if (event.which && (event.which  > 47 && event.which  < 58 || event.which == 8)) {\n",
      "\t\t\n",
      "      } else{\n",
      "          $(this).val($(this).val().replace(/[^0-9]/g,\"\"));\n",
      "      }\n",
      "  });\n",
      " \n",
      "  </script>\n",
      "\n",
      "\n",
      "<div class=\"search_wrap\"> \t\n",
      "\t<div class=\"qmenu\">\n",
      "\t\t<ul>\n",
      "\t\t\t<li><a href=\"/book_arrange.yp?targetpage=book_week_best&pagetype=5&depth=1\">베스트도서</a></li>\n",
      "\t\t\t<li><a href=\"/book_arrange.yp?targetpage=book_topic_new&pagetype=4&depth=2\">신간도서</a></li>\n",
      "\t\t\t<li><a href=\"/theme_book.yp?sSearchJoCode=00;\">화제의 도서</a></li>\n",
      "\t\t\t<li><a href=\"/ypbooks/event/maintema/14EVT12_22.jsp\">정가인하</a></li>\n",
      "\t\t\t<li><a href=\"/search_field.yp?category_type=1&depth=5\">국내도서</a></li>\n",
      "\t\t\t<li><a href=\"/eng_index.yp?depth=6&pageIdx=eng&c1=50\">외국도서</a></li>\n",
      "\t\t\t<li><a href=\"/ypbooks/event/maintema/gifticon.jsp\">기프티콘</a></li>\n",
      "\t\t\t<li><a href=\"/culture_event.yp?depth=9\">문화행사</a></li>\n",
      "\t\t\t<li><a href=\"/event_list.yp?depth=10\">이벤트</a></li>\n",
      "\t\t</ul>\n",
      "\t\t<ul class=\"fr\">\n",
      "\t\t\t<li><a href=\"javascript:myinfoheader();\">마이페이지</a></li>\n",
      "\t\t\t\n",
      "\t\t\t\t<li><a href=\"/login.yp\">로그인</a></li>\n",
      "\t\t\t\t<li><a href=\"/member.yp\">회원인증/가입</a></li>\n",
      "\t\t\t\n",
      "\t\t\t<li><a href=\"/cart.yp\">장바구니</a></li>\n",
      "\t\t\t<li><a href=\"javascript:fLoginCheck02();\">주문/배송조회</a></li>\n",
      "\t\t\t<li><a href=\"/customer_center.yp\">고객센터</a></li>\n",
      "\t\t</ul>\n",
      "\t</div>\n",
      "\t\n",
      "<form name=\"searchFrm\" method=\"post\" action=\"/search.yp\">\n",
      "\t<input type=\"hidden\" name=\"collection\"\tid=\"collection\"\tvalue=\"ALL\" />\n",
      "\t<input type=\"hidden\" name=\"searchfield\"\tid=\"searchfield\"\tvalue=\"ALL\" />\n",
      "\t<input type=\"hidden\" name=\"requery\"\tid=\"requery\"\tvalue=\"\" />\n",
      "\t<input type=\"hidden\" name=\"showCnt\"\tid=\"showCnt\"\tvalue=\"\" />\n",
      "\t<input type=\"hidden\" name=\"detailchk\"\tid=\"detailchk\"\tvalue=\"N\" />\n",
      "\t<input type=\"hidden\" name=\"detailcollection\"\tid=\"detailcollection\"\tvalue=\"\" />\n",
      "\t<input type=\"hidden\" name=\"detailcate\"\tid=\"detailcate\"\tvalue=\"\" />\n",
      "\t<input type=\"hidden\" name=\"sortField\"\tid=\"sortField\"\tvalue=\"DATE\" />\n",
      "\t<input type=\"hidden\" name=\"notSoldOut\"\tid=\"notSoldOut\"\tvalue=\"Y\" />\n",
      "\t<input type=\"hidden\" name=\"catesearch\"\tid=\"catesearch\"\tvalue=\"false\" />\n",
      "\t<input type=\"hidden\" name=\"c1\"\tid=\"c1\"\tvalue=\"\" />\n",
      "\t<input type=\"hidden\" name=\"c2\"\tid=\"c2\"\tvalue=\"\" />\n",
      "\t<input type=\"hidden\" name=\"c3\"\tid=\"c3\"\tvalue=\"\" />\n",
      "\t<input type=\"hidden\" name=\"viewStyle\"\tid=\"viewStyle\"\tvalue=\"list\" />\n",
      "\t<input type=\"hidden\" name=\"idx\"\tid=\"idx\"\tvalue=\"\" />\n",
      "\t<input type=\"hidden\" name=\"exceptQueryFlag\"\tid=\"exceptQueryFlag\"\tvalue=\"Y\" />\n",
      "\t<input type=\"hidden\" name=\"minPrice\"\tid=\"minPrice\"\tvalue=\"\" />\n",
      "\t<input type=\"hidden\" name=\"maxPrice\"\tid=\"maxPrice\"\tvalue=\"\" />\n",
      "\t<input type=\"hidden\" name=\"startDate\"\tid=\"startDate\"\tvalue=\"\" />\n",
      "\t<input type=\"hidden\" name=\"endDate\"\t\tid=\"endDate\"\tvalue=\"\" />\n",
      "\t<input type=\"hidden\" name=\"titleQuery\"\tid=\"titleQuery\"\tvalue=\"\" />\n",
      "\t<input type=\"hidden\" name=\"authorQuery\"\tid=\"authorQuery\"\tvalue=\"\" />\n",
      "\t<input type=\"hidden\" name=\"cusnmeQuery\"\tid=\"cusnmeQuery\"\tvalue=\"\" />\n",
      "\t\n",
      "\t<input type=\"hidden\" name=\"totalCnt\"\tid=\"totalCnt\"\tvalue=\"2\" />\n",
      "\t<input type=\"hidden\" name=\"booksKorCnt\"\tid=\"booksKorCnt\"\tvalue=\"2\" />\n",
      "\t<input type=\"hidden\" name=\"booksForeignCnt\"\tid=\"booksForeignCnt\"\tvalue=\"0\" />\n",
      "\t<input type=\"hidden\" name=\"bookReviewCnt\"\tid=\"bookReviewCnt\"\tvalue=\"0\" />\n",
      "\n",
      "\t<input type=\"hidden\" name=\"studySearch\"\tid=\"studySearch\"\tvalue=\"N\" />\n",
      "\t<input type=\"hidden\" name=\"selectCollection\"\tid=\"selectCollection\"\tvalue=\"ALL\" />\n",
      "\t\n",
      "\t<input type=\"hidden\" name=\"pageNum\"\tid=\"pageNum\"\tvalue=\"1\" />\t\n",
      "\t<div id=\"searchbar\"> \n",
      "\t\t<div id=\"searchbartip\">\n",
      "\t\t\t<img src=\"https://img.ypbooks.co.kr/ypbooks/search/images/tip.gif\" align=\"absmiddle\" alt=\"팁\" />ISBN 입력을 통해서도 검색이 가능합니다.\n",
      "\t\t</div>\n",
      "\t\t<!--자동완성 iframe\tborder: solid 5px #000000;-->\n",
      "\t\t<div style=\"position:absolute;margin:95px 0 0 215px;z-index:100;\">\t\n",
      "\t\t\t<iframe id=\"hFrame\" name=\"hFrame\" src=\"/ypbooks/search/ark/ark_iframe.html\" scrolling=\"no\" frameborder=\"0\"></iframe>\n",
      "\t\t</div>\n",
      "\t\t\n",
      "\t\t\t\t<div class=\"selectsearchlist selectlist\" id=\"selectlist\">\t\n",
      "\t\t\t\t\t<ul onmouseover=\"disblock('selectlist');\" onmouseout=\"disnone('selectlist')\" class=\"cl_ul\" id=\"searchListB\" style=\"display: block;\">\n",
      "\t\t\t\t\t\t<li><a href=\"javascript:void(0)\" onclick=\"selecttxt('통합검색');setCollection('ALL');\" class=\"ts_btn\" id=\"searchA\">통합검색</a></li> \n",
      "\t\t\t\t\t\t<li><a href=\"javascript:void(0)\" onclick=\"selecttxt('국내도서');setCollection('books_kor')\">국내도서</a></li>\n",
      "\t\t\t\t\t\t<li><a href=\"javascript:void(0)\" onclick=\"selecttxt('외국도서');setCollection('books_foreign')\">외국도서</a></li>\n",
      "\t\t\t\t\t\t<li><a href=\"javascript:void(0)\" onclick=\"selecttxt('리뷰');setCollection('book_review')\">리뷰</a></li>\n",
      "\t\t\t\t\t\t<li class=\"selectlist_li_detail\" ><a href=\"javascript:void(0)\" class=\"re-search-btn011 re-search-btn11\" onclick=\"selecttxt('상세검색'); document.querySelector('.modal_box2_wrap').style.display='block'\" >상세검색</a></li>\n",
      "\t\t\t\t\t</ul>\n",
      "\t\t\t\t</div>\n",
      "\t\t\t\t\n",
      "\t\t\t\t\n",
      "\t\t\t\n",
      "\t\t\t\t\n",
      "\t\t\t\n",
      "\t\t<ul>\n",
      "\t\t\t<li class=\"logo\"><a href=\"https://www.ypbooks.co.kr/\"><img src=\"https://img.ypbooks.co.kr/ypbooks/search/images/logo_yp.png\" alt=\"영풍문고\" /></a></li>\n",
      "\t\t\t<li class=\"searchin\">\n",
      "\t\t\t\t<div class=\"selectsec\" onclick=\"disblock_1('.selectlist');\">\n",
      "\t\t\t\t\t<span class=\"searchseltxt\">통합검색</span> \n",
      "\t\t\t\t</div>\n",
      "\t\t\t\t<div class=\"inkeyword\">\n",
      "\t\t\t\t\t<!-- <label> -->\n",
      "\t\t\t\t\t\t<!-- search suggest -->\n",
      "\t\t\t\t\t\t<div id=\"SearchForm\">\n",
      "\t\t\t\t\t\t\t<div id=\"Searchbox\">\n",
      "\t\t\t\t\t\t\t\t<div id=\"search_form\">\n",
      "\t\t\t\t\t\t\t\t\t<!-- Query Input BOX -->\n",
      "\t\t\t\t\t\t\t\t\t<input type=\"text\" name=\"query\" id=\"query\" class=\"inputbox\" value=\"뉴진스\" tabindex=\"1\" autocomplete=\"off\" onkeypress=\"javascript:e13((event),this);\" />\n",
      "\t\t\t\t\t\t\t\t</div>\n",
      "\t\t\t\t\t\t\t</div><!-- //Searchbox -->\n",
      "\t\t\t\t\t\t</div><!-- //SearchForm -->\n",
      "\t\t\t\t\t\t<!--END search suggest --> \n",
      "\t\t\t\t\t<!-- </label> -->\n",
      "\t\t\t\t</div>\n",
      "\t\t\t\t<div class=\"autosearch\">\n",
      "\t\t\t\t\t<div id=\"set_sugicn\"><img src=\"https://img.ypbooks.co.kr/ypbooks/search/images/btn_autosearch01.gif\" alt=\"자동완성\" id=\"sugicn\"/></div>\n",
      "\t\t\t\t\t<div id=\"set_sugicnUP\"><img src=\"https://img.ypbooks.co.kr/ypbooks/search/images/btn_autosearch02.gif\" alt=\"자동완성\" id=\"sugicnUP\"/></div>\n",
      "\t\t\t\t</div>\n",
      "\t\t\t\t<div class=\"btnsearch\"> \n",
      "\t\t\t\t\t<a href=\"javascript:;\"><img src=\"https://img.ypbooks.co.kr/ypbooks/search/images/btn_search.gif\" alt=\"검색\" onclick=\"javascript:goSearch();\"/></a>\n",
      "\t\t\t\t</div>\n",
      "\t\t\t</li>\n",
      "\t\t</ul>\n",
      "\t</div>\n",
      "</form>\n",
      "\n",
      "<div class=\"search_contents\">\n",
      "\t\t<div class=\"search_left\">\n",
      "\t\t\t<!-- 텝영역 -->\n",
      "\t\t\t<div class=\"tab_search\">\n",
      "\t\t\t\t<div class=\"tab_search_div\">\n",
      "\t\t\t\t\t<ul>\n",
      "\t\t\t\t\t\t<li class=\"select\" id=\"tab_ALL\"><div class=\"selectright\" onclick=\"javascript:goTab('ALL',2);tab_bk_rv1();\">전체 (2)</div></li>\n",
      "<li class=\"select_notsltd\" id=\"tab_books_kor\"><div class=\"selectright_\" onclick=\"javascript:goTab('books_kor',2);tab_bk_rv1();\">국내도서 (2)</div></li>\n",
      "<li class=\"select_notsltd\" id=\"tab_books_foreign\"><div class=\"selectright_\" onclick=\"javascript:goTab('books_foreign',0);tab_bk_rv1();\">외국도서 (0)</div></li>\n",
      "<li class=\"select_notsltd\" id=\"tab_book_review\"><div class=\"selectright_\" onclick=\"javascript:goTab('book_review',0);tab_bk_rv0();\">리뷰 (0)</div></li>\n",
      "\n",
      "\t\t\t\t\t</ul>\n",
      "\t\t\t\t\t<div class=\"schandstudy\">\n",
      "\t\t\t\t\t\t<button type='button' class=\"re-search-btn01 re-search-btn1\" onclick=\"document.querySelector('.modal_box2_wrap').style.display='block'\">결과내재검색/상세검색</button>\n",
      "\t\t\t\t\t\t<button type='button' class=\"re-search-btn02 re-search-btn2\">학습서검색</button>\n",
      "\t\t\t\t\t</div>\n",
      "\t\t\t\t</div>\n",
      "\n",
      "\t\t\t</div>\n",
      "\n",
      "\t\t\t<!--[if gte ie 9]>\n",
      "\t\t\t\t  $('html').click(function(e){\n",
      "\t\t\t\t\t  if($(e.target).parents('.modal_box2').length < 1){\n",
      "\t\t\t\t\t\t  $(\".modal_box2_wrap\").stop().hide();\t  \n",
      "\t\t\t\t\t  }\n",
      "\t\t\t\t\t}); \n",
      "\t\t\t<![endif]-->\n",
      "\t\t\t\n",
      "\t\t\t<script>\n",
      "\t\t\tvar t = document.getElementById('wrap');\n",
      "\t\t\tvar mb2_w = document.querySelector('.modal_box2_wrap');\n",
      "\t\t\tif(t.addEventListener){\n",
      "\t\t\t\tt.addEventListener('click', function(e){\n",
      "\t\t\t\t\te.target === mb2_w ? mb2_w.style.display = \"none\" : false;\n",
      "\t\t\t\t}); \n",
      "\t\t\t} else if(t.attachEvent){\n",
      "\t\t\t\tt.attachEvent('onclick', function(e){\n",
      "\t\t\t\t\te.target === mb2_w ? mb2_w.style.display = \"none\" : false;\n",
      "\t\t\t\t})\n",
      "\t\t\t}\n",
      "\t\t\t</script>\n",
      "\t\t\t\n",
      "\t\t\t<script>\n",
      "\t\t\t\t$(\".re-search-btn2\").click(function(){\n",
      "\t\t\t\t\tif($(\".toggleDiv\").is(\":visible\") == true){\n",
      "\t\t\t\t\t\t$(\".categ-result h1\").css({'borderTop':'none'});\n",
      "\t\t\t\t\t} else{\n",
      "\t\t\t\t\t\t$(\".modal_box2\").css({'display':'none'});\n",
      "\t\t\t\t\t\t$(\".categ-result h1\").css({'borderTop':'1px solid #c6c8cb'});\n",
      "\t\t\t\t\t\t$(\".toggleDiv\").css({'marginBottom':'30px'});\n",
      "\t\t\t\t\t}\n",
      "\t\t\t\t});\n",
      "\t\t\t</script>\n",
      "\t\t\t\n",
      "\t\t\t<script>\n",
      "\t\t\t$(document).on(\"click\", \".re-search-btn02\", function (e){\n",
      "\t\t\t\t$(\".toggleDiv\").css({'display':'block'});\n",
      "\t\t\t});\n",
      "\t\t\t\n",
      "\t\t\t</script>\n",
      "\n",
      "\t\t\t<script>\n",
      "\t\t\t\tfunction tgDv_close(){\n",
      "\t\t\t\t\t$(\".toggleDiv\").css({'display':'none'});\n",
      "\t\t\t\t\t$(\".searchresult0\").css({'marginTop':'0px'});\n",
      "\t\t\t\t\t$(\"#cateList\").show();\n",
      "\t\t\t\t}\n",
      "\t\t\t</script>\n",
      "\t\t\t\n",
      "\t\t\t\n",
      "\t\t\t<div class=\"toggleDiv\"  >\n",
      "\t\t\t\t<h1 >학습서 검색</h1>\n",
      "\t\t\t\t<a class=\"modal_close_btn\"  onclick=\"tgDv_close();\"><img src=\"https://img.ypbooks.co.kr/ypbooks/images/common/closeW_btn.png\" alt=\"닫기\"></a>\n",
      "\t\t\t\t\n",
      "\t\t\t\t<table>\n",
      "\t\t\t\t\t<tr>\n",
      "\t\t\t\t\t\t<th class=\"toggleDiv_th0\" >고등학교</th>\n",
      "\t\t\t\t\t\t<th class=\"toggleDiv_th1\" >중학교</th>\n",
      "\t\t\t\t\t\t<th class=\"toggleDiv_th2\" >초등학교</th>\n",
      "\t\t\t\t\t</tr>\n",
      "\t\t\t\t\t<tr class=\"toggleDiv_tr1\" id=\"studyCate\">\n",
      "\t\t\t\t\t\t<td class=\"fourlists\">\n",
      "\t\t\t\t\t\t\t<ul >\n",
      "\t\t\t\t\t\t\t\t<li class=\"fourlists_cat0\">\n",
      "\t\t\t\t\t\t\t\t\t<ul>\n",
      "\t\t\t\t\t\t\t\t\t\t<li><a href=\"javascript:;\">고교국어</a><span style=\"display:none;\">140101</span></li>\n",
      "\t\t\t\t\t\t\t\t\t\t<li><a href=\"javascript:;\">고교논술</a><span style=\"display:none;\">140102</span></li>\n",
      "\t\t\t\t\t\t\t\t\t\t<li><a href=\"javascript:;\">고교영어</a><span style=\"display:none;\">140103</span></li>\n",
      "\t\t\t\t\t\t\t\t\t\t<li><a href=\"javascript:;\">고교수학</a><span style=\"display:none;\">140104</span></li>\n",
      "\t\t\t\t\t\t\t\t\t\t<li><a href=\"javascript:;\">고교과학</a><span style=\"display:none;\">140105</span></li>\n",
      "\t\t\t\t\t\t\t\t\t</ul>\n",
      "\t\t\t\t\t\t\t\t</li>\n",
      "\t\t\t\t\t\t\t\t<li class=\"fourlists_cat0\">\n",
      "\t\t\t\t\t\t\t\t\t<ul>\n",
      "\t\t\t\t\t\t\t\t\t\t<li><a href=\"javascript:;\">고교내신</a><span style=\"display:none;\">140106</span></li>\n",
      "\t\t\t\t\t\t\t\t\t\t<li><a href=\"javascript:;\">고교 제2외국어</a><span style=\"display:none;\">140107</span></li>\n",
      "\t\t\t\t\t\t\t\t\t\t<li><a href=\"javascript:;\">고교기타</a><span style=\"display:none;\">140108</span></li>\n",
      "\t\t\t\t\t\t\t\t\t\t<li><a href=\"javascript:;\">고교올림피아드</a><span style=\"display:none;\">140109</span></li>\n",
      "\t\t\t\t\t\t\t\t\t</ul>\n",
      "\t\t\t\t\t\t\t\t</li>\n",
      "\t\t\t\t\t\t\t\t<li class=\"fourlists_cat0\">\n",
      "\t\t\t\t\t\t\t\t\t<ul>\n",
      "\t\t\t\t\t\t\t\t\t\t<li><a href=\"javascript:;\">고교영어독해</a><span style=\"display:none;\">140201</span></li>\n",
      "\t\t\t\t\t\t\t\t\t\t<li><a href=\"javascript:;\">고교단어/숙어</a><span style=\"display:none;\">140202</span></li>\n",
      "\t\t\t\t\t\t\t\t\t\t<li><a href=\"javascript:;\">고교기본영어</a><span style=\"display:none;\">140203</span></li>\n",
      "\t\t\t\t\t\t\t\t\t\t<li><a href=\"javascript:;\">고교종합영어</a><span style=\"display:none;\">140204</span></li>\n",
      "\t\t\t\t\t\t\t\t\t\t<li><a href=\"javascript:;\">고교영문법</a><span style=\"display:none;\">140205</span></li>\n",
      "\t\t\t\t\t\t\t\t\t\t<li><a href=\"javascript:;\">고등학교 방송교재</a><span style=\"display:none;\">140402</span></li>\n",
      "\t\t\t\t\t\t\t\t\t\t<li><a href=\"javascript:;\">대입검정고시</a><span style=\"display:none;\">140503</span></li>\n",
      "\t\t\t\t\t\t\t\t\t\t<li><a href=\"javascript:;\">정시자료집</a><span style=\"display:none;\">140801</span></li>\n",
      "\t\t\t\t\t\t\t\t\t\t<li><a href=\"javascript:;\">수시자료집</a><span style=\"display:none;\">140802</span></li>\n",
      "\t\t\t\t\t\t\t\t\t</ul>\n",
      "\t\t\t\t\t\t\t\t</li>\n",
      "\t\t\t\t\t\t\t\t<li class=\"fourlists_cat0 fourlist_lastli\" >\n",
      "\t\t\t\t\t\t\t\t\t<ul>\n",
      "\t\t\t\t\t\t\t\t\t\t<li><a href=\"javascript:;\">고교영어구문</a><span style=\"display:none;\">140206</span></li>\n",
      "\t\t\t\t\t\t\t\t\t\t<li><a href=\"javascript:;\">고교기타영어</a><span style=\"display:none;\">140207</span></li>\n",
      "\t\t\t\t\t\t\t\t\t</ul>\n",
      "\t\t\t\t\t\t\t\t</li>\n",
      "\t\t\t\t\t\t\t</ul>\n",
      "\t\t\t\t\t\t</td>\n",
      "\t\t\t\t\t\t<td>\n",
      "\t\t\t\t\t\t\t<ul> \n",
      "\t\t\t\t\t\t\t\t<li><a href=\"javascript:;\">중학국어</a><span style=\"display:none;\">140301</span></li>\n",
      "\t\t\t\t\t\t\t\t<li><a href=\"javascript:;\">중학논술</a><span style=\"display:none;\">140302</span></li>\n",
      "\t\t\t\t\t\t\t\t<li><a href=\"javascript:;\">중학영어</a><span style=\"display:none;\">140303</span></li>\n",
      "\t\t\t\t\t\t\t\t<li><a href=\"javascript:;\">중학수학</a><span style=\"display:none;\">140304</span></li>\n",
      "\t\t\t\t\t\t\t\t<li><a href=\"javascript:;\">중학수학경시대회</a><span style=\"display:none;\">140305</span></li>\n",
      "\t\t\t\t\t\t\t\t<li><a href=\"javascript:;\">중학과학</a><span style=\"display:none;\">140306</span></li>\n",
      "\t\t\t\t\t\t\t\t<li><a href=\"javascript:;\">신입생교재</a><span style=\"display:none;\">140307</span></li>\n",
      "\t\t\t\t\t\t\t\t<li><a href=\"javascript:;\">중학기타</a><span style=\"display:none;\">140308</span></li>\n",
      "\t\t\t\t\t\t\t\t<li><a href=\"javascript:;\">중학교 방송교재</a><span style=\"display:none;\">140401</span></li>\n",
      "\t\t\t\t\t\t\t\t<li><a href=\"javascript:;\">중학검정고시</a><span style=\"display:none;\">140501</span></li>\n",
      "\t\t\t\t\t\t\t\t<li><a href=\"javascript:;\">고입검정고시</a><span style=\"display:none;\">140502</span></li>\n",
      "\t\t\t\t\t\t\t</ul>\n",
      "\t\t\t\t\t\t</td>\n",
      "\t\t\t\t\t\t<td>\n",
      "\t\t\t\t\t\t\t<ul>\n",
      "\t\t\t\t\t\t\t\t<li><a href=\"javascript:;\">초등참고서</a><span style=\"display:none;\">160701</span></li>\n",
      "\t\t\t\t\t\t\t\t<li><a href=\"javascript:;\">초등문제집</a><span style=\"display:none;\">160702</span></li>\n",
      "\t\t\t\t\t\t\t\t<li><a href=\"javascript:;\">초등방송교재</a><span style=\"display:none;\">160703</span></li>\n",
      "\t\t\t\t\t\t\t\t<li><a href=\"javascript:;\">어린이사전</a><span style=\"display:none;\">160704</span></li>\n",
      "\t\t\t\t\t\t\t</ul>\n",
      "\t\t\t\t\t\t</td>\n",
      "\t\t\t\t\t</tr>\n",
      "\t\t\t\t</table>\n",
      "\t\t\t\t<input type=\"text\" id=\"s_query\" name=\"s_query\">\n",
      "\t\t\t\t<input type=\"submit\" onclick=\"goStudySearch();\" value=\"검색\">\n",
      "\t\t\t\t\n",
      "\t\t\t</div>\n",
      "\n",
      "\t\t\t<script>\n",
      "\t\t\t\t$(document).ready(function(){\n",
      "\t\t\t\t\t$(\".re-search-btn2\").click(function(){\n",
      "\t\t\t\t\t\t$(\".toggleDiv\").toggle();\n",
      "\t\t\t\t\t});\n",
      "\t\t\t\t});\n",
      "\t\t\t</script>\n",
      "\t\t\t\n",
      "\t\t\t<script>\n",
      "\t\t\t\tfunction clickimg(cate) {\n",
      "\t\t\t\t\tvar vl0 = $('#'+cate);\n",
      "\t\t\t\t\tvar vllist0 = vl0.find('.cat_list_m > li').length;\n",
      "\t\t\t\t\tvar vllist0_rd = Math.ceil(vllist0/5);\n",
      "\t\t\t\t\tvar ht_rd = vllist0_rd * 29.3;\n",
      "\t\t\t\t\t\n",
      "\t\t\t\t\tif (vl0.find(\".arrow01\").attr('src')=='https://img.ypbooks.co.kr/ypbooks/images/common/btnSearchBarDown2.gif')\n",
      "\t\t\t\t\t{\n",
      "\t\t\t\t\t\tvl0.find(\".morelist_btn\").css('border','1px solid #c6c8cb');\n",
      "\t\t\t\t\t\tvl0.find(\".cat_list_m\").css('height', ht_rd + 'px');\n",
      "\t\t\t\t\t\tvl0.find(\".cat_list_m\").css('transition', '0.5s');\n",
      "\t\t\t\t\t\tvl0.find(\".arrow01\").attr('src', 'https://img.ypbooks.co.kr/ypbooks/images/common/btnSearchBarUp2.gif');\n",
      "\t\t\t\t\t\tvl0.find(\".cat_list_m\").css('borderBottom', '1px solid #cccccc');\n",
      "\t\t\t\t\t}\n",
      "\t\t\t\t\telse if (vl0.find(\".arrow01\").attr('src') == 'https://img.ypbooks.co.kr/ypbooks/images/common/btnSearchBarUp2.gif')\n",
      "\t\t\t\t\t{\n",
      "\t\t\t\t\t\tvl0.find(\".morelist_btn\").css('border','1px solid #c6c8cb');\n",
      "\t\t\t\t\t\tvl0.find(\".cat_list_m\").css('height', '59px');\n",
      "\t\t\t\t\t\tvl0.find(\".cat_list_m\").css('overflow', 'hidden');\n",
      "\t\t\t\t\t\tvl0.find(\".cat_list_m\").css('transition', '0.5s');\n",
      "\t\t\t\t\t\tvl0.find(\".arrow01\").attr('src', 'https://img.ypbooks.co.kr/ypbooks/images/common/btnSearchBarDown2.gif');\n",
      "\t\t\t\t\t\tvl0.find(\".cat_list_m\").css('borderBottom', '1px solid #cccccc');\n",
      "\t\t\t\t\t}\n",
      "\t\t\t\t};\n",
      "\t\t\t</script>\n",
      "\n",
      "\t\t\t\n",
      "\t\t\t\n",
      " \t\t\t\t<!-- 총검색결과 -->\n",
      "\t\t\t\t<div class=\"searchresult0\">\n",
      "\t\t\t\t\t<div id=\"cateList\">\n",
      "\t\t\t\t\t\t<div class=\"categ-result\" id=\"cateKor\" >\n",
      "\t\t\t\t\t\t\t<h1>검색결과 상품을 분야별로 선택하여 볼 수 있습니다.</h1>\n",
      "\t\t\t\t\t\t\t<ul class=\"cat_lit_more cat_list_m\">\n",
      "\t\t\t\t\t\t\t\n",
      "\t\t\t\t\t\t\t\t<li><a href=\"javascript:;\" onclick=\"goCate('2005','2')\">악보 </a><span class=\"brkt0\">&nbsp;&#40;</span><span>2</span><span class=\"brkt0\">&#41;</span></li>\n",
      "\t\t\t\t\t\t\t\n",
      "\t\t\t\t\t\t\t</ul>\n",
      "\t\t\t\t\t\t\t<button type=\"button\" class=\"morelist_btn triggerToggle\" onclick=\"clickimg('cateKor');\"><img class=\"arrow01\" src=\"https://img.ypbooks.co.kr/ypbooks/images/common/btnSearchBarDown2.gif\" alt=\"검색창 아래 화살표\"/></button>\n",
      "\t\t\t\t\t\t</div>\n",
      "\t\t\t\t\t\t<div class=\"categ-result\" id=\"cateForeign\" style=\"display:none;\">\n",
      "\t\t\t\t\t\t\t<h1>검색결과 상품을 분야별로 선택하여 볼 수 있습니다.</h1>\n",
      "\t\t\t\t\t\t\t<ul class=\"cat_lit_more cat_list_m\">\n",
      "\t\t\t\t\t\t\t\n",
      "\t\t\t\t\t\t\t</ul>\n",
      "\t\t\t\t\t\t\t<button type=\"button\" class=\"morelist_btn triggerToggle\" onclick=\"clickimg('cateForeign');\"><img class=\"arrow01\" src=\"https://img.ypbooks.co.kr/ypbooks/images/common/btnSearchBarDown2.gif\" alt=\"검색창 아래 화살표\"/></button>\n",
      "\t\t\t\t\t\t</div>\n",
      "\t\t\t\t\t\t<div class=\"categ-result\" id=\"cateReview\" style=\"display:none;\">\n",
      "\t\t\t\t\t\t\t<h1>검색결과 상품을 분야별로 선택하여 볼 수 있습니다.</h1>\n",
      "\t\t\t\t\t\t\t<ul class=\"cat_lit_more cat_list_m\">\n",
      "\t\t\t\t\t\t\t\n",
      "\t\t\t\t\t\t\t</ul>\n",
      "\t\t\t\t\t\t\t<button type=\"button\" class=\"morelist_btn triggerToggle\" onclick=\"clickimg('cateReview');\"><img class=\"arrow01\" src=\"https://img.ypbooks.co.kr/ypbooks/images/common/btnSearchBarDown2.gif\" alt=\"검색창 아래 화살표\"/></button>\n",
      "\t\t\t\t\t\t</div>\n",
      "\t\t\t\t\t</div>\n",
      "\t\t\t\t\t\n",
      "\t\t\t\t\t<div class=\"detail-result-imp\">\n",
      "\t\t\t\t\t\t<div class=\"detail-result-imp-top\">\n",
      "\t\t\t\t\t\t\t<h1> <span class=\"bookname_green\"> &#39;뉴진스&#39; </span> 검색결과 <span class=\"total_ct_nb\"> &#40; 총 <span id=\"listCount\">2</span>건 &#41; </span></h1> \n",
      "\t\t\t\t\t\t\t<button class=\"cartcart_red\"><a href=\"javascript:fMultiCart();\">장바구니담기</a></button>\n",
      "\t\t\t\t\t\t</div>\n",
      "\t\t\t\t\t\t<div class=\"detail-result-imp-mid\">\n",
      "\t\t\t\t\t\t\t<div class=\"detail-result-imp-mid-top\">\n",
      "\t\t\t\t\t\t\t\t<div class=\"detail-result-imp-mid-top-left\">\n",
      "\t\t\t\t\t\t\t\t\t<ul>\n",
      "\t\t\t\t\t\t\t\t\t\t<li class=\"\"><a href=\"javascript:goSort('RANK');\">정확도</a></li>\n",
      "\t\t\t\t\t\t\t\t\t\t<li class=\"slTtCt \"><a href=\"javascript:goSort('SALE_TOTAL_CNT');\">판매량</a></li>\n",
      "\t\t\t\t\t\t\t\t\t\t<li class=\"on\"><a href=\"javascript:goSort('DATE');\">출간일</a></li>\n",
      "\t\t\t\t\t\t\t\t\t\t<li class=\"ctTtl \"><a href=\"javascript:goSort('TITLE_DOWN');\">상품명</a></li>\n",
      "\t\t\t\t\t\t\t\t\t\t<li class=\"\"><a href=\"javascript:goSort('SALEAMT_DOWN');\">낮은가격</a></li>\n",
      "\t\t\t\t\t\t\t\t\t\t<li class=\"\"><a href=\"javascript:goSort('SALEAMT_UP');\">높은가격</a></li>\n",
      "\t\t\t\t\t\t\t\t\t\t<li class=\"\"><a href=\"javascript:goSort('SALE_RATE');\">할인율</a></li>\n",
      "\t\t\t\t\t\t\t\t\t\t<li class=\"rvcnt \"><a href=\"javascript:goSort('REVIEWCNT');\">리뷰수</a></li>\n",
      "\t\t\t\t\t\t\t\t\t</ul>\n",
      "\t\t\t\t\t\t\t\t</div>\n",
      "\t\t\t\t\t\t\t\t<div class=\"detail-result-imp-mid-top-right\">\n",
      "\n",
      "\t\t\t\t\t\t\t\t\t<div class=\"expose-nb0\">\n",
      "\t\t\t\t\t\t\t\t\t\t<div class=\"consultation-state-select0 expose-nb_selected_option0\">품절 제외</div>\n",
      "\t\t\t\t\t\t\t\t\t\t<ul class=\"consultation-state-ul0 expose-nb_select-ul0\">\n",
      "\t\t\t\t\t\t\t\t\t\t\t<li>품절 포함</li>\n",
      "\t\t\t\t\t\t\t\t\t\t\t<li>품절 제외</li>\n",
      "\t\t\t\t\t\t\t\t\t\t</ul>\n",
      "\t\t\t\t\t\t\t\t\t</div>\n",
      "\t\t\t\t\t\t\t\t\t<script>\n",
      "\t\t\t\t\t\t\t\t\t\t$(\"body\").on(\"click\", \".consultation-state-select0\", function () {\n",
      "\t\t\t\t\t\t\t\t\t\t\t$(\".consultation-state-ul0\").toggle();\n",
      "\t\t\t\t\t\t\t\t\t\t})\n",
      "\t\t\t\t\t\t\t\t\t\t$(\"body\").on(\"click\", \".consultation-state-ul0 li\", function () {\n",
      "\t\t\t\t\t\t\t\t\t\t\tvar text = $(this).html();\n",
      "\t\t\t\t\t\t\t\t\t\t\t$(\".consultation-state-select0\").html(text);\n",
      "\t\t\t\t\t\t\t\t\t\t\t$(\".consultation-state-ul0\").toggle();\n",
      "\t\t\t\t\t\t\t\t\t\t\tif (text == \"품절 제외\") {\n",
      "\t\t\t\t\t\t\t\t\t\t\t\tgoSoldOut('Y');\n",
      "\t\t\t\t\t\t\t\t\t\t\t} else {\n",
      "\t\t\t\t\t\t\t\t\t\t\t\tgoSoldOut('N');\n",
      "\t\t\t\t\t\t\t\t\t\t\t}\n",
      "\t\t\t\t\t\t\t\t\t\t})\n",
      "\t\t\t\t\t\t\t\t\t\t$(\"body\").on(\"click\", function(e){\n",
      "\t\t\t\t\t\t\t\t\t\t\tif($(\".consultation-state-ul0\").css(\"display\") == \"block\"){\n",
      "\t\t\t\t\t\t\t\t\t\t\t\tif($(\".expose-nb0\").has(e.target).length == 0){\n",
      "\t\t\t\t\t\t\t\t\t\t\t\t\t$(\".consultation-state-ul0\").hide()\n",
      "\t\t\t\t\t\t\t\t\t\t\t\t}\n",
      "\t\t\t\t\t\t\t\t\t\t\t}\n",
      "\t\t\t\t\t\t\t\t\t\t})\n",
      "\t\t\t\t\t\t\t\t\t</script>\n",
      "\n",
      "\t\t\t\t\t\t\t\t\t<div class=\"listimg-yn\">\n",
      "\t\t\t\t\t\t\t\t\t\t<a href=\"javascript:goViewStyle('list');viewStyle_listOn();\" class=\"viewstyle_l\"><img src=\"https://img.ypbooks.co.kr/ypbooks/images/common/viewstyle_list_on.gif\" class=\"viewstyle_list\" alt=\"보기 스타일 리스트\"></img></a>  \n",
      "\t\t\t\t\t\t\t\t\t\t<a href=\"javascript:goViewStyle('album');viewStyle_imageOn();\" class=\"viewstyle_i\"><img src=\"https://img.ypbooks.co.kr/ypbooks/images/common/viewstyle_image.gif\" class=\"viewstyle_image\" alt=\"보기 스타일 이미지\"></img></a>\n",
      "\t\t\t\t\t\t\t\t\t</div>\n",
      "\t\t\t\t\t\t\t\t\t\t\n",
      "\t\t\t\t\t\t\t\t\t<script>\n",
      "\t\t\t\t\t\t\t\t\t\tfunction viewStyle_listOn(){\n",
      "\t\t\t\t\t\t\t\t\t\t\t$('.viewstyle_l img').attr(\"src\", \"https://img.ypbooks.co.kr/ypbooks/images/common/viewstyle_list_on.gif\");\n",
      "\t\t\t\t\t\t\t\t\t\t\t$('.viewstyle_i img').attr(\"src\", \"https://img.ypbooks.co.kr/ypbooks/images/common/viewstyle_image.gif\");\n",
      "\t\t\t\t\t\t\t\t\t\t}\n",
      "\t\t\t\t\t\t\t\t\t</script>\n",
      "\n",
      "\t\t\t\t\t\t\t\t\t<script>\n",
      "\t\t\t\t\t\t\t\t\t\tfunction viewStyle_imageOn(){\n",
      "\t\t\t\t\t\t\t\t\t\t\t$('.viewstyle_l img').attr(\"src\", \"https://img.ypbooks.co.kr/ypbooks/images/common/viewstyle_list.gif\");\n",
      "\t\t\t\t\t\t\t\t\t\t\t$('.viewstyle_i img').attr(\"src\", \"https://img.ypbooks.co.kr/ypbooks/images/common/viewstyle_image_on.gif\");\n",
      "\t\t\t\t\t\t\t\t\t\t}\n",
      "\t\t\t\t\t\t\t\t\t</script>\n",
      "\n",
      "\t\t\t\t\t\t\t\t\t<div class=\"expose-nb\">\n",
      "\t\t\t\t\t\t\t\t\t\t<div class=\"consultation-state-select expose-nb_selected_option1\">10개</div>\n",
      "\t\t\t\t\t\t\t\t\t\t<ul class=\"consultation-state-ul expose-nb_select-ul\">\n",
      "\t\t\t\t\t\t\t\t\t\t\t<li onclick=\"javascript:goResize(10);\">10개</li>\n",
      "\t\t\t\t\t\t\t\t\t\t\t<li onclick=\"javascript:goResize(20);\">20개</li>\n",
      "\t\t\t\t\t\t\t\t\t\t\t<li onclick=\"javascript:goResize(40);\">40개</li>\n",
      "\t\t\t\t\t\t\t\t\t\t\t<li onclick=\"javascript:goResize(60);\">60개</li>\n",
      "\t\t\t\t\t\t\t\t\t\t</ul>\n",
      "\t\t\t\t\t\t\t\t\t</div>\t\t\t\t\t\t\t\t\t\t\t\t\t\n",
      "\t\t\t\t\t\t\t\t\t<script>\n",
      "\t\t\t\t\t\t\t\t\t\t$(\"body\").on(\"click\", \".consultation-state-select\", function () {\n",
      "\t\t\t\t\t\t\t\t\t\t\t$(\".consultation-state-ul\").toggle();\n",
      "\t\t\t\t\t\t\t\t\t\t})\t\t\t\t\t\t\t\t\t\t\n",
      "\t\t\t\t\t\t\t\t\t\t$(\"body\").on(\"click\", \".consultation-state-ul li\", function () {\n",
      "\t\t\t\t\t\t\t\t\t\t\tvar text = $(this).html();\n",
      "\t\t\t\t\t\t\t\t\t\t\t$(\".consultation-state-select\").html(text);\n",
      "\t\t\t\t\t\t\t\t\t\t\t$(\".consultation-state-ul\").toggle();\n",
      "\t\t\t\t\t\t\t\t\t\t})\t\t\t\t\t\t\t\t\t\t\n",
      "\t\t\t\t\t\t\t\t\t\t$(\"body\").on(\"click\", function(e){\n",
      "\t\t\t\t\t\t\t\t\t\t\tif($(\".consultation-state-ul\").css(\"display\") == \"block\"){\n",
      "\t\t\t\t\t\t\t\t\t\t\t\tif($(\".expose-nb\").has(e.target).length == 0){\n",
      "\t\t\t\t\t\t\t\t\t\t\t\t\t$(\".consultation-state-ul\").hide()\n",
      "\t\t\t\t\t\t\t\t\t\t\t\t}\n",
      "\t\t\t\t\t\t\t\t\t\t\t}\n",
      "\t\t\t\t\t\t\t\t\t\t})\n",
      "\t\t\t\t\t\t\t\t\t</script>\n",
      "\t\t\t\t\t\t\t\t</div>\n",
      "\t\t\t\t\t\t\t</div>\n",
      "\t\t\t\t\t\t</div>\n",
      "\t\t\t\t\t</div>\n",
      "\t\t\t\t\t\n",
      "\t\t\t\t</div>\n",
      "\t\t\t\t<!-- 검색결과 리스트 -->\n",
      "\t\t\t\t<div id=\"searchResultList\" class=\"searchResultList_cl\"></div>\n",
      "\t\t\t\t\n",
      "\t\t\t<!-- 검색결과 끝-->\n",
      "\t\t\t\n",
      "\t\t</div>\n",
      "\t\t\n",
      "\t\t<!-- 우측영역 시작-->\n",
      "\t\t<div class=\"search_right\">\n",
      "\t\t\t<!-- 검색결과내 베스트셀러 -->\n",
      "\t\t\t\n",
      "\t\t\t<div class=\"search_rightmold\" id=\"search_rightmold_best\">\n",
      "\t\t\t\t\n",
      "\t\t\t</div>\n",
      "\t\t\t\n",
      "\t\t\t\n",
      "\t\t\t<!-- 테마검색결과 -->\n",
      "\t\t\t\n",
      "\t\t\t\n",
      "\t\t\t<!-- 나의 검색어 -->\n",
      "\t\t\t<script language=\"javascript\"><!--//\n",
      "\t\t\t\tvar msw = new mySearchWord(\"mySearchKeyword\", 10);\n",
      "\t\t\t//--></script>\n",
      "\t\t\t<div id=\"mswArea\"></div>\n",
      "\t\t\t<script language=\"javascript\"><!--//\n",
      "\t\t\t\tprintMsw();\n",
      "\t\t\t//--></script>\n",
      "\t\t\t\n",
      "\t\t\t\n",
      "\t\t\t<!-- 실시간 인기검색어 -->\t\t\t\n",
      "\t\t\t<div class=\"search_rightmold\" style=\"border:none;\">\n",
      "\t\t\t\t<div class=\"search_rightmoldin realTime_fms0\">\n",
      "\t\t\t\t\t<ul class=\"grad_bg_tt realtime_title\">\n",
      "\t\t\t\t\t\t<li class=\"rtit\">\n",
      "\t\t\t\t\t\t\t<p >실시간 인기검색어</p>\n",
      "\t\t\t\t\t\t</li>\n",
      "\t\t\t\t\t</ul>\n",
      "\t\t\t\t\t<ul class=\"ranking_top10\">\n",
      "\t\t\t\t\t\n",
      "\t\t\t\t\t\t<li><a href=\"javascript:;\" onclick=\"popKeyword('컬러링')\"><span class=\"rank_nb_box rank_nb_box_red\">1</span> \n",
      "\t\t\t\t\t\t\t<span class=\"ranking_top10_ct realT_fms_red3\">컬러링</span></a> \n",
      "\t\t\t\t\t\t\t<span class=\"realT_fms_add \">\n",
      "\t\t\t\t\t\t\t-\n",
      "\t\t\t\t\t\t</span></li>\n",
      "\t\t\t\t\t\n",
      "\t\t\t\t\t\t<li><a href=\"javascript:;\" onclick=\"popKeyword('c++')\"><span class=\"rank_nb_box rank_nb_box_red\">2</span> \n",
      "\t\t\t\t\t\t\t<span class=\"ranking_top10_ct realT_fms_red3\">c++</span></a> \n",
      "\t\t\t\t\t\t\t<span class=\"realT_fms_add \">\n",
      "\t\t\t\t\t\t\t-\n",
      "\t\t\t\t\t\t</span></li>\n",
      "\t\t\t\t\t\n",
      "\t\t\t\t\t\t<li><a href=\"javascript:;\" onclick=\"popKeyword('관리학')\"><span class=\"rank_nb_box rank_nb_box_red\">3</span> \n",
      "\t\t\t\t\t\t\t<span class=\"ranking_top10_ct realT_fms_red3\">관리학</span></a> \n",
      "\t\t\t\t\t\t\t<span class=\"realT_fms_add \">\n",
      "\t\t\t\t\t\t\t-\n",
      "\t\t\t\t\t\t</span></li>\n",
      "\t\t\t\t\t\n",
      "\t\t\t\t\t\t<li><a href=\"javascript:;\" onclick=\"popKeyword('데미안')\"><span class=\"rank_nb_box \">4</span> \n",
      "\t\t\t\t\t\t\t<span class=\"ranking_top10_ct \">데미안</span></a> \n",
      "\t\t\t\t\t\t\t<span class=\"realT_fms_add \">\n",
      "\t\t\t\t\t\t\tNEW\n",
      "\t\t\t\t\t\t</span></li>\n",
      "\t\t\t\t\t\n",
      "\t\t\t\t\t\t<li><a href=\"javascript:;\" onclick=\"popKeyword('플로리스트')\"><span class=\"rank_nb_box \">5</span> \n",
      "\t\t\t\t\t\t\t<span class=\"ranking_top10_ct \">플로리스트</span></a> \n",
      "\t\t\t\t\t\t\t<span class=\"realT_fms_add rank_down_g\">\n",
      "\t\t\t\t\t\t\t<img src=\"https://img.ypbooks.co.kr/ypbooks/search/images/rank_arrow_down.gif\" alt=\"랭킹화살표_아래\"> 1\n",
      "\t\t\t\t\t\t\t\n",
      "\t\t\t\t\t\t</span></li>\n",
      "\t\t\t\t\t\n",
      "\t\t\t\t\t\t<li><a href=\"javascript:;\" onclick=\"popKeyword('0~5세')\"><span class=\"rank_nb_box \">6</span> \n",
      "\t\t\t\t\t\t\t<span class=\"ranking_top10_ct \">0~5세</span></a> \n",
      "\t\t\t\t\t\t\t<span class=\"realT_fms_add rank_down_g\">\n",
      "\t\t\t\t\t\t\tNEW\n",
      "\t\t\t\t\t\t</span></li>\n",
      "\t\t\t\t\t\n",
      "\t\t\t\t\t\t<li><a href=\"javascript:;\" onclick=\"popKeyword('컬러링북')\"><span class=\"rank_nb_box \">7</span> \n",
      "\t\t\t\t\t\t\t<span class=\"ranking_top10_ct \">컬러링북</span></a> \n",
      "\t\t\t\t\t\t\t<span class=\"realT_fms_add rank_down_g\">\n",
      "\t\t\t\t\t\t\tNEW\n",
      "\t\t\t\t\t\t</span></li>\n",
      "\t\t\t\t\t\n",
      "\t\t\t\t\t\t<li><a href=\"javascript:;\" onclick=\"popKeyword('talk to me in korean')\"><span class=\"rank_nb_box \">8</span> \n",
      "\t\t\t\t\t\t\t<span class=\"ranking_top10_ct \">talk to me in korean</span></a> \n",
      "\t\t\t\t\t\t\t<span class=\"realT_fms_add rank_down_g\">\n",
      "\t\t\t\t\t\t\t<img src=\"https://img.ypbooks.co.kr/ypbooks/search/images/rank_arrow_down.gif\" alt=\"랭킹화살표_아래\"> 3\n",
      "\t\t\t\t\t\t\t\n",
      "\t\t\t\t\t\t</span></li>\n",
      "\t\t\t\t\t\n",
      "\t\t\t\t\t\t<li><a href=\"javascript:;\" onclick=\"popKeyword('도티')\"><span class=\"rank_nb_box \">9</span> \n",
      "\t\t\t\t\t\t\t<span class=\"ranking_top10_ct \">도티</span></a> \n",
      "\t\t\t\t\t\t\t<span class=\"realT_fms_add rank_down_g\">\n",
      "\t\t\t\t\t\t\tNEW\n",
      "\t\t\t\t\t\t</span></li>\n",
      "\t\t\t\t\t\n",
      "\t\t\t\t\t\t<li><a href=\"javascript:;\" onclick=\"popKeyword('그리스로마신화')\"><span class=\"rank_nb_box \">10</span> \n",
      "\t\t\t\t\t\t\t<span class=\"ranking_top10_ct \">그리스로마신화</span></a> \n",
      "\t\t\t\t\t\t\t<span class=\"realT_fms_add rank_down_g\">\n",
      "\t\t\t\t\t\t\tNEW\n",
      "\t\t\t\t\t\t</span></li>\n",
      "\t\t\t\t\t\n",
      "\t\t\t\t\t</ul>\n",
      "\t\t\t\t\t<p> <span>2023.07.16 01:01 </span> 기준</p>\n",
      "\t\t\t\t</div>\n",
      "\t\t\t</div>\n",
      "\t\t\t\n",
      "\t\t\t\n",
      "\t\t</div>\n",
      "\t\t<!-- 우측영역 끝-->\n",
      "\t</div>\n",
      "</div>\n",
      "\n",
      "<!--도서 상세 전송폼 -->\n",
      "<form name=\"bookform\" method=\"get\" action=\"\"> \n",
      "\t<input type=\"hidden\" name=\"bookcd\" value=\"\" /> \n",
      "</form> \n",
      "\n",
      "<!-- e-book -->\n",
      "<form name=\"CartForm2\" action=\"/cart.yp\">\n",
      "\t<input type=\"hidden\" name=\"Goods_cd\" value=\"\" />\n",
      "\t<input type=\"hidden\" name=\"Quantity\" value=\"\" />\n",
      "\t<input type=\"hidden\" name=\"Goods_div\" value=\"E\" />\n",
      "\t<input type=\"hidden\" name=\"method\" value=\"ins\" />\n",
      "</form>\n",
      "\n",
      "<!-- 바로구매 -->\n",
      "<form name=\"CartFormD\" action=\"/cart.yp\">\n",
      "\t<input type=\"hidden\" name=\"Goods_cd\" value=\"\" />\n",
      "\t<input type=\"hidden\" name=\"Quantity\" value=\"\" />\n",
      "\t<input type=\"hidden\" name=\"Goods_div\" value=\"\" />\n",
      "\t<input type=\"hidden\" name=\"method\" value=\"direct\" />\n",
      "\t<input type=\"hidden\" name=\"delvSchedule\" value=\"\" />\n",
      "</form>\n",
      "\n",
      "<!--다중 장바구니 전송 폼 -->\n",
      "<form name=\"FrmMultiCart\" id=\"FrmMultiCart\" method=\"post\" action=\"/cart.yp\">\n",
      "\t<input type=\"hidden\" name=\"method\" value=\"ins\" />\n",
      "</form> \n",
      "\n",
      "<!-- 이벤트 폼 -->\n",
      "<form name=\"FrmHTMLLink\" method=\"post\" action=\"/event_view.yp\" target=\"__new\">\n",
      "\t<input type=\"hidden\" name=\"HTMLPage\" value=\"\" />\n",
      "</form>\n",
      "\n",
      "<!-- 로그인 폼 -->\n",
      "<form name=\"loginform\" method=\"post\" action=\"/login.yp\">\n",
      "\t<input type=\"hidden\" name=\"forwardPage\" value=\"/search.yp?query=%EB%89%B4%EC%A7%84%EC%8A%A4\" />\n",
      "</form>\n",
      "\n",
      "<script>\n",
      "$(\".re-search-btn011\").click(function(){\n",
      "\t$(\".modal_box2 ul.tabs li.tab-link1\").css({'display':'none'});\n",
      "\t$(\".modal_box2 ul.tabs li.tab-link1\").removeClass('current');\n",
      "\t$(\".modal_box2 ul.tabs li.tab-link2\").addClass('current');\n",
      "\t$(\".modal_box2 ul.tabs li.tab-link2\").css({'left':'23px'});\n",
      "\t$(\".modal_box2 .m_b_btm hr.m_b_btm_tabs_hr\").css({'left':'156px', 'width':'587px'});\n",
      "\t$(\".modal_box2 .m_b_btm .container #tab-1\").removeClass('current');\n",
      "\t$(\".modal_box2 .m_b_btm .container #tab-2\").addClass('current');\n",
      "\t$(\".modal_box2 .m_b_top h1 span\").css({'display':'none'});\n",
      "\t\n",
      "});\n",
      "\n",
      "$(\".re-search-btn01\").click(function(){\n",
      "\t$(\".modal_box2 ul.tabs li.tab-link1\").css({'display':'block'});\n",
      "\t$(\".modal_box2 ul.tabs li.tab-link1\").addClass('current');\n",
      "\t$(\".modal_box2 ul.tabs li.tab-link2\").removeClass('current');\n",
      "\t$(\".modal_box2 ul.tabs li.tab-link2\").css({'left':'157px'});\n",
      "\t$(\".modal_box2 .m_b_btm hr.m_b_btm_tabs_hr\").css({'left':'290px', 'width':'455px'});\n",
      "\t$(\".modal_box2 .m_b_btm .container #tab-1\").addClass('current');\n",
      "\t$(\".modal_box2 .m_b_btm .container #tab-2\").removeClass('current');\n",
      "\t$(\".modal_box2 .m_b_top h1 span\").css({'display':'inline'});\n",
      "});\n",
      "\n",
      "</script>\n",
      "\n",
      "</body>\n",
      "</html>\n",
      "\n",
      "\n",
      "\n",
      "\t\t\t</div>\n",
      "\t\t\t\n",
      "\n",
      "\n",
      "\n",
      "\n",
      "\n",
      "\n",
      "\n",
      "\n",
      "\n",
      "\n",
      "\n",
      "\n",
      "\n",
      "\n",
      "\n",
      "\n",
      "\n",
      "\n",
      "\n",
      "\n",
      "\n",
      "\n",
      "\n",
      "\n",
      "<script language='javascript' src='/ypbooks/js/smCookieUtil.js'></script>\n",
      "<script language='javascript' src='/ypbooks/js/util.js'></script>\n",
      "\n",
      "<style>\n",
      "\thtml, body {height:100%;}\n",
      "</style>\n",
      "<script language=\"javascript\">\n",
      "\tvar header = \"https://\" + document.domain;\n",
      "\n",
      "\tfunction fViewLogin(){\n",
      "\t\tdocument.location = \"https://\" + document.domain + \"/login.yp\";\n",
      "\t}\n",
      "\n",
      "\t/* 주문하기 */ \n",
      "\tfunction OrdLoginCheck() {\n",
      "\t\tvar xmlhttp = getXmlHttpRequest();\n",
      "\t\tvar url = \"/servlet/usermyinfo?targetpage=attuser_pop_login\";\n",
      "\t\tvar userdiv = \"0\";\n",
      "\t\tif(url) {\n",
      "\t\t\txmlhttp.open(\"POST\", url, true);\n",
      "\t\t\txmlhttp.onreadystatechange = function() {\n",
      "\t\t\t\tif(xmlhttp.readyState == 4) {\n",
      "\t\t\t\t\tif(xmlhttp.status == 200) {\n",
      "\t\t\t\t\t\tvar respTxt = xmlhttp.responseText;\n",
      "\t\t\t\t\t\tvar lists = xmlhttp.responseXML.getElementsByTagName(\"lists\")[0];\n",
      "\t\t\t\t\t\t\n",
      "\t\t\t\t\t\tif (lists){\n",
      "\t\t\t\t\t\t\tvar userdiv =lists.getElementsByTagName(\"userdiv\")[0].firstChild.nodeValue;\n",
      "\n",
      "\t\t\t\t\t\t\tif (userdiv == \"C0\"){\n",
      "\t\t\t\t\t\t\t\tgoOrder(\"3\");\n",
      "\t\t\t\t\t\t\t}else if(userdiv == \"00\"){\n",
      "\t\t\t\t\t\t\t\tgoOrder(\"2\");\n",
      "\t\t\t\t\t\t\t}else if(userdiv == \"15\" ){\n",
      "\t\t\t\t\t\t\t\tgoOrder(\"15\");\n",
      "\t\t\t\t\t\t\t}else if( userdiv == \"20\" ){\n",
      "\t\t\t\t\t\t\t\tgoOrder(\"20\");\n",
      "\t\t\t\t\t\t\t}else if( userdiv == \"98\" ){\n",
      "\t\t\t\t\t\t\t\tgoOrder(\"98\");\n",
      "\t\t\t\t\t\t\t}else{\n",
      "\t\t\t\t\t\t\t\tfViewLogin();\n",
      "\t\t\t\t\t\t\t}\n",
      "\t\t\t\t\t\t}\n",
      "\t\t\t\t\t} else {\n",
      "\t\t\t\t\t}\n",
      "\t\t\t\t}\n",
      "\t\t\t}\n",
      "\t\t\txmlhttp.send(null);\n",
      "\t\t}\n",
      "\t}\n",
      "\n",
      "\tfunction bookInfo(str) {\n",
      "\t\tlocation.href='https://' + document.domain + '/book.yp?bookcd=' + str ; \n",
      "\t}\n",
      "\t\n",
      "\tfunction openTab(no) {\n",
      "\t\tif(no == 0) {\n",
      "\t\t\tlocation.href='https://' + document.domain + '/cart.yp'; \n",
      "\t\t} else if(no == 2) {\n",
      "\t\t\tvar form = document.userLibraryForm;\n",
      "\t\t\tform.submit();\n",
      "\t\t}\n",
      "\t}\t\n",
      "\t\n",
      "\t/* \n",
      "\t *\t장바구니에 담기 이동\n",
      "\t */\n",
      "\tfunction fShoppingCart(bookcode){\n",
      "\t\tvar cntOBJ =  document.getElementsByName(\"SaleBookCnt_\" + bookcode).value;\n",
      "\t\tvar gbOBJ = \"YP\" ; \n",
      "\t\tvar qty = null;\n",
      "\t\tif (document.qtyForm != null) {\n",
      "\t\t\tqty = document.qtyForm.Quantity.value;\n",
      "\t\t}\n",
      "\t\t\n",
      "\t\t// 수량 조정 ( delete 후 다시 넣음 ) \n",
      "\t\tif (cntOBJ != null) {\n",
      "\t\t\tmakeRequest(\"get\", header + \"/ypbooks/Template/layout/common/cartProc.jsp?method=ins&Goods_cd=\" + bookcode + \"&Quantity=\" + cntOBJ[0] + \"&gubun=\" + gbOBJ, GetBookCart);\n",
      "\t\t}\n",
      "\t\t\n",
      "\t\tif (qty != null) {\n",
      "\t\t\tif (qty <= 0) {\n",
      "\t\t\t\talert(\"수량은 1권 이상 입력해 주세요.\")\n",
      "\t\t\t\tdocument.qtyForm.Quantity.value = 1;\n",
      "\t\t\t\tdocument.qtyForm.Quantity.focus();\n",
      "\t\t\t\treturn;\n",
      "\t\t\t} else if (qty > 999) {\n",
      "\t\t\t\talert(\"수량은 999권 까지 입력가능합니다.\")\n",
      "\t\t\t\tdocument.qtyForm.Quantity.value = 999;\n",
      "\t\t\t\tdocument.qtyForm.Quantity.focus();\n",
      "\t\t\t\treturn;\n",
      "\t\t\t} \n",
      "\t\t\tmakeRequest(\"get\", header + \"/ypbooks/Template/layout/common/cartProc.jsp?method=ins&Goods_cd=\" + bookcode + \"&Quantity=\"+qty+\"&gubun=\" + gbOBJ, GetBookCart);\n",
      "\t\t} else {\n",
      "\t\t\tmakeRequest(\"get\", header + \"/ypbooks/Template/layout/common/cartProc.jsp?method=ins&Goods_cd=\" + bookcode + \"&Quantity=1&gubun=\" + gbOBJ, GetBookCart);\n",
      "\t\t}\n",
      "\t}\n",
      "\n",
      "\t/**\n",
      "\t*\t북카트 저장 완료 후 처리\n",
      "\t*/\n",
      "\tfunction GetBookCart(req_obj) {\n",
      "\t\tvar lists = req_obj.responseText;\n",
      "\t\tlists = lists.replace(/\\s/g, \"\")\n",
      "\t\tif (lists.charCodeAt(0)==89){\n",
      "\t\t\tvar cfrm = confirm('장바구니에 저장되었습니다.\\n지금 확인하시겠습니까 ?') ; \n",
      "\t\t\tif ( cfrm ) {\n",
      "\t\t\t\topenTab(0);\n",
      "\t\t\t} \n",
      "\t\t} else {\n",
      "\t\t\talert('장바구니에 저장실패하였습니다..') ;\n",
      "\t\t}\n",
      "\t}\n",
      "\t\n",
      "\tfunction goMyCart(str) {\n",
      "\t\tfrmAction.action = \"https://\" + document.domain + \"/cart.yp?method=ins&sender=flash&Goods_cd=\" + str + \"&Quantity=1\"; \n",
      "\t\tfrmAction.submit();\n",
      "\t}\n",
      "\t\n",
      "\t///////////////////내서재/////////////////////////////\n",
      "\tfunction fUserLibraryRegist(value){\n",
      "\t\twindow.name=\"livraryfrom\";\n",
      "\t\tmakeRequest(\"get\", header + \"/servlet/usermyinfo?targetpage=fUserLibraryRegist&bookcd=\"+value, fUserLibraryRegistajax);//내서재\n",
      "\t}\n",
      "\t\t\n",
      "\tfunction fUserLibraryRegistajax(req_obj){\n",
      "\t\tvar lists = req_obj.responseXML.getElementsByTagName(\"lists\")[0];\n",
      "\t\tif (lists){\n",
      "\t\t\tvar userid =lists.getElementsByTagName(\"userid\")[0].firstChild.nodeValue;\n",
      "\t\t\tvar bookcd =lists.getElementsByTagName(\"bookcd\")[0].firstChild.nodeValue;\n",
      "\t\t\tif(userid==0){\n",
      "\t\t\t\tdocument.location = \"https://\" + document.domain + \"/login.yp?pageflag=livrary\";\n",
      "\t\t\t}else{\n",
      "\t\t\t\tmakeRequest(\"get\", header + \"/servlet/usermyinfo?targetpage=usermyinfo_library&pageflag=usermyinfo_library&bookcd=\"+bookcd, getUserLibrary);//내서재\n",
      "\t\t\t}\n",
      "\t\t}\n",
      "\t}\n",
      "\t\n",
      "\tfunction getUserLibrary(req_obj){\n",
      "\t\tvar lists = req_obj.responseXML.getElementsByTagName(\"lists\")[0];\n",
      "\t\tif (lists){\n",
      "\t\t\tvar booklist = lists.getElementsByTagName(\"flag\")[0].firstChild.nodeValue;\n",
      "\t\t\tif(booklist==0){\n",
      "\t\t\t\tif(confirm('내서재에 등록되었습니다.\\n내서재로 이동하시겠습니까?')){\n",
      "\t\t\t\t\topenTab(2) ; \n",
      "\t\t\t\t}\n",
      "\t\t\t}else if(booklist==1){\n",
      "\t\t\t\tif(confirm('이미 내서재에 등록된 도서입니다.\\n내서재로 이동하시겠습니까?')){\n",
      "\t\t\t\t\topenTab(2) ; \n",
      "\t\t\t\t}\n",
      "\t\t\t}else{\n",
      "\t\t\t\talert(\"내서재 등록에 실패하였습니다.\");\n",
      "\t\t\t}\n",
      "\t\t}\n",
      "\t}\n",
      "\t\n",
      "\t//내서재 (도서상세용)\n",
      "\tfunction fUserLibraryRegistBookInfo(value) {\n",
      "\t\twindow.name=\"livraryfrom\";\n",
      "\t\tmakeRequest(\"get\", header + \"/servlet/usermyinfo?targetpage=fUserLibraryRegist&bookcd=\"+value, fUserLibraryRegistBookInfoajax);//내서재\n",
      "\t}\n",
      "\t\t\n",
      "\tfunction fUserLibraryRegistBookInfoajax(req_obj){\n",
      "\t\tvar lists = req_obj.responseXML.getElementsByTagName(\"lists\")[0];\n",
      "\t\tif (lists){\n",
      "\t\t\tvar userid =lists.getElementsByTagName(\"userid\")[0].firstChild.nodeValue;\n",
      "\t\t\tvar bookcd =lists.getElementsByTagName(\"bookcd\")[0].firstChild.nodeValue;\n",
      "\t\t\tif(userid==0){\n",
      "\t\t\t\tdocument.location = \"https://\" + document.domain + \"/login.yp?forwardPage=https://\" + document.domain + \"/book.yp?bookcd=\" + bookcd;\n",
      "\t\t\t}else{\n",
      "\t\t\t\tmakeRequest(\"get\", header + \"/servlet/usermyinfo?targetpage=usermyinfo_library&pageflag=usermyinfo_library&bookcd=\"+bookcd, getUserLibrary);//내서재\n",
      "\t\t\t}\n",
      "\t\t}\n",
      "\t}\n",
      "\n",
      "\tfunction bookView(bookcd){\n",
      "\t\tMM_openBrWindow('https://' + document.domain + '/ypbooks/book/popup/pop_book_info.jsp?pBookCode='+bookcd, 'detail_book', 'width=600,height=650');\n",
      "\t}\n",
      "</script>\n",
      "<form name=\"userLibraryForm\" method=\"post\" action=\"https://www.ypbooks.co.kr/user_myInfo.yp\">\n",
      "\t<input type=\"hidden\" id=\"targetpage\" name=\"targetpage\" value=\"usermyinfo_library\"/>\n",
      "\t<input type=\"hidden\" id=\"BookCDList\" name=\"BookCDList\" value=\"\"/>\n",
      "\t<input type=\"hidden\" name=\"nListNumPerPage\" value=\"10\"/>\n",
      "</form>\n",
      "<form name='cartForm' method='post' action='https://www.ypbooks.co.kr/cart.yp'>\n",
      "\t<input type='hidden' name='numOfbookks' value=''/>\n",
      "\t<input type='hidden' name='bookCode' value=''/>\n",
      "</form>\n",
      "\n",
      "<div id=\"cartArea\">\n",
      "\t<script lanaugae=\"javascript\">\n",
      "\tvar loginF = \"\";\n",
      "\t\n",
      "\t\t\tloginF = \"F\";\n",
      "\t\n",
      "\t</script>\n",
      "</div>\n",
      "\n",
      "\n",
      "\t\t</div>\n",
      "\t</div>\n",
      "\t\n",
      "\n",
      "\n",
      "\n",
      "\n",
      "\n",
      "\n",
      "\n",
      "\n",
      "\n",
      "\n",
      "\n",
      "\n",
      "\n",
      "<script language=\"javascript\">\n",
      "\t$(document).ready(function(){\n",
      "\t\t//2019-11-21 최상단 버튼 수정 - 강산해\n",
      "\t\tvar quickbtnTop = $('.top-wp');\n",
      "\t\t\tquickbtnTop.click('a', function(e){\n",
      "\t\t\t\te.preventDefault();\n",
      "\t\t\t$('html, body').stop()\n",
      "\t\t\t\t.animate({\n",
      "\t\t\t\tscrollTop : 0\n",
      "\t\t\t},800)\n",
      "\t\t});\n",
      "\t});\n",
      "</script>\n",
      "<!-- Global site tag (gtag.js) - Google Analytics -->\n",
      "<script async src=\"https://www.googletagmanager.com/gtag/js?id=G-3SE7E26L80\"></script>\n",
      "<script>\n",
      "\twindow.dataLayer = window.dataLayer || [];\n",
      "\tfunction gtag(){dataLayer.push(arguments);}\n",
      "\tgtag('js', new Date());\n",
      "\n",
      "\tgtag('config', 'G-3SE7E26L80');\n",
      "</script>\n",
      "<!-- Global site tag (gtag.js) - Google Analytics end-->\n",
      "\n",
      "<!-- AceCounter Log Gathering Script V.8.0.AMZ2019080601 -->\n",
      "<script language='javascript'>\n",
      "\tvar _AceGID=(function(){var Inf=['gtp20.acecounter.com','8080','AH4A44633083599','AW','0','NaPm,Ncisy','ALL','0']; var _CI=(!_AceGID)?[]:_AceGID.val;var _N=0;var _T=new Image(0,0);if(_CI.join('.').indexOf(Inf[3])<0){ _T.src =\"https://\"+ Inf[0] +'/?cookie'; _CI.push(Inf);  _N=_CI.length; } return {o: _N,val:_CI}; })();\n",
      "\tvar _AceCounter=(function(){var G=_AceGID;var _sc=document.createElement('script');var _sm=document.getElementsByTagName('script')[0];if(G.o!=0){var _A=G.val[G.o-1];var _G=(_A[0]).substr(0,_A[0].indexOf('.'));var _C=(_A[7]!='0')?(_A[2]):_A[3];var _U=(_A[5]).replace(/\\,/g,'_');_sc.src='https:'+'//cr.acecounter.com/Web/AceCounter_'+_C+'.js?gc='+_A[2]+'&py='+_A[4]+'&gd='+_G+'&gp='+_A[1]+'&up='+_U+'&rd='+(new Date().getTime());_sm.parentNode.insertBefore(_sc,_sm);return _sc.src;}})();\n",
      "</script>\n",
      "<!-- AceCounter Log Gathering Script End -->\n",
      "<div id=\"footerArea\">\n",
      "\t<div class=\"footerFrame\">\n",
      "\t\t<menu>\n",
      "\t\t\t<div class=\"footerTop\">\n",
      "\t\t\t\t<ul class=\"footerMenu\">\n",
      "\t\t\t\t\t<li><a href=\"https://www.ypbooks.co.kr/helper.yp?targetpage=helper_greeting\">회사소개</a></li>\n",
      "\t\t\t\t\t<li><a href=\"https://www.ypbooks.co.kr/helper.yp?targetpage=helper_ad\">광고안내</a></li>\n",
      "\t\t\t\t\t<li><a href=\"https://www.ypbooks.co.kr/ypbooks/spmail/spmailto.jsp\">입점문의</a></li>\n",
      "\t\t\t\t\t<li><a href=\"https://www.ypbooks.co.kr/helper.yp?targetpage=helper_withdrawal\">청약철회</a></li>\n",
      "\t\t\t\t\t<li><a href=\"https://www.ypbooks.co.kr/helper.yp?targetpage=helper_youthpolicy\">청소년보호정책</a></li>\n",
      "\t\t\t\t\t<li><a class=\"useTo\" href=\"javascript:MM_openBrWindow('/ypbooks/member/member_agreement_view.jsp', 'member_agreement_view', 'width=750,height=550,scrollbars=yes')\">이용약관</a></li>\n",
      "\t\t\t\t\t\t\t\t\n",
      "\t\t\t\t\t<li><a style=\"font-weight:bold;\" class=\"private\" href=\"javascript:MM_openBrWindow('/ypbooks/member/member_user_information_handling_view.jsp', 'member_user_information_handling_view', 'width=750,height=550,scrollbars=yes')\">개인정보처리방침</a></li>\n",
      "\t\t\t\t\t<li><a class=\"cctv\" href=\"javascript:MM_openBrWindow('/ypbooks/member/member_user_information_cctv.jsp', 'member_user_information_cctv', 'width=750,height=550,scrollbars=yes')\">영상정보관리방침</a></li>\n",
      "\t\t\t\t\t<li><a class=\"mailadmin\" href=\"https://www.ypbooks.co.kr/ypbooks/event/maintema/refusal_email.jsp\">이메일 무단 수집거부</a></li>\n",
      "\t\t\t\t</ul>\n",
      "\t\t\t</div>\n",
      "\t\t</menu>\n",
      "\t\t<address>\n",
      "\t\t\t<div class=\"footerSection\">\t\n",
      "\t\t\t\t<div class=\"logo-box\">\n",
      "\t\t\t\t\t<h1><img src=\"https://img.ypbooks.co.kr/ypbooks/images/common/ypbooks_footer_newlogo.gif\" alt=\"영풍문고 로고\"/></h1>\n",
      "\t\t\t\t</div>\n",
      "\t\t\t\t<div class=\"w500\">\n",
      "\t\t\t\t\t<ul class=\"address\">\n",
      "\t\t\t\t\t\t<li><span class=\"tit\">회사명 :</span> (주)영풍문고 <span style=\"margin-right:-7px;\">ㅣ</span></li>\n",
      "\t\t\t\t\t\t<li><span class=\"tit\">대표이사 :</span> 김경환</li>\n",
      "\t\t\t\t\t\t<li><span class=\"tit\">소재지 :</span> 서울특별시 종로구 청계천로 41 (우)03188 </li>\n",
      "\t\t\t\t\t\t<li>\n",
      "\t\t\t\t\t\t\t<span class=\"tit\">사업자 등록번호 :</span> 773-86-01800 ㅣ\n",
      "\t\t\t\t\t\t\t<span class=\"tit\">통신판매업 신고번호 :</span> 2023-서울종로-0130\n",
      "\t\t\t\t\t\t\t\t<a  href=\"https://www.ftc.go.kr/bizCommPop.do?wrkr_no=7738601800\" target=\"_blank\" style=\"color:#36634f\">[ 사업자정보확인 ] </a>\n",
      "\t\t\t\t\t\t\t</li>\n",
      "\t\t\t\t\t\t<li>\n",
      "\t\t\t\t\t\t\t<span class=\"tit\">개인정보관리 책임자 :</span> 조순제 ㅣ\n",
      "\t\t\t\t\t\t\t<span class=\"tit\">customer@ypbooks.co.kr ㅣ\n",
      "\t\t\t\t\t\t\t<span class=\"tit\">대량주문 :</span> webmaster@ypbooks.co.kr \n",
      "\t\t\t\t\t\t</li>\n",
      "\t\t\t\t\t</ul>\n",
      "\t\t\t\t\t<span class=\"address\"><strong class=\"ldt\">COPYRIGHT © YOUNGPOONG BOOKSTORE INC.  ALL RIGHTS RESERVED. </strong></span>\n",
      "\t\t\t\t</div>\n",
      "\t\t\t\t<div class=\"scm-box\">\n",
      "\t\t\t\t\t<div class=\"scm-head\">\n",
      "\t\t\t\t\t\t<a href=\"https://ypscm.ypbooks.co.kr/\" target=\"_blank\" title=\"출판사용 통합관리 시스템 SCM 바로가기\">\n",
      "\t\t\t\t\t\t\t<p>출판사용 통합관리 시스템 <strong>SCM</strong></p>\n",
      "\t\t\t\t\t\t</a>\n",
      "\t\t\t\t\t</div>\n",
      "\t\t\t\t\t<div class=\"cs-box\">\n",
      "\t\t\t\t\t\t<p>고객센터 <br/> <span> 1544-9020</span></p>\n",
      "\t\t\t\t\t</div>\n",
      "\t\t\t\t</div>\n",
      "\t\t\t</div>\n",
      "\t\t</address>\n",
      "\t\t<aside>\n",
      "\t\t\t<div class=\"img-con\" style=\"width:976px; margin:20px auto;\"></div>\n",
      "\t\t</aside>\n",
      "\t</div>\n",
      "</div>\n",
      "\n",
      "<div class=\"top-wp-wrap\">\n",
      "\t<!-- sns btn -->\n",
      "\t<a href=\"https://blog.naver.com/ypbookstore\" target=\"_blank\" class=\"yp-naver\" title=\"영풍문고 네이버블로그 바로가기\">\n",
      "\t\t<img src=\"https://img.ypbooks.co.kr/ypbooks/images/common/naver.png\" alt=\"영풍문고 네이버블로그\" />\n",
      "\t</a>\n",
      "\t<a href=\"https://www.instagram.com/ypbooks\" target=\"_blank\" class=\"yp-insta\" title=\"영풍문고 인스타그램 바로가기\">\n",
      "\t\t<img src=\"https://img.ypbooks.co.kr/ypbooks/images/common/insta.png\" alt=\"영풍문고 인스타그램\" />\n",
      "\t</a>\n",
      "\t<div class=\"top-wp\">\n",
      "\t\t    <a href=\"#\" class=\"wrapTop top-btn\">맨위로가기</a>\n",
      "\t</div>\n",
      "</div>\n",
      "</body>\n",
      "<form name=\"CartForm\" action=\"cart.yp\">\n",
      "\t<input type=\"hidden\" name=\"Goods_cd\" value=\"\" />\n",
      "\t<input type=\"hidden\" name=\"Goods_div\" value=\"E\" />\n",
      "\t<input type=\"hidden\" name=\"Quantity\"  value=\"1\" />\n",
      "\t<input type=\"hidden\" name=\"method\" value=\"ins\" />\n",
      "</form>\n",
      "<form name=\"SearchForm\" method=\"post\" action=\"/e_book.yp\">\n",
      "\t<input type=\"hidden\" name=\"targetpage\" value=\"\" />\n",
      "\t<input type=\"hidden\" name=\"IsCategory\" value=\"\" />\n",
      "\t<input type=\"hidden\" name=\"CategoryType\" value=\"\" />\n",
      "\t<input type=\"hidden\" name=\"MainCategoryCode\" value=\"\" />\n",
      "\t<input type=\"hidden\" name=\"MainCategoryName\" value=\"\" />\n",
      "\t<input type=\"hidden\" name=\"SubCategoryCode\"\tvalue=\"\" />\n",
      "\t<input type=\"hidden\" name=\"SubCategoryName\"\tvalue=\"\" />\n",
      "</form>\n",
      "</html> \n"
     ]
    }
   ],
   "source": [
    "print(resp.text)"
   ]
  },
  {
   "cell_type": "code",
   "execution_count": null,
   "metadata": {},
   "outputs": [],
   "source": [
    "# 인스타그램\n",
    "url = 'https://www.instagram.com/api/v1/web/accounts/login/ajax'\n",
    "\n",
    "params = {\n",
    "\n",
    "}\n",
    "\n",
    "resp = request('GET', url, data=params)\n",
    "resp.text"
   ]
  },
  {
   "cell_type": "code",
   "execution_count": 122,
   "metadata": {},
   "outputs": [],
   "source": [
    "from datetime import datetime"
   ]
  },
  {
   "cell_type": "code",
   "execution_count": 123,
   "metadata": {},
   "outputs": [
    {
     "data": {
      "text/plain": [
       "1689566534.513274"
      ]
     },
     "execution_count": 123,
     "metadata": {},
     "output_type": "execute_result"
    }
   ],
   "source": [
    "datetime.now().timestamp()"
   ]
  },
  {
   "cell_type": "code",
   "execution_count": 124,
   "metadata": {},
   "outputs": [],
   "source": [
    "url = \"https://www.instagram.com\"\n",
    "resp = request('GET', url)"
   ]
  },
  {
   "cell_type": "code",
   "execution_count": null,
   "metadata": {},
   "outputs": [],
   "source": [
    "re.search(r'')"
   ]
  }
 ],
 "metadata": {
  "kernelspec": {
   "display_name": "pytorch",
   "language": "python",
   "name": "python3"
  },
  "language_info": {
   "codemirror_mode": {
    "name": "ipython",
    "version": 3
   },
   "file_extension": ".py",
   "mimetype": "text/x-python",
   "name": "python",
   "nbconvert_exporter": "python",
   "pygments_lexer": "ipython3",
   "version": "3.8.16"
  },
  "orig_nbformat": 4
 },
 "nbformat": 4,
 "nbformat_minor": 2
}
