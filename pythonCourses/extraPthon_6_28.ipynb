{
 "cells": [
  {
   "cell_type": "code",
   "execution_count": 1,
   "metadata": {},
   "outputs": [],
   "source": [
    "#현대적인 프로그래밍은 함수형 프로그래밍 많이 한다."
   ]
  },
  {
   "cell_type": "code",
   "execution_count": null,
   "metadata": {},
   "outputs": [],
   "source": [
    "# 수학 함수로 프로그래밍 -> 함수형 프로그래밍 -> 입력과 출력 -> 수학적인 증명이 가능함.\n",
    "# 점화식 또한 함수형 프로그래밍 방식이다.\n",
    "\n",
    "# 최초의 함수형프로그래밍 -> LIST PROGRAMMING (여러개의 데이터를 다루는 프로그래밍 언어 -> 인공지능 언어)\n",
    "# 데코레이터 또한 함수형 프로그래밍에서 의도됨.\n",
    "\n",
    "# 모듈성 -> 동시 실행에 이점이 있음.\n",
    "\n"
   ]
  },
  {
   "cell_type": "code",
   "execution_count": 2,
   "metadata": {},
   "outputs": [],
   "source": [
    "def x():\n",
    "    pass"
   ]
  },
  {
   "cell_type": "code",
   "execution_count": 3,
   "metadata": {},
   "outputs": [],
   "source": [
    "# 함수는 값처럼 사용하는 first class이다.\n",
    "# 또한, 함수는 데이터이기 때문에\n",
    "a= print"
   ]
  },
  {
   "cell_type": "code",
   "execution_count": 5,
   "metadata": {},
   "outputs": [
    {
     "name": "stdout",
     "output_type": "stream",
     "text": [
      "sun\n"
     ]
    }
   ],
   "source": [
    "a('sun')"
   ]
  },
  {
   "cell_type": "code",
   "execution_count": 6,
   "metadata": {},
   "outputs": [
    {
     "name": "stdout",
     "output_type": "stream",
     "text": [
      "sun\n"
     ]
    }
   ],
   "source": [
    "# 파이썬에서는 함수를 first class function으로 설정해놓음.\n",
    "b = [print, len]\n",
    "b[0]('sun')"
   ]
  },
  {
   "cell_type": "code",
   "execution_count": 7,
   "metadata": {},
   "outputs": [],
   "source": [
    "# Recursion\n",
    "def f(x):\n",
    "    if x == 1:\n",
    "        return 1\n",
    "    return f(x-1) + 2\n",
    "# 증명이 가능해지며, 점화식 등으로 프로그래밍 편해짐."
   ]
  },
  {
   "cell_type": "code",
   "execution_count": null,
   "metadata": {},
   "outputs": [],
   "source": [
    "# LIST processing \n",
    "# 입력과 출력에 집중.\n",
    "\n",
    "#함수를 인자로 받고 함수를 리턴할 수 있는 함수 -> higher order 함수 (python에서는 functools)\n",
    "\n",
    "# 에러가 줄어드는 효과.\n",
    "\n",
    "# 데이터 처리와 딥러닝에 활용.\n",
    "\n"
   ]
  },
  {
   "cell_type": "code",
   "execution_count": null,
   "metadata": {},
   "outputs": [],
   "source": [
    "# 코드를 간단하게 만드는 목적.\n",
    "# 3줄이상 코드가 만들어지면 함수형 패러다임이 더 좋음.\n",
    "# 여러개를 동시에 만들거나 하는 용도에 적합.\n",
    "a = [1, 2, 3, 4, 5, ]"
   ]
  },
  {
   "cell_type": "code",
   "execution_count": 11,
   "metadata": {},
   "outputs": [
    {
     "name": "stdout",
     "output_type": "stream",
     "text": [
      "296 ns ± 3.05 ns per loop (mean ± std. dev. of 7 runs, 1,000,000 loops each)\n"
     ]
    }
   ],
   "source": [
    "%timeit [ i for i in range(10)]\n",
    "# Comprehension"
   ]
  },
  {
   "cell_type": "code",
   "execution_count": 10,
   "metadata": {},
   "outputs": [
    {
     "name": "stdout",
     "output_type": "stream",
     "text": [
      "3.81 ms ± 158 µs per loop (mean ± std. dev. of 7 runs, 100 loops each)\n"
     ]
    }
   ],
   "source": [
    "%%timeit\n",
    "temp = []\n",
    "for i in range(100000):\n",
    "    temp.append(i)\n",
    "temp"
   ]
  },
  {
   "cell_type": "code",
   "execution_count": null,
   "metadata": {},
   "outputs": [],
   "source": [
    "[i+1 for i in range(10)]"
   ]
  },
  {
   "cell_type": "code",
   "execution_count": null,
   "metadata": {},
   "outputs": [],
   "source": [
    "[i for i in range(10) for j in range(6,10)]"
   ]
  },
  {
   "cell_type": "code",
   "execution_count": 13,
   "metadata": {},
   "outputs": [],
   "source": [
    "# Comprehension\n",
    "# dict, list, set 가능\n",
    "# mutable\n",
    "\n",
    "# tuple\n",
    "# generator는 만드는 방식만 다르지 iterator와 동일한 친구다.\n",
    "def t():\n",
    "    yield 1\n",
    "    yield 2"
   ]
  },
  {
   "cell_type": "code",
   "execution_count": 14,
   "metadata": {},
   "outputs": [],
   "source": [
    "tt= t()"
   ]
  },
  {
   "cell_type": "code",
   "execution_count": 15,
   "metadata": {},
   "outputs": [
    {
     "data": {
      "text/plain": [
       "<generator object t at 0x10c188a50>"
      ]
     },
     "execution_count": 15,
     "metadata": {},
     "output_type": "execute_result"
    }
   ],
   "source": [
    "tt"
   ]
  },
  {
   "cell_type": "code",
   "execution_count": 16,
   "metadata": {},
   "outputs": [],
   "source": [
    "# 이터레이터 -> 제너레이터를 이해하기 어렵기 떄문에.\n",
    "\n",
    "# __iter__, __next__ 구문이 있다면 또는\n",
    "\n",
    "a = [1,2,3,4,5]\n",
    "\n",
    "b = iter(a)\n"
   ]
  },
  {
   "cell_type": "code",
   "execution_count": 17,
   "metadata": {},
   "outputs": [
    {
     "data": {
      "text/plain": [
       "<list_iterator at 0x10c16fe20>"
      ]
     },
     "execution_count": 17,
     "metadata": {},
     "output_type": "execute_result"
    }
   ],
   "source": [
    "b"
   ]
  },
  {
   "cell_type": "code",
   "execution_count": 18,
   "metadata": {},
   "outputs": [
    {
     "data": {
      "text/plain": [
       "['__class__',\n",
       " '__delattr__',\n",
       " '__dir__',\n",
       " '__doc__',\n",
       " '__eq__',\n",
       " '__format__',\n",
       " '__ge__',\n",
       " '__getattribute__',\n",
       " '__gt__',\n",
       " '__hash__',\n",
       " '__init__',\n",
       " '__init_subclass__',\n",
       " '__iter__',\n",
       " '__le__',\n",
       " '__length_hint__',\n",
       " '__lt__',\n",
       " '__ne__',\n",
       " '__new__',\n",
       " '__next__',\n",
       " '__reduce__',\n",
       " '__reduce_ex__',\n",
       " '__repr__',\n",
       " '__setattr__',\n",
       " '__setstate__',\n",
       " '__sizeof__',\n",
       " '__str__',\n",
       " '__subclasshook__']"
      ]
     },
     "execution_count": 18,
     "metadata": {},
     "output_type": "execute_result"
    }
   ],
   "source": [
    "dir(b)"
   ]
  },
  {
   "cell_type": "code",
   "execution_count": 24,
   "metadata": {},
   "outputs": [
    {
     "ename": "StopIteration",
     "evalue": "",
     "output_type": "error",
     "traceback": [
      "\u001b[0;31m---------------------------------------------------------------------------\u001b[0m",
      "\u001b[0;31mStopIteration\u001b[0m                             Traceback (most recent call last)",
      "Cell \u001b[0;32mIn[24], line 1\u001b[0m\n\u001b[0;32m----> 1\u001b[0m \u001b[39mnext\u001b[39;49m(b) \u001b[39m# 앞에서부터 한개씩 뽑혀나옴.\u001b[39;00m\n",
      "\u001b[0;31mStopIteration\u001b[0m: "
     ]
    }
   ],
   "source": [
    "next(b) # 앞에서부터 한개씩 뽑혀나옴.\n",
    "# else : 반복 완료되면 try except 예외처리.\n",
    "# 메모리에 한꺼번에 올리는 것이 아니라 lazy_technique(호출 시마다 메모리에 불러 실행.)\n",
    "# LazyTensor, EagerTensor"
   ]
  },
  {
   "cell_type": "code",
   "execution_count": 25,
   "metadata": {},
   "outputs": [
    {
     "data": {
      "text/plain": [
       "4"
      ]
     },
     "execution_count": 25,
     "metadata": {},
     "output_type": "execute_result"
    }
   ],
   "source": [
    "a[3]"
   ]
  },
  {
   "cell_type": "code",
   "execution_count": 26,
   "metadata": {},
   "outputs": [
    {
     "ename": "TypeError",
     "evalue": "'list_iterator' object is not subscriptable",
     "output_type": "error",
     "traceback": [
      "\u001b[0;31m---------------------------------------------------------------------------\u001b[0m",
      "\u001b[0;31mTypeError\u001b[0m                                 Traceback (most recent call last)",
      "Cell \u001b[0;32mIn[26], line 1\u001b[0m\n\u001b[0;32m----> 1\u001b[0m b[\u001b[39m3\u001b[39;49m]\n",
      "\u001b[0;31mTypeError\u001b[0m: 'list_iterator' object is not subscriptable"
     ]
    }
   ],
   "source": [
    "b[3]"
   ]
  },
  {
   "cell_type": "code",
   "execution_count": 28,
   "metadata": {},
   "outputs": [
    {
     "name": "stdout",
     "output_type": "stream",
     "text": [
      "Writing a.txt\n"
     ]
    }
   ],
   "source": [
    "%%writefile a.txt\n",
    "sdlka dksfs fsjdfkm fksnf\n",
    "dsnfkld skdlm \n",
    "sf dksfknd"
   ]
  },
  {
   "cell_type": "code",
   "execution_count": 29,
   "metadata": {},
   "outputs": [],
   "source": [
    "x = open('a.txt')"
   ]
  },
  {
   "cell_type": "code",
   "execution_count": 30,
   "metadata": {},
   "outputs": [
    {
     "data": {
      "text/plain": [
       "'sdlka dksfs fsjdfkm fksnf\\n'"
      ]
     },
     "execution_count": 30,
     "metadata": {},
     "output_type": "execute_result"
    }
   ],
   "source": [
    "next(x)"
   ]
  },
  {
   "cell_type": "code",
   "execution_count": 31,
   "metadata": {},
   "outputs": [],
   "source": [
    "# Comprehension 수집 전처리 시 활용할 것.\n"
   ]
  },
  {
   "cell_type": "code",
   "execution_count": null,
   "metadata": {},
   "outputs": [],
   "source": [
    "# Recursion\n",
    "# Tail Recursion Elimination을 지원하지 않기 때문에 Python에서는 Recursion이 비효율적임.\n",
    "# Tail Recursion Elimination(Linearization) : 중복 방지를 위해 마지막 라인의 값을 한번만.\n",
    "# Recursion을 다른 방식으로 구현해야한다.\n",
    "# stack overflow\n",
    "# -> 속도가 아주 느리다는 단점.\n",
    "# 피보나치 수열 구현"
   ]
  },
  {
   "cell_type": "code",
   "execution_count": null,
   "metadata": {},
   "outputs": [],
   "source": [
    "# 코테는 정답이 없지만 어떻게 해결할지를 보게 된다."
   ]
  },
  {
   "cell_type": "code",
   "execution_count": null,
   "metadata": {},
   "outputs": [],
   "source": [
    "# for문 실수 -> Eliminating Loops\n"
   ]
  },
  {
   "cell_type": "code",
   "execution_count": null,
   "metadata": {},
   "outputs": [],
   "source": [
    "# 함수를 호출할 수 있는 -> callable -> 크게 정의하면 괄호를 붙힐 수 있는 것\n",
    "\n",
    "# 괄호를 붙혀서 사용할 수 있는 것.\n",
    "# __call__이 정의된 인스턴스 괄호 붙일 수 있음. -> Tensorflow, Keras\n",
    "\n",
    "# 괄호는 연산자다."
   ]
  },
  {
   "cell_type": "code",
   "execution_count": 32,
   "metadata": {},
   "outputs": [],
   "source": [
    "def t():\n",
    "    return 1"
   ]
  },
  {
   "cell_type": "code",
   "execution_count": 33,
   "metadata": {},
   "outputs": [
    {
     "data": {
      "text/plain": [
       "<function __main__.t()>"
      ]
     },
     "execution_count": 33,
     "metadata": {},
     "output_type": "execute_result"
    }
   ],
   "source": [
    "t"
   ]
  },
  {
   "cell_type": "code",
   "execution_count": 34,
   "metadata": {},
   "outputs": [
    {
     "data": {
      "text/plain": [
       "True"
      ]
     },
     "execution_count": 34,
     "metadata": {},
     "output_type": "execute_result"
    }
   ],
   "source": [
    "callable(t)"
   ]
  },
  {
   "cell_type": "code",
   "execution_count": 35,
   "metadata": {},
   "outputs": [
    {
     "name": "stderr",
     "output_type": "stream",
     "text": [
      "<>:1: SyntaxWarning: 'int' object is not callable; perhaps you missed a comma?\n",
      "<>:1: SyntaxWarning: 'int' object is not callable; perhaps you missed a comma?\n",
      "/var/folders/s1/6z_vw3ln3nd621_2gd81gzr40000gn/T/ipykernel_32235/4217450921.py:1: SyntaxWarning: 'int' object is not callable; perhaps you missed a comma?\n",
      "  1()\n",
      "/var/folders/s1/6z_vw3ln3nd621_2gd81gzr40000gn/T/ipykernel_32235/4217450921.py:1: SyntaxWarning: 'int' object is not callable; perhaps you missed a comma?\n",
      "  1()\n",
      "/var/folders/s1/6z_vw3ln3nd621_2gd81gzr40000gn/T/ipykernel_32235/4217450921.py:1: SyntaxWarning: 'int' object is not callable; perhaps you missed a comma?\n",
      "  1()\n"
     ]
    },
    {
     "ename": "TypeError",
     "evalue": "'int' object is not callable",
     "output_type": "error",
     "traceback": [
      "\u001b[0;31m---------------------------------------------------------------------------\u001b[0m",
      "\u001b[0;31mTypeError\u001b[0m                                 Traceback (most recent call last)",
      "Cell \u001b[0;32mIn[35], line 1\u001b[0m\n\u001b[0;32m----> 1\u001b[0m \u001b[39m1\u001b[39;49m()\n",
      "\u001b[0;31mTypeError\u001b[0m: 'int' object is not callable"
     ]
    }
   ],
   "source": [
    "1()"
   ]
  },
  {
   "cell_type": "code",
   "execution_count": null,
   "metadata": {},
   "outputs": [],
   "source": [
    "#함수처럼 활용 가능한.\n",
    "\n",
    "# lambda "
   ]
  },
  {
   "cell_type": "code",
   "execution_count": 36,
   "metadata": {},
   "outputs": [],
   "source": [
    "def tt(a):\n",
    "    return a+1"
   ]
  },
  {
   "cell_type": "code",
   "execution_count": 37,
   "metadata": {},
   "outputs": [
    {
     "data": {
      "text/plain": [
       "'tt'"
      ]
     },
     "execution_count": 37,
     "metadata": {},
     "output_type": "execute_result"
    }
   ],
   "source": [
    "tt.__name__"
   ]
  },
  {
   "cell_type": "code",
   "execution_count": 38,
   "metadata": {},
   "outputs": [],
   "source": [
    "t = lambda x: a + 1 # 이름 없는 함수"
   ]
  },
  {
   "cell_type": "code",
   "execution_count": 39,
   "metadata": {},
   "outputs": [
    {
     "data": {
      "text/plain": [
       "'<lambda>'"
      ]
     },
     "execution_count": 39,
     "metadata": {},
     "output_type": "execute_result"
    }
   ],
   "source": [
    "t.__name__"
   ]
  },
  {
   "cell_type": "code",
   "execution_count": 40,
   "metadata": {},
   "outputs": [],
   "source": [
    "s = tt #재할당 가능"
   ]
  },
  {
   "cell_type": "code",
   "execution_count": 41,
   "metadata": {},
   "outputs": [
    {
     "data": {
      "text/plain": [
       "4"
      ]
     },
     "execution_count": 41,
     "metadata": {},
     "output_type": "execute_result"
    }
   ],
   "source": [
    "s(3) #first class로 만들어졌기 때문."
   ]
  },
  {
   "cell_type": "code",
   "execution_count": 42,
   "metadata": {},
   "outputs": [
    {
     "data": {
      "text/plain": [
       "'tt'"
      ]
     },
     "execution_count": 42,
     "metadata": {},
     "output_type": "execute_result"
    }
   ],
   "source": [
    "s.__name__ # 별칭이 있다고 해서 본질이 변하지 않음."
   ]
  },
  {
   "cell_type": "code",
   "execution_count": 43,
   "metadata": {},
   "outputs": [],
   "source": [
    "def tt(a):\n",
    "    return a + 1"
   ]
  },
  {
   "cell_type": "code",
   "execution_count": 44,
   "metadata": {},
   "outputs": [],
   "source": [
    "def tt():\n",
    "    return 1"
   ]
  },
  {
   "cell_type": "code",
   "execution_count": 46,
   "metadata": {},
   "outputs": [
    {
     "ename": "TypeError",
     "evalue": "tt() takes 0 positional arguments but 1 was given",
     "output_type": "error",
     "traceback": [
      "\u001b[0;31m---------------------------------------------------------------------------\u001b[0m",
      "\u001b[0;31mTypeError\u001b[0m                                 Traceback (most recent call last)",
      "Cell \u001b[0;32mIn[46], line 1\u001b[0m\n\u001b[0;32m----> 1\u001b[0m tt(\u001b[39m1\u001b[39;49m) \u001b[39m# 파이썬은 functional overloading을 지원하지 않기 때문에 후순위, 그리고 파라미터가 없어도 대체된다.\u001b[39;00m\n",
      "\u001b[0;31mTypeError\u001b[0m: tt() takes 0 positional arguments but 1 was given"
     ]
    }
   ],
   "source": [
    "tt(1) # 파이썬은 functional overloading을 지원하지 않기 때문에 후순위, 그리고 파라미터가 없어도 대체된다."
   ]
  },
  {
   "cell_type": "code",
   "execution_count": null,
   "metadata": {},
   "outputs": [],
   "source": [
    "# lambda는 휘발성 메모리이므로 지워짐.\n",
    "# __qualname__, __name__으로 확인"
   ]
  }
 ],
 "metadata": {
  "kernelspec": {
   "display_name": "pytorch",
   "language": "python",
   "name": "python3"
  },
  "language_info": {
   "codemirror_mode": {
    "name": "ipython",
    "version": 3
   },
   "file_extension": ".py",
   "mimetype": "text/x-python",
   "name": "python",
   "nbconvert_exporter": "python",
   "pygments_lexer": "ipython3",
   "version": "3.8.16"
  },
  "orig_nbformat": 4
 },
 "nbformat": 4,
 "nbformat_minor": 2
}
