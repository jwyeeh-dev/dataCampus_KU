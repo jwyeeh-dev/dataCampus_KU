{
 "cells": [
  {
   "attachments": {},
   "cell_type": "markdown",
   "metadata": {},
   "source": [
    "Crawling + Scraping + DB\n",
    "\n",
    "url => url pool (BFS, DFS, Focused)\n",
    "        -> DB (netloc, path-page, visited = Y/N)\n",
    "\n",
    "while pool empty : \n",
    "    robots.txt 검사\n",
    "        -> ua ; (?:dis)?allow\n",
    "        -> /search, /search/about, /search/adsdf, /search?param, ...\n",
    "    req - resp \n",
    "    resp.headers 확인 (status_code, content-type)\n",
    "                    => Scraping\n",
    "    RE, DOM, CSSOM, Xpath\n",
    "    HyperLink(a[href], iframe[src], form[method, action])\n",
    "    Link X (#, javascript, data, about, ...)\n",
    "    Normalization URL => Absolute Path\n",
    "    url pool <= path (방문할 곳, 방문한 곳)\n"
   ]
  },
  {
   "cell_type": "code",
   "execution_count": null,
   "metadata": {},
   "outputs": [],
   "source": []
  }
 ],
 "metadata": {
  "language_info": {
   "name": "python"
  },
  "orig_nbformat": 4
 },
 "nbformat": 4,
 "nbformat_minor": 2
}
