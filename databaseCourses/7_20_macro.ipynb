{
 "cells": [
  {
   "cell_type": "markdown",
   "metadata": {},
   "source": [
    "Instagram => request.session, cookies, headers\n",
    "Meta, Graph API => Hack, Dev.;\n",
    "Content(Node) - PK\n",
    "HTTP(HTML); API (OAuth - 사용자 인증); CSRF(서버 인증) Token\n",
    "CSRF(index.html); HTML(js(*), css, ...)\n",
    "Selenium => BotX, AgentX, CrawlerX => 테스트 자동화\n",
    "; JS Engine(Browser) Execute\n",
    "UI/UX; 입력(키보드, 마우스); find_element(s) <= By.CSS_SELECTOR(*), XPATH\n",
    "; locator => element(DOM;id); DOM; Clickable X, Enable X, Selected X \n",
    "Wait(Implicit, Explicit) => Test/Macro\n",
    "; DOM(DOM(DOM)), Window_handle (창/탭)"
   ]
  },
  {
   "cell_type": "markdown",
   "metadata": {},
   "source": [
    "TXT => raw text; Preprocessing\n",
    "한국말 : 음절, 어절, 단어, 형태소, 품사, 어근/접사, 어간/어미, 구, 절, 문단, 문서, ...\n",
    "                    분절\n",
    "Computationaal NLP : 4대 중의성 (Ambiquity)\n",
    "        => SPTokenizer(BPE)\n",
    "        => X = 숫자 인코딩, X1 => 숫자 인코딩 (feature)\n",
    "        => 의미적 중의성(단어, 단어들, ...) = Embedding(Lexicon, LM, ..) -> BERT(Transformer), GPT (챗봇-; GnA)\n",
    "        => Embedding (NN, NLP, DNN, AR, GAN, ...)"
   ]
  },
  {
   "cell_type": "code",
   "execution_count": null,
   "metadata": {},
   "outputs": [],
   "source": [
    "# 인터파크 예매 (Selenium; Request) - OCR 뚫기 가능.\n",
    "# CAPTCHA -> JS, 마우스움직임();\n",
    "# URL-URL(RefererX)-URL3; Random Surfer; Damping Factor"
   ]
  },
  {
   "cell_type": "code",
   "execution_count": null,
   "metadata": {},
   "outputs": [],
   "source": [
    "from sele"
   ]
  }
 ],
 "metadata": {
  "language_info": {
   "name": "python"
  },
  "orig_nbformat": 4
 },
 "nbformat": 4,
 "nbformat_minor": 2
}
