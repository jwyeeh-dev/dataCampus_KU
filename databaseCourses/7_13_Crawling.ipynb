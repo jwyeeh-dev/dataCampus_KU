{
 "cells": [
  {
   "attachments": {},
   "cell_type": "markdown",
   "metadata": {},
   "source": [
    "Crawling + Scraping + DB\n",
    "\n",
    "url => url pool (BFS, DFS, Focused)\n",
    "        -> DB (netloc, path-page, visited = Y/N)\n",
    "\n",
    "while pool empty : \n",
    "    robots.txt 검사\n",
    "        -> ua ; (?:dis)?allow\n",
    "        -> /search, /search/about, /search/adsdf, /search?param, ...\n",
    "    req - resp \n",
    "    resp.headers 확인 (status_code, content-type)\n",
    "                    => Scraping (text/html, image/*)\n",
    "                    => URL.split('/')[-1], ?, replace(re.sub)\n",
    "    RE, DOM, CSSOM, Xpath\n",
    "                    => bs4.element.tag CSS + find *\n",
    "    HyperLink(a[href], iframe[src], form[method, action])\n",
    "                    => \n",
    "    Link X (#, javascript, data, about, ...)\n",
    "    Normalization URL => Absolute Path\n",
    "    url pool <= path (방문할 곳, 방문한 곳)\n"
   ]
  },
  {
   "cell_type": "code",
   "execution_count": 1,
   "metadata": {},
   "outputs": [],
   "source": [
    "from requests import request\n",
    "from requests.compat import *\n",
    "from bs4 import BeautifulSoup\n",
    "\n",
    "headers = {\n",
    "    'user-agent' : 'Mozilla/5.0 (Macintosh; Intel Mac OS X 10_15_7) AppleWebKit/537.36 (KHTML, like Gecko) Chrome/114.0.0.0 Safari/537.36'\n",
    "}"
   ]
  },
  {
   "cell_type": "code",
   "execution_count": 2,
   "metadata": {},
   "outputs": [],
   "source": [
    "url = \"https://pythonscraping.com/pages/javascript/ajaxDemo.html\"\n",
    "\n",
    "resp = request('GET', url)"
   ]
  },
  {
   "cell_type": "code",
   "execution_count": 4,
   "metadata": {},
   "outputs": [
    {
     "name": "stdout",
     "output_type": "stream",
     "text": [
      "접근이 허가되었습니다.\n"
     ]
    }
   ],
   "source": [
    "print('접근이 허가되었습니다.') if resp.status_code == 200 else resp.status_code"
   ]
  },
  {
   "cell_type": "code",
   "execution_count": 6,
   "metadata": {},
   "outputs": [
    {
     "name": "stdout",
     "output_type": "stream",
     "text": [
      "<html>\n",
      "<head>\n",
      "<title>Some JavaScript-loaded content</title>\n",
      "<script src=\"../js/jquery-2.1.1.min.js\"></script>\n",
      "\n",
      "</head>\n",
      "<body>\n",
      "<div id=\"content\">\n",
      "This is some content that will appear on the page while it's loading. You don't care about scraping this.\n",
      "</div>\n",
      "\n",
      "<script>\n",
      "$.ajax({\n",
      "    type: \"GET\",\n",
      "    url: \"loadedContent.php\",\n",
      "    success: function(response){\n",
      "\n",
      "\tsetTimeout(function() {\n",
      "\t    $('#content').html(response);\n",
      "\t}, 2000);\n",
      "    }\n",
      "  });\n",
      "\n",
      "function ajax_delay(str){\n",
      " setTimeout(\"str\",2000);\n",
      "}\n",
      "</script>\n",
      "</body>\n",
      "</html>\n"
     ]
    }
   ],
   "source": [
    "print(resp.text)"
   ]
  },
  {
   "cell_type": "code",
   "execution_count": 7,
   "metadata": {},
   "outputs": [
    {
     "data": {
      "text/plain": [
       "'https://pythonscraping.com/pages/js/jquery-2.1.1.min.js'"
      ]
     },
     "execution_count": 7,
     "metadata": {},
     "output_type": "execute_result"
    }
   ],
   "source": [
    "urljoin(url, \"../js/jquery-2.1.1.min.js\")"
   ]
  },
  {
   "cell_type": "code",
   "execution_count": 8,
   "metadata": {},
   "outputs": [],
   "source": [
    "dom = BeautifulSoup(resp.text, 'lxml')"
   ]
  },
  {
   "cell_type": "code",
   "execution_count": 10,
   "metadata": {},
   "outputs": [
    {
     "name": "stdout",
     "output_type": "stream",
     "text": [
      "\n",
      "\n",
      "Some JavaScript-loaded content\n",
      "\n",
      "\n",
      "\n",
      "\n",
      "This is some content that will appear on the page while it's loading. You don't care about scraping this.\n",
      "\n",
      "\n",
      "\n",
      "\n"
     ]
    }
   ],
   "source": [
    "print(dom.text)"
   ]
  },
  {
   "cell_type": "code",
   "execution_count": 12,
   "metadata": {},
   "outputs": [
    {
     "data": {
      "text/plain": [
       "'Here is some important text you want to retrieve! <p/><button id=\"loadedButton\">A button to click!</button>'"
      ]
     },
     "execution_count": 12,
     "metadata": {},
     "output_type": "execute_result"
    }
   ],
   "source": [
    "url = urljoin(url, \"loadedContent.php\")\n",
    "resp = request('GET', url)\n",
    "resp.text"
   ]
  },
  {
   "cell_type": "code",
   "execution_count": null,
   "metadata": {},
   "outputs": [],
   "source": [
    "X-Requested-With: XMLHttpRequest"
   ]
  },
  {
   "cell_type": "code",
   "execution_count": 13,
   "metadata": {},
   "outputs": [],
   "source": [
    "resp = request('GET', url, headers = {'X-Request-With' : 'XMLHttprequest'})\n"
   ]
  },
  {
   "cell_type": "code",
   "execution_count": 14,
   "metadata": {},
   "outputs": [
    {
     "data": {
      "text/plain": [
       "{'User-Agent': 'python-requests/2.28.2', 'Accept-Encoding': 'gzip, deflate', 'Accept': '*/*', 'Connection': 'keep-alive', 'X-Request-With': 'XMLHttprequest'}"
      ]
     },
     "execution_count": 14,
     "metadata": {},
     "output_type": "execute_result"
    }
   ],
   "source": [
    "resp.request.headers"
   ]
  },
  {
   "cell_type": "code",
   "execution_count": 15,
   "metadata": {},
   "outputs": [
    {
     "data": {
      "text/plain": [
       "(200,\n",
       " 'OK',\n",
       " {'Date': 'Thu, 13 Jul 2023 01:45:52 GMT', 'Content-Type': 'text/html; charset=utf-8', 'Transfer-Encoding': 'chunked', 'Connection': 'keep-alive', 'vary': 'Accept-Encoding', 'set-cookie': '__cfuid=J7eXKnPGtqGC9p8f1zCpPA%3D%3D; path=/; expires=Tue, 11 Jul 2028 01:45:52 GMT; domain=.namu.wiki; secure; httponly, __cf_bm=zHamF_2N9W0LCz9uKZjxWx.uUhSjwIYGcbfVEcAvUew-1689212752-0-AdobAM2SbbiaMwP22UFVEVM2pCeN6kcJaClVTx4x5Luhmpql85m81QpO3uXPZqed+jZDlHYCroa0lGW9wNtXe/k=; path=/; expires=Thu, 13-Jul-23 02:15:52 GMT; domain=.namu.wiki; HttpOnly; Secure; SameSite=None', 'strict-transport-security': 'max-age=31536000; includeSubDomains; preload', 'x-frame-options': 'SAMEORIGIN', 'x-xss-protection': '1; mode=block', 'x-namu-source': '1', 'CF-Cache-Status': 'DYNAMIC', 'X-Content-Type-Options': 'nosniff', 'Server': 'cloudflare', 'CF-RAY': '7e5dd9549af2c114-ICN', 'Content-Encoding': 'gzip', 'alt-svc': 'h3=\":443\"; ma=86400'})"
      ]
     },
     "execution_count": 15,
     "metadata": {},
     "output_type": "execute_result"
    }
   ],
   "source": [
    "url = 'https://namu.wiki/w/NewJeans?from=%EB%89%B4%EC%A7%84%EC%8A%A4'\n",
    "resp = request('GET', url, headers=headers)\n",
    "resp.status_code, resp.reason, resp.headers"
   ]
  },
  {
   "cell_type": "code",
   "execution_count": 16,
   "metadata": {},
   "outputs": [],
   "source": [
    "url = 'https://brunch.co.kr/search?q=%EB%89%B4%EC%A7%84%EC%8A%A4'\n",
    "resp = request('GET', url)"
   ]
  },
  {
   "cell_type": "code",
   "execution_count": 17,
   "metadata": {},
   "outputs": [
    {
     "data": {
      "text/plain": [
       "(200,\n",
       " {'Date': 'Thu, 13 Jul 2023 01:47:09 GMT', 'Content-Type': 'text/html;charset=utf-8', 'Transfer-Encoding': 'chunked', 'Connection': 'keep-alive', 'Content-Language': 'en-US', 'Strict-Transport-Security': 'max-age=15724800; includeSubDomains'})"
      ]
     },
     "execution_count": 17,
     "metadata": {},
     "output_type": "execute_result"
    }
   ],
   "source": [
    "resp.status_code, resp.headers"
   ]
  },
  {
   "cell_type": "code",
   "execution_count": 18,
   "metadata": {},
   "outputs": [
    {
     "name": "stdout",
     "output_type": "stream",
     "text": [
      "<!DOCTYPE html>\n",
      "<html lang=\"ko\">\n",
      "<head>\n",
      "    \n",
      "        \n",
      "    \n",
      "\n",
      "\n",
      "\n",
      "<title>브런치스토리 글 검색: 뉴진스</title>\n",
      "<meta charset=\"utf-8\">\n",
      "<meta http-equiv=\"Content-Type\" content=\"text/html; charset=utf-8\">\n",
      "<meta http-equiv=\"X-UA-Compatible\" content=\"IE=edge\">\n",
      "<meta name=\"title\" content=\"브런치스토리 글 검색: 뉴진스\">\n",
      "<meta name=\"referrer\" content=\"always\">\n",
      "<meta name=\"secureToken\" value=\"\">\n",
      "<meta name=\"robots\" content=\"max-image-preview:large\">\n",
      "\n",
      "<meta name=\"theme-color\" content=\"#ffffff\" media=\"(prefers-color-scheme: light)\" />\n",
      "<meta name=\"theme-color\" content=\"#000000\" media=\"(prefers-color-scheme: dark)\" />\n",
      "\n",
      "            <meta name=\"description\" content=\"다양한 시선의 글을 검색해보세요!\">\n",
      "                    \n",
      "            <meta property=\"og:site_name\" content=\"Brunch Story\">\n",
      "    \n",
      "            <meta property=\"og:title\" content=\"브런치스토리 글 검색: 뉴진스\">\n",
      "                <meta property=\"og:description\" content=\"다양한 시선의 글을 검색해보세요!\">\n",
      "                <meta property=\"og:image\" content=\"https://t1.daumcdn.net/brunch/static/img/help/pc/brunchstory/img_share_default.png\">\n",
      "                <meta property=\"og:url\" content=\"https://brunch.co.kr/search?q=뉴진스&type=article\">\n",
      "        <meta name=\"twitter:card\" content=\"summary\">\n",
      "    <meta name=\"twitter:app:name:iphone\" content=\"브런치스토리\">\n",
      "    <meta name=\"twitter:app:id:iphone\" content=\"1001388574\">\n",
      "    <meta name=\"twitter:app:url:iphone\" content=\"brunchapp://open\">\n",
      "                    <meta name=\"twitter:image\" content=\"https://img1.daumcdn.net/thumb/C500x500/?fname=https://t1.daumcdn.net/brunch/static/img/help/pc/brunchstory/img_share_default.png\">\n",
      "                <meta name=\"twitter:title\" content=\"브런치스토리 글 검색: 뉴진스\">\n",
      "                <meta name=\"twitter:description\" content=\"다양한 시선의 글을 검색해보세요!\">\n",
      "                    <meta property=\"fb:app_id\" content=\"313683402170826\">\n",
      "\n",
      "<link rel=\"SHORTCUT ICON\" href=\"//t1.daumcdn.net/brunch/static/icon/favicon/brunchstory/favicon_20230406.ico\"/>\n",
      "<link rel=\"apple-touch-icon-precomposed\" sizes=\"180x180\" href=\"//t1.daumcdn.net/brunch/static/icon/ios/brunchstory/ico_bi_180.png\">\n",
      "<link rel=\"apple-touch-icon-precomposed\" sizes=\"152x152\" href=\"//t1.daumcdn.net/brunch/static/icon/ios/brunchstory/ico_bi_152.png\">\n",
      "<link rel=\"apple-touch-icon-precomposed\" sizes=\"120x120\" href=\"//t1.daumcdn.net/brunch/static/icon/ios/brunchstory/ico_bi_120.png\">\n",
      "\n",
      "    <meta name=\"viewport\" content=\"user-scalable=no, initial-scale=1.0, maximum-scale=1.0, minimum-scale=1.0, width=device-width,initial-scale=1, viewport-fit=cover\">\n",
      "\n",
      "                <link rel=\"stylesheet\" type=\"text/css\" href=\"//t1.daumcdn.net/brunch/static/prod/202307051332/production/B.min.css\">\n",
      "                    <link rel=\"stylesheet\" type=\"text/css\" href=\"//t1.daumcdn.net/brunch/static/prod/202307051332/production/B.Message.min.css\">\n",
      "    \n",
      "                        <link rel=\"stylesheet\" type=\"text/css\" href=\"//t1.daumcdn.net/brunch/static/prod/202307051332/production/B.Font.min.css\">\n",
      "        \n",
      "\n",
      "                        <script type=\"text/javascript\" src=\"//t1.daumcdn.net/brunch/static/libraries/js/jquery.min-3.6.4.js\"></script>\n",
      "                                <script type=\"text/javascript\" src=\"//t1.daumcdn.net/brunch/static/libraries/js/jquery.cookie.min-1.4.1.js\"></script>\n",
      "                                <script type=\"text/javascript\" src=\"//t1.daumcdn.net/brunch/static/libraries/js/jquery.xdomainrequest.min-1.0.4.js\"></script>\n",
      "                                <script type=\"text/javascript\" src=\"//t1.daumcdn.net/brunch/static/libraries/js/jquery.word-break-keep-all.min-1.3.0.js\"></script>\n",
      "                                <script type=\"text/javascript\" src=\"//t1.daumcdn.net/brunch/static/libraries/js/handlebars.runtime.min-v3.0.0.js\"></script>\n",
      "                                <script type=\"text/javascript\" src=\"//t1.daumcdn.net/brunch/static/libraries/js/sentry.min.5.27.4.js?v=20221124\"></script>\n",
      "                                <script type=\"text/javascript\" src=\"//t1.daumcdn.net/brunch/static/libraries/js/clipboard.min.js\"></script>\n",
      "            \n",
      "\n",
      "<script type=\"text/javascript\" src=\"//t1.daumcdn.net/tiara/js/v1/tiara.min.js\"></script>\n",
      "\n",
      "<script>\n",
      "    window.Guard = {\n",
      "        hasError:  false,\n",
      "        excuteFunctionArray: [],\n",
      "        loadedJsHistory: [],\n",
      "\n",
      "        /*\n",
      "            kebana에 프론트 로그 발생 오류를 기록 한다.\n",
      "         */\n",
      "        fetchLog: function(message, extraJson) {\n",
      "            if (!window.fetch && !fetch) {\n",
      "                return '';\n",
      "            }\n",
      "            var csrfToken = document.querySelector('meta[name=secureToken]').attributes['value'].value;\n",
      "\n",
      "            fetch('https://api.brunch.co.kr/v1/front-log', {\n",
      "                method: 'POST',\n",
      "                headers: {\n",
      "                    'Content-Type': 'application/json',\n",
      "                    'X-CSRF-TOKEN': csrfToken\n",
      "                },\n",
      "                credentials: 'include',\n",
      "                body : JSON.stringify({\n",
      "                    message: message,\n",
      "                    extras: extraJson\n",
      "                })\n",
      "            })\n",
      "        },\n",
      "\n",
      "        /*\n",
      "            js파일의 tenth2 fetch 결과를 Matrix에 기록.\n",
      "         */\n",
      "        checkTenth2JsStatus: function (jsFileName) {\n",
      "            var phase = '/';\n",
      "                            phase = '/production/'\n",
      "                        var jsUrl = '//t1.daumcdn.net/brunch/static/prod/202307051332' + phase + jsFileName;\n",
      "\n",
      "            if (!window.fetch && !fetch) {\n",
      "                return '';\n",
      "            }\n",
      "\n",
      "            fetch(jsUrl).then(function(response) {\n",
      "                Sentry.setTag('InitFail', 'FailLoadTenth2js');\n",
      "                Sentry.captureMessage('[BRUNCH] InitFail - Tenth2', {\n",
      "                    extra: {\n",
      "                        extra: {\n",
      "                            status: response.status,\n",
      "                            url: response.url,\n",
      "                            statusText: response.statusText,\n",
      "                        },\n",
      "                    },\n",
      "                });\n",
      "            }).catch(function(error) {\n",
      "                Sentry.captureMessage('[BRUNCH] InitFail - Tenth2', {\n",
      "                    extra: {\n",
      "                        extra: {\n",
      "                            url: jsUrl,\n",
      "                        },\n",
      "                    },\n",
      "                });\n",
      "            });\n",
      "        },\n",
      "\n",
      "        dynamicAppendJsLibraryTags: function(jsFileNameArray) {\n",
      "          for(var i=0; i<jsFileNameArray.length; i++) {\n",
      "              this.dynamicAppendJsLibraryTag(jsFileNameArray[i]);\n",
      "          }\n",
      "        },\n",
      "\n",
      "        dynamicAppendJsLibraryTag: function(jsFileName) {\n",
      "            this.createScriptTag('/static/libraries/js/', jsFileName);\n",
      "        },\n",
      "\n",
      "        /**\n",
      "         * 자바스크립트 동적 생성 함수\n",
      "         * @param {String} jsPath - 자바스크립트 파일 경로\n",
      "         * @param {String} jsFileName - 자바스크립트 파일 이름\n",
      "         * @param {Function} onLoadCallback - 스크립트 onLoad 이후 실행될 함수\n",
      "         */\n",
      "        createScriptTag: function(jsPath, jsFileName, onLoadCallback) {\n",
      "            this.loadedJsHistory.push(jsFileName);\n",
      "            var script = document.createElement('script');\n",
      "            script.type = 'text/javascript';\n",
      "            script.src = jsPath + jsFileName;\n",
      "            if (onLoadCallback) {\n",
      "                script.onload = function() {\n",
      "                    onLoadCallback();\n",
      "                }\n",
      "            }\n",
      "            script.onerror = function(e) {\n",
      "                this.matrixLogging(e, 'Invalid Script src', jsPath + jsFileName);\n",
      "            }.bind(this)\n",
      "            script.async = false;\n",
      "            this.removeScriptTag(jsFileName);\n",
      "            document.getElementsByTagName('head')[0].appendChild(script);\n",
      "        },\n",
      "\n",
      "        /**\n",
      "         * dom 내에 존재하는 대상 스크립트를 찾아서 제거 하는 함수\n",
      "         * @param {String} targetSrc\n",
      "         */\n",
      "        removeScriptTag: function(targetSrc) {\n",
      "            for (var i=0; i<document.scripts.length; i++) {\n",
      "\n",
      "                if (document.scripts[i].src.indexOf(targetSrc) > -1) {\n",
      "                    document.scripts[i].remove();\n",
      "                }\n",
      "            }\n",
      "        },\n",
      "\n",
      "        /**\n",
      "         * 함수를 실행하고, 그 실행 내역을 Array에 저장\n",
      "         * @param {Function} func - 실행될 함수\n",
      "         */\n",
      "        executeAndSaveFunction: function(func) {\n",
      "            try {\n",
      "                this.excuteFunctionArray.push(func);\n",
      "                func();\n",
      "            } catch(e) {\n",
      "                if(!this.hasError) {\n",
      "                    this.fetchLog('script error occur', {});\n",
      "                }\n",
      "                this.hasError = true;\n",
      "            }\n",
      "        },\n",
      "\n",
      "        /**\n",
      "         * 글뷰 페이지를 복구 하기 위한 함수\n",
      "         * 1. libraries 태그 복원\n",
      "         * 2. 글뷰 통합 번들 파일 추가\n",
      "         * @param {boolean} isPc\n",
      "         */\n",
      "        restoreArticlePage: function(isPc) {\n",
      "            var scripts = [\n",
      "                \"sentry.min.5.27.4.js\",\n",
      "                \"jquery.min-3.6.4.js\",\n",
      "                \"jquery.cookie.min-1.4.1.js\",\n",
      "                \"jquery.xdomainrequest.min-1.0.4.js\",\n",
      "                \"jquery.word-break-keep-all.min-1.3.0.js\",\n",
      "                \"handlebars.runtime.min-v3.0.0.js\"\n",
      "            ];\n",
      "            this.dynamicAppendJsLibraryTags(scripts);\n",
      "            this.excuteFunctionArray.push(function() {\n",
      "                this.loggedIsArticleRestored(isPc);\n",
      "            }.bind(this));\n",
      "\n",
      "            if (isPc) {\n",
      "                this.createScriptTag('/static/production/', 'brunch.article.pc.min.js', this.doExcuteFunctionArray.bind(this));\n",
      "            } else {\n",
      "                this.createScriptTag('/static/production/', 'brunch.article.mobile.min.js', this.doExcuteFunctionArray.bind(this));\n",
      "            }\n",
      "        },\n",
      "\n",
      "        /**\n",
      "         * article 페이지 복구 여부에 대한 기록 함수\n",
      "         * PC .wrap_body_frame 존재 유무\n",
      "         * Mobile #articleMain display 속성 확인 (not none)\n",
      "         * @param isPc\n",
      "         */\n",
      "        loggedIsArticleRestored: function(isPc) {\n",
      "            var isRestored = false;\n",
      "\n",
      "            if (isPc) {\n",
      "                isRestored = document.querySelector('.wrap_body_frame') !== null\n",
      "            } else {\n",
      "                isRestored = window.getComputedStyle(document.querySelector('#articleMain')).display !== 'none';\n",
      "            }\n",
      "\n",
      "            var fetchMsg = 'restorePageFail';\n",
      "\n",
      "            if (isRestored) {\n",
      "                fetchMsg = 'restorePage';\n",
      "            }\n",
      "\n",
      "            this.fetchLog(fetchMsg, {\n",
      "                isPc: isPc\n",
      "            })\n",
      "        },\n",
      "\n",
      "        doExcuteFunctionArray: function() {\n",
      "            if (this.excuteFunctionArray.length > 0) {\n",
      "                for (var i = 0; i < this.excuteFunctionArray.length; i++) {\n",
      "                    var func = this.excuteFunctionArray[i];\n",
      "\n",
      "                    if (func && typeof func === 'function') {\n",
      "                        try {\n",
      "                            func();\n",
      "                        } catch(e) {\n",
      "                            this.fetchLog('failRestorePage', {\n",
      "                                error: e,\n",
      "                            })\n",
      "                        }\n",
      "                    }\n",
      "                }\n",
      "            }\n",
      "        },\n",
      "\n",
      "        matrixLogging: function(error, tagValue, data) {\n",
      "            // B.Util 스크립트도 로딩이 안된 경우가 있어 별도의 로깅을 진행 한다.\n",
      "            Sentry.addBreadcrumb({\n",
      "                type: 'error',\n",
      "                category: 'error',\n",
      "                level: 'error',\n",
      "                data: { data }\n",
      "            });\n",
      "            Sentry.setTag('Monitoring', tagValue);\n",
      "            Sentry.captureMessage('[BRUNCH] Article View Restore Fail');\n",
      "        }\n",
      "    };\n",
      "</script>\n",
      "\n",
      "<script type=\"text/javascript\">\n",
      "    window._platform = \"unknown\";\n",
      "\n",
      "    function sentryInit() {\n",
      "        Sentry.init({\n",
      "            dsn: 'https://7092d1f177184e73a6cda1ee2d14ecc4@aem-collector.daumkakao.io/3057',\n",
      "            release: '202307051332',\n",
      "            environment: 'prod',\n",
      "                        allowUrls: [\n",
      "                \"brunch.co.kr\",\n",
      "                \"dev.onkakao.net\",\n",
      "                \"daumcdn.net\"\n",
      "            ],\n",
      "        });\n",
      "        Sentry.setTag(\"ua.platform\", window._platform);\n",
      "            }\n",
      "\n",
      "    Guard.executeAndSaveFunction(sentryInit);\n",
      "</script>\n",
      "\n",
      "<script>\n",
      "    if (typeof jQuery === 'undefined') {\n",
      "        var scripts = [\n",
      "            \"sentry.min.5.27.4.js\",\n",
      "            \"jquery.min-3.6.4.js\",\n",
      "            \"jquery.cookie.min-1.4.1.js\",\n",
      "            \"jquery.xdomainrequest.min-1.0.4.js\",\n",
      "            \"jquery.word-break-keep-all.min-1.3.0.js\",\n",
      "            \"handlebars.runtime.min-v3.0.0.js\"\n",
      "        ]\n",
      "        Guard.dynamicAppendJsLibraryTags(scripts);\n",
      "        Guard.fetchLog('libraries init', {});\n",
      "    }\n",
      "</script>\n",
      "                <link rel=\"stylesheet\" type=\"text/css\" href=\"//t1.daumcdn.net/brunch/static/prod/202307051332/production/B.Search.min.css\">\n",
      "    <body>\n",
      "        \n",
      "\n",
      "\n",
      "\n",
      "\n",
      "\n",
      "\n",
      "\n",
      "\n",
      "\n",
      "\n",
      "<div class=\"service_header search\" data-tiara-layer=\"gnb\">\n",
      "    \n",
      "    <div class=\"wrap_inner  \">\n",
      "        <div class=\"f_l\">\n",
      "                                                <button id=\"btnServiceMenu\" type=\"button\" class=\"f_l text_hide btn_menu img_ico #sidebar \">메뉴</button>\n",
      "                \n",
      "                                    <h1 class=\"f_l\">\n",
      "                        <a href=\"/\"  class=\"logo_service text_hide\" title=\"brunch\">brunch</a>\n",
      "                    </h1>\n",
      "\n",
      "                    \n",
      "                                                \n",
      "                    </div>\n",
      "\n",
      "                        \n",
      "        \n",
      "        \n",
      "        \n",
      "        \n",
      "        \n",
      "        \n",
      "        \n",
      "        \n",
      "        \n",
      "        \n",
      "        \n",
      "        \n",
      "        \n",
      "                \n",
      "        \n",
      "        \n",
      "        \n",
      "        \n",
      "        \n",
      "        \n",
      "        \n",
      "        \n",
      "        \n",
      "        \n",
      "        \n",
      "        \n",
      "        \n",
      "        \n",
      "        \n",
      "        <div class=\"f_r\">\n",
      "            \n",
      "                <div class=\"wrap_btn_search on\">\n",
      "                    <form action=\"/search\" method=\"get\">\n",
      "                        <input name=\"q\"\n",
      "                            id=\"searchQuery\"\n",
      "                            type=\"text\"\n",
      "                            title=\"검색어입력\"\n",
      "                            placeholder=\"검색어를 입력해 주세요\"\n",
      "                            autocomplete=\"off\"\n",
      "                            value=\"뉴진스\"/>\n",
      "                        <input name=\"profileId\" type=\"hidden\" value=\"\" />\n",
      "                    </form>\n",
      "                    <button id=\"btnServiceMenuSearch\" type=\"button\" class=\"f_r img_ico text_hide btn_search #search_btn\"\n",
      "                            data-tiara-action-name=\"TOP > GNB 우측 검색 버튼 클릭\"\n",
      "                            data-tiara-action-kind=\"Search\"\n",
      "                            data-tiara-layer=\"search\"\n",
      "                            data-tiara-search_term=\" \"\n",
      "                            data-tiara-search_type=\"keyword\">검색</button>\n",
      "                </div>\n",
      "                    </div>\n",
      "\n",
      "            </div>\n",
      "</div>\n",
      "\n",
      "            \n",
      "<div id=\"wrapSideMenu\">\n",
      "    <main>\n",
      "        <button type=\"button\" id=\"btnCloseSideMenu\" class=\"btn_close_side_menu img_side_menu ico_close f_r text_hide\">닫기</button>\n",
      "                    <div class=\"wrap_side_profile logout\">\n",
      "                <div class=\"logo_service\"></div>\n",
      "                <p class=\"slogan\">The Story of<br>Future Writers</p>\n",
      "                <a href=\"#\" class=\"#side_request btn_apply_author search\"\n",
      "                                          id=\"brunchSigninButton\"\n",
      "                                      data-tiara-action-name=\"메뉴 > 시작하기 버튼 클릭\"\n",
      "                   data-tiara-layer=\"login\"><button class=\"btn_request\">브런치스토리 시작하기</button></a>\n",
      "            </div>\n",
      "        \n",
      "                    <div class=\"wrap_side_service_menu\">\n",
      "                    <ul>\n",
      "                                    <li>\n",
      "                        <a class=\"menu_word7 #side_brunch\" href=\"/\"\n",
      "                           data-tiara-action-name=\"메뉴 > 브런치 홈 버튼 클릭\"\n",
      "                           data-tiara-layer=\"top\"><span class=\"bar_left\"></span>브런치스토리 홈<span class=\"bar_right\"></span></a>\n",
      "                    </li>\n",
      "                    <li>\n",
      "                        <a class=\"menu_word8 #side_now brunchNowLink\" href=\"/now\"\n",
      "                           data-tiara-action-name=\"메뉴 > 브런치 나우 버튼 클릭\"\n",
      "                           data-tiara-layer=\"now\"><span class=\"bar_left\"></span>브런치스토리 나우<span class=\"bar_right\"></span></a>\n",
      "                    </li>\n",
      "                    <li>\n",
      "                        <a class=\"menu_word8 #side_publish brunchPublishLink\" href=\"/publish\"\n",
      "                           data-tiara-action-name=\"메뉴 > 브런치 책방 버튼 클릭\"\n",
      "                           data-tiara-layer=\"bookshop\"><span class=\"bar_left\"></span>브런치스토리 책방<span class=\"bar_right\"></span></a>\n",
      "                    </li>\n",
      "                            </ul>\n",
      "\n",
      "                            <div class=\"wrap_side_setting wrap_find_user\">\n",
      "                    <div class=\"menu_side_banner\" style=\"padding-bottom: 40px;\">\n",
      "    \n",
      "    <a class=\"#side_project\" href=\"/special/list\" data-tiara-action-name=\"메뉴 > 작가 지원 프로젝트 버튼 클릭\" data-tiara-layer=\"projectlist\">\n",
      "        <img style=\"width:168px\" src=\"//i1.daumcdn.net/thumb/R336x0/?fname=http://t1.daumcdn.net/brunch/static/img/help/pc/top/side_banner_20221221.png\" alt=\"프로젝트 리스트 바로가기\" />\n",
      "    </a>\n",
      "</div>                    <a href=\"/signin/find_account\" class=\"find_user\"\n",
      "                       data-tiara-action-name=\"메뉴 > 계정 찾기 버튼 클릭\"\n",
      "                       data-tiara-layer=\"find_accounts\">계정을 잊어버리셨나요?</a>\n",
      "                </div>\n",
      "                    </div>\n",
      "    </main>\n",
      "</div>\n",
      "\n",
      "        <tiara-page t-name=\"브런치 검색 화면\" t-section=\"etc\" t-page=\"search\" t-action-kind=\"ViewContentList\"></tiara-page>\n",
      "\n",
      "    <div id=\"wrapHome\" class=\"search_wrap\">\n",
      "        <hr class=\"hide\">\n",
      "        <div class=\"wrap_search_header\">\n",
      "            <div class=\"wrap_search\">\n",
      "                <h2 class=\"screen_out\">검색 키워드 입력 창</h2>\n",
      "\n",
      "                <div class=\"search_form\">\n",
      "                    <form method=\"get\" action=\"\" accept-charset=\"utf-8\">\n",
      "                        <input type=\"text\"\n",
      "                               value=\"뉴진스\"\n",
      "                               name=\"q\"\n",
      "                               class=\"txt_search\"\n",
      "                               id=\"txt_search\"\n",
      "                               title=\"검색어입력\"\n",
      "                               placeholder=\"검색어를 입력해 주세요.\"\n",
      "                               maxlength=\"20\"\n",
      "                               onfocus=\"this.value = this.value;\"\n",
      "                               autocomplete=\"off\"/>\n",
      "                        <input type=\"hidden\" value=\"article\" name=\"type\" id=\"hdn_search_type\"/>\n",
      "                                            </form>\n",
      "                </div>\n",
      "            </div>\n",
      "        </div>\n",
      "\n",
      "\n",
      "        <div id=\"searchWrap\">\n",
      "\n",
      "            <div class=\"search_header\">\n",
      "                <div class=\"tab_search\">\n",
      "                    <ul id=\"contentsTab\" class=\"inner_tab\">\n",
      "                        <li class=\"\"><a href=\"javascript:;\" id=\"btnSearchArticle\" class=\"articleTab link_tab #search_post\">글</a></li>\n",
      "                        <li class=\"\"><a href=\"javascript:;\" id=\"btnSearchMagazine\" class=\"magazineTab link_tab #search_mag\">작품</a></li>\n",
      "                        <li class=\"\"><a href=\"javascript:;\" id=\"btnSearchUser\" class=\"userTab link_tab #search_user\">작가</a></li>\n",
      "                    </ul>\n",
      "                </div>\n",
      "\n",
      "                <div class=\"filter_search\">\n",
      "                    <div class=\"info_filter\">\n",
      "                        <input type=\"hidden\" class=\"cate_filter_selected\">\n",
      "                        <p class=\"desc_g\">DESC</p>\n",
      "                        <div class=\"cate_filter\">\n",
      "                        </div>\n",
      "                    </div>\n",
      "                </div>\n",
      "            </div>\n",
      "\n",
      "            <hr class=\"hide\">\n",
      "            <div id=\"daumContent\" class=\"cont_search\" role=\"main\">\n",
      "                <div id=\"mArticle\">\n",
      "                    \n",
      "                    <div id=\"resultArticle\" class=\"search_result\"></div>\n",
      "                    <div id=\"resultMagazine\" class=\"search_result\"></div>\n",
      "                    <div id=\"resultUser\" class=\"search_result\"></div>\n",
      "\n",
      "                </div>\n",
      "            </div>\n",
      "            <input type=\"hidden\" id=\"init-q\" value=\"뉴진스\"/>\n",
      "        </div>\n",
      "\n",
      "    </div>\n",
      "\n",
      "    \n",
      "\n",
      "    <script type=\"text/javascript\" src=\"//developers.kakao.com/sdk/js/kakao.min.js?v=2\"></script>\n",
      "\n",
      "                        <script type=\"text/javascript\" src=\"//t1.daumcdn.net/brunch/static/prod/202307051332/production/B.min.js\"></script>\n",
      "            \n",
      "\n",
      "\n",
      "\n",
      "                            <script type=\"text/javascript\" src=\"//t1.daumcdn.net/brunch/static/prod/202307051332/production/B.Message.min.js\"></script>\n",
      "            \n",
      "    <script type=\"text/javascript\">\n",
      "\n",
      "        function BrunchConfigInit() {\n",
      "            B.Config = {\"createMagazineConfirm\":\"로그인이 필요합니다.\",\"downloadDomain\":\"t1.daumcdn.net\",\"channelPublicId\":\"_YYcYV\",\"KakaoTvIframeHost\":\"https://play-tv.kakao.com\",\"brunchbookArticleMinCount\":10,\"serviceUrl\":\"https://brunch.co.kr\",\"active\":\"real\",\"isInnerNetwork\":false,\"kakaoJSKey\":\"7577e1f674fc3bc73963db5bf15e03df\",\"facebookApiVersion\":\"v11.0\",\"serviceDomain\":\"brunch.co.kr\",\"webpackJsUrl\":null,\"templateUrl\":\"/template/\",\"isCbtHome\":false,\"matrixFtDsn\":\"https://7092d1f177184e73a6cda1ee2d14ecc4@aem-collector.daumkakao.io/3057\",\"webpackCssUrl\":null,\"apiUrl\":\"https://api.brunch.co.kr\",\"servicecode\":\"7eF1DYRbLy8LCLcy\",\"brunchbookArticleMaxCount\":30,\"thumbnailDomain\":\"img1.daumcdn.net\",\"viteJsUrl\":null};\n",
      "            B.User = {\n",
      "                            };\n",
      "        }\n",
      "        Guard.executeAndSaveFunction(BrunchConfigInit)\n",
      "    </script>\n",
      "\n",
      "            <script type=\"text/javascript\" src=\"//t1.daumcdn.net/brunch/static/prod/202307051332/production/purify.min.js\"></script>\n",
      "                            <script type=\"text/javascript\" src=\"//t1.daumcdn.net/brunch/static/prod/202307051332/production/tiaraEventHandler.min.js\"></script>\n",
      "                                                    <script type=\"text/javascript\" src=\"//t1.daumcdn.net/brunch/static/prod/202307051332/production/B.Util.min.js\"></script>\n",
      "                                                            <script type=\"text/javascript\" src=\"//t1.daumcdn.net/brunch/static/prod/202307051332/production/B.Login.min.js\"></script>\n",
      "                        \n",
      "\n",
      "            <div class=\"compatible-info\">\n",
      "                <em class=\"text_noti\">브런치는 최신 브라우저에 최적화 되어있습니다.</em>\n",
      "                <a class=\"ico_browser ico_ie text_hide\" target=\"_blank\" href=\"http://windows.microsoft.com/ko-kr/internet-explorer/download-ie\">IE</a>\n",
      "                <a class=\"ico_browser ico_chrome text_hide\" target=\"_blank\" href=\"http://www.google.co.kr/chrome/\">chrome</a>\n",
      "                <a class=\"ico_browser ico_safari text_hide\" target=\"_blank\" href=\"http://www.apple.com/kr/safari/\">safari</a>\n",
      "        </div>\n",
      "    \n",
      "    <script type=\"text/javascript\">\n",
      "        try {\n",
      "                            if(B.UserAgent.isIE11Under) {\n",
      "                    jQuery('body').addClass('no-compatible');\n",
      "                }\n",
      "                    } catch(e) {\n",
      "        }\n",
      "    </script>\n",
      "\n",
      "<script type=\"text/javascript\">\n",
      "\n",
      "    function messageInit() {\n",
      "        try {\n",
      "            B.Message.init();\n",
      "        } catch (e) {\n",
      "            Sentry.setTag('InitFail', 'Message')\n",
      "            Sentry.captureMessage('[BRUNCH] InitFail')\n",
      "        }\n",
      "    }\n",
      "\n",
      "    (function() {\n",
      "        Guard.executeAndSaveFunction(messageInit);\n",
      "    })();\n",
      "</script>\n",
      "\n",
      "    <script type=\"text/javascript\">\n",
      "        function loginInit() {\n",
      "            try {\n",
      "                // pc , mobile, tablet, unknown\n",
      "                var isPcOrTablet = !B.UserAgent.isMobile;\n",
      "                                                        B.Login.init(isPcOrTablet, 'https%3A%2F%2Fbrunch.co.kr%2Fsignin%2Ffinish%3Furl%3D%252Fsearch');\n",
      "                            } catch(e) {\n",
      "                Sentry.setTag('InitFail', 'Login')\n",
      "                Sentry.captureMessage('[BRUNCH] InitFail')\n",
      "            }\n",
      "        }\n",
      "        (function() {\n",
      "            Guard.executeAndSaveFunction(loginInit);\n",
      "        })();\n",
      "    </script>\n",
      "\n",
      "<script type=\"application/ld+json\">\n",
      "{\n",
      "    \"@context\": \"http://schema.org\",\n",
      "    \"@type\": \"Organization\",\n",
      "    \"name\": \"브런치스토리\",\n",
      "    \"url\": \"https://brunch.co.kr\",\n",
      "    \"sameAs\": [\n",
      "        \"https://play.google.com/store/apps/details?id=com.daumkakao.android.brunchapp\",\n",
      "        \"https://apps.apple.com/kr/app/id1001388574\"\n",
      "    ]\n",
      "}\n",
      "</script>\n",
      "                            <script type=\"text/javascript\" src=\"//t1.daumcdn.net/brunch/static/prod/202307051332/production/B.Search.min.js\"></script>\n",
      "            \n",
      "    <script>\n",
      "        try {\n",
      "            B.Search.init('article', '', '');\n",
      "        } catch(e) {\n",
      "            Sentry.setTag('InitFail', 'Search')\n",
      "            Sentry.captureMessage('[BRUNCH] InitFail')\n",
      "        }\n",
      "    </script>\n",
      "</body>\n",
      "</html>\n",
      "\n"
     ]
    }
   ],
   "source": [
    "print(resp.text)"
   ]
  },
  {
   "cell_type": "code",
   "execution_count": 19,
   "metadata": {},
   "outputs": [],
   "source": [
    "dom =BeautifulSoup(resp.text, 'lxml')"
   ]
  },
  {
   "cell_type": "code",
   "execution_count": 22,
   "metadata": {},
   "outputs": [
    {
     "data": {
      "text/plain": [
       "<form action=\"/search\" method=\"get\">\n",
       "<input autocomplete=\"off\" id=\"searchQuery\" name=\"q\" placeholder=\"검색어를 입력해 주세요\" title=\"검색어입력\" type=\"text\" value=\"뉴진스\"/>\n",
       "<input name=\"profileId\" type=\"hidden\" value=\"\"/>\n",
       "</form>"
      ]
     },
     "execution_count": 22,
     "metadata": {},
     "output_type": "execute_result"
    }
   ],
   "source": [
    "dom.select('form')[0]"
   ]
  },
  {
   "cell_type": "code",
   "execution_count": 23,
   "metadata": {},
   "outputs": [
    {
     "data": {
      "text/plain": [
       "<form accept-charset=\"utf-8\" action=\"\" method=\"get\">\n",
       "<input autocomplete=\"off\" class=\"txt_search\" id=\"txt_search\" maxlength=\"20\" name=\"q\" onfocus=\"this.value = this.value;\" placeholder=\"검색어를 입력해 주세요.\" title=\"검색어입력\" type=\"text\" value=\"뉴진스\"/>\n",
       "<input id=\"hdn_search_type\" name=\"type\" type=\"hidden\" value=\"article\"/>\n",
       "</form>"
      ]
     },
     "execution_count": 23,
     "metadata": {},
     "output_type": "execute_result"
    }
   ],
   "source": [
    "dom.select('form')[1]"
   ]
  },
  {
   "cell_type": "code",
   "execution_count": 24,
   "metadata": {},
   "outputs": [],
   "source": [
    "form = dom.select('form[action]')[0]"
   ]
  },
  {
   "cell_type": "code",
   "execution_count": 25,
   "metadata": {},
   "outputs": [
    {
     "data": {
      "text/plain": [
       "{'action': '/search', 'method': 'get'}"
      ]
     },
     "execution_count": 25,
     "metadata": {},
     "output_type": "execute_result"
    }
   ],
   "source": [
    "form.attrs"
   ]
  },
  {
   "cell_type": "code",
   "execution_count": 28,
   "metadata": {},
   "outputs": [
    {
     "data": {
      "text/plain": [
       "['q=뉴진스', 'profileId=']"
      ]
     },
     "execution_count": 28,
     "metadata": {},
     "output_type": "execute_result"
    }
   ],
   "source": [
    "[tag.attrs['name'] + '=' + tag.attrs['value'] for tag in form.select('[name]')]"
   ]
  },
  {
   "cell_type": "code",
   "execution_count": 30,
   "metadata": {},
   "outputs": [
    {
     "data": {
      "text/plain": [
       "'q=뉴진스'"
      ]
     },
     "execution_count": 30,
     "metadata": {},
     "output_type": "execute_result"
    }
   ],
   "source": [
    "unquote(urlparse(url).query) # 주소에 들어있는 값이랑 form이랑 같다. 한마디로 양식이다."
   ]
  },
  {
   "cell_type": "code",
   "execution_count": 31,
   "metadata": {},
   "outputs": [
    {
     "data": {
      "text/plain": [
       "[<script src=\"//t1.daumcdn.net/brunch/static/libraries/js/jquery.min-3.6.4.js\" type=\"text/javascript\"></script>,\n",
       " <script src=\"//t1.daumcdn.net/brunch/static/libraries/js/jquery.cookie.min-1.4.1.js\" type=\"text/javascript\"></script>,\n",
       " <script src=\"//t1.daumcdn.net/brunch/static/libraries/js/jquery.xdomainrequest.min-1.0.4.js\" type=\"text/javascript\"></script>,\n",
       " <script src=\"//t1.daumcdn.net/brunch/static/libraries/js/jquery.word-break-keep-all.min-1.3.0.js\" type=\"text/javascript\"></script>,\n",
       " <script src=\"//t1.daumcdn.net/brunch/static/libraries/js/handlebars.runtime.min-v3.0.0.js\" type=\"text/javascript\"></script>,\n",
       " <script src=\"//t1.daumcdn.net/brunch/static/libraries/js/sentry.min.5.27.4.js?v=20221124\" type=\"text/javascript\"></script>,\n",
       " <script src=\"//t1.daumcdn.net/brunch/static/libraries/js/clipboard.min.js\" type=\"text/javascript\"></script>,\n",
       " <script src=\"//t1.daumcdn.net/tiara/js/v1/tiara.min.js\" type=\"text/javascript\"></script>,\n",
       " <script>\n",
       "     window.Guard = {\n",
       "         hasError:  false,\n",
       "         excuteFunctionArray: [],\n",
       "         loadedJsHistory: [],\n",
       " \n",
       "         /*\n",
       "             kebana에 프론트 로그 발생 오류를 기록 한다.\n",
       "          */\n",
       "         fetchLog: function(message, extraJson) {\n",
       "             if (!window.fetch && !fetch) {\n",
       "                 return '';\n",
       "             }\n",
       "             var csrfToken = document.querySelector('meta[name=secureToken]').attributes['value'].value;\n",
       " \n",
       "             fetch('https://api.brunch.co.kr/v1/front-log', {\n",
       "                 method: 'POST',\n",
       "                 headers: {\n",
       "                     'Content-Type': 'application/json',\n",
       "                     'X-CSRF-TOKEN': csrfToken\n",
       "                 },\n",
       "                 credentials: 'include',\n",
       "                 body : JSON.stringify({\n",
       "                     message: message,\n",
       "                     extras: extraJson\n",
       "                 })\n",
       "             })\n",
       "         },\n",
       " \n",
       "         /*\n",
       "             js파일의 tenth2 fetch 결과를 Matrix에 기록.\n",
       "          */\n",
       "         checkTenth2JsStatus: function (jsFileName) {\n",
       "             var phase = '/';\n",
       "                             phase = '/production/'\n",
       "                         var jsUrl = '//t1.daumcdn.net/brunch/static/prod/202307051332' + phase + jsFileName;\n",
       " \n",
       "             if (!window.fetch && !fetch) {\n",
       "                 return '';\n",
       "             }\n",
       " \n",
       "             fetch(jsUrl).then(function(response) {\n",
       "                 Sentry.setTag('InitFail', 'FailLoadTenth2js');\n",
       "                 Sentry.captureMessage('[BRUNCH] InitFail - Tenth2', {\n",
       "                     extra: {\n",
       "                         extra: {\n",
       "                             status: response.status,\n",
       "                             url: response.url,\n",
       "                             statusText: response.statusText,\n",
       "                         },\n",
       "                     },\n",
       "                 });\n",
       "             }).catch(function(error) {\n",
       "                 Sentry.captureMessage('[BRUNCH] InitFail - Tenth2', {\n",
       "                     extra: {\n",
       "                         extra: {\n",
       "                             url: jsUrl,\n",
       "                         },\n",
       "                     },\n",
       "                 });\n",
       "             });\n",
       "         },\n",
       " \n",
       "         dynamicAppendJsLibraryTags: function(jsFileNameArray) {\n",
       "           for(var i=0; i<jsFileNameArray.length; i++) {\n",
       "               this.dynamicAppendJsLibraryTag(jsFileNameArray[i]);\n",
       "           }\n",
       "         },\n",
       " \n",
       "         dynamicAppendJsLibraryTag: function(jsFileName) {\n",
       "             this.createScriptTag('/static/libraries/js/', jsFileName);\n",
       "         },\n",
       " \n",
       "         /**\n",
       "          * 자바스크립트 동적 생성 함수\n",
       "          * @param {String} jsPath - 자바스크립트 파일 경로\n",
       "          * @param {String} jsFileName - 자바스크립트 파일 이름\n",
       "          * @param {Function} onLoadCallback - 스크립트 onLoad 이후 실행될 함수\n",
       "          */\n",
       "         createScriptTag: function(jsPath, jsFileName, onLoadCallback) {\n",
       "             this.loadedJsHistory.push(jsFileName);\n",
       "             var script = document.createElement('script');\n",
       "             script.type = 'text/javascript';\n",
       "             script.src = jsPath + jsFileName;\n",
       "             if (onLoadCallback) {\n",
       "                 script.onload = function() {\n",
       "                     onLoadCallback();\n",
       "                 }\n",
       "             }\n",
       "             script.onerror = function(e) {\n",
       "                 this.matrixLogging(e, 'Invalid Script src', jsPath + jsFileName);\n",
       "             }.bind(this)\n",
       "             script.async = false;\n",
       "             this.removeScriptTag(jsFileName);\n",
       "             document.getElementsByTagName('head')[0].appendChild(script);\n",
       "         },\n",
       " \n",
       "         /**\n",
       "          * dom 내에 존재하는 대상 스크립트를 찾아서 제거 하는 함수\n",
       "          * @param {String} targetSrc\n",
       "          */\n",
       "         removeScriptTag: function(targetSrc) {\n",
       "             for (var i=0; i<document.scripts.length; i++) {\n",
       " \n",
       "                 if (document.scripts[i].src.indexOf(targetSrc) > -1) {\n",
       "                     document.scripts[i].remove();\n",
       "                 }\n",
       "             }\n",
       "         },\n",
       " \n",
       "         /**\n",
       "          * 함수를 실행하고, 그 실행 내역을 Array에 저장\n",
       "          * @param {Function} func - 실행될 함수\n",
       "          */\n",
       "         executeAndSaveFunction: function(func) {\n",
       "             try {\n",
       "                 this.excuteFunctionArray.push(func);\n",
       "                 func();\n",
       "             } catch(e) {\n",
       "                 if(!this.hasError) {\n",
       "                     this.fetchLog('script error occur', {});\n",
       "                 }\n",
       "                 this.hasError = true;\n",
       "             }\n",
       "         },\n",
       " \n",
       "         /**\n",
       "          * 글뷰 페이지를 복구 하기 위한 함수\n",
       "          * 1. libraries 태그 복원\n",
       "          * 2. 글뷰 통합 번들 파일 추가\n",
       "          * @param {boolean} isPc\n",
       "          */\n",
       "         restoreArticlePage: function(isPc) {\n",
       "             var scripts = [\n",
       "                 \"sentry.min.5.27.4.js\",\n",
       "                 \"jquery.min-3.6.4.js\",\n",
       "                 \"jquery.cookie.min-1.4.1.js\",\n",
       "                 \"jquery.xdomainrequest.min-1.0.4.js\",\n",
       "                 \"jquery.word-break-keep-all.min-1.3.0.js\",\n",
       "                 \"handlebars.runtime.min-v3.0.0.js\"\n",
       "             ];\n",
       "             this.dynamicAppendJsLibraryTags(scripts);\n",
       "             this.excuteFunctionArray.push(function() {\n",
       "                 this.loggedIsArticleRestored(isPc);\n",
       "             }.bind(this));\n",
       " \n",
       "             if (isPc) {\n",
       "                 this.createScriptTag('/static/production/', 'brunch.article.pc.min.js', this.doExcuteFunctionArray.bind(this));\n",
       "             } else {\n",
       "                 this.createScriptTag('/static/production/', 'brunch.article.mobile.min.js', this.doExcuteFunctionArray.bind(this));\n",
       "             }\n",
       "         },\n",
       " \n",
       "         /**\n",
       "          * article 페이지 복구 여부에 대한 기록 함수\n",
       "          * PC .wrap_body_frame 존재 유무\n",
       "          * Mobile #articleMain display 속성 확인 (not none)\n",
       "          * @param isPc\n",
       "          */\n",
       "         loggedIsArticleRestored: function(isPc) {\n",
       "             var isRestored = false;\n",
       " \n",
       "             if (isPc) {\n",
       "                 isRestored = document.querySelector('.wrap_body_frame') !== null\n",
       "             } else {\n",
       "                 isRestored = window.getComputedStyle(document.querySelector('#articleMain')).display !== 'none';\n",
       "             }\n",
       " \n",
       "             var fetchMsg = 'restorePageFail';\n",
       " \n",
       "             if (isRestored) {\n",
       "                 fetchMsg = 'restorePage';\n",
       "             }\n",
       " \n",
       "             this.fetchLog(fetchMsg, {\n",
       "                 isPc: isPc\n",
       "             })\n",
       "         },\n",
       " \n",
       "         doExcuteFunctionArray: function() {\n",
       "             if (this.excuteFunctionArray.length > 0) {\n",
       "                 for (var i = 0; i < this.excuteFunctionArray.length; i++) {\n",
       "                     var func = this.excuteFunctionArray[i];\n",
       " \n",
       "                     if (func && typeof func === 'function') {\n",
       "                         try {\n",
       "                             func();\n",
       "                         } catch(e) {\n",
       "                             this.fetchLog('failRestorePage', {\n",
       "                                 error: e,\n",
       "                             })\n",
       "                         }\n",
       "                     }\n",
       "                 }\n",
       "             }\n",
       "         },\n",
       " \n",
       "         matrixLogging: function(error, tagValue, data) {\n",
       "             // B.Util 스크립트도 로딩이 안된 경우가 있어 별도의 로깅을 진행 한다.\n",
       "             Sentry.addBreadcrumb({\n",
       "                 type: 'error',\n",
       "                 category: 'error',\n",
       "                 level: 'error',\n",
       "                 data: { data }\n",
       "             });\n",
       "             Sentry.setTag('Monitoring', tagValue);\n",
       "             Sentry.captureMessage('[BRUNCH] Article View Restore Fail');\n",
       "         }\n",
       "     };\n",
       " </script>,\n",
       " <script type=\"text/javascript\">\n",
       "     window._platform = \"unknown\";\n",
       " \n",
       "     function sentryInit() {\n",
       "         Sentry.init({\n",
       "             dsn: 'https://7092d1f177184e73a6cda1ee2d14ecc4@aem-collector.daumkakao.io/3057',\n",
       "             release: '202307051332',\n",
       "             environment: 'prod',\n",
       "                         allowUrls: [\n",
       "                 \"brunch.co.kr\",\n",
       "                 \"dev.onkakao.net\",\n",
       "                 \"daumcdn.net\"\n",
       "             ],\n",
       "         });\n",
       "         Sentry.setTag(\"ua.platform\", window._platform);\n",
       "             }\n",
       " \n",
       "     Guard.executeAndSaveFunction(sentryInit);\n",
       " </script>,\n",
       " <script>\n",
       "     if (typeof jQuery === 'undefined') {\n",
       "         var scripts = [\n",
       "             \"sentry.min.5.27.4.js\",\n",
       "             \"jquery.min-3.6.4.js\",\n",
       "             \"jquery.cookie.min-1.4.1.js\",\n",
       "             \"jquery.xdomainrequest.min-1.0.4.js\",\n",
       "             \"jquery.word-break-keep-all.min-1.3.0.js\",\n",
       "             \"handlebars.runtime.min-v3.0.0.js\"\n",
       "         ]\n",
       "         Guard.dynamicAppendJsLibraryTags(scripts);\n",
       "         Guard.fetchLog('libraries init', {});\n",
       "     }\n",
       " </script>,\n",
       " <script src=\"//developers.kakao.com/sdk/js/kakao.min.js?v=2\" type=\"text/javascript\"></script>,\n",
       " <script src=\"//t1.daumcdn.net/brunch/static/prod/202307051332/production/B.min.js\" type=\"text/javascript\"></script>,\n",
       " <script src=\"//t1.daumcdn.net/brunch/static/prod/202307051332/production/B.Message.min.js\" type=\"text/javascript\"></script>,\n",
       " <script type=\"text/javascript\">\n",
       " \n",
       "         function BrunchConfigInit() {\n",
       "             B.Config = {\"createMagazineConfirm\":\"로그인이 필요합니다.\",\"downloadDomain\":\"t1.daumcdn.net\",\"channelPublicId\":\"_YYcYV\",\"KakaoTvIframeHost\":\"https://play-tv.kakao.com\",\"brunchbookArticleMinCount\":10,\"serviceUrl\":\"https://brunch.co.kr\",\"active\":\"real\",\"isInnerNetwork\":false,\"kakaoJSKey\":\"7577e1f674fc3bc73963db5bf15e03df\",\"facebookApiVersion\":\"v11.0\",\"serviceDomain\":\"brunch.co.kr\",\"webpackJsUrl\":null,\"templateUrl\":\"/template/\",\"isCbtHome\":false,\"matrixFtDsn\":\"https://7092d1f177184e73a6cda1ee2d14ecc4@aem-collector.daumkakao.io/3057\",\"webpackCssUrl\":null,\"apiUrl\":\"https://api.brunch.co.kr\",\"servicecode\":\"7eF1DYRbLy8LCLcy\",\"brunchbookArticleMaxCount\":30,\"thumbnailDomain\":\"img1.daumcdn.net\",\"viteJsUrl\":null};\n",
       "             B.User = {\n",
       "                             };\n",
       "         }\n",
       "         Guard.executeAndSaveFunction(BrunchConfigInit)\n",
       "     </script>,\n",
       " <script src=\"//t1.daumcdn.net/brunch/static/prod/202307051332/production/purify.min.js\" type=\"text/javascript\"></script>,\n",
       " <script src=\"//t1.daumcdn.net/brunch/static/prod/202307051332/production/tiaraEventHandler.min.js\" type=\"text/javascript\"></script>,\n",
       " <script src=\"//t1.daumcdn.net/brunch/static/prod/202307051332/production/B.Util.min.js\" type=\"text/javascript\"></script>,\n",
       " <script src=\"//t1.daumcdn.net/brunch/static/prod/202307051332/production/B.Login.min.js\" type=\"text/javascript\"></script>,\n",
       " <script type=\"text/javascript\">\n",
       "         try {\n",
       "                             if(B.UserAgent.isIE11Under) {\n",
       "                     jQuery('body').addClass('no-compatible');\n",
       "                 }\n",
       "                     } catch(e) {\n",
       "         }\n",
       "     </script>,\n",
       " <script type=\"text/javascript\">\n",
       " \n",
       "     function messageInit() {\n",
       "         try {\n",
       "             B.Message.init();\n",
       "         } catch (e) {\n",
       "             Sentry.setTag('InitFail', 'Message')\n",
       "             Sentry.captureMessage('[BRUNCH] InitFail')\n",
       "         }\n",
       "     }\n",
       " \n",
       "     (function() {\n",
       "         Guard.executeAndSaveFunction(messageInit);\n",
       "     })();\n",
       " </script>,\n",
       " <script type=\"text/javascript\">\n",
       "         function loginInit() {\n",
       "             try {\n",
       "                 // pc , mobile, tablet, unknown\n",
       "                 var isPcOrTablet = !B.UserAgent.isMobile;\n",
       "                                                         B.Login.init(isPcOrTablet, 'https%3A%2F%2Fbrunch.co.kr%2Fsignin%2Ffinish%3Furl%3D%252Fsearch');\n",
       "                             } catch(e) {\n",
       "                 Sentry.setTag('InitFail', 'Login')\n",
       "                 Sentry.captureMessage('[BRUNCH] InitFail')\n",
       "             }\n",
       "         }\n",
       "         (function() {\n",
       "             Guard.executeAndSaveFunction(loginInit);\n",
       "         })();\n",
       "     </script>,\n",
       " <script type=\"application/ld+json\">\n",
       " {\n",
       "     \"@context\": \"http://schema.org\",\n",
       "     \"@type\": \"Organization\",\n",
       "     \"name\": \"브런치스토리\",\n",
       "     \"url\": \"https://brunch.co.kr\",\n",
       "     \"sameAs\": [\n",
       "         \"https://play.google.com/store/apps/details?id=com.daumkakao.android.brunchapp\",\n",
       "         \"https://apps.apple.com/kr/app/id1001388574\"\n",
       "     ]\n",
       " }\n",
       " </script>,\n",
       " <script src=\"//t1.daumcdn.net/brunch/static/prod/202307051332/production/B.Search.min.js\" type=\"text/javascript\"></script>,\n",
       " <script>\n",
       "         try {\n",
       "             B.Search.init('article', '', '');\n",
       "         } catch(e) {\n",
       "             Sentry.setTag('InitFail', 'Search')\n",
       "             Sentry.captureMessage('[BRUNCH] InitFail')\n",
       "         }\n",
       "     </script>]"
      ]
     },
     "execution_count": 31,
     "metadata": {},
     "output_type": "execute_result"
    }
   ],
   "source": [
    "dom.select('script') # 브라우저의 힘을 빌리자.\n"
   ]
  },
  {
   "cell_type": "code",
   "execution_count": 38,
   "metadata": {},
   "outputs": [],
   "source": [
    "url = 'https://api.brunch.co.kr/v1/search/article' # RestFul API\n",
    "params = {\n",
    "    'q' : '뉴진스',\n",
    "    'page' : '2',\n",
    "    'pageSize'  :'5',\n",
    "    'highlighter' : 'n',\n",
    "    'escape' : 'n',\n",
    "    'sortBy' : 'accu'\n",
    "}\n",
    "resp = request('GET', url=url, params=params, headers=headers)"
   ]
  },
  {
   "cell_type": "code",
   "execution_count": 39,
   "metadata": {},
   "outputs": [
    {
     "data": {
      "text/plain": [
       "(200,\n",
       " {'Date': 'Thu, 13 Jul 2023 02:06:17 GMT', 'Content-Type': 'application/json;charset=UTF-8', 'Transfer-Encoding': 'chunked', 'Connection': 'keep-alive', 'Cache-Control': 'no-cache, no-store, must-revalidate, no-store', 'Pragma': 'no-cache', 'Expires': 'Thu, 01 Jan 1970 00:00:00 GMT', 'Access-Control-Allow-Methods': 'GET,POST,HEAD,OPTIONS,PUT,DELETE', 'Access-Control-Allow-Headers': 'Content-Type,X-Requested-With,accept,Origin,Access-Control-Request-Method,Access-Control-Request-Headers,brunch-client-os,X-CSRF-TOKEN,X-JSESSIONID,referer,brunch-agent', 'Access-Control-Allow-Credentials': 'true', 'Set-Cookie': 'bid=\"\"; Domain=.brunch.co.kr; Expires=Thu, 01-Jan-1970 00:00:10 GMT; Path=/; Secure', 'Content-Language': 'en-US', 'Strict-Transport-Security': 'max-age=15724800; includeSubDomains'})"
      ]
     },
     "execution_count": 39,
     "metadata": {},
     "output_type": "execute_result"
    }
   ],
   "source": [
    "resp.status_code, resp.headers"
   ]
  },
  {
   "cell_type": "code",
   "execution_count": 41,
   "metadata": {},
   "outputs": [
    {
     "data": {
      "text/plain": [
       "{'id': None,\n",
       " 'version': None,\n",
       " 'no': 56,\n",
       " 'userId': 'Aj9',\n",
       " 'userName': None,\n",
       " 'status': 'publish',\n",
       " 'magazineNo': 0,\n",
       " 'magazineAddress': None,\n",
       " 'magazineAddressUri': None,\n",
       " 'magazineArticleId': 0,\n",
       " 'magazineTitle': None,\n",
       " 'magazineStatus': None,\n",
       " 'magazineType': None,\n",
       " 'magazineCoverImage': None,\n",
       " 'commentWritable': False,\n",
       " 'commentCount': 0,\n",
       " 'likeCount': 0,\n",
       " 'title': 'ditto:뉴진스, 민지 (창작 소설)',\n",
       " 'subTitle': None,\n",
       " 'contentSummary': '기분이겠지? 고등학교를 졸업하고 소속사 연습생으로 들어갔다. 다행히 5명 모두 한 팀으로 들어갈 수 있었다. 팀 이름은 뉴진스로 정해졌다. 아우 귀여워! 대표님 집에서 뉴진스의 첫 노래 청음회를 가졌다. 다소 올드하지만 경쾌한 리듬이 좋았다. 다른...',\n",
       " 'contentHash': None,\n",
       " 'authorComment': '작가의 한마디가 나옵니다.',\n",
       " 'createTime': None,\n",
       " 'updateTime': None,\n",
       " 'publishTime': 1684485615000,\n",
       " 'publishTimestamp': 1684485615000,\n",
       " 'restrictTime': None,\n",
       " 'content': None,\n",
       " 'profileId': 'leonato',\n",
       " 'coverInfo': None,\n",
       " 'articleImageList': [{'type': 'image',\n",
       "   'userId': 'Aj9',\n",
       "   'articleNo': 56,\n",
       "   'order': 1,\n",
       "   'url': 'http://t1.daumcdn.net/brunch/service/user/Aj9/image/Rz6Th-DV2t_WCFCIhK99oraj88Q.png',\n",
       "   'width': 2604,\n",
       "   'height': 1555,\n",
       "   'magazineNoList': None,\n",
       "   'magazineNo': None},\n",
       "  {'type': 'image',\n",
       "   'userId': 'Aj9',\n",
       "   'articleNo': 56,\n",
       "   'order': 2,\n",
       "   'url': 'http://t1.daumcdn.net/brunch/service/user/Aj9/image/yxgU06e0CvWNtHgzpeFiAHlVG0U.png',\n",
       "   'width': 2464,\n",
       "   'height': 1492,\n",
       "   'magazineNoList': None,\n",
       "   'magazineNo': None}],\n",
       " 'socialShareTotalCount': 0,\n",
       " 'coverColor': None,\n",
       " 'articleKeywords': None,\n",
       " 'readSeconds': 0,\n",
       " 'fromTime': None,\n",
       " 'toTime': None,\n",
       " 'orderBy': None,\n",
       " 'chapterNo': 0,\n",
       " 'seq': 0,\n",
       " 'tempBrunchbookNo': 0,\n",
       " 'tempBrunchbookTitle': None,\n",
       " 'tempBrunchbookStatus': None,\n",
       " 'tempBrunchbookAddress': None,\n",
       " 'readTime': 0,\n",
       " 'flattenedSeq': 0,\n",
       " 'viewCount': 0,\n",
       " 'kakaoShareCount': 0,\n",
       " 'kakaoTalkShareCount': 0,\n",
       " 'facebookShareCount': 0,\n",
       " 'twitterShareCount': 0,\n",
       " 'contentIdParam': None,\n",
       " 'homeDataSourceType': None,\n",
       " 'arrivedLikeitCount': 0,\n",
       " 'profile': {'userId': 'leonato',\n",
       "  'userName': 'LEONATO',\n",
       "  'userImage': 'http://t1.daumcdn.net/brunch/service/user/Aj9/image/UWYqxFg0smQgnN8wyHoSvuN27b0.jpg',\n",
       "  'profileId': None,\n",
       "  'description': '나도 글 잘 쓰고 싶다.'},\n",
       " 'articleCoverColorForHome': None,\n",
       " 'published': True,\n",
       " 'magazineArticle': False,\n",
       " 'contentId': 'Aj9_56',\n",
       " 'notPublished': False,\n",
       " 'articleImageListForHome': [{'type': 'image',\n",
       "   'userId': 'Aj9',\n",
       "   'articleNo': 56,\n",
       "   'order': 1,\n",
       "   'url': 'http://t1.daumcdn.net/brunch/service/user/Aj9/image/Rz6Th-DV2t_WCFCIhK99oraj88Q.png',\n",
       "   'width': 2604,\n",
       "   'height': 1555,\n",
       "   'magazineNoList': None,\n",
       "   'magazineNo': None}],\n",
       " 'articleImageForDiscover': 'http://t1.daumcdn.net/brunch/service/user/Aj9/image/Rz6Th-DV2t_WCFCIhK99oraj88Q.png',\n",
       " 'articleImageListForBifrost': [{'type': 'image',\n",
       "   'userId': 'Aj9',\n",
       "   'articleNo': 56,\n",
       "   'order': 1,\n",
       "   'url': 'http://t1.daumcdn.net/brunch/service/user/Aj9/image/Rz6Th-DV2t_WCFCIhK99oraj88Q.png',\n",
       "   'width': 2604,\n",
       "   'height': 1555,\n",
       "   'magazineNoList': None,\n",
       "   'magazineNo': None},\n",
       "  {'type': 'image',\n",
       "   'userId': 'Aj9',\n",
       "   'articleNo': 56,\n",
       "   'order': 2,\n",
       "   'url': 'http://t1.daumcdn.net/brunch/service/user/Aj9/image/yxgU06e0CvWNtHgzpeFiAHlVG0U.png',\n",
       "   'width': 2464,\n",
       "   'height': 1492,\n",
       "   'magazineNoList': None,\n",
       "   'magazineNo': None}],\n",
       " 'articleKeywordNameAsCsv': None,\n",
       " 'articleImageForHome': 'http://t1.daumcdn.net/brunch/service/user/Aj9/image/Rz6Th-DV2t_WCFCIhK99oraj88Q.png',\n",
       " 'notEmptyTitle': True,\n",
       " 'pick': False,\n",
       " 'articleKeywordNoAsCsv': None,\n",
       " 'nonMagazineArticle': True}"
      ]
     },
     "execution_count": 41,
     "metadata": {},
     "output_type": "execute_result"
    }
   ],
   "source": [
    "article"
   ]
  },
  {
   "cell_type": "code",
   "execution_count": 42,
   "metadata": {},
   "outputs": [],
   "source": [
    "data = []\n",
    "for article in resp.json()['data']['list']:\n",
    "    data.append([article['title'], article['contentSummary'], article['profile']['userName']])"
   ]
  },
  {
   "cell_type": "code",
   "execution_count": 43,
   "metadata": {},
   "outputs": [
    {
     "data": {
      "text/plain": [
       "[['이토록 유해한 아름다움, 민희진과 뉴진스',\n",
       "  '민희진이 대표로 있는 아도어에서 드디어 걸그룹이 데뷔했다. 뉴진스가 데뷔하고 커뮤니티의 반응을 보면서 역시.. 민희진은 민희진이다―라는 생각이 들었다. 사실 현 제목은 쿠키 뮤비를 보면서 생각했던 것이고 직전까지 내 마음속에 적어뒀던 제목은...',\n",
       "  'hailey'],\n",
       " ['ditto:뉴진스, 혜인 (창작 소설)',\n",
       "  '<ditto:hye in of newjeans> #2022. 7.22 오늘은 드디어 뉴진스(NewJeans)로 데뷔한 날이야. 내 마음은 설렘과 긴장으로 가득 차 있지만, 동시에 무엇보다도 감사한 마음으로 가득해. 이 날을 함께 할 수 있는 멤버들에게 감사의 말씀을 전하고 싶어. 민지...',\n",
       "  'LEONATO'],\n",
       " ['뉴진스, 세븐틴도 한다! AR을 활용한 팬덤 마케팅 - 브랜드 충성고객 확보를 위한 AR 필터 마케팅!',\n",
       "  '보이즈플래닛 <난 빛나 (Here I Am)> 3. 활용도 높은 AR 필터를 통한 브랜드 체류 <덕질 유도> - 별은 <Happy Birthday> - 뉴진스 <SANTA TOKKI GAME> 1. AR 필터를 통한 자연스러운 팬 층 유입 <팬덤 형성> 다른 브랜드들은 소비자를 가득 태우고 신나게...',\n",
       "  'we ar 위에이알'],\n",
       " [\"뉴진스는 '우리'라는 서사를 그린다. - 'OMG' 앨범 리뷰\",\n",
       "  'New Jeans(이하 뉴진스)가 세상에 등장하며 외친 말, attention(주목, 집중, 주목하세요)은 뉴진스에게 주목하게 될 대중을 향한 일종의 예언이었다. \"어느 날 갑자기\"라고 표현해도 좋을 정도로, 자세한 예고 없이 뉴진스는 데뷔 앨범 타이틀곡...',\n",
       "  '아점'],\n",
       " ['ditto:뉴진스, 민지 (창작 소설)',\n",
       "  '기분이겠지? 고등학교를 졸업하고 소속사 연습생으로 들어갔다. 다행히 5명 모두 한 팀으로 들어갈 수 있었다. 팀 이름은 뉴진스로 정해졌다. 아우 귀여워! 대표님 집에서 뉴진스의 첫 노래 청음회를 가졌다. 다소 올드하지만 경쾌한 리듬이 좋았다. 다른...',\n",
       "  'LEONATO']]"
      ]
     },
     "execution_count": 43,
     "metadata": {},
     "output_type": "execute_result"
    }
   ],
   "source": [
    "data"
   ]
  },
  {
   "attachments": {},
   "cell_type": "markdown",
   "metadata": {},
   "source": [
    "### 🌧️ 기상청 관련 데이터"
   ]
  },
  {
   "cell_type": "code",
   "execution_count": 136,
   "metadata": {},
   "outputs": [],
   "source": [
    "from urllib.parse import parse_qs\n",
    "url = 'https://apis.data.go.kr/1360000/VilageFcstInfoService_2.0/getVilageFcst?serviceKey=HH1CtMWB2MPFKoo62qDT3K7H%2B6SXt49fbLl%2BYMLgpQD3IFzDQQdC9lLk1hm4rn6zuUXhmos7hDoJfJf5PScmvw%3D%3D&pageNo=1&numOfRows=1000&dataType=XML&base_date=20230713&base_time=0500&nx=61&ny=127'\n",
    "params = parse_qs(urlparse(url).query)"
   ]
  },
  {
   "cell_type": "code",
   "execution_count": 137,
   "metadata": {},
   "outputs": [],
   "source": [
    "api = ['getUltraSrtNcst', 'getUltraSrtFcst', 'getVilageFcst', 'getFcstVersion']\n",
    "url = 'http://apis.data.go.kr/1360000/VilageFcstInfoService_2.0/'\n"
   ]
  },
  {
   "cell_type": "code",
   "execution_count": 138,
   "metadata": {},
   "outputs": [
    {
     "data": {
      "text/plain": [
       "'http://apis.data.go.kr/1360000/VilageFcstInfoService_2.0/getUltraSrtFcst'"
      ]
     },
     "execution_count": 138,
     "metadata": {},
     "output_type": "execute_result"
    }
   ],
   "source": [
    "url + api[1]"
   ]
  },
  {
   "cell_type": "code",
   "execution_count": 139,
   "metadata": {},
   "outputs": [],
   "source": [
    "params = {k:''.join(v) for k, v in params.items()}"
   ]
  },
  {
   "cell_type": "code",
   "execution_count": 140,
   "metadata": {},
   "outputs": [],
   "source": [
    "X, Y = (61,127) # 안암\n",
    "params['nx'] = X\n",
    "params['ny'] = Y"
   ]
  },
  {
   "cell_type": "code",
   "execution_count": 141,
   "metadata": {},
   "outputs": [],
   "source": [
    "from api_key import whether_encode_key, whether_decode_key\n",
    "#params['serviceKey'] = unquote('whether_encode_key')\n",
    "params['serviceKey'] = whether_decode_key"
   ]
  },
  {
   "cell_type": "code",
   "execution_count": 142,
   "metadata": {},
   "outputs": [],
   "source": [
    "resp = request('GET', url + api[1], params=params)"
   ]
  },
  {
   "cell_type": "code",
   "execution_count": 143,
   "metadata": {},
   "outputs": [
    {
     "name": "stdout",
     "output_type": "stream",
     "text": [
      "<?xml version=\"1.0\" encoding=\"UTF-8\"?>\n",
      "<response><header><resultCode>00</resultCode><resultMsg>NORMAL_SERVICE</resultMsg></header><body><dataType>XML</dataType><items><item><baseDate>20230713</baseDate><baseTime>0530</baseTime><category>LGT</category><fcstDate>20230713</fcstDate><fcstTime>0600</fcstTime><fcstValue>0</fcstValue><nx>61</nx><ny>127</ny></item><item><baseDate>20230713</baseDate><baseTime>0530</baseTime><category>LGT</category><fcstDate>20230713</fcstDate><fcstTime>0700</fcstTime><fcstValue>0</fcstValue><nx>61</nx><ny>127</ny></item><item><baseDate>20230713</baseDate><baseTime>0530</baseTime><category>LGT</category><fcstDate>20230713</fcstDate><fcstTime>0800</fcstTime><fcstValue>0</fcstValue><nx>61</nx><ny>127</ny></item><item><baseDate>20230713</baseDate><baseTime>0530</baseTime><category>LGT</category><fcstDate>20230713</fcstDate><fcstTime>0900</fcstTime><fcstValue>0</fcstValue><nx>61</nx><ny>127</ny></item><item><baseDate>20230713</baseDate><baseTime>0530</baseTime><category>LGT</category><fcstDate>20230713</fcstDate><fcstTime>1000</fcstTime><fcstValue>0</fcstValue><nx>61</nx><ny>127</ny></item><item><baseDate>20230713</baseDate><baseTime>0530</baseTime><category>LGT</category><fcstDate>20230713</fcstDate><fcstTime>1100</fcstTime><fcstValue>0</fcstValue><nx>61</nx><ny>127</ny></item><item><baseDate>20230713</baseDate><baseTime>0530</baseTime><category>PTY</category><fcstDate>20230713</fcstDate><fcstTime>0600</fcstTime><fcstValue>1</fcstValue><nx>61</nx><ny>127</ny></item><item><baseDate>20230713</baseDate><baseTime>0530</baseTime><category>PTY</category><fcstDate>20230713</fcstDate><fcstTime>0700</fcstTime><fcstValue>0</fcstValue><nx>61</nx><ny>127</ny></item><item><baseDate>20230713</baseDate><baseTime>0530</baseTime><category>PTY</category><fcstDate>20230713</fcstDate><fcstTime>0800</fcstTime><fcstValue>0</fcstValue><nx>61</nx><ny>127</ny></item><item><baseDate>20230713</baseDate><baseTime>0530</baseTime><category>PTY</category><fcstDate>20230713</fcstDate><fcstTime>0900</fcstTime><fcstValue>5</fcstValue><nx>61</nx><ny>127</ny></item><item><baseDate>20230713</baseDate><baseTime>0530</baseTime><category>PTY</category><fcstDate>20230713</fcstDate><fcstTime>1000</fcstTime><fcstValue>1</fcstValue><nx>61</nx><ny>127</ny></item><item><baseDate>20230713</baseDate><baseTime>0530</baseTime><category>PTY</category><fcstDate>20230713</fcstDate><fcstTime>1100</fcstTime><fcstValue>1</fcstValue><nx>61</nx><ny>127</ny></item><item><baseDate>20230713</baseDate><baseTime>0530</baseTime><category>RN1</category><fcstDate>20230713</fcstDate><fcstTime>0600</fcstTime><fcstValue>1.0mm</fcstValue><nx>61</nx><ny>127</ny></item><item><baseDate>20230713</baseDate><baseTime>0530</baseTime><category>RN1</category><fcstDate>20230713</fcstDate><fcstTime>0700</fcstTime><fcstValue>강수없음</fcstValue><nx>61</nx><ny>127</ny></item><item><baseDate>20230713</baseDate><baseTime>0530</baseTime><category>RN1</category><fcstDate>20230713</fcstDate><fcstTime>0800</fcstTime><fcstValue>강수없음</fcstValue><nx>61</nx><ny>127</ny></item><item><baseDate>20230713</baseDate><baseTime>0530</baseTime><category>RN1</category><fcstDate>20230713</fcstDate><fcstTime>0900</fcstTime><fcstValue>강수없음</fcstValue><nx>61</nx><ny>127</ny></item><item><baseDate>20230713</baseDate><baseTime>0530</baseTime><category>RN1</category><fcstDate>20230713</fcstDate><fcstTime>1000</fcstTime><fcstValue>2.0mm</fcstValue><nx>61</nx><ny>127</ny></item><item><baseDate>20230713</baseDate><baseTime>0530</baseTime><category>RN1</category><fcstDate>20230713</fcstDate><fcstTime>1100</fcstTime><fcstValue>7.0mm</fcstValue><nx>61</nx><ny>127</ny></item><item><baseDate>20230713</baseDate><baseTime>0530</baseTime><category>SKY</category><fcstDate>20230713</fcstDate><fcstTime>0600</fcstTime><fcstValue>4</fcstValue><nx>61</nx><ny>127</ny></item><item><baseDate>20230713</baseDate><baseTime>0530</baseTime><category>SKY</category><fcstDate>20230713</fcstDate><fcstTime>0700</fcstTime><fcstValue>4</fcstValue><nx>61</nx><ny>127</ny></item><item><baseDate>20230713</baseDate><baseTime>0530</baseTime><category>SKY</category><fcstDate>20230713</fcstDate><fcstTime>0800</fcstTime><fcstValue>4</fcstValue><nx>61</nx><ny>127</ny></item><item><baseDate>20230713</baseDate><baseTime>0530</baseTime><category>SKY</category><fcstDate>20230713</fcstDate><fcstTime>0900</fcstTime><fcstValue>4</fcstValue><nx>61</nx><ny>127</ny></item><item><baseDate>20230713</baseDate><baseTime>0530</baseTime><category>SKY</category><fcstDate>20230713</fcstDate><fcstTime>1000</fcstTime><fcstValue>4</fcstValue><nx>61</nx><ny>127</ny></item><item><baseDate>20230713</baseDate><baseTime>0530</baseTime><category>SKY</category><fcstDate>20230713</fcstDate><fcstTime>1100</fcstTime><fcstValue>4</fcstValue><nx>61</nx><ny>127</ny></item><item><baseDate>20230713</baseDate><baseTime>0530</baseTime><category>T1H</category><fcstDate>20230713</fcstDate><fcstTime>0600</fcstTime><fcstValue>25</fcstValue><nx>61</nx><ny>127</ny></item><item><baseDate>20230713</baseDate><baseTime>0530</baseTime><category>T1H</category><fcstDate>20230713</fcstDate><fcstTime>0700</fcstTime><fcstValue>25</fcstValue><nx>61</nx><ny>127</ny></item><item><baseDate>20230713</baseDate><baseTime>0530</baseTime><category>T1H</category><fcstDate>20230713</fcstDate><fcstTime>0800</fcstTime><fcstValue>26</fcstValue><nx>61</nx><ny>127</ny></item><item><baseDate>20230713</baseDate><baseTime>0530</baseTime><category>T1H</category><fcstDate>20230713</fcstDate><fcstTime>0900</fcstTime><fcstValue>26</fcstValue><nx>61</nx><ny>127</ny></item><item><baseDate>20230713</baseDate><baseTime>0530</baseTime><category>T1H</category><fcstDate>20230713</fcstDate><fcstTime>1000</fcstTime><fcstValue>26</fcstValue><nx>61</nx><ny>127</ny></item><item><baseDate>20230713</baseDate><baseTime>0530</baseTime><category>T1H</category><fcstDate>20230713</fcstDate><fcstTime>1100</fcstTime><fcstValue>25</fcstValue><nx>61</nx><ny>127</ny></item><item><baseDate>20230713</baseDate><baseTime>0530</baseTime><category>REH</category><fcstDate>20230713</fcstDate><fcstTime>0600</fcstTime><fcstValue>90</fcstValue><nx>61</nx><ny>127</ny></item><item><baseDate>20230713</baseDate><baseTime>0530</baseTime><category>REH</category><fcstDate>20230713</fcstDate><fcstTime>0700</fcstTime><fcstValue>90</fcstValue><nx>61</nx><ny>127</ny></item><item><baseDate>20230713</baseDate><baseTime>0530</baseTime><category>REH</category><fcstDate>20230713</fcstDate><fcstTime>0800</fcstTime><fcstValue>85</fcstValue><nx>61</nx><ny>127</ny></item><item><baseDate>20230713</baseDate><baseTime>0530</baseTime><category>REH</category><fcstDate>20230713</fcstDate><fcstTime>0900</fcstTime><fcstValue>85</fcstValue><nx>61</nx><ny>127</ny></item><item><baseDate>20230713</baseDate><baseTime>0530</baseTime><category>REH</category><fcstDate>20230713</fcstDate><fcstTime>1000</fcstTime><fcstValue>90</fcstValue><nx>61</nx><ny>127</ny></item><item><baseDate>20230713</baseDate><baseTime>0530</baseTime><category>REH</category><fcstDate>20230713</fcstDate><fcstTime>1100</fcstTime><fcstValue>85</fcstValue><nx>61</nx><ny>127</ny></item><item><baseDate>20230713</baseDate><baseTime>0530</baseTime><category>UUU</category><fcstDate>20230713</fcstDate><fcstTime>0600</fcstTime><fcstValue>-0.1</fcstValue><nx>61</nx><ny>127</ny></item><item><baseDate>20230713</baseDate><baseTime>0530</baseTime><category>UUU</category><fcstDate>20230713</fcstDate><fcstTime>0700</fcstTime><fcstValue>-0.8</fcstValue><nx>61</nx><ny>127</ny></item><item><baseDate>20230713</baseDate><baseTime>0530</baseTime><category>UUU</category><fcstDate>20230713</fcstDate><fcstTime>0800</fcstTime><fcstValue>-1</fcstValue><nx>61</nx><ny>127</ny></item><item><baseDate>20230713</baseDate><baseTime>0530</baseTime><category>UUU</category><fcstDate>20230713</fcstDate><fcstTime>0900</fcstTime><fcstValue>-0.6</fcstValue><nx>61</nx><ny>127</ny></item><item><baseDate>20230713</baseDate><baseTime>0530</baseTime><category>UUU</category><fcstDate>20230713</fcstDate><fcstTime>1000</fcstTime><fcstValue>-1.3</fcstValue><nx>61</nx><ny>127</ny></item><item><baseDate>20230713</baseDate><baseTime>0530</baseTime><category>UUU</category><fcstDate>20230713</fcstDate><fcstTime>1100</fcstTime><fcstValue>-1.3</fcstValue><nx>61</nx><ny>127</ny></item><item><baseDate>20230713</baseDate><baseTime>0530</baseTime><category>VVV</category><fcstDate>20230713</fcstDate><fcstTime>0600</fcstTime><fcstValue>0.7</fcstValue><nx>61</nx><ny>127</ny></item><item><baseDate>20230713</baseDate><baseTime>0530</baseTime><category>VVV</category><fcstDate>20230713</fcstDate><fcstTime>0700</fcstTime><fcstValue>-0.2</fcstValue><nx>61</nx><ny>127</ny></item><item><baseDate>20230713</baseDate><baseTime>0530</baseTime><category>VVV</category><fcstDate>20230713</fcstDate><fcstTime>0800</fcstTime><fcstValue>0</fcstValue><nx>61</nx><ny>127</ny></item><item><baseDate>20230713</baseDate><baseTime>0530</baseTime><category>VVV</category><fcstDate>20230713</fcstDate><fcstTime>0900</fcstTime><fcstValue>1.1</fcstValue><nx>61</nx><ny>127</ny></item><item><baseDate>20230713</baseDate><baseTime>0530</baseTime><category>VVV</category><fcstDate>20230713</fcstDate><fcstTime>1000</fcstTime><fcstValue>1.6</fcstValue><nx>61</nx><ny>127</ny></item><item><baseDate>20230713</baseDate><baseTime>0530</baseTime><category>VVV</category><fcstDate>20230713</fcstDate><fcstTime>1100</fcstTime><fcstValue>1</fcstValue><nx>61</nx><ny>127</ny></item><item><baseDate>20230713</baseDate><baseTime>0530</baseTime><category>VEC</category><fcstDate>20230713</fcstDate><fcstTime>0600</fcstTime><fcstValue>168</fcstValue><nx>61</nx><ny>127</ny></item><item><baseDate>20230713</baseDate><baseTime>0530</baseTime><category>VEC</category><fcstDate>20230713</fcstDate><fcstTime>0700</fcstTime><fcstValue>71</fcstValue><nx>61</nx><ny>127</ny></item><item><baseDate>20230713</baseDate><baseTime>0530</baseTime><category>VEC</category><fcstDate>20230713</fcstDate><fcstTime>0800</fcstTime><fcstValue>88</fcstValue><nx>61</nx><ny>127</ny></item><item><baseDate>20230713</baseDate><baseTime>0530</baseTime><category>VEC</category><fcstDate>20230713</fcstDate><fcstTime>0900</fcstTime><fcstValue>149</fcstValue><nx>61</nx><ny>127</ny></item><item><baseDate>20230713</baseDate><baseTime>0530</baseTime><category>VEC</category><fcstDate>20230713</fcstDate><fcstTime>1000</fcstTime><fcstValue>138</fcstValue><nx>61</nx><ny>127</ny></item><item><baseDate>20230713</baseDate><baseTime>0530</baseTime><category>VEC</category><fcstDate>20230713</fcstDate><fcstTime>1100</fcstTime><fcstValue>126</fcstValue><nx>61</nx><ny>127</ny></item><item><baseDate>20230713</baseDate><baseTime>0530</baseTime><category>WSD</category><fcstDate>20230713</fcstDate><fcstTime>0600</fcstTime><fcstValue>1</fcstValue><nx>61</nx><ny>127</ny></item><item><baseDate>20230713</baseDate><baseTime>0530</baseTime><category>WSD</category><fcstDate>20230713</fcstDate><fcstTime>0700</fcstTime><fcstValue>1</fcstValue><nx>61</nx><ny>127</ny></item><item><baseDate>20230713</baseDate><baseTime>0530</baseTime><category>WSD</category><fcstDate>20230713</fcstDate><fcstTime>0800</fcstTime><fcstValue>1</fcstValue><nx>61</nx><ny>127</ny></item><item><baseDate>20230713</baseDate><baseTime>0530</baseTime><category>WSD</category><fcstDate>20230713</fcstDate><fcstTime>0900</fcstTime><fcstValue>1</fcstValue><nx>61</nx><ny>127</ny></item><item><baseDate>20230713</baseDate><baseTime>0530</baseTime><category>WSD</category><fcstDate>20230713</fcstDate><fcstTime>1000</fcstTime><fcstValue>2</fcstValue><nx>61</nx><ny>127</ny></item><item><baseDate>20230713</baseDate><baseTime>0530</baseTime><category>WSD</category><fcstDate>20230713</fcstDate><fcstTime>1100</fcstTime><fcstValue>2</fcstValue><nx>61</nx><ny>127</ny></item></items><numOfRows>1000</numOfRows><pageNo>1</pageNo><totalCount>60</totalCount></body></response>\n",
      "\n"
     ]
    }
   ],
   "source": [
    "print(resp.text)"
   ]
  },
  {
   "cell_type": "code",
   "execution_count": 144,
   "metadata": {},
   "outputs": [
    {
     "data": {
      "text/plain": [
       "'HH1CtMWB2MPFKoo62qDT3K7H+6SXt49fbLl+YMLgpQD3IFzDQQdC9lLk1hm4rn6zuUXhmos7hDoJfJf5PScmvw=='"
      ]
     },
     "execution_count": 144,
     "metadata": {},
     "output_type": "execute_result"
    }
   ],
   "source": [
    "params['serviceKey']"
   ]
  },
  {
   "cell_type": "code",
   "execution_count": 145,
   "metadata": {},
   "outputs": [
    {
     "data": {
      "text/plain": [
       "(200, {'Content-Language': 'ko-KR', 'Set-Cookie': 'JSESSIONID=a9siRer26p4Vo41ijYgc6Z8WzIuz1hQeCVZ1bZFOkCirF8NpxI0qnm3a0ZMUqF2Z.amV1c19kb21haW4vbmV3c2t5Mw==; Path=/1360000/VilageFcstInfoService_2.0; HttpOnly; Domain=apis.data.go.kr', 'Access-Control-Allow-Origin': '*', 'Content-Encoding': 'gzip', 'Content-Type': 'application/xml;charset=UTF-8', 'Content-Length': '693', 'Date': 'Thu, 13 Jul 2023 03:11:45 GMT', 'Server': 'NIA API Server'})"
      ]
     },
     "execution_count": 145,
     "metadata": {},
     "output_type": "execute_result"
    }
   ],
   "source": [
    "resp.status_code, resp.headers"
   ]
  },
  {
   "cell_type": "code",
   "execution_count": 146,
   "metadata": {},
   "outputs": [
    {
     "data": {
      "text/plain": [
       "'application/xml;charset=UTF-8'"
      ]
     },
     "execution_count": 146,
     "metadata": {},
     "output_type": "execute_result"
    }
   ],
   "source": [
    "resp.headers['content-type']"
   ]
  },
  {
   "cell_type": "code",
   "execution_count": 147,
   "metadata": {},
   "outputs": [
    {
     "data": {
      "text/plain": [
       "'<?xml version=\"1.0\" encoding=\"UTF-8\"?>\\r\\n<response><header><resultCode>00</resultCode><resultMsg>NORMAL_SERVICE</resultMsg></header><body><dataType>XML</dataType><items><item><baseDate>20230713</baseDate><baseTime>0530</baseTime><category>LGT</category><fcstDate>20230713</fcstDate><fcstTime>0600</fcstTime><fcstValue>0</fcstValue><nx>61</nx><ny>127</ny></item><item><baseDate>20230713</baseDate><baseTime>0530</baseTime><category>LGT</category><fcstDate>20230713</fcstDate><fcstTime>0700</fcstTime><fcstValue>0</fcstValue><nx>61</nx><ny>127</ny></item><item><baseDate>20230713</baseDate><baseTime>0530</baseTime><category>LGT</category><fcstDate>20230713</fcstDate><fcstTime>0800</fcstTime><fcstValue>0</fcstValue><nx>61</nx><ny>127</ny></item><item><baseDate>20230713</baseDate><baseTime>0530</baseTime><category>LGT</category><fcstDate>20230713</fcstDate><fcstTime>0900</fcstTime><fcstValue>0</fcstValue><nx>61</nx><ny>127</ny></item><item><baseDate>20230713</baseDate><baseTime>0530</baseTime><category>LGT</category><fcstDate>20230713</fcstDate><fcstTime>1000</fcstTime><fcstValue>0</fcstValue><nx>61</nx><ny>127</ny></item><item><baseDate>20230713</baseDate><baseTime>0530</baseTime><category>LGT</category><fcstDate>20230713</fcstDate><fcstTime>1100</fcstTime><fcstValue>0</fcstValue><nx>61</nx><ny>127</ny></item><item><baseDate>20230713</baseDate><baseTime>0530</baseTime><category>PTY</category><fcstDate>20230713</fcstDate><fcstTime>0600</fcstTime><fcstValue>1</fcstValue><nx>61</nx><ny>127</ny></item><item><baseDate>20230713</baseDate><baseTime>0530</baseTime><category>PTY</category><fcstDate>20230713</fcstDate><fcstTime>0700</fcstTime><fcstValue>0</fcstValue><nx>61</nx><ny>127</ny></item><item><baseDate>20230713</baseDate><baseTime>0530</baseTime><category>PTY</category><fcstDate>20230713</fcstDate><fcstTime>0800</fcstTime><fcstValue>0</fcstValue><nx>61</nx><ny>127</ny></item><item><baseDate>20230713</baseDate><baseTime>0530</baseTime><category>PTY</category><fcstDate>20230713</fcstDate><fcstTime>0900</fcstTime><fcstValue>5</fcstValue><nx>61</nx><ny>127</ny></item><item><baseDate>20230713</baseDate><baseTime>0530</baseTime><category>PTY</category><fcstDate>20230713</fcstDate><fcstTime>1000</fcstTime><fcstValue>1</fcstValue><nx>61</nx><ny>127</ny></item><item><baseDate>20230713</baseDate><baseTime>0530</baseTime><category>PTY</category><fcstDate>20230713</fcstDate><fcstTime>1100</fcstTime><fcstValue>1</fcstValue><nx>61</nx><ny>127</ny></item><item><baseDate>20230713</baseDate><baseTime>0530</baseTime><category>RN1</category><fcstDate>20230713</fcstDate><fcstTime>0600</fcstTime><fcstValue>1.0mm</fcstValue><nx>61</nx><ny>127</ny></item><item><baseDate>20230713</baseDate><baseTime>0530</baseTime><category>RN1</category><fcstDate>20230713</fcstDate><fcstTime>0700</fcstTime><fcstValue>강수없음</fcstValue><nx>61</nx><ny>127</ny></item><item><baseDate>20230713</baseDate><baseTime>0530</baseTime><category>RN1</category><fcstDate>20230713</fcstDate><fcstTime>0800</fcstTime><fcstValue>강수없음</fcstValue><nx>61</nx><ny>127</ny></item><item><baseDate>20230713</baseDate><baseTime>0530</baseTime><category>RN1</category><fcstDate>20230713</fcstDate><fcstTime>0900</fcstTime><fcstValue>강수없음</fcstValue><nx>61</nx><ny>127</ny></item><item><baseDate>20230713</baseDate><baseTime>0530</baseTime><category>RN1</category><fcstDate>20230713</fcstDate><fcstTime>1000</fcstTime><fcstValue>2.0mm</fcstValue><nx>61</nx><ny>127</ny></item><item><baseDate>20230713</baseDate><baseTime>0530</baseTime><category>RN1</category><fcstDate>20230713</fcstDate><fcstTime>1100</fcstTime><fcstValue>7.0mm</fcstValue><nx>61</nx><ny>127</ny></item><item><baseDate>20230713</baseDate><baseTime>0530</baseTime><category>SKY</category><fcstDate>20230713</fcstDate><fcstTime>0600</fcstTime><fcstValue>4</fcstValue><nx>61</nx><ny>127</ny></item><item><baseDate>20230713</baseDate><baseTime>0530</baseTime><category>SKY</category><fcstDate>20230713</fcstDate><fcstTime>0700</fcstTime><fcstValue>4</fcstValue><nx>61</nx><ny>127</ny></item><item><baseDate>20230713</baseDate><baseTime>0530</baseTime><category>SKY</category><fcstDate>20230713</fcstDate><fcstTime>0800</fcstTime><fcstValue>4</fcstValue><nx>61</nx><ny>127</ny></item><item><baseDate>20230713</baseDate><baseTime>0530</baseTime><category>SKY</category><fcstDate>20230713</fcstDate><fcstTime>0900</fcstTime><fcstValue>4</fcstValue><nx>61</nx><ny>127</ny></item><item><baseDate>20230713</baseDate><baseTime>0530</baseTime><category>SKY</category><fcstDate>20230713</fcstDate><fcstTime>1000</fcstTime><fcstValue>4</fcstValue><nx>61</nx><ny>127</ny></item><item><baseDate>20230713</baseDate><baseTime>0530</baseTime><category>SKY</category><fcstDate>20230713</fcstDate><fcstTime>1100</fcstTime><fcstValue>4</fcstValue><nx>61</nx><ny>127</ny></item><item><baseDate>20230713</baseDate><baseTime>0530</baseTime><category>T1H</category><fcstDate>20230713</fcstDate><fcstTime>0600</fcstTime><fcstValue>25</fcstValue><nx>61</nx><ny>127</ny></item><item><baseDate>20230713</baseDate><baseTime>0530</baseTime><category>T1H</category><fcstDate>20230713</fcstDate><fcstTime>0700</fcstTime><fcstValue>25</fcstValue><nx>61</nx><ny>127</ny></item><item><baseDate>20230713</baseDate><baseTime>0530</baseTime><category>T1H</category><fcstDate>20230713</fcstDate><fcstTime>0800</fcstTime><fcstValue>26</fcstValue><nx>61</nx><ny>127</ny></item><item><baseDate>20230713</baseDate><baseTime>0530</baseTime><category>T1H</category><fcstDate>20230713</fcstDate><fcstTime>0900</fcstTime><fcstValue>26</fcstValue><nx>61</nx><ny>127</ny></item><item><baseDate>20230713</baseDate><baseTime>0530</baseTime><category>T1H</category><fcstDate>20230713</fcstDate><fcstTime>1000</fcstTime><fcstValue>26</fcstValue><nx>61</nx><ny>127</ny></item><item><baseDate>20230713</baseDate><baseTime>0530</baseTime><category>T1H</category><fcstDate>20230713</fcstDate><fcstTime>1100</fcstTime><fcstValue>25</fcstValue><nx>61</nx><ny>127</ny></item><item><baseDate>20230713</baseDate><baseTime>0530</baseTime><category>REH</category><fcstDate>20230713</fcstDate><fcstTime>0600</fcstTime><fcstValue>90</fcstValue><nx>61</nx><ny>127</ny></item><item><baseDate>20230713</baseDate><baseTime>0530</baseTime><category>REH</category><fcstDate>20230713</fcstDate><fcstTime>0700</fcstTime><fcstValue>90</fcstValue><nx>61</nx><ny>127</ny></item><item><baseDate>20230713</baseDate><baseTime>0530</baseTime><category>REH</category><fcstDate>20230713</fcstDate><fcstTime>0800</fcstTime><fcstValue>85</fcstValue><nx>61</nx><ny>127</ny></item><item><baseDate>20230713</baseDate><baseTime>0530</baseTime><category>REH</category><fcstDate>20230713</fcstDate><fcstTime>0900</fcstTime><fcstValue>85</fcstValue><nx>61</nx><ny>127</ny></item><item><baseDate>20230713</baseDate><baseTime>0530</baseTime><category>REH</category><fcstDate>20230713</fcstDate><fcstTime>1000</fcstTime><fcstValue>90</fcstValue><nx>61</nx><ny>127</ny></item><item><baseDate>20230713</baseDate><baseTime>0530</baseTime><category>REH</category><fcstDate>20230713</fcstDate><fcstTime>1100</fcstTime><fcstValue>85</fcstValue><nx>61</nx><ny>127</ny></item><item><baseDate>20230713</baseDate><baseTime>0530</baseTime><category>UUU</category><fcstDate>20230713</fcstDate><fcstTime>0600</fcstTime><fcstValue>-0.1</fcstValue><nx>61</nx><ny>127</ny></item><item><baseDate>20230713</baseDate><baseTime>0530</baseTime><category>UUU</category><fcstDate>20230713</fcstDate><fcstTime>0700</fcstTime><fcstValue>-0.8</fcstValue><nx>61</nx><ny>127</ny></item><item><baseDate>20230713</baseDate><baseTime>0530</baseTime><category>UUU</category><fcstDate>20230713</fcstDate><fcstTime>0800</fcstTime><fcstValue>-1</fcstValue><nx>61</nx><ny>127</ny></item><item><baseDate>20230713</baseDate><baseTime>0530</baseTime><category>UUU</category><fcstDate>20230713</fcstDate><fcstTime>0900</fcstTime><fcstValue>-0.6</fcstValue><nx>61</nx><ny>127</ny></item><item><baseDate>20230713</baseDate><baseTime>0530</baseTime><category>UUU</category><fcstDate>20230713</fcstDate><fcstTime>1000</fcstTime><fcstValue>-1.3</fcstValue><nx>61</nx><ny>127</ny></item><item><baseDate>20230713</baseDate><baseTime>0530</baseTime><category>UUU</category><fcstDate>20230713</fcstDate><fcstTime>1100</fcstTime><fcstValue>-1.3</fcstValue><nx>61</nx><ny>127</ny></item><item><baseDate>20230713</baseDate><baseTime>0530</baseTime><category>VVV</category><fcstDate>20230713</fcstDate><fcstTime>0600</fcstTime><fcstValue>0.7</fcstValue><nx>61</nx><ny>127</ny></item><item><baseDate>20230713</baseDate><baseTime>0530</baseTime><category>VVV</category><fcstDate>20230713</fcstDate><fcstTime>0700</fcstTime><fcstValue>-0.2</fcstValue><nx>61</nx><ny>127</ny></item><item><baseDate>20230713</baseDate><baseTime>0530</baseTime><category>VVV</category><fcstDate>20230713</fcstDate><fcstTime>0800</fcstTime><fcstValue>0</fcstValue><nx>61</nx><ny>127</ny></item><item><baseDate>20230713</baseDate><baseTime>0530</baseTime><category>VVV</category><fcstDate>20230713</fcstDate><fcstTime>0900</fcstTime><fcstValue>1.1</fcstValue><nx>61</nx><ny>127</ny></item><item><baseDate>20230713</baseDate><baseTime>0530</baseTime><category>VVV</category><fcstDate>20230713</fcstDate><fcstTime>1000</fcstTime><fcstValue>1.6</fcstValue><nx>61</nx><ny>127</ny></item><item><baseDate>20230713</baseDate><baseTime>0530</baseTime><category>VVV</category><fcstDate>20230713</fcstDate><fcstTime>1100</fcstTime><fcstValue>1</fcstValue><nx>61</nx><ny>127</ny></item><item><baseDate>20230713</baseDate><baseTime>0530</baseTime><category>VEC</category><fcstDate>20230713</fcstDate><fcstTime>0600</fcstTime><fcstValue>168</fcstValue><nx>61</nx><ny>127</ny></item><item><baseDate>20230713</baseDate><baseTime>0530</baseTime><category>VEC</category><fcstDate>20230713</fcstDate><fcstTime>0700</fcstTime><fcstValue>71</fcstValue><nx>61</nx><ny>127</ny></item><item><baseDate>20230713</baseDate><baseTime>0530</baseTime><category>VEC</category><fcstDate>20230713</fcstDate><fcstTime>0800</fcstTime><fcstValue>88</fcstValue><nx>61</nx><ny>127</ny></item><item><baseDate>20230713</baseDate><baseTime>0530</baseTime><category>VEC</category><fcstDate>20230713</fcstDate><fcstTime>0900</fcstTime><fcstValue>149</fcstValue><nx>61</nx><ny>127</ny></item><item><baseDate>20230713</baseDate><baseTime>0530</baseTime><category>VEC</category><fcstDate>20230713</fcstDate><fcstTime>1000</fcstTime><fcstValue>138</fcstValue><nx>61</nx><ny>127</ny></item><item><baseDate>20230713</baseDate><baseTime>0530</baseTime><category>VEC</category><fcstDate>20230713</fcstDate><fcstTime>1100</fcstTime><fcstValue>126</fcstValue><nx>61</nx><ny>127</ny></item><item><baseDate>20230713</baseDate><baseTime>0530</baseTime><category>WSD</category><fcstDate>20230713</fcstDate><fcstTime>0600</fcstTime><fcstValue>1</fcstValue><nx>61</nx><ny>127</ny></item><item><baseDate>20230713</baseDate><baseTime>0530</baseTime><category>WSD</category><fcstDate>20230713</fcstDate><fcstTime>0700</fcstTime><fcstValue>1</fcstValue><nx>61</nx><ny>127</ny></item><item><baseDate>20230713</baseDate><baseTime>0530</baseTime><category>WSD</category><fcstDate>20230713</fcstDate><fcstTime>0800</fcstTime><fcstValue>1</fcstValue><nx>61</nx><ny>127</ny></item><item><baseDate>20230713</baseDate><baseTime>0530</baseTime><category>WSD</category><fcstDate>20230713</fcstDate><fcstTime>0900</fcstTime><fcstValue>1</fcstValue><nx>61</nx><ny>127</ny></item><item><baseDate>20230713</baseDate><baseTime>0530</baseTime><category>WSD</category><fcstDate>20230713</fcstDate><fcstTime>1000</fcstTime><fcstValue>2</fcstValue><nx>61</nx><ny>127</ny></item><item><baseDate>20230713</baseDate><baseTime>0530</baseTime><category>WSD</category><fcstDate>20230713</fcstDate><fcstTime>1100</fcstTime><fcstValue>2</fcstValue><nx>61</nx><ny>127</ny></item></items><numOfRows>1000</numOfRows><pageNo>1</pageNo><totalCount>60</totalCount></body></response>\\r\\n'"
      ]
     },
     "execution_count": 147,
     "metadata": {},
     "output_type": "execute_result"
    }
   ],
   "source": [
    "resp.text"
   ]
  },
  {
   "cell_type": "code",
   "execution_count": 148,
   "metadata": {},
   "outputs": [
    {
     "data": {
      "text/plain": [
       "'application/xml;charset=UTF-8'"
      ]
     },
     "execution_count": 148,
     "metadata": {},
     "output_type": "execute_result"
    }
   ],
   "source": [
    "resp.headers['content-type']"
   ]
  },
  {
   "cell_type": "code",
   "execution_count": 149,
   "metadata": {},
   "outputs": [],
   "source": [
    "from bs4 import BeautifulSoup"
   ]
  },
  {
   "cell_type": "code",
   "execution_count": 150,
   "metadata": {},
   "outputs": [],
   "source": [
    "dom = BeautifulSoup(resp.text, 'xml')"
   ]
  },
  {
   "cell_type": "code",
   "execution_count": 151,
   "metadata": {},
   "outputs": [
    {
     "data": {
      "text/plain": [
       "<response><header><resultCode>00</resultCode><resultMsg>NORMAL_SERVICE</resultMsg></header><body><dataType>XML</dataType><items><item><baseDate>20230713</baseDate><baseTime>0530</baseTime><category>LGT</category><fcstDate>20230713</fcstDate><fcstTime>0600</fcstTime><fcstValue>0</fcstValue><nx>61</nx><ny>127</ny></item><item><baseDate>20230713</baseDate><baseTime>0530</baseTime><category>LGT</category><fcstDate>20230713</fcstDate><fcstTime>0700</fcstTime><fcstValue>0</fcstValue><nx>61</nx><ny>127</ny></item><item><baseDate>20230713</baseDate><baseTime>0530</baseTime><category>LGT</category><fcstDate>20230713</fcstDate><fcstTime>0800</fcstTime><fcstValue>0</fcstValue><nx>61</nx><ny>127</ny></item><item><baseDate>20230713</baseDate><baseTime>0530</baseTime><category>LGT</category><fcstDate>20230713</fcstDate><fcstTime>0900</fcstTime><fcstValue>0</fcstValue><nx>61</nx><ny>127</ny></item><item><baseDate>20230713</baseDate><baseTime>0530</baseTime><category>LGT</category><fcstDate>20230713</fcstDate><fcstTime>1000</fcstTime><fcstValue>0</fcstValue><nx>61</nx><ny>127</ny></item><item><baseDate>20230713</baseDate><baseTime>0530</baseTime><category>LGT</category><fcstDate>20230713</fcstDate><fcstTime>1100</fcstTime><fcstValue>0</fcstValue><nx>61</nx><ny>127</ny></item><item><baseDate>20230713</baseDate><baseTime>0530</baseTime><category>PTY</category><fcstDate>20230713</fcstDate><fcstTime>0600</fcstTime><fcstValue>1</fcstValue><nx>61</nx><ny>127</ny></item><item><baseDate>20230713</baseDate><baseTime>0530</baseTime><category>PTY</category><fcstDate>20230713</fcstDate><fcstTime>0700</fcstTime><fcstValue>0</fcstValue><nx>61</nx><ny>127</ny></item><item><baseDate>20230713</baseDate><baseTime>0530</baseTime><category>PTY</category><fcstDate>20230713</fcstDate><fcstTime>0800</fcstTime><fcstValue>0</fcstValue><nx>61</nx><ny>127</ny></item><item><baseDate>20230713</baseDate><baseTime>0530</baseTime><category>PTY</category><fcstDate>20230713</fcstDate><fcstTime>0900</fcstTime><fcstValue>5</fcstValue><nx>61</nx><ny>127</ny></item><item><baseDate>20230713</baseDate><baseTime>0530</baseTime><category>PTY</category><fcstDate>20230713</fcstDate><fcstTime>1000</fcstTime><fcstValue>1</fcstValue><nx>61</nx><ny>127</ny></item><item><baseDate>20230713</baseDate><baseTime>0530</baseTime><category>PTY</category><fcstDate>20230713</fcstDate><fcstTime>1100</fcstTime><fcstValue>1</fcstValue><nx>61</nx><ny>127</ny></item><item><baseDate>20230713</baseDate><baseTime>0530</baseTime><category>RN1</category><fcstDate>20230713</fcstDate><fcstTime>0600</fcstTime><fcstValue>1.0mm</fcstValue><nx>61</nx><ny>127</ny></item><item><baseDate>20230713</baseDate><baseTime>0530</baseTime><category>RN1</category><fcstDate>20230713</fcstDate><fcstTime>0700</fcstTime><fcstValue>강수없음</fcstValue><nx>61</nx><ny>127</ny></item><item><baseDate>20230713</baseDate><baseTime>0530</baseTime><category>RN1</category><fcstDate>20230713</fcstDate><fcstTime>0800</fcstTime><fcstValue>강수없음</fcstValue><nx>61</nx><ny>127</ny></item><item><baseDate>20230713</baseDate><baseTime>0530</baseTime><category>RN1</category><fcstDate>20230713</fcstDate><fcstTime>0900</fcstTime><fcstValue>강수없음</fcstValue><nx>61</nx><ny>127</ny></item><item><baseDate>20230713</baseDate><baseTime>0530</baseTime><category>RN1</category><fcstDate>20230713</fcstDate><fcstTime>1000</fcstTime><fcstValue>2.0mm</fcstValue><nx>61</nx><ny>127</ny></item><item><baseDate>20230713</baseDate><baseTime>0530</baseTime><category>RN1</category><fcstDate>20230713</fcstDate><fcstTime>1100</fcstTime><fcstValue>7.0mm</fcstValue><nx>61</nx><ny>127</ny></item><item><baseDate>20230713</baseDate><baseTime>0530</baseTime><category>SKY</category><fcstDate>20230713</fcstDate><fcstTime>0600</fcstTime><fcstValue>4</fcstValue><nx>61</nx><ny>127</ny></item><item><baseDate>20230713</baseDate><baseTime>0530</baseTime><category>SKY</category><fcstDate>20230713</fcstDate><fcstTime>0700</fcstTime><fcstValue>4</fcstValue><nx>61</nx><ny>127</ny></item><item><baseDate>20230713</baseDate><baseTime>0530</baseTime><category>SKY</category><fcstDate>20230713</fcstDate><fcstTime>0800</fcstTime><fcstValue>4</fcstValue><nx>61</nx><ny>127</ny></item><item><baseDate>20230713</baseDate><baseTime>0530</baseTime><category>SKY</category><fcstDate>20230713</fcstDate><fcstTime>0900</fcstTime><fcstValue>4</fcstValue><nx>61</nx><ny>127</ny></item><item><baseDate>20230713</baseDate><baseTime>0530</baseTime><category>SKY</category><fcstDate>20230713</fcstDate><fcstTime>1000</fcstTime><fcstValue>4</fcstValue><nx>61</nx><ny>127</ny></item><item><baseDate>20230713</baseDate><baseTime>0530</baseTime><category>SKY</category><fcstDate>20230713</fcstDate><fcstTime>1100</fcstTime><fcstValue>4</fcstValue><nx>61</nx><ny>127</ny></item><item><baseDate>20230713</baseDate><baseTime>0530</baseTime><category>T1H</category><fcstDate>20230713</fcstDate><fcstTime>0600</fcstTime><fcstValue>25</fcstValue><nx>61</nx><ny>127</ny></item><item><baseDate>20230713</baseDate><baseTime>0530</baseTime><category>T1H</category><fcstDate>20230713</fcstDate><fcstTime>0700</fcstTime><fcstValue>25</fcstValue><nx>61</nx><ny>127</ny></item><item><baseDate>20230713</baseDate><baseTime>0530</baseTime><category>T1H</category><fcstDate>20230713</fcstDate><fcstTime>0800</fcstTime><fcstValue>26</fcstValue><nx>61</nx><ny>127</ny></item><item><baseDate>20230713</baseDate><baseTime>0530</baseTime><category>T1H</category><fcstDate>20230713</fcstDate><fcstTime>0900</fcstTime><fcstValue>26</fcstValue><nx>61</nx><ny>127</ny></item><item><baseDate>20230713</baseDate><baseTime>0530</baseTime><category>T1H</category><fcstDate>20230713</fcstDate><fcstTime>1000</fcstTime><fcstValue>26</fcstValue><nx>61</nx><ny>127</ny></item><item><baseDate>20230713</baseDate><baseTime>0530</baseTime><category>T1H</category><fcstDate>20230713</fcstDate><fcstTime>1100</fcstTime><fcstValue>25</fcstValue><nx>61</nx><ny>127</ny></item><item><baseDate>20230713</baseDate><baseTime>0530</baseTime><category>REH</category><fcstDate>20230713</fcstDate><fcstTime>0600</fcstTime><fcstValue>90</fcstValue><nx>61</nx><ny>127</ny></item><item><baseDate>20230713</baseDate><baseTime>0530</baseTime><category>REH</category><fcstDate>20230713</fcstDate><fcstTime>0700</fcstTime><fcstValue>90</fcstValue><nx>61</nx><ny>127</ny></item><item><baseDate>20230713</baseDate><baseTime>0530</baseTime><category>REH</category><fcstDate>20230713</fcstDate><fcstTime>0800</fcstTime><fcstValue>85</fcstValue><nx>61</nx><ny>127</ny></item><item><baseDate>20230713</baseDate><baseTime>0530</baseTime><category>REH</category><fcstDate>20230713</fcstDate><fcstTime>0900</fcstTime><fcstValue>85</fcstValue><nx>61</nx><ny>127</ny></item><item><baseDate>20230713</baseDate><baseTime>0530</baseTime><category>REH</category><fcstDate>20230713</fcstDate><fcstTime>1000</fcstTime><fcstValue>90</fcstValue><nx>61</nx><ny>127</ny></item><item><baseDate>20230713</baseDate><baseTime>0530</baseTime><category>REH</category><fcstDate>20230713</fcstDate><fcstTime>1100</fcstTime><fcstValue>85</fcstValue><nx>61</nx><ny>127</ny></item><item><baseDate>20230713</baseDate><baseTime>0530</baseTime><category>UUU</category><fcstDate>20230713</fcstDate><fcstTime>0600</fcstTime><fcstValue>-0.1</fcstValue><nx>61</nx><ny>127</ny></item><item><baseDate>20230713</baseDate><baseTime>0530</baseTime><category>UUU</category><fcstDate>20230713</fcstDate><fcstTime>0700</fcstTime><fcstValue>-0.8</fcstValue><nx>61</nx><ny>127</ny></item><item><baseDate>20230713</baseDate><baseTime>0530</baseTime><category>UUU</category><fcstDate>20230713</fcstDate><fcstTime>0800</fcstTime><fcstValue>-1</fcstValue><nx>61</nx><ny>127</ny></item><item><baseDate>20230713</baseDate><baseTime>0530</baseTime><category>UUU</category><fcstDate>20230713</fcstDate><fcstTime>0900</fcstTime><fcstValue>-0.6</fcstValue><nx>61</nx><ny>127</ny></item><item><baseDate>20230713</baseDate><baseTime>0530</baseTime><category>UUU</category><fcstDate>20230713</fcstDate><fcstTime>1000</fcstTime><fcstValue>-1.3</fcstValue><nx>61</nx><ny>127</ny></item><item><baseDate>20230713</baseDate><baseTime>0530</baseTime><category>UUU</category><fcstDate>20230713</fcstDate><fcstTime>1100</fcstTime><fcstValue>-1.3</fcstValue><nx>61</nx><ny>127</ny></item><item><baseDate>20230713</baseDate><baseTime>0530</baseTime><category>VVV</category><fcstDate>20230713</fcstDate><fcstTime>0600</fcstTime><fcstValue>0.7</fcstValue><nx>61</nx><ny>127</ny></item><item><baseDate>20230713</baseDate><baseTime>0530</baseTime><category>VVV</category><fcstDate>20230713</fcstDate><fcstTime>0700</fcstTime><fcstValue>-0.2</fcstValue><nx>61</nx><ny>127</ny></item><item><baseDate>20230713</baseDate><baseTime>0530</baseTime><category>VVV</category><fcstDate>20230713</fcstDate><fcstTime>0800</fcstTime><fcstValue>0</fcstValue><nx>61</nx><ny>127</ny></item><item><baseDate>20230713</baseDate><baseTime>0530</baseTime><category>VVV</category><fcstDate>20230713</fcstDate><fcstTime>0900</fcstTime><fcstValue>1.1</fcstValue><nx>61</nx><ny>127</ny></item><item><baseDate>20230713</baseDate><baseTime>0530</baseTime><category>VVV</category><fcstDate>20230713</fcstDate><fcstTime>1000</fcstTime><fcstValue>1.6</fcstValue><nx>61</nx><ny>127</ny></item><item><baseDate>20230713</baseDate><baseTime>0530</baseTime><category>VVV</category><fcstDate>20230713</fcstDate><fcstTime>1100</fcstTime><fcstValue>1</fcstValue><nx>61</nx><ny>127</ny></item><item><baseDate>20230713</baseDate><baseTime>0530</baseTime><category>VEC</category><fcstDate>20230713</fcstDate><fcstTime>0600</fcstTime><fcstValue>168</fcstValue><nx>61</nx><ny>127</ny></item><item><baseDate>20230713</baseDate><baseTime>0530</baseTime><category>VEC</category><fcstDate>20230713</fcstDate><fcstTime>0700</fcstTime><fcstValue>71</fcstValue><nx>61</nx><ny>127</ny></item><item><baseDate>20230713</baseDate><baseTime>0530</baseTime><category>VEC</category><fcstDate>20230713</fcstDate><fcstTime>0800</fcstTime><fcstValue>88</fcstValue><nx>61</nx><ny>127</ny></item><item><baseDate>20230713</baseDate><baseTime>0530</baseTime><category>VEC</category><fcstDate>20230713</fcstDate><fcstTime>0900</fcstTime><fcstValue>149</fcstValue><nx>61</nx><ny>127</ny></item><item><baseDate>20230713</baseDate><baseTime>0530</baseTime><category>VEC</category><fcstDate>20230713</fcstDate><fcstTime>1000</fcstTime><fcstValue>138</fcstValue><nx>61</nx><ny>127</ny></item><item><baseDate>20230713</baseDate><baseTime>0530</baseTime><category>VEC</category><fcstDate>20230713</fcstDate><fcstTime>1100</fcstTime><fcstValue>126</fcstValue><nx>61</nx><ny>127</ny></item><item><baseDate>20230713</baseDate><baseTime>0530</baseTime><category>WSD</category><fcstDate>20230713</fcstDate><fcstTime>0600</fcstTime><fcstValue>1</fcstValue><nx>61</nx><ny>127</ny></item><item><baseDate>20230713</baseDate><baseTime>0530</baseTime><category>WSD</category><fcstDate>20230713</fcstDate><fcstTime>0700</fcstTime><fcstValue>1</fcstValue><nx>61</nx><ny>127</ny></item><item><baseDate>20230713</baseDate><baseTime>0530</baseTime><category>WSD</category><fcstDate>20230713</fcstDate><fcstTime>0800</fcstTime><fcstValue>1</fcstValue><nx>61</nx><ny>127</ny></item><item><baseDate>20230713</baseDate><baseTime>0530</baseTime><category>WSD</category><fcstDate>20230713</fcstDate><fcstTime>0900</fcstTime><fcstValue>1</fcstValue><nx>61</nx><ny>127</ny></item><item><baseDate>20230713</baseDate><baseTime>0530</baseTime><category>WSD</category><fcstDate>20230713</fcstDate><fcstTime>1000</fcstTime><fcstValue>2</fcstValue><nx>61</nx><ny>127</ny></item><item><baseDate>20230713</baseDate><baseTime>0530</baseTime><category>WSD</category><fcstDate>20230713</fcstDate><fcstTime>1100</fcstTime><fcstValue>2</fcstValue><nx>61</nx><ny>127</ny></item></items><numOfRows>1000</numOfRows><pageNo>1</pageNo><totalCount>60</totalCount></body></response>"
      ]
     },
     "execution_count": 151,
     "metadata": {},
     "output_type": "execute_result"
    }
   ],
   "source": [
    "dom.response"
   ]
  },
  {
   "cell_type": "code",
   "execution_count": 152,
   "metadata": {},
   "outputs": [
    {
     "data": {
      "text/plain": [
       "['LGT', 'LGT', 'LGT', 'LGT', 'LGT', 'LGT', 'PTY', 'PTY', 'PTY', 'PTY', 'PTY', 'PTY', 'RN1', 'RN1', 'RN1', 'RN1', 'RN1', 'RN1', 'SKY', 'SKY', 'SKY', 'SKY', 'SKY', 'SKY', 'T1H', 'T1H', 'T1H', 'T1H', 'T1H', 'T1H', 'REH', 'REH', 'REH', 'REH', 'REH', 'REH', 'UUU', 'UUU', 'UUU', 'UUU', 'UUU', 'UUU', 'VVV', 'VVV', 'VVV', 'VVV', 'VVV', 'VVV', 'VEC', 'VEC', 'VEC', 'VEC', 'VEC', 'VEC', 'WSD', 'WSD', 'WSD', 'WSD', 'WSD', 'WSD']"
      ]
     },
     "execution_count": 152,
     "metadata": {},
     "output_type": "execute_result"
    }
   ],
   "source": [
    "[item.text for item in dom.select('items > item > category')]"
   ]
  },
  {
   "attachments": {},
   "cell_type": "markdown",
   "metadata": {},
   "source": [
    "공공 OpenAPT + servicekey(enc, dec) => REST\n"
   ]
  },
  {
   "attachments": {},
   "cell_type": "markdown",
   "metadata": {},
   "source": [
    "### 네이버"
   ]
  },
  {
   "cell_type": "code",
   "execution_count": 153,
   "metadata": {},
   "outputs": [],
   "source": [
    "url = 'https://ac.search.naver.com/nx/ac'\n",
    "\n",
    "params = {\n",
    "    'q': '',\n",
    "    'con': '0',\n",
    "    'frm': 'nv',\n",
    "    'ans': '2',\n",
    "    'r_format': 'json',\n",
    "    'r_enc': 'UTF-8',\n",
    "    'r_unicode': '0',\n",
    "    't_koreng': '1',\n",
    "    'run': '2',\n",
    "    'rev': '4',\n",
    "    'q_enc': 'UTF-8',\n",
    "    'st': '100'\n",
    "    }\n",
    "\n",
    "params['q'] = '뉴'\n",
    "resp = request('GET', url, params=params)"
   ]
  },
  {
   "cell_type": "code",
   "execution_count": 162,
   "metadata": {},
   "outputs": [
    {
     "data": {
      "text/plain": [
       "{'Date': 'Thu, 13 Jul 2023 03:19:03 GMT', 'Content-Type': 'application/json; charset=UTF-8', 'Content-Length': '242', 'Connection': 'keep-alive', 'Vary': 'Accept-Encoding', 'Content-Encoding': 'gzip', 'Server': 'nxfps'}"
      ]
     },
     "execution_count": 162,
     "metadata": {},
     "output_type": "execute_result"
    }
   ],
   "source": [
    "resp.headers"
   ]
  },
  {
   "cell_type": "code",
   "execution_count": 155,
   "metadata": {},
   "outputs": [
    {
     "name": "stdout",
     "output_type": "stream",
     "text": [
      "{\n",
      "\"query\" : [\"뉴\"],\n",
      "\"answer\" : [],\n",
      "\"intend\" : [{\"query\":\"뉴욕\",\"intend\":\"지명, 미국\",\"transQuery\":\"미국 뉴욕\"},{\"query\":\"뉴욕\",\"intend\":\"야구, 뉴욕 양키스\",\"transQuery\":\"뉴욕 양키스\"},{\"query\":\"뉴욕\",\"intend\":\"야구, 뉴욕 메츠\",\"transQuery\":\"뉴욕 메츠\"}],\n",
      "\"items\" : [\n",
      "[[\"뉴진스\", \"0\"],[\"뉴발란스\", \"0\"],[\"뉴스\", \"0\"],[\"뉴욕증시\", \"0\"],[\"뉴케어\", \"0\"],[\"뉴발란스키즈\", \"0\"],[\"뉴발란스 530\", \"0\"],[\"뉴에라\", \"0\"],[\"뉴홈\", \"0\"],[\"뉴질랜드\", \"0\"]]\n",
      "]\n",
      "}\n"
     ]
    }
   ],
   "source": [
    "print(resp.text)"
   ]
  },
  {
   "cell_type": "code",
   "execution_count": null,
   "metadata": {},
   "outputs": [],
   "source": []
  },
  {
   "cell_type": "code",
   "execution_count": null,
   "metadata": {},
   "outputs": [],
   "source": []
  }
 ],
 "metadata": {
  "kernelspec": {
   "display_name": "pytorch",
   "language": "python",
   "name": "python3"
  },
  "language_info": {
   "codemirror_mode": {
    "name": "ipython",
    "version": 3
   },
   "file_extension": ".py",
   "mimetype": "text/x-python",
   "name": "python",
   "nbconvert_exporter": "python",
   "pygments_lexer": "ipython3",
   "version": "3.8.16"
  },
  "orig_nbformat": 4
 },
 "nbformat": 4,
 "nbformat_minor": 2
}
