{
 "cells": [
  {
   "attachments": {},
   "cell_type": "markdown",
   "metadata": {},
   "source": [
    "Client(Python)    RDBMS(SQLite)     DB\n",
    "            (sqlite)\n",
    "- Connection\n",
    "- Cursor(작업) \n",
    "    1. execute*\n",
    "    2. fetch\n",
    "      -------->   (SQL)    <-------->\n",
    "                    ?\n",
    "        1. DDL (Create, Drop, Alter)\n",
    "        2. DML (Insert, Select) (Delete/Update)\n",
    "            Join (inner, left, right, cross)\n",
    "\n",
    "- Insert (반드시 attribute인 column의 수와 value의 수가 일치해야한다.) -> Transaction/Commit \n",
    "    -> 1. 모든 column, 2. 특정 column, 3. column 생략\n",
    "    -> execute* (params -> ?, {k(name):v(value의 값)})\n",
    "    ->                          iterable 해야함. => column의 values\n",
    "    -> executemany 일 떄 ------ iterable(iterable) => rows\n",
    "    -> 중첩 (SQL - SELECT 괄호; group, sort, limit, ...)\n",
    "- SELECT - Join\n",
    "    -> 교집합(inner), left/right, cross(모든 쌍 -> cost가 크다.)\n",
    "- Begin Transaction - SQLs - end\n",
    "- 에러 시 try except 통해 rollback 진행.\n",
    "\n",
    "\n",
    "---> 어제 진행했던 것은 ER 다이어그램이 실제 구현 시에 어떤 형식으로 구현될지 모른다."
   ]
  },
  {
   "attachments": {},
   "cell_type": "markdown",
   "metadata": {},
   "source": [
    "### 오늘의 실습\n",
    "-> iTunes 데이터 처리"
   ]
  },
  {
   "attachments": {},
   "cell_type": "markdown",
   "metadata": {},
   "source": [
    "[Artist] <- [Album] <- [Track Length Rating Count] -> [Genre]\n",
    "\n",
    "기능 단위 작업을 하면 정렬이 될 것이다. 기능 위주.\n",
    "구분을 위해 PK\n",
    "\n",
    "[Album | id, title] <-id(album)- [Track | id, title, length, rating, album_id]\n",
    "---> 해셔블할만한 key값이 있으면 좋음. PK."
   ]
  },
  {
   "cell_type": "code",
   "execution_count": null,
   "metadata": {},
   "outputs": [],
   "source": [
    "# 중복을 피한다. -> att"
   ]
  },
  {
   "cell_type": "code",
   "execution_count": 1,
   "metadata": {},
   "outputs": [],
   "source": [
    "import sqlite3"
   ]
  },
  {
   "cell_type": "code",
   "execution_count": 2,
   "metadata": {},
   "outputs": [],
   "source": [
    "con = sqlite3.connect('playlist.db')\n",
    "cur = con.cursor()"
   ]
  },
  {
   "cell_type": "code",
   "execution_count": 3,
   "metadata": {},
   "outputs": [],
   "source": [
    "# 4개의 테이블 생성 (가수, 앨범, 장르, 곡) <= ER(Entities)\n",
    "# 가수 : PK(int), 이름(text => char/varchar)\n",
    "# 앨범 : PK, 이름, 가수PK\n",
    "# 장르 : PK, 이름\n",
    "# 곡 : PK, 이름, 길이(time/int/real), 별점(int/real), 카운트(int), 앨범PK, 장르PK"
   ]
  },
  {
   "cell_type": "code",
   "execution_count": 8,
   "metadata": {},
   "outputs": [
    {
     "data": {
      "text/plain": [
       "[('2023-06-28 01:49:07',)]"
      ]
     },
     "execution_count": 8,
     "metadata": {},
     "output_type": "execute_result"
    }
   ],
   "source": [
    "# 시간 관련 타임스템프\n",
    "cur.execute('SELECT CURRENT_TIMESTAMP')\n",
    "cur.fetchall()"
   ]
  },
  {
   "cell_type": "code",
   "execution_count": 10,
   "metadata": {},
   "outputs": [
    {
     "data": {
      "text/plain": [
       "<sqlite3.Cursor at 0x105a68ea0>"
      ]
     },
     "execution_count": 10,
     "metadata": {},
     "output_type": "execute_result"
    }
   ],
   "source": [
    "cur.executescript('''\n",
    "DROP TABLE IF EXISTS artist;\n",
    "CREATE TABLE artist(\n",
    "    pk INTEGER PRIMARY KEY,\n",
    "    name TEXT NOT NULL\n",
    ");\n",
    "\n",
    "DROP TABLE IF EXISTS album;\n",
    "CREATE TABLE album(\n",
    "    pk INTEGER PRIMARY KEY,\n",
    "    name TEXT NOT NULL,\n",
    "    fk INTEGER NOT NULL\n",
    ");\n",
    "\n",
    "DROP TABLE IF EXISTS genre;\n",
    "CREATE TABLE genre(\n",
    "    pk INTEGER PRIMARY KEY,\n",
    "    name TEXT NOT NULL\n",
    ");\n",
    "\n",
    "DROP TABLE IF EXISTS track;\n",
    "CREATE TABLE track(\n",
    "    pk INTEGER PRIMARY KEY,\n",
    "    name TEXT NOT NULL DEFAULT '무제',\n",
    "    length INTEGER NOT NULL DEFAULT 0,\n",
    "    rating INTEGER NOT NULL DEFAULT 0,\n",
    "    count INTEGER NOT NULL DEFAULT 0,\n",
    "    fk1 INTEGER NOT NULL,\n",
    "    fk2 INTEGER NOT NULL\n",
    ");\n",
    "\n",
    "''')"
   ]
  },
  {
   "cell_type": "code",
   "execution_count": 12,
   "metadata": {},
   "outputs": [
    {
     "data": {
      "text/plain": [
       "<sqlite3.Cursor at 0x105a68ea0>"
      ]
     },
     "execution_count": 12,
     "metadata": {},
     "output_type": "execute_result"
    }
   ],
   "source": [
    "cur.execute('INSERT INTO track(fk1, fk2) VALUES (1,1)')"
   ]
  },
  {
   "cell_type": "code",
   "execution_count": 15,
   "metadata": {},
   "outputs": [
    {
     "data": {
      "text/plain": [
       "[(1, '무제', 0, 0, 0, 1, 1)]"
      ]
     },
     "execution_count": 15,
     "metadata": {},
     "output_type": "execute_result"
    }
   ],
   "source": [
    "cur.execute('SELECT * FROM track')\n",
    "cur.fetchall()\n",
    "# NOT NULL 제약 조건을 피해가기 위해 임의의 default 값 넣을 것임."
   ]
  },
  {
   "cell_type": "code",
   "execution_count": 17,
   "metadata": {},
   "outputs": [
    {
     "data": {
      "text/plain": [
       "<sqlite3.Cursor at 0x105a68ea0>"
      ]
     },
     "execution_count": 17,
     "metadata": {},
     "output_type": "execute_result"
    }
   ],
   "source": [
    "data = [(1, '가수A'), (None, '가수B')]\n",
    "cur.executemany('INSERT INTO artist VALUES(?,?)', data)"
   ]
  },
  {
   "cell_type": "code",
   "execution_count": 23,
   "metadata": {},
   "outputs": [
    {
     "data": {
      "text/plain": [
       "2"
      ]
     },
     "execution_count": 23,
     "metadata": {},
     "output_type": "execute_result"
    }
   ],
   "source": [
    "cur.lastrowid\n",
    "# lastrowid는 한번 더 확인하자. "
   ]
  },
  {
   "cell_type": "code",
   "execution_count": 44,
   "metadata": {},
   "outputs": [
    {
     "data": {
      "text/plain": [
       "[(1, '가수A'), (2, '가수B')]"
      ]
     },
     "execution_count": 44,
     "metadata": {},
     "output_type": "execute_result"
    }
   ],
   "source": [
    "cur.execute('SELECT * FROM artist')\n",
    "cur.fetchall()"
   ]
  },
  {
   "cell_type": "code",
   "execution_count": 46,
   "metadata": {},
   "outputs": [],
   "source": [
    "# 가수 입력 후 해당하는 가수가 있으면 PK, 없으면 insert 후 PK\n",
    "def addArtist(name, flag = 0): # flag는 정합/부분 일치 수행용.\n",
    "\n",
    "    # con 확인 구문 부분 -> 일반 DB에서는 connection을 항상 유지하지 않기 떄문에.\n",
    "    v = None\n",
    "    if flag == 0:\n",
    "        v = name\n",
    "    elif flag == 1:\n",
    "        v = '%' + name\n",
    "    elif flag == 2:\n",
    "        v = name + '%'\n",
    "    else:\n",
    "        v = '%' + name + '%'\n",
    "\n",
    "    cur.execute('SELECT PK FROM artist WHERE name LIKE ?', (v,))\n",
    "    rst = cur.fetchone() # tuple(column...)\n",
    "\n",
    "    if rst is None:\n",
    "        cur.execute('INSERT INTO artist(name) VALUES(?)', (name,))\n",
    "        rst = cur.lastrowid\n",
    "    else:\n",
    "        rst = rst[0] # column-PK\n",
    "\n",
    "    return rst\n"
   ]
  },
  {
   "cell_type": "code",
   "execution_count": 49,
   "metadata": {},
   "outputs": [
    {
     "data": {
      "text/plain": [
       "4"
      ]
     },
     "execution_count": 49,
     "metadata": {},
     "output_type": "execute_result"
    }
   ],
   "source": [
    "# flag : 0 - 정확히 일치, 1 - ~로 끝나는, 2 - ~로 시작하는, 3 - 중간에\n",
    "addArtist('가수', 0)"
   ]
  },
  {
   "cell_type": "code",
   "execution_count": 50,
   "metadata": {},
   "outputs": [],
   "source": [
    "def modArtist(name, rename):\n",
    "    pk = addArtist(name)\n",
    "\n",
    "    print()\n",
    "    cur.execute('UPDATE artist SET name=? WHERE pk=?', (rename, pk))\n",
    "\n",
    "    return cur.rowcount"
   ]
  },
  {
   "cell_type": "code",
   "execution_count": 53,
   "metadata": {},
   "outputs": [
    {
     "data": {
      "text/plain": [
       "1"
      ]
     },
     "execution_count": 53,
     "metadata": {},
     "output_type": "execute_result"
    }
   ],
   "source": [
    "modArtist('A', '가수C')"
   ]
  },
  {
   "cell_type": "code",
   "execution_count": 54,
   "metadata": {},
   "outputs": [
    {
     "data": {
      "text/plain": [
       "[(1, '가수A'), (2, '가수B'), (3, '가수C'), (4, '가수D')]"
      ]
     },
     "execution_count": 54,
     "metadata": {},
     "output_type": "execute_result"
    }
   ],
   "source": [
    "cur.execute('SELECT * FROM artist')\n",
    "cur.fetchall()"
   ]
  },
  {
   "cell_type": "code",
   "execution_count": 45,
   "metadata": {},
   "outputs": [],
   "source": [
    "def delArtist(name):\n",
    "    pk = addArtist(name)\n",
    "\n",
    "    cur.execute('DELETE FROM artist WHERE pk=?', (pk,))\n",
    "\n",
    "    return cur.rowcount"
   ]
  },
  {
   "cell_type": "code",
   "execution_count": 55,
   "metadata": {},
   "outputs": [
    {
     "data": {
      "text/plain": [
       "1"
      ]
     },
     "execution_count": 55,
     "metadata": {},
     "output_type": "execute_result"
    }
   ],
   "source": [
    "delArtist('가수B')"
   ]
  },
  {
   "cell_type": "code",
   "execution_count": 56,
   "metadata": {},
   "outputs": [
    {
     "data": {
      "text/plain": [
       "[(1, '가수A'), (3, '가수C'), (4, '가수D')]"
      ]
     },
     "execution_count": 56,
     "metadata": {},
     "output_type": "execute_result"
    }
   ],
   "source": [
    "cur.execute('SELECT * FROM artist')\n",
    "cur.fetchall()"
   ]
  },
  {
   "cell_type": "code",
   "execution_count": 66,
   "metadata": {},
   "outputs": [],
   "source": [
    "def addRow(tablename, columns, values):\n",
    "    # 전제조건으로 column과 value의 개수를 맞추는 조건 주입.\n",
    "    if len(columns) != len(values):\n",
    "        return False\n",
    "    \n",
    "    # column 병합\n",
    "    c = ', '.join(columns)\n",
    "    q = ', '.join(['?' for v in values])\n",
    "\n",
    "    where = list()\n",
    "    for i in range(len(columns)):\n",
    "        where.append('='.join([columns[i], '?'])) # name = ?\n",
    "    where = ' and '.join(where)\n",
    "\n",
    "\n",
    "    cur.execute('SELECT pk FROM ' + tablename + ' WHERE ' + where, values)\n",
    "    rst = cur.fetchone()\n",
    "\n",
    "    if rst == None:\n",
    "        cur.execute('INSERT INTO ' + tablename + '(' + c + ')' + \\\n",
    "                    'VALUES(' + q + ')', values)\n",
    "        rst = cur.lastrowid\n",
    "    else:\n",
    "        rst = rst[0]\n",
    "\n",
    "    return rst # Auto-increment의 특성을 가지고 있는 primary-key를 통해 제대로 더해졌는지를 확인하기 위함."
   ]
  },
  {
   "cell_type": "code",
   "execution_count": 70,
   "metadata": {},
   "outputs": [
    {
     "data": {
      "text/plain": [
       "[(1, '발라드'), (2, '락'), (3, '클래식')]"
      ]
     },
     "execution_count": 70,
     "metadata": {},
     "output_type": "execute_result"
    }
   ],
   "source": [
    "addRow('genre', ['name'], ['클래식'])\n",
    "cur.execute('SELECT * FROM genre')\n",
    "cur.fetchall()"
   ]
  },
  {
   "cell_type": "code",
   "execution_count": null,
   "metadata": {},
   "outputs": [],
   "source": []
  },
  {
   "cell_type": "code",
   "execution_count": 58,
   "metadata": {},
   "outputs": [
    {
     "data": {
      "text/plain": [
       "['?', '?', '?', '?']"
      ]
     },
     "execution_count": 58,
     "metadata": {},
     "output_type": "execute_result"
    }
   ],
   "source": [
    "# 파이썬 개념 정리\n",
    "['?' for v in range(len([1,2,3,4]))]"
   ]
  },
  {
   "cell_type": "code",
   "execution_count": null,
   "metadata": {},
   "outputs": [],
   "source": [
    "def addGenre(name, flag = 0):\n",
    "    # con 확인\n",
    "    \n",
    "    # 일치 키워드 관련 플래그 구문\n",
    "    v = None\n",
    "\n",
    "    if flag == 0:\n",
    "        v = name\n",
    "\n",
    "    elif flag == 1:\n",
    "        v = '%' + name\n",
    "    \n",
    "    elif flag == 2:\n",
    "        v = name + '%'\n",
    "    \n",
    "    else: \n",
    "        v = '%' + name + '%'\n",
    "\n",
    "    \n",
    "    cur.execute('SELECT pk FROM genre WHERE name=?', (v,))\n",
    "    rst = cur.fetchone()\n",
    "\n",
    "    if rst == None:\n",
    "        cur.execute('INSERT INTO pk FROM genre(name) VALUES(?)', (name,))\n",
    "        rst = cur.lastrowid\n",
    "    else:\n",
    "        rst = rst[0]\n",
    "        \n",
    "    return rst\n",
    "    "
   ]
  },
  {
   "cell_type": "code",
   "execution_count": 108,
   "metadata": {},
   "outputs": [
    {
     "data": {
      "text/plain": [
       "4"
      ]
     },
     "execution_count": 108,
     "metadata": {},
     "output_type": "execute_result"
    }
   ],
   "source": [
    "# 알고리즘의 원리 : 일단 값이 없으면 무조건 넣는다.\n",
    "p1 = '가수C'\n",
    "p2 = '앨범5'\n",
    "\n",
    "pk = addRow('artist', ['name'], [p1])\n",
    "addRow('album', ['name', 'fk'], [p2, pk])"
   ]
  },
  {
   "cell_type": "code",
   "execution_count": 72,
   "metadata": {},
   "outputs": [
    {
     "data": {
      "text/plain": [
       "[(1, '앨범1', 1)]"
      ]
     },
     "execution_count": 72,
     "metadata": {},
     "output_type": "execute_result"
    }
   ],
   "source": [
    "cur.execute('SELECT * FROM album')\n",
    "cur.fetchall()"
   ]
  },
  {
   "cell_type": "code",
   "execution_count": 110,
   "metadata": {},
   "outputs": [
    {
     "data": {
      "text/plain": [
       "False"
      ]
     },
     "execution_count": 110,
     "metadata": {},
     "output_type": "execute_result"
    }
   ],
   "source": [
    "pk1 = addRow('artist', ['name'], [p1])\n",
    "pk2 = addRow('genre', ['name'], ['락'])\n",
    "addRow('album', ['name', 'fk'], [p1,pk1,pk2])"
   ]
  },
  {
   "cell_type": "code",
   "execution_count": 101,
   "metadata": {},
   "outputs": [],
   "source": [
    "con.commit()"
   ]
  },
  {
   "cell_type": "code",
   "execution_count": 74,
   "metadata": {},
   "outputs": [
    {
     "data": {
      "text/plain": [
       "[(1, '무제', 0, 0, 0, 1, 1), (2, '가수A', 0, 0, 0, 1, 1)]"
      ]
     },
     "execution_count": 74,
     "metadata": {},
     "output_type": "execute_result"
    }
   ],
   "source": [
    "cur.execute('SELECT * FROM track')\n",
    "cur.fetchall()"
   ]
  },
  {
   "cell_type": "code",
   "execution_count": 75,
   "metadata": {},
   "outputs": [],
   "source": [
    "# 내부적으로 번거롭고 귀찮기 떄문에 ORM이 나온다는 점을 알아채자."
   ]
  },
  {
   "cell_type": "code",
   "execution_count": 96,
   "metadata": {},
   "outputs": [],
   "source": [
    "# 수정 set => columns = value, \n",
    "\n",
    "def modRow(tablename, columns, values, newvalues):\n",
    "    # 전제조건으로 column과 value의 개수를 맞추는 조건 주입.\n",
    "    if len(columns) != len(values):\n",
    "        return False\n",
    "    \n",
    "    # column 병합\n",
    "    pk = addRow(tablename, columns, values)\n",
    "\n",
    "    where = list()\n",
    "    for i in range(len(columns)):\n",
    "        where.append('='.join([columns[i], values[i]]))\n",
    "    where = ' and '.join(where)\n",
    "\n",
    "    s = list()\n",
    "    for i in range(len(columns)):\n",
    "        if newvalues[i]:\n",
    "            s.append(columns[i] + '=\"' + newvalues[i] + '\"') \n",
    "    s = ', '.join(s)\n",
    "\n",
    "\n",
    "    print('UPDATE '+tablename+ ' SET ' + s + ' WHERE ' + where)\n",
    "    cur.execute('UPDATE '+tablename+ 'SET ' + s + ' WHERE ' + where , (values))\n",
    "\n",
    "    return cur.rowcount\n",
    "    "
   ]
  },
  {
   "cell_type": "code",
   "execution_count": null,
   "metadata": {},
   "outputs": [],
   "source": [
    "modRow('track', ['name', 'fk1', 'fk2'], ['가수A', 1, 2], ['노래1', None, None])"
   ]
  },
  {
   "cell_type": "code",
   "execution_count": 97,
   "metadata": {},
   "outputs": [
    {
     "data": {
      "text/plain": [
       "[('가수A', 1), ('가수C', 0), ('가수D', 0), ('어쩌고', 0)]"
      ]
     },
     "execution_count": 97,
     "metadata": {},
     "output_type": "execute_result"
    }
   ],
   "source": [
    "# 가수 기준 앨범\n",
    "# 가수 1-* 앨범\n",
    "cur.execute(''' \n",
    "\n",
    "    SELECT name1, COUNT(name2)\n",
    "    FROM\n",
    "    (SELECT artist.name AS name1, album.name AS name2 \n",
    "    FROM artist\n",
    "    LEFT JOIN album\n",
    "    ON album.fk = artist.pk) AS A\n",
    "    GROUP BY name1\n",
    "\n",
    "''')\n",
    "            \n",
    "cur.fetchall()"
   ]
  },
  {
   "cell_type": "code",
   "execution_count": 98,
   "metadata": {},
   "outputs": [
    {
     "data": {
      "text/plain": [
       "[('가수A',), ('가수C',), ('가수D',), ('어쩌고',)]"
      ]
     },
     "execution_count": 98,
     "metadata": {},
     "output_type": "execute_result"
    }
   ],
   "source": [
    "# 가수 기준 앨범\n",
    "# 가수 1-* 앨범\n",
    "cur.execute(''' \n",
    "\n",
    "    SELECT DISTINCT(artist.name) \n",
    "    FROM artist\n",
    "    LEFT JOIN album\n",
    "    ON album.fk = artist.pk\n",
    "    \n",
    "''')\n",
    "            \n",
    "cur.fetchall()"
   ]
  },
  {
   "cell_type": "code",
   "execution_count": null,
   "metadata": {},
   "outputs": [],
   "source": [
    "# DBMS의 연산을 이용하기 위해서 query를 잘 작성해야한다. 이번엔 함수 단위로 쿼리를 분기함. 함수로 쪼개야 한다. \n",
    "cur.execute(''' \n",
    "\n",
    "    SELECT D.name, B.name, C.name, A.name\n",
    "    FROM track as A\n",
    "    INNER JOIN album AS B\n",
    "    ON A.fk = B.pk\n",
    "    INNER JOIN genre AS C\n",
    "    ON A.fk2 = C.pk\n",
    "    INNER JOIN artist AS D\n",
    "    ON D.pk = B.fk\n",
    "    \n",
    "''')\n",
    "            \n",
    "cur.fetchall()"
   ]
  },
  {
   "cell_type": "code",
   "execution_count": 100,
   "metadata": {},
   "outputs": [
    {
     "data": {
      "text/plain": [
       "[(1, '발라드', 1, '무제'), (1, '발라드', 2, '가수A'), (2, '락', 3, '가수A')]"
      ]
     },
     "execution_count": 100,
     "metadata": {},
     "output_type": "execute_result"
    }
   ],
   "source": [
    "#1. 장르별 노래 목록\n",
    "cur.execute('''\n",
    "    SELECT genre.pk, genre.name, track.pk, track.name\n",
    "    FROM track\n",
    "    INNER JOIN genre \n",
    "    ON track.fk2 = genre.pk\n",
    "    ORDER BY genre.pk, track.pk ASC\n",
    "''')\n",
    "cur.fetchall()\n"
   ]
  },
  {
   "cell_type": "code",
   "execution_count": null,
   "metadata": {},
   "outputs": [],
   "source": [
    "#2. 장르별 노래 갯수\n",
    "cur.execute('''\n",
    "    SELECT genre.pk, genre.name, COUNT(track.pk)\n",
    "    FROM track\n",
    "    INNER JOIN genre \n",
    "    ON track.fk2 = genre.pk\n",
    "    ORDER BY genre.pk\n",
    "    ORDER BY genre.pk, track.pk ASC\n",
    "''')\n",
    "cur.fetchall()\n"
   ]
  },
  {
   "cell_type": "code",
   "execution_count": 105,
   "metadata": {},
   "outputs": [
    {
     "data": {
      "text/plain": [
       "[(1, '앨범1', 1, '무제'), (1, '앨범1', 2, '가수A'), (1, '앨범1', 3, '가수A')]"
      ]
     },
     "execution_count": 105,
     "metadata": {},
     "output_type": "execute_result"
    }
   ],
   "source": [
    "#3. 앨범별 노래 목록\n",
    "cur.execute('''\n",
    "    SELECT album.pk, album.name, track.pk, track.name\n",
    "    FROM track\n",
    "    INNER JOIN album \n",
    "    ON track.fk1 = album.pk\n",
    "    ORDER BY album.fk, album.pk, track.pk ASC\n",
    "''')\n",
    "cur.fetchall()\n"
   ]
  },
  {
   "cell_type": "code",
   "execution_count": null,
   "metadata": {},
   "outputs": [],
   "source": [
    "#4. 앨범별 노래 갯수\n"
   ]
  },
  {
   "cell_type": "code",
   "execution_count": null,
   "metadata": {},
   "outputs": [],
   "source": [
    "#5. 전체 플레이리스트에서 count > 5 초과이면서, 내림차순 -> 자주 듣는 목록.\n",
    "cur.execute('''\n",
    "    SELECT album.pk, album.name, genre.name, A.name, A.length, A.rating, A.count\n",
    "    FROM track AS A\n",
    "    INNER JOIN genre ON genre.pk = A.fk2\n",
    "    INNER JOIN album ON album.pk = A.fk1\n",
    "    INNER JOIN artist ON artist.pk = album.fk\n",
    "    WHERE A.count > 5\n",
    "    ORDER BY A.count > 5\n",
    "    ORDER BY A.count DESC\n",
    "''')\n",
    "cur.fetchall()\n"
   ]
  },
  {
   "cell_type": "code",
   "execution_count": null,
   "metadata": {},
   "outputs": [],
   "source": [
    "\n",
    "#6. 장르가 락일 때, 노래가 짧은 것 순서로.\n",
    "cur.execute('''\n",
    "    SELECT B.name, A.name\n",
    "    FROM track AS A\n",
    "    INNER JOIN genre AS B ON B.pk = A.fk2 AND B.name = '락'\n",
    "    ORDER BY A.length ASC\n",
    "''')\n",
    "cur.fetchall()\n"
   ]
  },
  {
   "cell_type": "code",
   "execution_count": null,
   "metadata": {},
   "outputs": [],
   "source": [
    "\n",
    "cur.execute('''\n",
    "    SELECT B.name, A.name\n",
    "    FROM track AS A\n",
    "    INNER JOIN genre AS B ON B.pk = A.fk2\n",
    "    WHERE genre.name = '락'\n",
    "    ORDER BY A.length ASC\n",
    "''')\n",
    "cur.fetchall()\n"
   ]
  },
  {
   "cell_type": "code",
   "execution_count": null,
   "metadata": {},
   "outputs": [],
   "source": [
    "\n",
    "cur.execute('''\n",
    "    SELECT B.name, A.name\n",
    "    FROM track AS A\n",
    "    INNER JOIN genre AS B ON B.pk = A.fk2\n",
    "    WHERE B.pk  = (SELECT pk FROM genre WHERE name = '락')\n",
    "    ORDER BY A.length ASC\n",
    "''')\n",
    "cur.fetchall()"
   ]
  },
  {
   "cell_type": "code",
   "execution_count": null,
   "metadata": {},
   "outputs": [],
   "source": []
  }
 ],
 "metadata": {
  "kernelspec": {
   "display_name": "pytorch",
   "language": "python",
   "name": "python3"
  },
  "language_info": {
   "codemirror_mode": {
    "name": "ipython",
    "version": 3
   },
   "file_extension": ".py",
   "mimetype": "text/x-python",
   "name": "python",
   "nbconvert_exporter": "python",
   "pygments_lexer": "ipython3",
   "version": "3.8.16"
  },
  "orig_nbformat": 4
 },
 "nbformat": 4,
 "nbformat_minor": 2
}
