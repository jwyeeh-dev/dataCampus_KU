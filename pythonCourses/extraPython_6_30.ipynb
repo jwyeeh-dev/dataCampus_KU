{
 "cells": [
  {
   "cell_type": "code",
   "execution_count": 1,
   "metadata": {},
   "outputs": [],
   "source": [
    "# 추상화\n",
    "# 다형성 : function overload, operational overload, dispatch."
   ]
  },
  {
   "cell_type": "code",
   "execution_count": 2,
   "metadata": {},
   "outputs": [],
   "source": [
    "# 개념적으로는 여러개 처리하지만, 내부적으로는 한개씩 뽑는 툴\n",
    "# 이터레이터, 제너레이터 : 만드는 방식에 차이가 있다. \n",
    "\n",
    "# 딥러닝은 많은 데이터를 활용하기 때문에 메모리에 한꺼번에 못 올리는 경우가 발생하기 때문에 이러한 툴을 활용하여 처리하는 경우가 있다.\n",
    "# ex) image_batch, labels_batch = next(iter(normalized_ds))\n",
    "# iterable은 인덱싱, 슬라이싱이 가능하나 iterator는 메모리를 필요할 때마다.\n",
    "# generator : 함수 yield, 튜플로 제작."
   ]
  },
  {
   "cell_type": "code",
   "execution_count": 3,
   "metadata": {},
   "outputs": [],
   "source": [
    "import seaborn as sns\n",
    "tips = sns.load_dataset('tips')"
   ]
  },
  {
   "cell_type": "code",
   "execution_count": 4,
   "metadata": {},
   "outputs": [
    {
     "name": "stdout",
     "output_type": "stream",
     "text": [
      "<class 'pandas.core.frame.DataFrame'>\n",
      "RangeIndex: 244 entries, 0 to 243\n",
      "Data columns (total 7 columns):\n",
      " #   Column      Non-Null Count  Dtype   \n",
      "---  ------      --------------  -----   \n",
      " 0   total_bill  244 non-null    float64 \n",
      " 1   tip         244 non-null    float64 \n",
      " 2   sex         244 non-null    category\n",
      " 3   smoker      244 non-null    category\n",
      " 4   day         244 non-null    category\n",
      " 5   time        244 non-null    category\n",
      " 6   size        244 non-null    int64   \n",
      "dtypes: category(4), float64(2), int64(1)\n",
      "memory usage: 7.4 KB\n"
     ]
    }
   ],
   "source": [
    "tips.info() # memory usage: 7.4 KB 확인."
   ]
  },
  {
   "cell_type": "code",
   "execution_count": 5,
   "metadata": {},
   "outputs": [],
   "source": [
    "# 이미지 데이터에 대해서도 iter skill이 필요하다."
   ]
  },
  {
   "cell_type": "code",
   "execution_count": 6,
   "metadata": {},
   "outputs": [],
   "source": [
    "# yield에도 from이 가능하다. "
   ]
  },
  {
   "cell_type": "code",
   "execution_count": 7,
   "metadata": {},
   "outputs": [],
   "source": [
    "#generator\n",
    "def g():\n",
    "    yield 1\n",
    "    yield 2\n",
    "    yield 3"
   ]
  },
  {
   "cell_type": "code",
   "execution_count": 8,
   "metadata": {},
   "outputs": [],
   "source": [
    "def gg():\n",
    "    yield from [1,2,3]"
   ]
  },
  {
   "cell_type": "code",
   "execution_count": 9,
   "metadata": {},
   "outputs": [
    {
     "name": "stdout",
     "output_type": "stream",
     "text": [
      "The \"raise\" statement\n",
      "*********************\n",
      "\n",
      "   raise_stmt ::= \"raise\" [expression [\"from\" expression]]\n",
      "\n",
      "If no expressions are present, \"raise\" re-raises the last exception\n",
      "that was active in the current scope.  If no exception is active in\n",
      "the current scope, a \"RuntimeError\" exception is raised indicating\n",
      "that this is an error.\n",
      "\n",
      "Otherwise, \"raise\" evaluates the first expression as the exception\n",
      "object.  It must be either a subclass or an instance of\n",
      "\"BaseException\". If it is a class, the exception instance will be\n",
      "obtained when needed by instantiating the class with no arguments.\n",
      "\n",
      "The *type* of the exception is the exception instance’s class, the\n",
      "*value* is the instance itself.\n",
      "\n",
      "A traceback object is normally created automatically when an exception\n",
      "is raised and attached to it as the \"__traceback__\" attribute, which\n",
      "is writable. You can create an exception and set your own traceback in\n",
      "one step using the \"with_traceback()\" exception method (which returns\n",
      "the same exception instance, with its traceback set to its argument),\n",
      "like so:\n",
      "\n",
      "   raise Exception(\"foo occurred\").with_traceback(tracebackobj)\n",
      "\n",
      "The \"from\" clause is used for exception chaining: if given, the second\n",
      "*expression* must be another exception class or instance. If the\n",
      "second expression is an exception instance, it will be attached to the\n",
      "raised exception as the \"__cause__\" attribute (which is writable). If\n",
      "the expression is an exception class, the class will be instantiated\n",
      "and the resulting exception instance will be attached to the raised\n",
      "exception as the \"__cause__\" attribute. If the raised exception is not\n",
      "handled, both exceptions will be printed:\n",
      "\n",
      "   >>> try:\n",
      "   ...     print(1 / 0)\n",
      "   ... except Exception as exc:\n",
      "   ...     raise RuntimeError(\"Something bad happened\") from exc\n",
      "   ...\n",
      "   Traceback (most recent call last):\n",
      "     File \"<stdin>\", line 2, in <module>\n",
      "   ZeroDivisionError: division by zero\n",
      "\n",
      "   The above exception was the direct cause of the following exception:\n",
      "\n",
      "   Traceback (most recent call last):\n",
      "     File \"<stdin>\", line 4, in <module>\n",
      "   RuntimeError: Something bad happened\n",
      "\n",
      "A similar mechanism works implicitly if an exception is raised inside\n",
      "an exception handler or a \"finally\" clause: the previous exception is\n",
      "then attached as the new exception’s \"__context__\" attribute:\n",
      "\n",
      "   >>> try:\n",
      "   ...     print(1 / 0)\n",
      "   ... except:\n",
      "   ...     raise RuntimeError(\"Something bad happened\")\n",
      "   ...\n",
      "   Traceback (most recent call last):\n",
      "     File \"<stdin>\", line 2, in <module>\n",
      "   ZeroDivisionError: division by zero\n",
      "\n",
      "   During handling of the above exception, another exception occurred:\n",
      "\n",
      "   Traceback (most recent call last):\n",
      "     File \"<stdin>\", line 4, in <module>\n",
      "   RuntimeError: Something bad happened\n",
      "\n",
      "Exception chaining can be explicitly suppressed by specifying \"None\"\n",
      "in the \"from\" clause:\n",
      "\n",
      "   >>> try:\n",
      "   ...     print(1 / 0)\n",
      "   ... except:\n",
      "   ...     raise RuntimeError(\"Something bad happened\") from None\n",
      "   ...\n",
      "   Traceback (most recent call last):\n",
      "     File \"<stdin>\", line 4, in <module>\n",
      "   RuntimeError: Something bad happened\n",
      "\n",
      "Additional information on exceptions can be found in section\n",
      "Exceptions, and information about handling exceptions is in section\n",
      "The try statement.\n",
      "\n",
      "Changed in version 3.3: \"None\" is now permitted as \"Y\" in \"raise X\n",
      "from Y\".\n",
      "\n",
      "New in version 3.3: The \"__suppress_context__\" attribute to suppress\n",
      "automatic display of the exception context.\n",
      "\n",
      "Related help topics: EXCEPTIONS\n",
      "\n"
     ]
    }
   ],
   "source": [
    "# raise 에 from : 오류 순차적으로.\n",
    "help('raise')\n"
   ]
  },
  {
   "cell_type": "code",
   "execution_count": 29,
   "metadata": {},
   "outputs": [],
   "source": [
    "# 무한 반복하는 것이 필요,\n",
    "from itertools import cycle, permutations, combinations"
   ]
  },
  {
   "cell_type": "code",
   "execution_count": 11,
   "metadata": {},
   "outputs": [],
   "source": [
    "a = cycle([1,2,3])"
   ]
  },
  {
   "cell_type": "code",
   "execution_count": 12,
   "metadata": {},
   "outputs": [
    {
     "data": {
      "text/plain": [
       "<itertools.cycle at 0x103d73040>"
      ]
     },
     "execution_count": 12,
     "metadata": {},
     "output_type": "execute_result"
    }
   ],
   "source": [
    "a #메모리 번지가 있으면 iter 확률 높음."
   ]
  },
  {
   "cell_type": "code",
   "execution_count": 18,
   "metadata": {},
   "outputs": [
    {
     "data": {
      "text/plain": [
       "3"
      ]
     },
     "execution_count": 18,
     "metadata": {},
     "output_type": "execute_result"
    }
   ],
   "source": [
    "next(a)"
   ]
  },
  {
   "cell_type": "code",
   "execution_count": 26,
   "metadata": {},
   "outputs": [],
   "source": [
    "n = permutations([1,2,3], r = 2)"
   ]
  },
  {
   "cell_type": "code",
   "execution_count": 27,
   "metadata": {},
   "outputs": [
    {
     "data": {
      "text/plain": [
       "(1, 2)"
      ]
     },
     "execution_count": 27,
     "metadata": {},
     "output_type": "execute_result"
    }
   ],
   "source": [
    "next(n)"
   ]
  },
  {
   "cell_type": "code",
   "execution_count": 30,
   "metadata": {},
   "outputs": [],
   "source": [
    "# 객체 지향 프로그래밍"
   ]
  },
  {
   "cell_type": "code",
   "execution_count": 31,
   "metadata": {},
   "outputs": [],
   "source": [
    "class A:\n",
    "    pass"
   ]
  },
  {
   "cell_type": "code",
   "execution_count": 32,
   "metadata": {},
   "outputs": [],
   "source": [
    "a = A()"
   ]
  },
  {
   "cell_type": "code",
   "execution_count": 33,
   "metadata": {},
   "outputs": [
    {
     "ename": "TypeError",
     "evalue": "'A' object is not callable",
     "output_type": "error",
     "traceback": [
      "\u001b[0;31m---------------------------------------------------------------------------\u001b[0m",
      "\u001b[0;31mTypeError\u001b[0m                                 Traceback (most recent call last)",
      "Cell \u001b[0;32mIn[33], line 1\u001b[0m\n\u001b[0;32m----> 1\u001b[0m a()\n",
      "\u001b[0;31mTypeError\u001b[0m: 'A' object is not callable"
     ]
    }
   ],
   "source": [
    "a() # callable error"
   ]
  },
  {
   "cell_type": "code",
   "execution_count": 34,
   "metadata": {},
   "outputs": [],
   "source": [
    "class A:\n",
    "    def __call__(self):\n",
    "        print('call')"
   ]
  },
  {
   "cell_type": "code",
   "execution_count": 35,
   "metadata": {},
   "outputs": [],
   "source": [
    "a = A()"
   ]
  },
  {
   "cell_type": "code",
   "execution_count": 36,
   "metadata": {},
   "outputs": [
    {
     "name": "stdout",
     "output_type": "stream",
     "text": [
      "call\n"
     ]
    }
   ],
   "source": [
    "a()"
   ]
  },
  {
   "cell_type": "code",
   "execution_count": 38,
   "metadata": {},
   "outputs": [
    {
     "name": "stdout",
     "output_type": "stream",
     "text": [
      "call\n"
     ]
    }
   ],
   "source": [
    "b = A()() # closure technique"
   ]
  },
  {
   "cell_type": "code",
   "execution_count": 39,
   "metadata": {},
   "outputs": [],
   "source": [
    "class A:\n",
    "    def __init__(self, x):\n",
    "        self.x = x\n",
    "    \n",
    "    def __call__(self, y): # 인스턴스 변수 : 클래스 내 다른 인스턴스 메소드에 접근 가능하다. __init__ 접근 가능하다. \n",
    "        return self.x + y"
   ]
  },
  {
   "cell_type": "code",
   "execution_count": 40,
   "metadata": {},
   "outputs": [
    {
     "data": {
      "text/plain": [
       "7"
      ]
     },
     "execution_count": 40,
     "metadata": {},
     "output_type": "execute_result"
    }
   ],
   "source": [
    "A(3)(4)"
   ]
  },
  {
   "cell_type": "code",
   "execution_count": 41,
   "metadata": {},
   "outputs": [],
   "source": [
    "# 동일한 기능을 하는 함수\n",
    "def x(m):\n",
    "    def y(n):\n",
    "        return m + n\n",
    "    return y"
   ]
  },
  {
   "cell_type": "code",
   "execution_count": 42,
   "metadata": {},
   "outputs": [
    {
     "data": {
      "text/plain": [
       "7"
      ]
     },
     "execution_count": 42,
     "metadata": {},
     "output_type": "execute_result"
    }
   ],
   "source": [
    "x(3)(4)"
   ]
  },
  {
   "cell_type": "code",
   "execution_count": null,
   "metadata": {},
   "outputs": [],
   "source": [
    "# __call__ : 객체 지향, 함수형 패러다임 경계 없음. 객체 지향으로 함수형 패러다임을 가져다쓸 수 있다. Keras가 이 점을 차용했다. \n",
    "# closure "
   ]
  },
  {
   "cell_type": "code",
   "execution_count": 43,
   "metadata": {},
   "outputs": [],
   "source": [
    "# class -> 함수형 패러다임 -> __iter__, __next__로도 iterator, generator 만들 수 있다."
   ]
  },
  {
   "cell_type": "code",
   "execution_count": null,
   "metadata": {},
   "outputs": [],
   "source": [
    "#data cleansing\n",
    "#data "
   ]
  },
  {
   "cell_type": "code",
   "execution_count": null,
   "metadata": {},
   "outputs": [],
   "source": [
    "# 상속\n",
    "# duck-typing\n",
    "# 추상화 "
   ]
  },
  {
   "cell_type": "code",
   "execution_count": 45,
   "metadata": {},
   "outputs": [],
   "source": [
    "# duck-typing으로 class iterator 구현.\n",
    "# 오캄의 면도날\n",
    "# 1. \"많은 것들을 필요없이 가정해서는 안된다\" (Pluralitas non est ponenda sine neccesitate.)\n",
    "# 2. \"더 적은 수의 논리로 설명이 가능한 경우, 많은 수의 논리를 세우지 말라.\"(Frustra fit per plura quod potest fieri per pauciora.)\n",
    "# -> 파이썬의 철학 : Simple is better that complex.\n",
    "import this"
   ]
  },
  {
   "cell_type": "code",
   "execution_count": 46,
   "metadata": {},
   "outputs": [],
   "source": [
    "# 작은 계산 시에 : Recursive, 큰 계산 시에 : Iterative 기법 (rec ~ elimination 문제)"
   ]
  },
  {
   "cell_type": "code",
   "execution_count": 47,
   "metadata": {},
   "outputs": [],
   "source": [
    "from operator import add, mul\n",
    "# operator에 있는 것은 모두 함수다. "
   ]
  },
  {
   "cell_type": "code",
   "execution_count": 48,
   "metadata": {},
   "outputs": [
    {
     "data": {
      "text/plain": [
       "7"
      ]
     },
     "execution_count": 48,
     "metadata": {},
     "output_type": "execute_result"
    }
   ],
   "source": [
    "add(3,4)"
   ]
  },
  {
   "cell_type": "code",
   "execution_count": 49,
   "metadata": {},
   "outputs": [
    {
     "data": {
      "text/plain": [
       "12"
      ]
     },
     "execution_count": 49,
     "metadata": {},
     "output_type": "execute_result"
    }
   ],
   "source": [
    "mul(3,4)"
   ]
  },
  {
   "cell_type": "code",
   "execution_count": 50,
   "metadata": {},
   "outputs": [],
   "source": [
    "# 함수형 패러다임에서 합성함수를 활용하기 위해서 \n",
    "# map, filter, reduce -> higher-order function (함수를 인자로.)"
   ]
  },
  {
   "cell_type": "code",
   "execution_count": null,
   "metadata": {},
   "outputs": [],
   "source": [
    "# map, filter\n",
    "# 하지 말라는 것에는 조건."
   ]
  },
  {
   "cell_type": "code",
   "execution_count": 52,
   "metadata": {},
   "outputs": [],
   "source": [
    "# 함수형 패러다임의 꽃, map\n",
    "b = map(lambda x: x+1, {1,2,3,4,5}) #map 방식"
   ]
  },
  {
   "cell_type": "code",
   "execution_count": 59,
   "metadata": {},
   "outputs": [
    {
     "data": {
      "text/plain": [
       "[2, 3, 4, 5, 6]"
      ]
     },
     "execution_count": 59,
     "metadata": {},
     "output_type": "execute_result"
    }
   ],
   "source": [
    "list(map(lambda x: x+1, {1,2,3,4,5}))"
   ]
  },
  {
   "cell_type": "code",
   "execution_count": 58,
   "metadata": {},
   "outputs": [
    {
     "data": {
      "text/plain": [
       "[2, 3, 4, 5, 6]"
      ]
     },
     "execution_count": 58,
     "metadata": {},
     "output_type": "execute_result"
    }
   ],
   "source": [
    "[i+1 for i in [1,2,3,4,5]] #comprehension"
   ]
  },
  {
   "cell_type": "code",
   "execution_count": 53,
   "metadata": {},
   "outputs": [
    {
     "name": "stdout",
     "output_type": "stream",
     "text": [
      "2\n",
      "3\n",
      "4\n",
      "5\n",
      "6\n"
     ]
    }
   ],
   "source": [
    "# iterable이 들어가면 iterator\n",
    "for i in [1,2,3,4,5]:\n",
    "    print(i+1)"
   ]
  },
  {
   "cell_type": "code",
   "execution_count": 54,
   "metadata": {},
   "outputs": [],
   "source": [
    "import seaborn as sns\n",
    "tips = sns.load_dataset('tips')"
   ]
  },
  {
   "cell_type": "code",
   "execution_count": null,
   "metadata": {},
   "outputs": [],
   "source": [
    "tips.tip.map(lambda x:x+1, [1,2,3,4,5])\n",
    "#논리만 정확하면 간결하게."
   ]
  },
  {
   "cell_type": "code",
   "execution_count": 62,
   "metadata": {},
   "outputs": [
    {
     "data": {
      "text/plain": [
       "4"
      ]
     },
     "execution_count": 62,
     "metadata": {},
     "output_type": "execute_result"
    }
   ],
   "source": [
    "next(filter(lambda x:x > 3, [1,2,3,4,5]))#  iterator -> True만 걸러줌.\n",
    "# predicate 함수 : True/False 반환"
   ]
  },
  {
   "cell_type": "code",
   "execution_count": 67,
   "metadata": {},
   "outputs": [
    {
     "data": {
      "text/plain": [
       "False"
      ]
     },
     "execution_count": 67,
     "metadata": {},
     "output_type": "execute_result"
    }
   ],
   "source": [
    "all([1,2,3,1,\"\"]) # True가 하나라도 없으면 False (missing data 검출)"
   ]
  },
  {
   "cell_type": "code",
   "execution_count": 66,
   "metadata": {},
   "outputs": [
    {
     "data": {
      "text/plain": [
       "True"
      ]
     },
     "execution_count": 66,
     "metadata": {},
     "output_type": "execute_result"
    }
   ],
   "source": [
    "any([\"\", 3]) # True가 하나만 있어도 True "
   ]
  },
  {
   "cell_type": "code",
   "execution_count": 91,
   "metadata": {},
   "outputs": [],
   "source": [
    "arr = [1,2,3,1,\"\"]\n",
    "def allF(arr):\n",
    "    for i in arr:\n",
    "        if i == \"\":\n",
    "            return False\n",
    "        else:\n",
    "            continue\n",
    "    return True"
   ]
  },
  {
   "cell_type": "code",
   "execution_count": 92,
   "metadata": {},
   "outputs": [],
   "source": [
    "def anyF(arr):\n",
    "    for i in arr:\n",
    "        if i is not None:\n",
    "            return True\n",
    "        else:\n",
    "            continue\n",
    "    return False"
   ]
  },
  {
   "cell_type": "code",
   "execution_count": 93,
   "metadata": {},
   "outputs": [
    {
     "data": {
      "text/plain": [
       "False"
      ]
     },
     "execution_count": 93,
     "metadata": {},
     "output_type": "execute_result"
    }
   ],
   "source": [
    "allF(arr)"
   ]
  },
  {
   "cell_type": "code",
   "execution_count": 94,
   "metadata": {},
   "outputs": [
    {
     "data": {
      "text/plain": [
       "True"
      ]
     },
     "execution_count": 94,
     "metadata": {},
     "output_type": "execute_result"
    }
   ],
   "source": [
    "anyF(arr)"
   ]
  },
  {
   "cell_type": "code",
   "execution_count": 101,
   "metadata": {},
   "outputs": [],
   "source": [
    "# for를 활용하는 두가지 방법 -> 초기값 두고.\n",
    "# 1. Accumulation Pattern\n",
    "# 2. Look and Sentinal "
   ]
  },
  {
   "cell_type": "code",
   "execution_count": 97,
   "metadata": {},
   "outputs": [],
   "source": [
    "# Accumulator(tion) Pattern\n",
    "temp = 0\n",
    "cnt = 0 \n",
    "for i in range(1,11):\n",
    "    temp += i\n"
   ]
  },
  {
   "cell_type": "code",
   "execution_count": 98,
   "metadata": {},
   "outputs": [
    {
     "data": {
      "text/plain": [
       "55"
      ]
     },
     "execution_count": 98,
     "metadata": {},
     "output_type": "execute_result"
    }
   ],
   "source": [
    "temp"
   ]
  },
  {
   "cell_type": "code",
   "execution_count": 119,
   "metadata": {},
   "outputs": [],
   "source": [
    "# Look and Search(Sentinel)\n",
    "arr = [1,\"2\",3]\n",
    "temp = True\n",
    "cnt = 0\n",
    "for i in range(len(arr)):\n",
    "    if arr[i] != 3:\n",
    "        temp = False\n",
    "        continue\n",
    "    else:\n",
    "        temp = True\n",
    "        cnt = i\n",
    "        break"
   ]
  },
  {
   "cell_type": "code",
   "execution_count": 120,
   "metadata": {},
   "outputs": [
    {
     "data": {
      "text/plain": [
       "(True, 2)"
      ]
     },
     "execution_count": 120,
     "metadata": {},
     "output_type": "execute_result"
    }
   ],
   "source": [
    "temp, cnt"
   ]
  },
  {
   "cell_type": "code",
   "execution_count": 150,
   "metadata": {},
   "outputs": [],
   "source": [
    "# accumulator -> 쌓는 것.\n",
    "from itertools import accumulate"
   ]
  },
  {
   "cell_type": "code",
   "execution_count": 153,
   "metadata": {},
   "outputs": [],
   "source": [
    "a = accumulate([1,2,3,4,5], add) # 누적 시키는 함수이기 때문에 두 개씩 넣음. "
   ]
  },
  {
   "cell_type": "code",
   "execution_count": 158,
   "metadata": {},
   "outputs": [
    {
     "data": {
      "text/plain": [
       "15"
      ]
     },
     "execution_count": 158,
     "metadata": {},
     "output_type": "execute_result"
    }
   ],
   "source": [
    "next(a)"
   ]
  },
  {
   "cell_type": "code",
   "execution_count": 152,
   "metadata": {},
   "outputs": [
    {
     "data": {
      "text/plain": [
       "120"
      ]
     },
     "execution_count": 152,
     "metadata": {},
     "output_type": "execute_result"
    }
   ],
   "source": [
    "# accumulator와 reduce는 비슷한 사용법\n",
    "from functools import reduce\n",
    "from operator import mul\n",
    "reduce(mul, [1,2,3,4,5])"
   ]
  },
  {
   "cell_type": "code",
   "execution_count": 159,
   "metadata": {},
   "outputs": [
    {
     "data": {
      "text/plain": [
       "[3, 5, 7, 9, 11]"
      ]
     },
     "execution_count": 159,
     "metadata": {},
     "output_type": "execute_result"
    }
   ],
   "source": [
    "# CDF\n",
    "list(map(lambda x,y : x+y, [1,2,3,4,5], [2,3,4,5,6]))\n",
    "# 주입 방식이 다르다. column reduction. -> column comprehension."
   ]
  },
  {
   "cell_type": "code",
   "execution_count": null,
   "metadata": {},
   "outputs": [],
   "source": [
    "# for 사용 & map 사용\n"
   ]
  }
 ],
 "metadata": {
  "kernelspec": {
   "display_name": "pytorch",
   "language": "python",
   "name": "python3"
  },
  "language_info": {
   "codemirror_mode": {
    "name": "ipython",
    "version": 3
   },
   "file_extension": ".py",
   "mimetype": "text/x-python",
   "name": "python",
   "nbconvert_exporter": "python",
   "pygments_lexer": "ipython3",
   "version": "3.8.16"
  },
  "orig_nbformat": 4
 },
 "nbformat": 4,
 "nbformat_minor": 2
}
