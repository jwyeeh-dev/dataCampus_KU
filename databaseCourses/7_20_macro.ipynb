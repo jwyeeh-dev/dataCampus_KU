{
 "cells": [
  {
   "cell_type": "markdown",
   "metadata": {},
   "source": [
    "Instagram => request.session, cookies, headers\n",
    "Meta, Graph API => Hack, Dev.;\n",
    "Content(Node) - PK\n",
    "HTTP(HTML); API (OAuth - 사용자 인증); CSRF(서버 인증) Token\n",
    "CSRF(index.html); HTML(js(*), css, ...)\n",
    "Selenium => BotX, AgentX, CrawlerX => 테스트 자동화\n",
    "; JS Engine(Browser) Execute\n",
    "UI/UX; 입력(키보드, 마우스); find_element(s) <= By.CSS_SELECTOR(*), XPATH\n",
    "; locator => element(DOM;id); DOM; Clickable X, Enable X, Selected X \n",
    "Wait(Implicit, Explicit) => Test/Macro\n",
    "; DOM(DOM(DOM)), Window_handle (창/탭)"
   ]
  },
  {
   "cell_type": "markdown",
   "metadata": {},
   "source": [
    "TXT => raw text; Preprocessing\n",
    "한국말 : 음절, 어절, 단어, 형태소, 품사, 어근/접사, 어간/어미, 구, 절, 문단, 문서, ...\n",
    "                    분절\n",
    "Computationaal NLP : 4대 중의성 (Ambiquity)\n",
    "        => SPTokenizer(BPE)\n",
    "        => X = 숫자 인코딩, X1 => 숫자 인코딩 (feature)\n",
    "        => 의미적 중의성(단어, 단어들, ...) = Embedding(Lexicon, LM, ..) -> BERT(Transformer), GPT (챗봇-; GnA)\n",
    "        => Embedding (NN, NLP, DNN, AR, GAN, ...)"
   ]
  },
  {
   "cell_type": "code",
   "execution_count": null,
   "metadata": {},
   "outputs": [],
   "source": [
    "# 인터파크 예매 (Selenium; Request) - OCR 뚫기 가능.\n",
    "# CAPTCHA -> JS, 마우스움직임();\n",
    "# URL-URL(RefererX)-URL3; Random Surfer; Damping Factor"
   ]
  },
  {
   "cell_type": "code",
   "execution_count": 50,
   "metadata": {},
   "outputs": [],
   "source": [
    "from selenium.webdriver import Chrome\n",
    "from selenium.webdriver.common.by import By\n",
    "from selenium.webdriver.support.ui import WebDriverWait\n",
    "from selenium.webdriver.support import expected_conditions as EC\n",
    "from requests.compat import *\n",
    "import re\n",
    "import json"
   ]
  },
  {
   "cell_type": "code",
   "execution_count": 93,
   "metadata": {},
   "outputs": [],
   "source": [
    "driver = Chrome()"
   ]
  },
  {
   "cell_type": "code",
   "execution_count": 94,
   "metadata": {},
   "outputs": [],
   "source": [
    "urls = {\n",
    "    'home' : 'https://ticket.interpark.com'\n",
    "}\n",
    "\n",
    "with open('idpw.txt', 'r') as f:\n",
    "    interpark = json.load(f)\n"
   ]
  },
  {
   "cell_type": "code",
   "execution_count": 95,
   "metadata": {},
   "outputs": [
    {
     "name": "stdout",
     "output_type": "stream",
     "text": [
      "cto_bundle\n",
      "ab.storage.deviceId.cd97b079-ff05-4967-873a-324050c2a198\n",
      "ab.storage.sessionId.cd97b079-ff05-4967-873a-324050c2a198\n",
      "pcid\n",
      "OAX\n"
     ]
    }
   ],
   "source": [
    "driver.get(urls['home'])\n",
    "for c in driver.get_cookies():\n",
    "    if not c['name'].startswith('_'):\n",
    "        print(c['name'])"
   ]
  },
  {
   "cell_type": "code",
   "execution_count": 43,
   "metadata": {},
   "outputs": [
    {
     "data": {
      "text/plain": [
       "'인터파크 티켓'"
      ]
     },
     "execution_count": 43,
     "metadata": {},
     "output_type": "execute_result"
    }
   ],
   "source": [
    "driver.title"
   ]
  },
  {
   "cell_type": "code",
   "execution_count": 100,
   "metadata": {},
   "outputs": [],
   "source": [
    "urls['login'] = 'https://accounts.interpark.com/authorize/ticket-pc?origin=https%3A%2F%2Fticket%2Einterpark%2Ecom%2FGate%2FTPLoginConfirmGate%2Easp&postProc=IFRAME'\n",
    "driver.get(urls['login'])"
   ]
  },
  {
   "cell_type": "code",
   "execution_count": null,
   "metadata": {},
   "outputs": [],
   "source": []
  },
  {
   "cell_type": "code",
   "execution_count": null,
   "metadata": {},
   "outputs": [],
   "source": [
    "try:\n",
    "    wait = WebDriverWait(driver, 3, .1)\n",
    "    wait.until(EC.visibility_of_element_located((By.CSS_SELECTOR, '#userId')))\n",
    "    wait.until(EC.visibility_of_element_located((By.CSS_SELECTOR, '#userPwd')))\n",
    "    wait.until(EC.visibility_of_element_located((By.CSS_SELECTOR, '#btn_login')))\n",
    "\n",
    "    uid = driver.find_element(By.CSS_SELECTOR, '#userId')\n",
    "    upw = driver.find_element(By.CSS_SELECTOR, '#userPwd')\n",
    "    ubtn = driver.find_element(By.CSS_SELECTOR, '#btn_login')\n",
    "\n",
    "    uid.clear()\n",
    "    uid.send_keys(interpark['inter_id'])\n",
    "\n",
    "    upw.clear()\n",
    "    upw.send_keys(interpark['inter_pw'])\n",
    "\n",
    "    ubtn.click()\n",
    "\n",
    "except:\n",
    "    raise Exception('Error')"
   ]
  },
  {
   "cell_type": "code",
   "execution_count": 14,
   "metadata": {},
   "outputs": [
    {
     "data": {
      "text/plain": [
       "(<selenium.webdriver.remote.webelement.WebElement (session=\"093ad517abb32ffbfd758b137e53f323\", element=\"17B3DB07B0E6C66234E04C209497FF0B_element_13\")>,\n",
       " <selenium.webdriver.remote.webelement.WebElement (session=\"093ad517abb32ffbfd758b137e53f323\", element=\"17B3DB07B0E6C66234E04C209497FF0B_element_12\")>)"
      ]
     },
     "execution_count": 14,
     "metadata": {},
     "output_type": "execute_result"
    }
   ],
   "source": [
    "EC.visibility_of_element_located((By.CSS_SELECTOR, '#userId'))(driver), \\\n",
    "EC.visibility_of_element_located((By.CSS_SELECTOR, '#userPwd'))(driver)"
   ]
  },
  {
   "cell_type": "code",
   "execution_count": 28,
   "metadata": {},
   "outputs": [],
   "source": [
    "driver.get(urls['home'])\n",
    "incookie = [c['name'] for c in driver.get_cookies() if not c['name'].startswith('_')]"
   ]
  },
  {
   "cell_type": "code",
   "execution_count": 34,
   "metadata": {},
   "outputs": [
    {
     "data": {
      "text/plain": [
       "['OAX',\n",
       " 'ab.storage.sessionId.cd97b079-ff05-4967-873a-324050c2a198',\n",
       " 'cto_bundle',\n",
       " 'ab.storage.deviceId.cd97b079-ff05-4967-873a-324050c2a198',\n",
       " 'pcid',\n",
       " 'sector']"
      ]
     },
     "execution_count": 34,
     "metadata": {},
     "output_type": "execute_result"
    }
   ],
   "source": [
    "incookie"
   ]
  },
  {
   "cell_type": "code",
   "execution_count": 35,
   "metadata": {},
   "outputs": [],
   "source": [
    "driver.get(urls['home'])\n",
    "outcookie = [c['name'] for c in driver.get_cookies() if not c['name'].startswith('_')]"
   ]
  },
  {
   "cell_type": "code",
   "execution_count": 36,
   "metadata": {},
   "outputs": [
    {
     "data": {
      "text/plain": [
       "['ab.storage.sessionId.cd97b079-ff05-4967-873a-324050c2a198',\n",
       " 'OAX',\n",
       " 'cto_bundle',\n",
       " 'ab.storage.deviceId.cd97b079-ff05-4967-873a-324050c2a198',\n",
       " 'pcid',\n",
       " 'sector']"
      ]
     },
     "execution_count": 36,
     "metadata": {},
     "output_type": "execute_result"
    }
   ],
   "source": [
    "outcookie"
   ]
  },
  {
   "cell_type": "code",
   "execution_count": 39,
   "metadata": {},
   "outputs": [
    {
     "data": {
      "text/plain": [
       "[('OAX', 'ab.storage.sessionId.cd97b079-ff05-4967-873a-324050c2a198'),\n",
       " ('ab.storage.sessionId.cd97b079-ff05-4967-873a-324050c2a198', 'OAX'),\n",
       " ('cto_bundle', 'cto_bundle'),\n",
       " ('ab.storage.deviceId.cd97b079-ff05-4967-873a-324050c2a198',\n",
       "  'ab.storage.deviceId.cd97b079-ff05-4967-873a-324050c2a198'),\n",
       " ('pcid', 'pcid'),\n",
       " ('sector', 'sector')]"
      ]
     },
     "execution_count": 39,
     "metadata": {},
     "output_type": "execute_result"
    }
   ],
   "source": [
    "list(zip(incookie,outcookie))"
   ]
  },
  {
   "cell_type": "code",
   "execution_count": 101,
   "metadata": {},
   "outputs": [],
   "source": [
    "def checkLogin(uid, upw, redirect = urls['home']):\n",
    "    if not driver.get_cookie([\"TKLogin\"]):\n",
    "        driver.get(urls['login'])\n",
    "\n",
    "        try:\n",
    "            wait = WebDriverWait(driver, 3, .1)\n",
    "            wait.until(EC.visibility_of_element_located((By.CSS_SELECTOR, '#userId')))\n",
    "            wait.until(EC.visibility_of_element_located((By.CSS_SELECTOR, '#userPwd')))\n",
    "            wait.until(EC.visibility_of_element_located((By.CSS_SELECTOR, '#btn_login')))\n",
    "\n",
    "            fid = driver.find_element(By.CSS_SELECTOR, '#userId')\n",
    "            fpw = driver.find_element(By.CSS_SELECTOR, '#userPwd')\n",
    "            fbtn = driver.find_element(By.CSS_SELECTOR, '#btn_login')\n",
    "\n",
    "            fid.clear()\n",
    "            fid.send_keys(uid)\n",
    "\n",
    "            fpw.clear()\n",
    "            fpw.send_keys(upw)\n",
    "\n",
    "            fbtn.click()\n",
    "\n",
    "            driver.get(redirect)\n",
    "\n",
    "        except:\n",
    "            raise Exception('Error')"
   ]
  },
  {
   "cell_type": "code",
   "execution_count": 102,
   "metadata": {},
   "outputs": [],
   "source": [
    "checkLogin(interpark['inter_id'],interpark['inter_pw'])"
   ]
  },
  {
   "cell_type": "code",
   "execution_count": 105,
   "metadata": {},
   "outputs": [],
   "source": [
    "urls['concert'] = 'http://ticket.interpark.com/TPGoodsList.asp?Ca=Liv'"
   ]
  },
  {
   "cell_type": "code",
   "execution_count": 74,
   "metadata": {},
   "outputs": [],
   "source": [
    "driver.get(urls['concert'].format(5))"
   ]
  },
  {
   "cell_type": "code",
   "execution_count": 75,
   "metadata": {},
   "outputs": [],
   "source": [
    "cList = [(re.search(r'(\\d+)$', a.get_attribute('href')).group(1), a.find_element(By.CSS_SELECTOR, 'img').get_attribute('alt')) for a in driver.find_elements(By.CSS_SELECTOR, '.stit table > tbody > tr > td:first-child a')]\n",
    "\n",
    "#    print(re.search(r'(\\d{8}$', a.get_attribute('href')).group(1))\n",
    "#    print(a.find_element(By.CSS_SELECTOR, 'img').get_attribute('alt'))\n",
    "#    print(re.search(r'한여름'), a.find_element(By.CSS_SELECTOR, 'img').get_attribute('alt'))"
   ]
  },
  {
   "cell_type": "code",
   "execution_count": 76,
   "metadata": {},
   "outputs": [
    {
     "data": {
      "text/plain": [
       "28"
      ]
     },
     "execution_count": 76,
     "metadata": {},
     "output_type": "execute_result"
    }
   ],
   "source": [
    "len(list(filter(lambda t : re.search('대구', t[1]), cList)))"
   ]
  },
  {
   "cell_type": "code",
   "execution_count": 77,
   "metadata": {},
   "outputs": [
    {
     "data": {
      "text/plain": [
       "'/TPGoodsList.asp'"
      ]
     },
     "execution_count": 77,
     "metadata": {},
     "output_type": "execute_result"
    }
   ],
   "source": [
    "urlparse(driver.current_url).path"
   ]
  },
  {
   "cell_type": "code",
   "execution_count": 106,
   "metadata": {},
   "outputs": [],
   "source": [
    "def checkConcert(name, sort = 5):\n",
    "    if urlparse(urls['concert']).path != urlparse(driver.current_url).path:\n",
    "        driver.get(urls['concert'].format(sort))\n",
    "    \n",
    "    cList = [(re.search(r'(\\d+)$', a.get_attribute('href')).group(1), \n",
    "              a.find_element(By.CSS_SELECTOR, 'img').get_attribute('alt')) for a in driver.find_elements(By.CSS_SELECTOR, '.stit table > tbody > tr > td:first-child a')]\n",
    "\n",
    "    if name:\n",
    "        return list(filter(lambda t:re.search(name, t[1]), cList))\n",
    "    else:\n",
    "        return cList\n",
    "    "
   ]
  },
  {
   "cell_type": "code",
   "execution_count": 107,
   "metadata": {},
   "outputs": [
    {
     "data": {
      "text/plain": [
       "('23009076', 'NELL CLUB CONCERT 2023 ‘Burn’')"
      ]
     },
     "execution_count": 107,
     "metadata": {},
     "output_type": "execute_result"
    }
   ],
   "source": [
    "checkConcert('NELL')[0]"
   ]
  },
  {
   "cell_type": "code",
   "execution_count": 108,
   "metadata": {},
   "outputs": [],
   "source": [
    "urls['info'] = 'https://tickets.interpark.com/goods/{}'"
   ]
  },
  {
   "cell_type": "code",
   "execution_count": 81,
   "metadata": {},
   "outputs": [
    {
     "data": {
      "text/plain": [
       "'https://tickets.interpark.com/goods/23009076'"
      ]
     },
     "execution_count": 81,
     "metadata": {},
     "output_type": "execute_result"
    }
   ],
   "source": [
    "urls['info'].format(checkConcert('NELL')[0][0])"
   ]
  },
  {
   "cell_type": "code",
   "execution_count": 85,
   "metadata": {},
   "outputs": [],
   "source": [
    "concert = checkConcert('NELL')[0]\n",
    "driver.get(urls['info'].format(concert[0]))"
   ]
  },
  {
   "cell_type": "code",
   "execution_count": 121,
   "metadata": {},
   "outputs": [],
   "source": [
    "for _ in driver.find_elements(By.CSS_SELECTOR, '.popup.is-visible .popupCloseBtn'):\n",
    "    _.click()"
   ]
  },
  {
   "cell_type": "code",
   "execution_count": 87,
   "metadata": {},
   "outputs": [],
   "source": [
    "day = 3\n",
    "driver.find_elements(By.CSS_SELECTOR, '''ul[data-view=\"days\"] > li[class=\"\"], ul[data-view=\"days\"] > li[class = \"picked\"]''')[day-1].click()"
   ]
  },
  {
   "cell_type": "code",
   "execution_count": 91,
   "metadata": {},
   "outputs": [],
   "source": [
    "time = 1\n",
    "tList = driver.find_elements(By.CSS_SELECTOR, 'ul.timeTableList > li.timeTableItem > a')\n",
    "if time > len(tList):\n",
    "    time = len(tList)\n",
    "tList[time-1].click()"
   ]
  },
  {
   "cell_type": "code",
   "execution_count": 134,
   "metadata": {},
   "outputs": [
    {
     "data": {
      "text/plain": [
       "'/goods/23009076'"
      ]
     },
     "execution_count": 134,
     "metadata": {},
     "output_type": "execute_result"
    }
   ],
   "source": [
    "urlparse(driver.current_url).path"
   ]
  },
  {
   "cell_type": "code",
   "execution_count": 135,
   "metadata": {},
   "outputs": [
    {
     "data": {
      "text/plain": [
       "'/goods/{}'"
      ]
     },
     "execution_count": 135,
     "metadata": {},
     "output_type": "execute_result"
    }
   ],
   "source": [
    "urlparse(urls['info']).path"
   ]
  },
  {
   "cell_type": "code",
   "execution_count": 153,
   "metadata": {},
   "outputs": [],
   "source": [
    "for _ in driver.find_elements(By.CSS_SELECTOR, '.popup.is-visible .popupCloseBtn'):\n",
    "        _.click()"
   ]
  },
  {
   "cell_type": "code",
   "execution_count": 154,
   "metadata": {},
   "outputs": [],
   "source": [
    "def checkDateTime(cid, day = 1, time = 1):\n",
    "    for popup in driver.find_elements(By.CSS_SELECTOR, '.popup.is-visible .popupCloseBtn'):\n",
    "        popup.click()\n",
    "    if urlparse(urls['info']).path != urlparse(driver.current_url).path:\n",
    "        driver.get(urls['info'].format(cid))\n",
    "    \n",
    "    dList = driver.find_elements(By.CSS_SELECTOR, '''ul[data-view=\"days\"] > li[class=\"\"], ul[data-view=\"days\"] > li[class = \"picked\"]''')\n",
    "    print(dList)\n",
    "    dList[(day if day <= len(dList) else 1)-1].click()\n",
    "\n",
    "    tList = driver.find_elements(By.CSS_SELECTOR, 'ul.timeTableList > li.timeTableItem > a')\n",
    "    tList[(time if time <= len(tList) else 1)-1].click()\n",
    "\n",
    "    a = driver.find_element(By.CSS_SELECTOR, '.sideBtn.is-primary')\n",
    "    if a.is_enabled():\n",
    "        a.click()\n",
    "\n",
    "    else:\n",
    "        driver.execute_script('alert(\"예매불가\");')"
   ]
  },
  {
   "cell_type": "code",
   "execution_count": 155,
   "metadata": {},
   "outputs": [
    {
     "name": "stdout",
     "output_type": "stream",
     "text": [
      "[]\n"
     ]
    },
    {
     "ename": "IndexError",
     "evalue": "list index out of range",
     "output_type": "error",
     "traceback": [
      "\u001b[0;31m---------------------------------------------------------------------------\u001b[0m",
      "\u001b[0;31mIndexError\u001b[0m                                Traceback (most recent call last)",
      "Cell \u001b[0;32mIn[155], line 1\u001b[0m\n\u001b[0;32m----> 1\u001b[0m checkDateTime(\u001b[39m23009076\u001b[39;49m)\n",
      "Cell \u001b[0;32mIn[154], line 9\u001b[0m, in \u001b[0;36mcheckDateTime\u001b[0;34m(cid, day, time)\u001b[0m\n\u001b[1;32m      7\u001b[0m dList \u001b[39m=\u001b[39m driver\u001b[39m.\u001b[39mfind_elements(By\u001b[39m.\u001b[39mCSS_SELECTOR, \u001b[39m'''\u001b[39m\u001b[39mul[data-view=\u001b[39m\u001b[39m\"\u001b[39m\u001b[39mdays\u001b[39m\u001b[39m\"\u001b[39m\u001b[39m] > li[class=\u001b[39m\u001b[39m\"\u001b[39m\u001b[39m\"\u001b[39m\u001b[39m], ul[data-view=\u001b[39m\u001b[39m\"\u001b[39m\u001b[39mdays\u001b[39m\u001b[39m\"\u001b[39m\u001b[39m] > li[class = \u001b[39m\u001b[39m\"\u001b[39m\u001b[39mpicked\u001b[39m\u001b[39m\"\u001b[39m\u001b[39m]\u001b[39m\u001b[39m'''\u001b[39m)\n\u001b[1;32m      8\u001b[0m \u001b[39mprint\u001b[39m(dList)\n\u001b[0;32m----> 9\u001b[0m dList[(day \u001b[39mif\u001b[39;49;00m day \u001b[39m<\u001b[39;49m\u001b[39m=\u001b[39;49m \u001b[39mlen\u001b[39;49m(dList) \u001b[39melse\u001b[39;49;00m \u001b[39m1\u001b[39;49m)\u001b[39m-\u001b[39;49m\u001b[39m1\u001b[39;49m]\u001b[39m.\u001b[39mclick()\n\u001b[1;32m     11\u001b[0m tList \u001b[39m=\u001b[39m driver\u001b[39m.\u001b[39mfind_elements(By\u001b[39m.\u001b[39mCSS_SELECTOR, \u001b[39m'\u001b[39m\u001b[39mul.timeTableList > li.timeTableItem > a\u001b[39m\u001b[39m'\u001b[39m)\n\u001b[1;32m     12\u001b[0m tList[(time \u001b[39mif\u001b[39;00m time \u001b[39m<\u001b[39m\u001b[39m=\u001b[39m \u001b[39mlen\u001b[39m(tList) \u001b[39melse\u001b[39;00m \u001b[39m1\u001b[39m)\u001b[39m-\u001b[39m\u001b[39m1\u001b[39m]\u001b[39m.\u001b[39mclick()\n",
      "\u001b[0;31mIndexError\u001b[0m: list index out of range"
     ]
    }
   ],
   "source": [
    "checkDateTime(23009076)"
   ]
  },
  {
   "cell_type": "code",
   "execution_count": 142,
   "metadata": {},
   "outputs": [
    {
     "data": {
      "text/plain": [
       "'23009076'"
      ]
     },
     "execution_count": 142,
     "metadata": {},
     "output_type": "execute_result"
    }
   ],
   "source": []
  },
  {
   "cell_type": "code",
   "execution_count": 156,
   "metadata": {},
   "outputs": [
    {
     "name": "stdout",
     "output_type": "stream",
     "text": [
      "[]\n"
     ]
    },
    {
     "ename": "IndexError",
     "evalue": "list index out of range",
     "output_type": "error",
     "traceback": [
      "\u001b[0;31m---------------------------------------------------------------------------\u001b[0m",
      "\u001b[0;31mIndexError\u001b[0m                                Traceback (most recent call last)",
      "Cell \u001b[0;32mIn[156], line 7\u001b[0m\n\u001b[1;32m      3\u001b[0m NELL \u001b[39m=\u001b[39m checkConcert(\u001b[39m'\u001b[39m\u001b[39mNELL\u001b[39m\u001b[39m'\u001b[39m)\n\u001b[1;32m      5\u001b[0m checkLogin(interpark[\u001b[39m'\u001b[39m\u001b[39minter_id\u001b[39m\u001b[39m'\u001b[39m], interpark[\u001b[39m'\u001b[39m\u001b[39minter_pw\u001b[39m\u001b[39m'\u001b[39m])\n\u001b[0;32m----> 7\u001b[0m checkDateTime(NELL[\u001b[39m-\u001b[39;49m\u001b[39m1\u001b[39;49m][\u001b[39m0\u001b[39;49m], \u001b[39m1\u001b[39;49m, \u001b[39m0\u001b[39;49m)\n",
      "Cell \u001b[0;32mIn[154], line 9\u001b[0m, in \u001b[0;36mcheckDateTime\u001b[0;34m(cid, day, time)\u001b[0m\n\u001b[1;32m      7\u001b[0m dList \u001b[39m=\u001b[39m driver\u001b[39m.\u001b[39mfind_elements(By\u001b[39m.\u001b[39mCSS_SELECTOR, \u001b[39m'''\u001b[39m\u001b[39mul[data-view=\u001b[39m\u001b[39m\"\u001b[39m\u001b[39mdays\u001b[39m\u001b[39m\"\u001b[39m\u001b[39m] > li[class=\u001b[39m\u001b[39m\"\u001b[39m\u001b[39m\"\u001b[39m\u001b[39m], ul[data-view=\u001b[39m\u001b[39m\"\u001b[39m\u001b[39mdays\u001b[39m\u001b[39m\"\u001b[39m\u001b[39m] > li[class = \u001b[39m\u001b[39m\"\u001b[39m\u001b[39mpicked\u001b[39m\u001b[39m\"\u001b[39m\u001b[39m]\u001b[39m\u001b[39m'''\u001b[39m)\n\u001b[1;32m      8\u001b[0m \u001b[39mprint\u001b[39m(dList)\n\u001b[0;32m----> 9\u001b[0m dList[(day \u001b[39mif\u001b[39;49;00m day \u001b[39m<\u001b[39;49m\u001b[39m=\u001b[39;49m \u001b[39mlen\u001b[39;49m(dList) \u001b[39melse\u001b[39;49;00m \u001b[39m1\u001b[39;49m)\u001b[39m-\u001b[39;49m\u001b[39m1\u001b[39;49m]\u001b[39m.\u001b[39mclick()\n\u001b[1;32m     11\u001b[0m tList \u001b[39m=\u001b[39m driver\u001b[39m.\u001b[39mfind_elements(By\u001b[39m.\u001b[39mCSS_SELECTOR, \u001b[39m'\u001b[39m\u001b[39mul.timeTableList > li.timeTableItem > a\u001b[39m\u001b[39m'\u001b[39m)\n\u001b[1;32m     12\u001b[0m tList[(time \u001b[39mif\u001b[39;00m time \u001b[39m<\u001b[39m\u001b[39m=\u001b[39m \u001b[39mlen\u001b[39m(tList) \u001b[39melse\u001b[39;00m \u001b[39m1\u001b[39m)\u001b[39m-\u001b[39m\u001b[39m1\u001b[39m]\u001b[39m.\u001b[39mclick()\n",
      "\u001b[0;31mIndexError\u001b[0m: list index out of range"
     ]
    }
   ],
   "source": [
    "driver = Chrome()\n",
    "\n",
    "NELL = checkConcert('NELL')\n",
    "\n",
    "checkLogin(interpark['inter_id'], interpark['inter_pw'])\n",
    "\n",
    "checkDateTime(NELL[-1][0], 1, 0)"
   ]
  },
  {
   "cell_type": "markdown",
   "metadata": {},
   "source": []
  },
  {
   "cell_type": "code",
   "execution_count": 116,
   "metadata": {},
   "outputs": [],
   "source": [
    "driver.switch_to.window(driver.window_handles[-1])\n",
    "driver.close()"
   ]
  },
  {
   "cell_type": "code",
   "execution_count": 117,
   "metadata": {},
   "outputs": [],
   "source": [
    "driver.switch_to.window(driver.window_handles[-1])"
   ]
  },
  {
   "cell_type": "code",
   "execution_count": null,
   "metadata": {},
   "outputs": [],
   "source": [
    "iframe = driver.find_element(By.CSS_SELECTOR, '#ifrmSeat')\n",
    "driver.switch_to.frame()"
   ]
  },
  {
   "cell_type": "code",
   "execution_count": null,
   "metadata": {},
   "outputs": [],
   "source": [
    "capcha = driver.find_element(By.CSS_SELECTOR, '#divRecapcha')\n",
    "capcha.is_displayed()"
   ]
  },
  {
   "cell_type": "code",
   "execution_count": null,
   "metadata": {},
   "outputs": [],
   "source": [
    "text = input()"
   ]
  },
  {
   "cell_type": "code",
   "execution_count": null,
   "metadata": {},
   "outputs": [],
   "source": [
    "driver.find_element(By.CSS_SELECTOR, '.validationTxt').click()"
   ]
  },
  {
   "cell_type": "code",
   "execution_count": null,
   "metadata": {},
   "outputs": [],
   "source": [
    "driver.execute_script('fnCheck();')"
   ]
  },
  {
   "cell_type": "code",
   "execution_count": null,
   "metadata": {},
   "outputs": [],
   "source": [
    "capcha = driver.find_element(By.CSS_SELECTOR, '#divRecapcha')\n",
    "\n",
    "while True:\n",
    "    if not capcha.is_displayed():\n",
    "        break\n",
    "\n",
    "    text = input()\n",
    "    driver.find_element(By.CSS_SELECTOR, '.validationTxt').click()\n",
    "    driver.execute_script('fnCheck();')"
   ]
  },
  {
   "cell_type": "code",
   "execution_count": null,
   "metadata": {},
   "outputs": [],
   "source": [
    "seat = driver.find_element(By.CSS_SELECTOR, '#ifrmSeatDetail')"
   ]
  },
  {
   "cell_type": "code",
   "execution_count": null,
   "metadata": {},
   "outputs": [],
   "source": [
    "driver.switch_to.frame(seat)"
   ]
  },
  {
   "cell_type": "code",
   "execution_count": null,
   "metadata": {},
   "outputs": [],
   "source": [
    "n = 2\n",
    "driver.switch_to.default_content()\n",
    "\n",
    "for s in driver.find_elements(By.CSS_SELECTOR, 'img[src$=\"1_90.gif]'):\n",
    "    s.click()"
   ]
  }
 ],
 "metadata": {
  "kernelspec": {
   "display_name": "pytorch",
   "language": "python",
   "name": "python3"
  },
  "language_info": {
   "codemirror_mode": {
    "name": "ipython",
    "version": 3
   },
   "file_extension": ".py",
   "mimetype": "text/x-python",
   "name": "python",
   "nbconvert_exporter": "python",
   "pygments_lexer": "ipython3",
   "version": "3.8.16"
  },
  "orig_nbformat": 4
 },
 "nbformat": 4,
 "nbformat_minor": 2
}
