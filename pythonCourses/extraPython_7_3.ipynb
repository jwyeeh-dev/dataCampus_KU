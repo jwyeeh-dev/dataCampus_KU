{
 "cells": [
  {
   "cell_type": "code",
   "execution_count": 1,
   "metadata": {},
   "outputs": [],
   "source": [
    "# 이번주 발표\n",
    "# 연습 발표 -> \n",
    "# 맛집 여행 안됨."
   ]
  },
  {
   "cell_type": "code",
   "execution_count": 2,
   "metadata": {},
   "outputs": [],
   "source": [
    "# 인스턴스와 obj\n",
    "# 파이썬은 모든게 다 오브젝트이며, dir() 가능.\n",
    "# 이제는 제공된 기능으로는 못하는 경우가 많다."
   ]
  },
  {
   "cell_type": "code",
   "execution_count": null,
   "metadata": {},
   "outputs": [],
   "source": [
    "# 함수형 프로그래밍\n",
    "# 멀티 패러다임 -> 방법을 여러가지 가지고 있음.\n"
   ]
  },
  {
   "attachments": {},
   "cell_type": "markdown",
   "metadata": {},
   "source": [
    "## Array Programming"
   ]
  },
  {
   "cell_type": "code",
   "execution_count": 3,
   "metadata": {},
   "outputs": [],
   "source": [
    "# 객체 지향은 생산성!!!\n",
    "# super()\n",
    "# SQL -> 유지보수 잘 됨.\n",
    "\n",
    "# 추상화 중요함."
   ]
  },
  {
   "cell_type": "code",
   "execution_count": 4,
   "metadata": {},
   "outputs": [
    {
     "data": {
      "text/plain": [
       "'\\n2. 캡슐화 : information Hiding\\n-> 파이썬은 업데이트 할 때마다 ...\\n    (1) cohesion, coupling\\n    (2) 정확도를 높이면.\\n    \\n'"
      ]
     },
     "execution_count": 4,
     "metadata": {},
     "output_type": "execute_result"
    }
   ],
   "source": [
    "'''\n",
    "2. 캡슐화 : information Hiding\n",
    "-> 파이썬은 업데이트 할 때마다 ...\n",
    "    (1) cohesion, coupling\n",
    "    (2) 정확도를 높이면.\n",
    "\n",
    "->  객체지향을 어떻게?\n",
    "-> 설계 잘 해야 한다.\n",
    "\n",
    "파이썬은 자유도가 너무 크고, 파이쏘닉 너무 막강.\n",
    "\n",
    "'''"
   ]
  },
  {
   "cell_type": "code",
   "execution_count": 5,
   "metadata": {},
   "outputs": [
    {
     "data": {
      "text/plain": [
       "'\\n3. 다형성\\n같은 이름이지만 다르게 행동할 수 있는 성질.\\n\\nOverloading\\nOverriding\\n\\nOperator Overloading \\n\\n-> C언어 : LBYL\\n\\n- 제네릭 함수 : 어떤 하나의 함수가 여러 타입의 인자에 대해 정의함.\\n\\n'"
      ]
     },
     "execution_count": 5,
     "metadata": {},
     "output_type": "execute_result"
    }
   ],
   "source": [
    "'''\n",
    "3. 다형성\n",
    "같은 이름이지만 다르게 행동할 수 있는 성질.\n",
    "\n",
    "Overloading\n",
    "Overriding\n",
    "\n",
    "Operator Overloading \n",
    "\n",
    "-> C언어 : LBYL\n",
    "\n",
    "- 제네릭 함수 : 어떤 하나의 함수가 여러 타입의 인자에 대해 정의함.\n",
    "\n",
    "'''"
   ]
  },
  {
   "cell_type": "code",
   "execution_count": 6,
   "metadata": {},
   "outputs": [
    {
     "data": {
      "text/plain": [
       "\"\\n4. 상속\\n\\n파이썬은 부모에게 위임하는 개념.\\n\\n이미 만들었던 것을 상속하여 사용한다. -> 'reinvent the wheel'\\n\""
      ]
     },
     "execution_count": 6,
     "metadata": {},
     "output_type": "execute_result"
    }
   ],
   "source": [
    "'''\n",
    "4. 상속\n",
    "\n",
    "파이썬은 부모에게 위임하는 개념.\n",
    "\n",
    "이미 만들었던 것을 상속하여 사용한다. -> 'reinvent the wheel'\n",
    "'''"
   ]
  },
  {
   "cell_type": "code",
   "execution_count": 20,
   "metadata": {},
   "outputs": [],
   "source": [
    "class A:\n",
    "    def __init__(self):\n",
    "        print('A')\n",
    "\n",
    "class B(A):\n",
    "    def __init__(self):\n",
    "        A.__init__(self)\n",
    "        print('B')\n",
    "\n",
    "class C(A):\n",
    "    def __init__(self):\n",
    "        A.__init__(self)\n",
    "        print('C')\n",
    "\n",
    "class D(B,C):\n",
    "    def __init__(self):\n",
    "        B.__init__(self)\n",
    "        C.__init__(self)\n",
    "        print('D')"
   ]
  },
  {
   "cell_type": "code",
   "execution_count": 21,
   "metadata": {},
   "outputs": [
    {
     "name": "stdout",
     "output_type": "stream",
     "text": [
      "A\n",
      "B\n",
      "A\n",
      "C\n",
      "D\n"
     ]
    }
   ],
   "source": [
    "d = D()"
   ]
  },
  {
   "cell_type": "code",
   "execution_count": 22,
   "metadata": {},
   "outputs": [],
   "source": [
    "class A:\n",
    "    def __init__(self):\n",
    "        print('A')\n",
    "\n",
    "class B(A):\n",
    "    def __init__(self):\n",
    "        super().__init__()\n",
    "        print('B')\n",
    "\n",
    "class C(A):\n",
    "    def __init__(self):\n",
    "        super().__init__()\n",
    "        print('C')\n",
    "\n",
    "class D(B,C):\n",
    "    def __init__(self):\n",
    "        super().__init__()\n",
    "        print('D')"
   ]
  },
  {
   "cell_type": "code",
   "execution_count": 24,
   "metadata": {},
   "outputs": [
    {
     "name": "stdout",
     "output_type": "stream",
     "text": [
      "A\n",
      "C\n",
      "B\n",
      "D\n"
     ]
    }
   ],
   "source": [
    "d = D() # 중복이 없게 mro 순서를 지정해준다."
   ]
  },
  {
   "cell_type": "code",
   "execution_count": 26,
   "metadata": {},
   "outputs": [
    {
     "data": {
      "text/plain": [
       "[__main__.D, __main__.B, __main__.C, __main__.A, object]"
      ]
     },
     "execution_count": 26,
     "metadata": {},
     "output_type": "execute_result"
    }
   ],
   "source": [
    "D.mro() # stack 영역에 적재된다. D -> B,C -> A 적재 후 A -> C -> B -> D 형태로 OUT ; 다중상속체계 중요."
   ]
  },
  {
   "cell_type": "code",
   "execution_count": 1,
   "metadata": {},
   "outputs": [],
   "source": [
    "import tensorflow as tf"
   ]
  },
  {
   "cell_type": "code",
   "execution_count": 2,
   "metadata": {},
   "outputs": [
    {
     "data": {
      "text/plain": [
       "[keras.src.engine.sequential.Sequential,\n",
       " keras.src.engine.functional.Functional,\n",
       " keras.src.engine.training.Model,\n",
       " keras.src.engine.base_layer.Layer,\n",
       " tensorflow.python.module.module.Module,\n",
       " tensorflow.python.trackable.autotrackable.AutoTrackable,\n",
       " tensorflow.python.trackable.base.Trackable,\n",
       " keras.src.utils.version_utils.LayerVersionSelector,\n",
       " keras.src.utils.version_utils.ModelVersionSelector,\n",
       " object]"
      ]
     },
     "execution_count": 2,
     "metadata": {},
     "output_type": "execute_result"
    }
   ],
   "source": [
    "tf.keras.models.Sequential.mro()"
   ]
  },
  {
   "cell_type": "code",
   "execution_count": 4,
   "metadata": {},
   "outputs": [
    {
     "ename": "NameError",
     "evalue": "name 'metaclass' is not defined",
     "output_type": "error",
     "traceback": [
      "\u001b[0;31m---------------------------------------------------------------------------\u001b[0m",
      "\u001b[0;31mNameError\u001b[0m                                 Traceback (most recent call last)",
      "Cell \u001b[0;32mIn[4], line 5\u001b[0m\n\u001b[1;32m      1\u001b[0m \u001b[39m# Abstract Base Classes ->  ABCMeta as its metaclass. \u001b[39;00m\n\u001b[1;32m      2\u001b[0m \u001b[39m# Meta Class 라는 개념을 통해서 추상화를 만들었으나 이후 상속의 개념을 차용하여 만들었다.\u001b[39;00m\n\u001b[1;32m      3\u001b[0m \u001b[39mfrom\u001b[39;00m \u001b[39mabc\u001b[39;00m \u001b[39mimport\u001b[39;00m ABCMeta\n\u001b[0;32m----> 5\u001b[0m \u001b[39mclass\u001b[39;00m \u001b[39mMyABC\u001b[39;00m(metaclass\u001b[39m-\u001b[39mABCMeta):\n\u001b[1;32m      6\u001b[0m     \u001b[39mpass\u001b[39;00m\n",
      "\u001b[0;31mNameError\u001b[0m: name 'metaclass' is not defined"
     ]
    }
   ],
   "source": [
    "# Abstract Base Classes ->  ABCMeta as its metaclass. \n",
    "# Meta Class 라는 개념을 통해서 추상화를 만들었으나 이후 상속의 개념을 차용하여 만들었다.\n",
    "# 추상화: 공통된 기능을 뽑는 것이 추상화이다. \n",
    "from abc import ABCMeta\n",
    "\n",
    "class MyABC(metaclass-ABCMeta):\n",
    "    pass"
   ]
  },
  {
   "cell_type": "code",
   "execution_count": null,
   "metadata": {},
   "outputs": [],
   "source": []
  }
 ],
 "metadata": {
  "kernelspec": {
   "display_name": "pytorch",
   "language": "python",
   "name": "python3"
  },
  "language_info": {
   "codemirror_mode": {
    "name": "ipython",
    "version": 3
   },
   "file_extension": ".py",
   "mimetype": "text/x-python",
   "name": "python",
   "nbconvert_exporter": "python",
   "pygments_lexer": "ipython3",
   "version": "3.8.16"
  },
  "orig_nbformat": 4
 },
 "nbformat": 4,
 "nbformat_minor": 2
}
